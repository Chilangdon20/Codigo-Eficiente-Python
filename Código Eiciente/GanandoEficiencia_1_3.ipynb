{
  "nbformat": 4,
  "nbformat_minor": 0,
  "metadata": {
    "colab": {
      "name": "GanandoEficiencia_1_3.ipynb",
      "provenance": [],
      "collapsed_sections": []
    },
    "kernelspec": {
      "name": "python3",
      "display_name": "Python 3"
    }
  },
  "cells": [
    {
      "cell_type": "markdown",
      "metadata": {
        "id": "1wxRWGHBsSbH",
        "colab_type": "text"
      },
      "source": [
        "*texto en cursiva ![texto alternativo](https://raw.githubusercontent.com/Chilangdon20/PYTHON/master/Curso%20Basico/CursoExpress/Imagenes/Black%20and%20Orange%20Gaming%20Logo.png)*"
      ]
    },
    {
      "cell_type": "markdown",
      "metadata": {
        "id": "RPri3-V12um1",
        "colab_type": "text"
      },
      "source": [
        "# Ganando eficiencia \n",
        "\n",
        "## Introducción:\n",
        "\n",
        "En esta lectura veremos como combinar , contar e iterar sobre objetos de manera eficiente,comencaremos explorando datos del popular videojuego de Nintendo Pokémon.\n",
        "\n",
        "El juego se centra en jugadores llamados entrenadores que intentan recolectar animales ficticios llamado Pokémon, estos animales ambulas por el universo ficticio donde se desarrolla el juego.\n",
        "\n",
        "Cuando un entrenador se encuentra con un Pokémon intenta capturar a ese Pokémon para agregarlo a su colección, si un entrenador captura con éxito un Pokémon , se almacena en una herramienta llamada Pokédex.\n",
        "\n",
        "Cada Pokémon viene con su propio conjunto de metadatos, este metadato contiene un nombre paara cada Pokémon , tambien la generación de cada Pokémon que especifica en qué versión del juego aparece el Pokémon.\n",
        "\n",
        "Los metadatos también incluyen el tipo de Pokémon y si pertenece o no a una categoría especial lamada Legendario, cada Pokémon contiene un conjunto de estadísticas que son valores numéricos para ciertas categorías como puntos de salud (llamados HP) , ataque entre otros.\n",
        "\n",
        "Supongamos que tenemos dos listas:\n",
        "\n",
        "* Nombres de los Pokémon.\n",
        "\n",
        "* Puntos de vida de cada Pokémon.\n"
      ]
    },
    {
      "cell_type": "code",
      "metadata": {
        "id": "5lquhVBX2cV9",
        "colab_type": "code",
        "colab": {}
      },
      "source": [
        "nombres = [\"Picachu\",\"Squirtle\",\"Psyduck\"]\n",
        "hps = [45,87,23]"
      ],
      "execution_count": null,
      "outputs": []
    },
    {
      "cell_type": "markdown",
      "metadata": {
        "id": "CI_m2CnG5lWa",
        "colab_type": "text"
      },
      "source": [
        "Queremos combinar estas listas para que cada Pokémon se almacene junto a sus puntos de vida.\n",
        "\n",
        "Podemos iterar sobre la lista de nombres usando ``enumerate()`` y almacenando los puntos de salud correspondientes e cada Pokémon usando la variable index."
      ]
    },
    {
      "cell_type": "code",
      "metadata": {
        "id": "QLgxOH0y5kfJ",
        "colab_type": "code",
        "colab": {
          "base_uri": "https://localhost:8080/",
          "height": 34
        },
        "outputId": "d2811a13-1af5-4f2b-f219-e4808450d570"
      },
      "source": [
        "combinado = []\n",
        "for i,pokemon in enumerate(nombres):\n",
        "  combinado.append((pokemon,hps[i]))\n",
        "\n",
        "print(combinado)"
      ],
      "execution_count": null,
      "outputs": [
        {
          "output_type": "stream",
          "text": [
            "[('Picachu', 45), ('Squirtle', 87), ('Psyduck', 23)]\n"
          ],
          "name": "stdout"
        }
      ]
    },
    {
      "cell_type": "markdown",
      "metadata": {
        "id": "voMdFeoA6f_D",
        "colab_type": "text"
      },
      "source": [
        "Pero la función ``zip``integrada de Python proporciona una solución mucho más elegante.El nombre *zip* describe comó esta función combina objetos haciendo que dos objetos separados de vuelvan una.\n",
        "\n",
        "La fubción ``zip()``devuelve un obeto zip que debe descromprimirse en una lista e imprimirse para poder ver el contenido."
      ]
    },
    {
      "cell_type": "code",
      "metadata": {
        "id": "O8GtXETL6JKZ",
        "colab_type": "code",
        "colab": {
          "base_uri": "https://localhost:8080/",
          "height": 51
        },
        "outputId": "5f533689-4a18-4e45-abe0-a93dd018036f"
      },
      "source": [
        "combinado_zip = zip(nombres,hps)\n",
        "print(type(combinado_zip))\n",
        "combinado_zip_list = [*combinado_zip]\n",
        "print(combinado_zip_list)"
      ],
      "execution_count": null,
      "outputs": [
        {
          "output_type": "stream",
          "text": [
            "<class 'zip'>\n",
            "[('Picachu', 45), ('Squirtle', 87), ('Psyduck', 23)]\n"
          ],
          "name": "stdout"
        }
      ]
    },
    {
      "cell_type": "markdown",
      "metadata": {
        "id": "R5QrYA8b7_lK",
        "colab_type": "text"
      },
      "source": [
        "Cada elementones una tupla de elementos de las listas originales.Python viene con una serie de módulos integrados eficientes, el módulo de colecciones contiene tipos de datos especializados que pueden ser alterantivas a los diccionarios,listas, conjuntos y tuplas estándar,algunos de los tipos especializados notables se enumeran aqui:\n",
        "\n",
        "* ``nameduple``\n",
        "* ``deque``\n",
        "* ``Counter``\n",
        "* ``OrderdDict``\n",
        "* ``defaultdict``\n",
        "\n",
        "En esta seccion nos centraremos en el objeto **Counter**.Aqui hay una lista del tipo correspondiente de cda Pokémon, nos gustaria crear un diccionario donde la clave es un tipo de pokemon y cada valor es el cuento de caracteres que pertenecen a ese tipo.\n",
        "\n",
        "Usando un enfoque de diccionario estándar,tenemos que crear una instancia de un diccionario de salida vacío"
      ]
    },
    {
      "cell_type": "code",
      "metadata": {
        "id": "TgDRfP0P7wg4",
        "colab_type": "code",
        "colab": {}
      },
      "source": [
        "poke_tipos = ['Grass','Dark','electric','fire','fire','fight','grass','ground','fairy','ground']"
      ],
      "execution_count": null,
      "outputs": []
    },
    {
      "cell_type": "markdown",
      "metadata": {
        "id": "D8tHBDkB__Gh",
        "colab_type": "text"
      },
      "source": [
        "Luego tendriamos que iterar sobre la lida y veriicar si cada pokemon existe dentro del diccionario type_counts, si poke_tipos no está en el diccionario ,creamos una nueva clave e inicializamos su valor de conteo como uno.\n",
        "\n"
      ]
    },
    {
      "cell_type": "code",
      "metadata": {
        "id": "ev-dzDSr-iSh",
        "colab_type": "code",
        "colab": {
          "base_uri": "https://localhost:8080/",
          "height": 34
        },
        "outputId": "963d6342-2c08-4041-9745-71de00356702"
      },
      "source": [
        "type_counts = {}\n",
        "for poke_tipos in poke_tipos:\n",
        "  if poke_tipos not in type_counts:\n",
        "    type_counts[poke_tipos] = 1\n",
        "  else:\n",
        "    type_counts[poke_tipos] += 1\n",
        "print(type_counts)"
      ],
      "execution_count": null,
      "outputs": [
        {
          "output_type": "stream",
          "text": [
            "{'Grass': 1, 'Dark': 1, 'electric': 1, 'fire': 2, 'fight': 1, 'grass': 1, 'ground': 2, 'fairy': 1}\n"
          ],
          "name": "stdout"
        }
      ]
    },
    {
      "cell_type": "markdown",
      "metadata": {
        "id": "LAkG5uvnBIM-",
        "colab_type": "text"
      },
      "source": [
        "Si poke_type ya está en el diccionario,actuallizamos el recuento por uno.Usar Counter desde el módulo de colecciones es un enfoque más eficiente, simplemente lo importamos y le pasamos como argumento el objeto que deseamos"
      ]
    },
    {
      "cell_type": "code",
      "metadata": {
        "id": "WxTkabI4-ufF",
        "colab_type": "code",
        "colab": {
          "base_uri": "https://localhost:8080/",
          "height": 34
        },
        "outputId": "8b89c91b-511d-4b69-fae4-95dc1caa8273"
      },
      "source": [
        "from collections import Counter\n",
        "type_counts = Counter(poke_tipos)\n",
        "print(type_counts)"
      ],
      "execution_count": null,
      "outputs": [
        {
          "output_type": "stream",
          "text": [
            "Counter({'fire': 2, 'ground': 2, 'Grass': 1, 'Dark': 1, 'electric': 1, 'fight': 1, 'grass': 1, 'fairy': 1})\n"
          ],
          "name": "stdout"
        }
      ]
    },
    {
      "cell_type": "markdown",
      "metadata": {
        "id": "zhzo6X38BwVy",
        "colab_type": "text"
      },
      "source": [
        "Counter devuelve un diccionario Counter de pares key-value, cuando se imprime se ordena de mayor a menor recuento, si comparamos los tiempos de ejecución , veriamos que usar counter toma la mitad de tiempo que el enfoque estándar del diccioanrio.\n",
        "\n",
        "\n",
        "Otro módulo incorporado , `ìtertools``contiene herramientas funcionales para trabajar con iteradores, un subconjunto de estas herramientas se enumera aqui:\n",
        "\n",
        "* Iteradores Infinitos: ``count``,``cycle``,``repeat```\n",
        "* Iteradores Finitos: ``accumulate``,``chain``,``zip_longest```\n",
        "* Generadores de Combinaciones : ``product``,``permutations``,``combinations```\n",
        "\n",
        "Nos centraremos en los generadores combinatorios,estos generadores producen eficientemente productos cartesianos , permutaciones y combinaciones de objetos.\n",
        "\n",
        "### Ejemplo:\n",
        "\n",
        "Supongamos que queremos reunir todos los pares de combinaciones posibles de tipos de Pokémon posibles,lo podriamos hacer con un bucle for anidado que itera sobre la lista poke_tipos dos veces,veamos que se usa una declaración condicional para saltear pares que tienen el mismo tipo dos veces.\n",
        "\n",
        "Como estamos interesado en combinaciones donde el orden no importa se usa otra declaración para garantizar que cualquiera de los dos ordenes del par no exista dentro de la lista de combos antes de agregarlo."
      ]
    },
    {
      "cell_type": "code",
      "metadata": {
        "id": "4fHV05oWBSNA",
        "colab_type": "code",
        "colab": {
          "base_uri": "https://localhost:8080/",
          "height": 54
        },
        "outputId": "cf245bb0-85d6-4ef9-c229-8adc7d16f27d"
      },
      "source": [
        "poke_tipos = [\"bug\",\"fire\",\"ghost\",\"grass\",\"water\",\"electric\"]\n",
        "combos = []\n",
        "for x in poke_tipos:\n",
        "  for y in poke_tipos:\n",
        "    if x == y:\n",
        "      continue\n",
        "    if ((x,y) not in combos) & ((y,x) not in combos):\n",
        "      combos.append((x,y))\n",
        "print(combos)"
      ],
      "execution_count": null,
      "outputs": [
        {
          "output_type": "stream",
          "text": [
            "[('bug', 'fire'), ('bug', 'ghost'), ('bug', 'grass'), ('bug', 'water'), ('bug', 'electric'), ('fire', 'ghost'), ('fire', 'grass'), ('fire', 'water'), ('fire', 'electric'), ('ghost', 'grass'), ('ghost', 'water'), ('ghost', 'electric'), ('grass', 'water'), ('grass', 'electric'), ('water', 'electric')]\n"
          ],
          "name": "stdout"
        }
      ]
    },
    {
      "cell_type": "markdown",
      "metadata": {
        "id": "qCaEm5qLE1FF",
        "colab_type": "text"
      },
      "source": [
        "El generador de combinaciones de itertools proporciona una solción más eficiente,primero importamos combinations y kuego creamos un objeto de combinaciones al proporcionar la lista y la longuitd de las combinaciones que deseamos."
      ]
    },
    {
      "cell_type": "code",
      "metadata": {
        "id": "jIk9OCSVEI6Z",
        "colab_type": "code",
        "colab": {
          "base_uri": "https://localhost:8080/",
          "height": 34
        },
        "outputId": "58273556-9cf4-4ce5-c897-0c24c698563a"
      },
      "source": [
        "from itertools import  combinations\n",
        "combin_obj = combinations(poke_tipos,2)\n",
        "print(type(combin_obj))"
      ],
      "execution_count": null,
      "outputs": [
        {
          "output_type": "stream",
          "text": [
            "<class 'itertools.combinations'>\n"
          ],
          "name": "stdout"
        }
      ]
    },
    {
      "cell_type": "markdown",
      "metadata": {
        "id": "UlvigvICFZtu",
        "colab_type": "text"
      },
      "source": [
        "Podemos observar que ``combinations``devuelve un obeto de combinaciones , que descomprimimos en una lista y vemos el resultado:"
      ]
    },
    {
      "cell_type": "code",
      "metadata": {
        "id": "eXFPSEdnFSxy",
        "colab_type": "code",
        "colab": {
          "base_uri": "https://localhost:8080/",
          "height": 54
        },
        "outputId": "c9ee5e4b-fe99-4ffc-e06c-4af0be2b5166"
      },
      "source": [
        "combin_obj_list = [*combin_obj]\n",
        "print(combin_obj_list)"
      ],
      "execution_count": null,
      "outputs": [
        {
          "output_type": "stream",
          "text": [
            "[('bug', 'fire'), ('bug', 'ghost'), ('bug', 'grass'), ('bug', 'water'), ('bug', 'electric'), ('fire', 'ghost'), ('fire', 'grass'), ('fire', 'water'), ('fire', 'electric'), ('ghost', 'grass'), ('ghost', 'water'), ('ghost', 'electric'), ('grass', 'water'), ('grass', 'electric'), ('water', 'electric')]\n"
          ],
          "name": "stdout"
        }
      ]
    },
    {
      "cell_type": "markdown",
      "metadata": {
        "id": "HCy5SkWJhKST",
        "colab_type": "text"
      },
      "source": [
        "\n",
        "\n",
        "---\n",
        "\n"
      ]
    },
    {
      "cell_type": "markdown",
      "metadata": {
        "id": "-7P33sFSYbSg",
        "colab_type": "text"
      },
      "source": [
        "# Eliminando Loops\n",
        "\n",
        "En esta seccion discutiremos el concepto de bucle, aunque usamos bucles al escribir códio en Python no  es necesariamente un mal patrón de diseño, el uso de bucles extraños puede ser ineficiente y costoso,exploraremos algunas herramientas que pueden ayudarnos a eliminar la necesidad de usar bucles en nuestro código.\n",
        "\n",
        "Python viene con algunos patrones de bucle que se pueden usar cuando queremositerar sobre el contenido de un objeto:\n",
        "\n",
        "* ``for``loop: Itera sobre elementos de una secuencia pieza por pieza.\n",
        "* ``While``loop: Ejecutan un bucle repetidamente siempre que se cumpla alguna condición booleana.\n",
        "* ``nested``loop: Usan multiples bucles uno dentro del otro.\n",
        "\n",
        "Aunque todos estos patrones de bucle son compatibles con Python,debemos tener cuidado al usarlos,debido a que la mayoria de bucles se ejecutan peza por pieza, amenudo son una solución ineficiente.\n",
        "\n",
        "## Beneficios de eliminar Loops.\n",
        "\n",
        "Deberiamos tratar de evitar bucles tanto como sea posible al escribir código eficiente.La eliminación de loops generalmente da como resultado menos lineas de código que son más faciles de interpretar.\n",
        "\n",
        "Recordemos uno de los modismos de *Zen Python* que era:\n",
        "* \"FLAT IS BETTER THAN NESTED\" - (PLANO ES MEJOR QUE ANIDADO)\n",
        "\n",
        "En el siguiente ejemplo veremos que a menudo hay enfoques mas eficientes que se pueden usar en lugar de usar un bucle.\n",
        "\n",
        "Supongamos que tenemos una lista llamada *poke_stats* que contiene los valores estadisticos para cada Pokémon."
      ]
    },
    {
      "cell_type": "code",
      "metadata": {
        "id": "V1_UDxR0Fpbw",
        "colab_type": "code",
        "colab": {}
      },
      "source": [
        "poke_stats = [\n",
        "              [56,77,54,2],\n",
        "              [34,67,78,5],\n",
        "              [334,56,23,65],\n",
        "              [78,564,78,55],\n",
        "              [87,54,76,77],\n",
        "               [54,67,34,55],\n",
        "               [65,87,34,5],\n",
        "               [34,76,45,55],\n",
        "               [666,563,65,33],\n",
        "               [65,45,34,33],\n",
        "               [54,53,65,65,2]\n",
        "]\n"
      ],
      "execution_count": null,
      "outputs": []
    },
    {
      "cell_type": "markdown",
      "metadata": {
        "id": "noYBXJCIeQf8",
        "colab_type": "text"
      },
      "source": [
        "Cada fila corresponde a un Pokémon y cada columna corresponde al valor estadístico específico de un Pokémon,aqui las columnas representan puntos de vida, ataque,defensa y velocidad de un. Pokemon.\n",
        "\n",
        "Queremos hacer una suma simple de cada una de estas filas para recopular las estadísticas totales de cada Pokémon, a continuación veremos como lo hariamos con un bucle for:"
      ]
    },
    {
      "cell_type": "code",
      "metadata": {
        "id": "RxLru6tbeP1N",
        "colab_type": "code",
        "colab": {
          "base_uri": "https://localhost:8080/",
          "height": 34
        },
        "outputId": "83f27ab6-ed5a-438e-8128-966cbe2dc503"
      },
      "source": [
        "# Foor loop\n",
        "\n",
        "totals = []\n",
        "for fila in poke_stats:\n",
        "  totals.append(sum(fila))\n",
        "\n",
        "print(totals)"
      ],
      "execution_count": null,
      "outputs": [
        {
          "output_type": "stream",
          "text": [
            "[189, 184, 478, 775, 294, 210, 191, 210, 1327, 177, 239]\n"
          ],
          "name": "stdout"
        }
      ]
    },
    {
      "cell_type": "markdown",
      "metadata": {
        "id": "IvEPB5wUfTHJ",
        "colab_type": "text"
      },
      "source": [
        "Podemos lograr la misma tarea , en menos líneas de código , con una comprension de la lista"
      ]
    },
    {
      "cell_type": "code",
      "metadata": {
        "id": "Kr3lOKAIfMS_",
        "colab_type": "code",
        "colab": {
          "base_uri": "https://localhost:8080/",
          "height": 34
        },
        "outputId": "b17151fe-9f4e-49f4-831f-46a68c12a32f"
      },
      "source": [
        "# Comprension de lista\n",
        "totals_comp = [sum(fila) for fila in poke_stats]\n",
        "print(totals_comp)\n"
      ],
      "execution_count": null,
      "outputs": [
        {
          "output_type": "stream",
          "text": [
            "[189, 184, 478, 775, 294, 210, 191, 210, 1327, 177, 239]\n"
          ],
          "name": "stdout"
        }
      ]
    },
    {
      "cell_type": "markdown",
      "metadata": {
        "id": "Xt9G5mG0gL_K",
        "colab_type": "text"
      },
      "source": [
        "O bien podriamos usar la función ``map()``incorporada que hemos discutido anteriormente."
      ]
    },
    {
      "cell_type": "code",
      "metadata": {
        "id": "VH7ta-DFgEPb",
        "colab_type": "code",
        "colab": {
          "base_uri": "https://localhost:8080/",
          "height": 34
        },
        "outputId": "199e1bf0-47c2-481d-be2e-53974c4c6c63"
      },
      "source": [
        "# función map\n",
        "total_map = [*map(sum,poke_stats)]\n",
        "print(total_map)"
      ],
      "execution_count": null,
      "outputs": [
        {
          "output_type": "stream",
          "text": [
            "[189, 184, 478, 775, 294, 210, 191, 210, 1327, 177, 239]\n"
          ],
          "name": "stdout"
        }
      ]
    },
    {
      "cell_type": "markdown",
      "metadata": {
        "id": "y8AbqNGihExy",
        "colab_type": "text"
      },
      "source": [
        "\n",
        "\n",
        "---\n",
        "\n"
      ]
    },
    {
      "cell_type": "markdown",
      "metadata": {
        "id": "L8jFEflDhHSg",
        "colab_type": "text"
      },
      "source": [
        "\n",
        "\n",
        "---\n",
        "\n"
      ]
    },
    {
      "cell_type": "code",
      "metadata": {
        "id": "afVK3LGqgbGg",
        "colab_type": "code",
        "colab": {
          "base_uri": "https://localhost:8080/",
          "height": 51
        },
        "outputId": "d02f8530-5a2a-44c6-f3e1-1874ddba3cda"
      },
      "source": [
        "%%timeit\n",
        "totals = []\n",
        "for fila in poke_stats:\n",
        "  totals.append(sum(fila))"
      ],
      "execution_count": null,
      "outputs": [
        {
          "output_type": "stream",
          "text": [
            "The slowest run took 4.81 times longer than the fastest. This could mean that an intermediate result is being cached.\n",
            "100000 loops, best of 3: 1.98 µs per loop\n"
          ],
          "name": "stdout"
        }
      ]
    },
    {
      "cell_type": "code",
      "metadata": {
        "id": "PhH30yNDg2aX",
        "colab_type": "code",
        "colab": {
          "base_uri": "https://localhost:8080/",
          "height": 51
        },
        "outputId": "68a90ebf-b285-4766-dd7b-6f10158f88bb"
      },
      "source": [
        "%timeit total_map = [*map(sum,poke_stats)]"
      ],
      "execution_count": null,
      "outputs": [
        {
          "output_type": "stream",
          "text": [
            "The slowest run took 7.64 times longer than the fastest. This could mean that an intermediate result is being cached.\n",
            "1000000 loops, best of 3: 1.32 µs per loop\n"
          ],
          "name": "stdout"
        }
      ]
    },
    {
      "cell_type": "code",
      "metadata": {
        "id": "Qv7OsIPtg5bv",
        "colab_type": "code",
        "colab": {
          "base_uri": "https://localhost:8080/",
          "height": 34
        },
        "outputId": "cfb7788d-d999-4705-f2cd-033739bb3c34"
      },
      "source": [
        "%timeit totals_comp = [sum(fila) for fila in poke_stats]"
      ],
      "execution_count": null,
      "outputs": [
        {
          "output_type": "stream",
          "text": [
            "1000000 loops, best of 3: 1.71 µs per loop\n"
          ],
          "name": "stdout"
        }
      ]
    },
    {
      "cell_type": "markdown",
      "metadata": {
        "id": "efZffMDIgkyt",
        "colab_type": "text"
      },
      "source": [
        "Cada uno de estos enfoques devolverá lo mismo, pero usando una lista comprension o la función de map , toma una ilnea de codigo y tiene un tiempo de ejecución mas rápido.\n",
        "\n",
        "Otra técnica poderosa para eliminar bucles es usar el paquete NumPy.Supongamos que tenemos la misma colección de estadisticas que utilizamos antes almacenado en una matriz Numpy en lugar de una lista de listas.\n",
        "\n",
        "Nos gustaria recopilar el valor de estadística promedio para cada Pokémon en nuestra matriz.\n",
        "\n",
        "Poriamos usar un bucle para iterar sobre la matriz y recuperar los promedios de la fila."
      ]
    },
    {
      "cell_type": "code",
      "metadata": {
        "id": "PTLo0nBBg92l",
        "colab_type": "code",
        "colab": {}
      },
      "source": [
        "import numpy as np\n",
        "\n",
        "poke_stats = np.array([\n",
        "              [56,77,54,2],\n",
        "              [34,67,78,5],\n",
        "              [334,56,23,65],\n",
        "              [78,564,78,55],\n",
        "              [87,54,76,77],\n",
        "               [54,67,34,55],\n",
        "               [65,87,34,5],\n",
        "               [34,76,45,55],\n",
        "               [666,563,65,33],\n",
        "               [65,45,34,33],\n",
        "               [54,53,65,65,2]])\n"
      ],
      "execution_count": null,
      "outputs": []
    },
    {
      "cell_type": "code",
      "metadata": {
        "id": "hHv2qesNhqTt",
        "colab_type": "code",
        "colab": {
          "base_uri": "https://localhost:8080/",
          "height": 34
        },
        "outputId": "4b9788d9-2303-428d-e6ea-464735aa0851"
      },
      "source": [
        "avgs = []\n",
        "for fil in poke_stats:\n",
        "  avg = np.mean(fil)\n",
        "  avgs.append(avg)\n",
        "print(avgs)"
      ],
      "execution_count": null,
      "outputs": [
        {
          "output_type": "stream",
          "text": [
            "[47.25, 46.0, 119.5, 193.75, 73.5, 52.5, 47.75, 52.5, 331.75, 44.25, 47.8]\n"
          ],
          "name": "stdout"
        }
      ]
    },
    {
      "cell_type": "markdown",
      "metadata": {
        "id": "ut8WpNoniN16",
        "colab_type": "text"
      },
      "source": [
        "Pero las matrices NumPY nos permiten realizar cálculos en matrices enteras a la vez, aqui usamos el método ``.mean()``y especificamos un eje iual a 1 para calcular la media de cada fila (lo que significa que calculamos un promedio atraves de los valores de la columna)"
      ]
    },
    {
      "cell_type": "code",
      "metadata": {
        "id": "-CeppuLhiNPk",
        "colab_type": "code",
        "colab": {}
      },
      "source": [
        "avgs_np = poke_stats.mean(axis=1)\n",
        "print(avgs_np)"
      ],
      "execution_count": null,
      "outputs": []
    },
    {
      "cell_type": "markdown",
      "metadata": {
        "id": "0ldJ4NpUjXmB",
        "colab_type": "text"
      },
      "source": [
        "Esto elimina la necesidad de un bucle y es mucho mas eficiente.\n",
        "\n",
        "# Escribiendo mejores loops\n",
        "\n",
        "Por ultimo exploraremos cómo hacer que los bucles sean más eficientes cuando el bucle es invetiable, algunos de los bucles que discutiremos pueden eliminzarse utilizando las tecnicas anteriores , en este caso supondremos que los bucles son inevitables.\n",
        "\n",
        "La mejor manera de hacer que un ciclo sea más eficiente es analizar lo qe se está haciendo dentro del ciclo,queremos asegurarnos de que no estamos haciendo un trabaho innecesario en cada iteración.\n",
        "\n",
        "Si un bucle esta convirtiendo tipos de datos con cada itreación , es posible que esta conversión pueda hacer fuera del bucle  utilizando la función ``map`\n",
        "\n",
        "Cualquier cosa que se pueda hacer una vez se debe mover fuera de un bucle a continuación veamos algunos ejemplos:\n",
        "\n",
        "Tenemos una lista con nombres de Pokémon y una matriz del valor de ataque correspondiente a cada Pokémon nos gustaria imprimir los nombres de cada Pokémon con un valor de ataque mayor que el promedio de todos los valores de ataque.Para hacer esto utilizaremos un bucle que itera sobre cada Pokémon y su valor de ataque.\n",
        "\n",
        "Para cada iteración , el promedio de ataque total se calcula al encontrar el valor medio de todos los ataques.\n",
        "\n",
        "Luego el valor de ataque de cada Pokémon se evalúa para ver si excede el promedio total."
      ]
    },
    {
      "cell_type": "code",
      "metadata": {
        "id": "Je8zvo_miwmr",
        "colab_type": "code",
        "colab": {
          "base_uri": "https://localhost:8080/",
          "height": 51
        },
        "outputId": "e736f926-5198-4f59-d73b-79ddb7266160"
      },
      "source": [
        "import numpy as np\n",
        "\n",
        "nombres = [\"Absol\",\"Astro\",\"Jynx\",\"Natu\",\"Raichu\"]\n",
        "ataque = np.array([130,70,50,50,45])\n",
        "\n",
        "for pokemon,ataques in zip(nombres,ataque):\n",
        "    ataque_total_avg = ataque.mean()\n",
        "    if ataques > ataque_total_avg:\n",
        "      print(\n",
        "          \"{}'s ataque: {} > promedio: {} \"\n",
        "          .format(pokemon,ataque,ataque_total_avg)\n",
        "      )"
      ],
      "execution_count": null,
      "outputs": [
        {
          "output_type": "stream",
          "text": [
            "Absol's ataque: [130  70  50  50  45] > promedio: 69.0 \n",
            "Astro's ataque: [130  70  50  50  45] > promedio: 69.0 \n"
          ],
          "name": "stdout"
        }
      ]
    },
    {
      "cell_type": "markdown",
      "metadata": {
        "id": "asF0M6o8nuTP",
        "colab_type": "text"
      },
      "source": [
        "Podemos ver lo ineficiente que es esto , ya que la variable ataque_total_avg se esta creando con cada iteración del bucle.Pero este cálculo no cambia entre iteraciones ya que es un promedio general, solo necestiamos hacer ese calculo una vez.\n",
        "\n",
        "Al mover este cálculo fuera del ciclo calculamos el promedio de ataque total solo una vez"
      ]
    },
    {
      "cell_type": "code",
      "metadata": {
        "id": "8JHpQEhonb-3",
        "colab_type": "code",
        "colab": {
          "base_uri": "https://localhost:8080/",
          "height": 51
        },
        "outputId": "90081313-8c6b-4011-90f4-656c467484a6"
      },
      "source": [
        "ataque_total_avg = ataque.mean()\n",
        "\n",
        "for pokemon,ataques in zip(nombres,ataque):\n",
        "\n",
        "    if ataques > ataque_total_avg:\n",
        "        print(\n",
        "       \"{}'s ataque: {} > promedio: {} \"\n",
        "          .format(pokemon,ataque,ataque_total_avg)\n",
        ")"
      ],
      "execution_count": null,
      "outputs": [
        {
          "output_type": "stream",
          "text": [
            "Absol's ataque: [130  70  50  50  45] > promedio: 69.0 \n",
            "Astro's ataque: [130  70  50  50  45] > promedio: 69.0 \n"
          ],
          "name": "stdout"
        }
      ]
    },
    {
      "cell_type": "markdown",
      "metadata": {
        "id": "bVzCdga4pB7H",
        "colab_type": "text"
      },
      "source": [
        "Obtenemos el mismo resultado pero este es un enfoque más eficiente.\n",
        "\n",
        "Otra manera de hacer que los bucles sean más eficientes es usar conversiones holisticas fuera del bucle.\n",
        "\n",
        "Tenemos tres listas de los Pokémon una lista del nombre del pokemon, una lista correspondiente a si un Pokémon tiene o no un estado legendario y una lista de la generación de cada Pokémon"
      ]
    },
    {
      "cell_type": "code",
      "metadata": {
        "id": "jEYLX05Doysr",
        "colab_type": "code",
        "colab": {}
      },
      "source": [
        "nombres = [\"Pikachu\",\"Squirtle\",\"Articuno\"]\n",
        "status_legend = [False,False,True]\n",
        "generacion = [1,1,1]"
      ],
      "execution_count": null,
      "outputs": []
    },
    {
      "cell_type": "markdown",
      "metadata": {
        "id": "G2OOW-tOp6Nh",
        "colab_type": "text"
      },
      "source": [
        "Queremos combinar estos objetos para que cada nombre y estado se almacene en una lista individual, para hacer esto usaremos un bucle que itera sobre la salida de la función zip.\n",
        "\n",
        "Recordemos que la función zip devuelve una colección de tuplas, por lo que debemos convertir cada tupla en una lista ya que queremos crear una lista como salida.\n",
        "\n",
        "Ahora agregamos a cada lista individual nuestra variable de salida poke_data, al imprimir nuestro resultado vemos una lista de listas con la información que queriamos."
      ]
    },
    {
      "cell_type": "code",
      "metadata": {
        "id": "9zCwxfgQp6F8",
        "colab_type": "code",
        "colab": {
          "base_uri": "https://localhost:8080/",
          "height": 34
        },
        "outputId": "673d6e4a-cd70-4872-91c1-c175b494023c"
      },
      "source": [
        "poke_data = []\n",
        "for poke_tupla in zip(nombres,status_legend,generacion):\n",
        "    poke_lista = list(poke_tupla)\n",
        "    poke_data.append(poke_lista)\n",
        "print(poke_data)"
      ],
      "execution_count": null,
      "outputs": [
        {
          "output_type": "stream",
          "text": [
            "[['Pikachu', False, 1], ['Squirtle', False, 1], ['Articuno', True, 1]]\n"
          ],
          "name": "stdout"
        }
      ]
    },
    {
      "cell_type": "markdown",
      "metadata": {
        "id": "59sAUgoYrEQo",
        "colab_type": "text"
      },
      "source": [
        "Sin embargo , convertir cada tupla en una lista dentro del ciclo no es muy eficiente, en su lugar debemos recopilar todas nuestras tuplas juntas y usar la función map para convertir cada tupla en una lista."
      ]
    },
    {
      "cell_type": "code",
      "metadata": {
        "id": "uuTo2Tjyp47b",
        "colab_type": "code",
        "colab": {
          "base_uri": "https://localhost:8080/",
          "height": 34
        },
        "outputId": "e011b539-724d-4890-96d1-ce3425c0dc85"
      },
      "source": [
        "poke_data_tupla = []\n",
        "for poke_tupla in zip(nombres,status_legend,generacion):\n",
        "    poke_data_tupla.append(poke_lista)\n",
        "poke_data = [*map(list,poke_data_tupla)]\n",
        "print(poke_data)"
      ],
      "execution_count": null,
      "outputs": [
        {
          "output_type": "stream",
          "text": [
            "[['Articuno', True, 1], ['Articuno', True, 1], ['Articuno', True, 1]]\n"
          ],
          "name": "stdout"
        }
      ]
    },
    {
      "cell_type": "markdown",
      "metadata": {
        "id": "q2jkyoI0rxpA",
        "colab_type": "text"
      },
      "source": [
        "Podemos ver que el ciclo ya no convierte las tuplas en listas con cada iteración, en cambio movemos la tupla para listar la conversión fuera del ciclo.\n",
        "\n",
        "De esta manera convertimos todos los tipos de dato a la vez en lugar de convertir en cada iteración."
      ]
    },
    {
      "cell_type": "markdown",
      "metadata": {
        "id": "3k2Rj9tOsMvN",
        "colab_type": "text"
      },
      "source": [
        "\n",
        "\n",
        "---\n",
        "\n",
        "\n"
      ]
    },
    {
      "cell_type": "code",
      "metadata": {
        "id": "qY5oD87csN7l",
        "colab_type": "code",
        "colab": {}
      },
      "source": [
        ""
      ],
      "execution_count": null,
      "outputs": []
    }
  ]
}