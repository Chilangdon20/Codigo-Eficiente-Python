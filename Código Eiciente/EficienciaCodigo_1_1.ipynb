{
  "nbformat": 4,
  "nbformat_minor": 0,
  "metadata": {
    "colab": {
      "name": "EficienciaCodigo_1_1.ipynb",
      "provenance": [],
      "collapsed_sections": []
    },
    "kernelspec": {
      "name": "python3",
      "display_name": "Python 3"
    }
  },
  "cells": [
    {
      "cell_type": "markdown",
      "metadata": {
        "id": "bzTvcgrckaR0",
        "colab_type": "text"
      },
      "source": [
        "![PYTHON](https://github.com/Chilangdon20/PYTHON/blob/master/Curso%20Basico/CursoExpress/Imagenes/Logo.png?raw=true)"
      ]
    },
    {
      "cell_type": "markdown",
      "metadata": {
        "id": "2WKjiwx4Dk_5",
        "colab_type": "text"
      },
      "source": [
        "# ¿Cómo escribir código eficiente usando Python?\n",
        "\n",
        "## Introducción:\n",
        "\n",
        "En esta sección aprenderemos cómo escribr código más limpio,más rápido y mas eficiente en Python.Aprenderemos cómo encontrar posibles cuellos de botella en nuestro código, tambien veremos la importancia de los malos patrones de diseño , utilizando las bibliotecas estándar de Python,Numpy & Pandas.\n",
        "\n",
        "## ¿Que se entiende por código eficiente en Python?\n",
        "\n",
        "Nos refermios a **eficiente** como palabra clave que satisface dos conceptos clave:\n",
        "\n",
        " * \"El código eficiente es rápido y tiene una pequeña latencia entre la ejecución y la devolución de un resultado.\" , en otras palabras es **el tiempo minimo de compilación.**\n",
        "\n",
        " * \"El código eficiente asigna recursos con habilidad y no esta sijeto a una sobrecarga innecesaria.\", en otras palabras es el **tiempo minimo de consumo.**\n",
        "\n",
        "La definición de tiempo de ejecución rápido y uso de memotia pequeña depende de la tarea que esteos realizando.\n",
        "\n",
        "Escribir código Python de la manera que fue diseñado a menudo se conoce como código **Pythonic**, esto significa que el código que se escribe sigue las mejores prácticas y principios rectores de Python.\n",
        "\n",
        "El codigo Pythonic tiene a ser menos detallado y mas fácil de intepretar, aqui veremos un ejemplo a continuación:\n",
        "\n",
        "\n"
      ]
    },
    {
      "cell_type": "code",
      "metadata": {
        "id": "MHr5j4FCIK2y",
        "colab_type": "code",
        "colab": {}
      },
      "source": [
        "# Cdigo No.Pythonic\n",
        "num_triples = []\n",
        "\n",
        "\n",
        "for i in range(len(numeros)):\n",
        "  num_triples.append(numeros[i] * 2)\n",
        "\n",
        "# Código Pythonic\n",
        "num_triples = [y * 2 for i in numeros]"
      ],
      "execution_count": null,
      "outputs": []
    },
    {
      "cell_type": "markdown",
      "metadata": {
        "id": "hckS8BLaIcNf",
        "colab_type": "text"
      },
      "source": [
        "Podemos observar que el código normal o No.pythonic es mucho mas detallado y tarda mucho mas tiempo en ejecutarse.\n",
        "\n",
        "Para que nosotros podamos ver cuales son los principios o modismos que se usan en Pythonic podemos escribir el siguiente código:"
      ]
    },
    {
      "cell_type": "code",
      "metadata": {
        "id": "RwZuARA5I3ye",
        "colab_type": "code",
        "colab": {
          "base_uri": "https://localhost:8080/",
          "height": 374
        },
        "outputId": "0a1239de-8fd6-4500-c6b8-d04e41ac6ddc"
      },
      "source": [
        "import this"
      ],
      "execution_count": 3,
      "outputs": [
        {
          "output_type": "stream",
          "text": [
            "The Zen of Python, by Tim Peters\n",
            "\n",
            "Beautiful is better than ugly.\n",
            "Explicit is better than implicit.\n",
            "Simple is better than complex.\n",
            "Complex is better than complicated.\n",
            "Flat is better than nested.\n",
            "Sparse is better than dense.\n",
            "Readability counts.\n",
            "Special cases aren't special enough to break the rules.\n",
            "Although practicality beats purity.\n",
            "Errors should never pass silently.\n",
            "Unless explicitly silenced.\n",
            "In the face of ambiguity, refuse the temptation to guess.\n",
            "There should be one-- and preferably only one --obvious way to do it.\n",
            "Although that way may not be obvious at first unless you're Dutch.\n",
            "Now is better than never.\n",
            "Although never is often better than *right* now.\n",
            "If the implementation is hard to explain, it's a bad idea.\n",
            "If the implementation is easy to explain, it may be a good idea.\n",
            "Namespaces are one honking great idea -- let's do more of those!\n"
          ],
          "name": "stdout"
        }
      ]
    },
    {
      "cell_type": "markdown",
      "metadata": {
        "id": "IwcPGXGTJBvG",
        "colab_type": "text"
      },
      "source": [
        "Esta es una lista de algunos modismos y mejores practicas que resumen la filosofía de diseño de Python.\n",
        "\n",
        "### Ejemplo:\n",
        "\n",
        "Supongamos que estamos buscando coleccionar los nombres de ciertas personas cuya longuitud es mayor o igual a 8.El enfoque típico es crear una variable de índice (i), usar i para iterar sobre la lista y usar una instrucción if para recopilar los nombres con 5 letras o más:"
      ]
    },
    {
      "cell_type": "code",
      "metadata": {
        "id": "HS1f5yN2I-ru",
        "colab_type": "code",
        "colab": {
          "base_uri": "https://localhost:8080/",
          "height": 34
        },
        "outputId": "4eea958a-5f56-433f-ce3a-bd6033c71e11"
      },
      "source": [
        "nombres = [\"Diego\",\"Lomachenko\",\"Vinc\",\"Fermin\",\"Mariana\"]\n",
        "i = 0\n",
        "lista = []\n",
        "while i < len(nombres):\n",
        "    if len(nombres[i]) >= 5:\n",
        "        lista.append(nombres[i])\n",
        "    i += 1\n",
        "print(lista)"
      ],
      "execution_count": 20,
      "outputs": [
        {
          "output_type": "stream",
          "text": [
            "['Diego', 'Lomachenko', 'Fermin', 'Mariana']\n"
          ],
          "name": "stdout"
        }
      ]
    },
    {
      "cell_type": "markdown",
      "metadata": {
        "id": "Iqb-5XPJLURA",
        "colab_type": "text"
      },
      "source": [
        "Un enfoque más pythonic recorrería el contenido de los nombres, en lugar de utilizar una variable de índice. Imprime mejor_lista."
      ]
    },
    {
      "cell_type": "code",
      "metadata": {
        "id": "umXr90FbLebB",
        "colab_type": "code",
        "colab": {
          "base_uri": "https://localhost:8080/",
          "height": 34
        },
        "outputId": "36ad5001-1d3d-49f8-d128-2b54e726c105"
      },
      "source": [
        "mejor_lista = []\n",
        "for nombre in nombres:\n",
        "  if len(nombre) >= 5:\n",
        "     mejor_lista.append(nombre)\n",
        "print(mejor_lista)"
      ],
      "execution_count": 21,
      "outputs": [
        {
          "output_type": "stream",
          "text": [
            "['Diego', 'Lomachenko', 'Fermin', 'Mariana']\n"
          ],
          "name": "stdout"
        }
      ]
    },
    {
      "cell_type": "markdown",
      "metadata": {
        "id": "AIwKQN6DKbWY",
        "colab_type": "text"
      },
      "source": [
        "Pero aun podemos mejorar mas el codigo :"
      ]
    },
    {
      "cell_type": "code",
      "metadata": {
        "id": "WatHFdPDKXsO",
        "colab_type": "code",
        "colab": {
          "base_uri": "https://localhost:8080/",
          "height": 34
        },
        "outputId": "84106939-71a1-4203-9926-19e3ad5a16e1"
      },
      "source": [
        "super_lista = [nom for nom in nombres if len(nombres) >= 5]\n",
        "print(super_lista)"
      ],
      "execution_count": 22,
      "outputs": [
        {
          "output_type": "stream",
          "text": [
            "['Diego', 'Lomachenko', 'Vinc', 'Fermin', 'Mariana']\n"
          ],
          "name": "stdout"
        }
      ]
    },
    {
      "cell_type": "markdown",
      "metadata": {
        "id": "aK0PtYUrMp2N",
        "colab_type": "text"
      },
      "source": [
        "Python nos brinda ciertas herramientas integradas para poder simplificar nuestro codigo y escribirlo mucho mas eficiente, cabe mencionar que los componentes integrados se denominan **Python Standard Library**.\n",
        "\n",
        "Esta biblioteca viene en cada versión de python y es una de las mayores fortalezas de Python.Python tiene varios tipos de datos incroporados , nos centraremos en tipos de datos como listas, tuplas, conjuntos & diccionarios.\n",
        "\n",
        "Python tambien brinda funciones integradas que proporcionan una variedad de características de resolución de problemas como son ``print()``,``len()``,``range()``,``round()``,``enumerate()``,``map()``,``zip()`` entre otras.\n",
        "\n",
        "## Función ``range()``\n",
        "\n",
        "\n",
        "Esta es una herramienta muy util cuando queremos crear secuencias de números,supongamos que queremos crear una lista de numeros enteros del 5 al 20:\n"
      ]
    },
    {
      "cell_type": "code",
      "metadata": {
        "id": "NKKDE5uWKwQR",
        "colab_type": "code",
        "colab": {
          "base_uri": "https://localhost:8080/",
          "height": 34
        },
        "outputId": "35b86a4e-ed23-41c3-9896-d23e6bc2c194"
      },
      "source": [
        "num = [5,6,7,8,9,10,11,12,13,14,15,16,17,18,19,20]\n",
        "num"
      ],
      "execution_count": 24,
      "outputs": [
        {
          "output_type": "execute_result",
          "data": {
            "text/plain": [
              "[5, 6, 7, 8, 9, 10, 11, 12, 13, 14, 15, 16, 17, 18, 19, 20]"
            ]
          },
          "metadata": {
            "tags": []
          },
          "execution_count": 24
        }
      ]
    },
    {
      "cell_type": "markdown",
      "metadata": {
        "id": "2OHae5zKOo4O",
        "colab_type": "text"
      },
      "source": [
        "Podriamos hacer lo anterior pero no es muy eficiente, en su lugar usaremos ``range()``, podemos proporcionarle un rango con un valor inicial y final para crear nuestra secuecniade números"
      ]
    },
    {
      "cell_type": "code",
      "metadata": {
        "id": "A77JdY_mOjTA",
        "colab_type": "code",
        "colab": {
          "base_uri": "https://localhost:8080/",
          "height": 34
        },
        "outputId": "75574c34-c75a-473b-b19f-134ed7b77f63"
      },
      "source": [
        "# range(valor_inicial,valor_final)\n",
        "num = range(5,21)\n",
        "\n",
        "lista_num = list(num)\n",
        "print(lista_num)"
      ],
      "execution_count": 27,
      "outputs": [
        {
          "output_type": "stream",
          "text": [
            "[5, 6, 7, 8, 9, 10, 11, 12, 13, 14, 15, 16, 17, 18, 19, 20]\n"
          ],
          "name": "stdout"
        }
      ]
    },
    {
      "cell_type": "markdown",
      "metadata": {
        "id": "rFCR_Yw0POlT",
        "colab_type": "text"
      },
      "source": [
        "O bien , podemos proporcionar un solo valor como argumento suponiendo que queremos que nuestra secuencia comience en cero."
      ]
    },
    {
      "cell_type": "code",
      "metadata": {
        "id": "3ZqINutDPC9J",
        "colab_type": "code",
        "colab": {
          "base_uri": "https://localhost:8080/",
          "height": 34
        },
        "outputId": "43f72ed4-13d6-4e09-f60e-9ca9af01ca3c"
      },
      "source": [
        "# range(valor_final)\n",
        "numeros = range(21)\n",
        "\n",
        "lista_numeros = list(numeros)\n",
        "print(lista_numeros)"
      ],
      "execution_count": 31,
      "outputs": [
        {
          "output_type": "stream",
          "text": [
            "[0, 1, 2, 3, 4, 5, 6, 7, 8, 9, 10, 11, 12, 13, 14, 15, 16, 17, 18, 19, 20]\n"
          ],
          "name": "stdout"
        }
      ]
    },
    {
      "cell_type": "markdown",
      "metadata": {
        "id": "KIo6LHf-PvcD",
        "colab_type": "text"
      },
      "source": [
        "Tengamos en cuenta que el valor de detención es exclusivo, o bien hasta ,pero sin incluir el valor.\n",
        "\n",
        "Tambien tengamos en cuenta que la función ``range()``devuelve un objeto de tipo rango, que podemos convertir a una lista e imprimir.\n",
        "\n",
        "La función range tambien puede aceptar un valor de inicio, final y paso."
      ]
    },
    {
      "cell_type": "code",
      "metadata": {
        "id": "DRo-XBzRPiiK",
        "colab_type": "code",
        "colab": {
          "base_uri": "https://localhost:8080/",
          "height": 34
        },
        "outputId": "fc18fbf6-9fa4-4846-d611-5861995744bc"
      },
      "source": [
        "nuevos_numeros = range(1,21,3)\n",
        "numeros_lista = list(nuevos_numeros)\n",
        "print(numeros_lista) "
      ],
      "execution_count": 33,
      "outputs": [
        {
          "output_type": "stream",
          "text": [
            "[1, 4, 7, 10, 13, 16, 19]\n"
          ],
          "name": "stdout"
        }
      ]
    },
    {
      "cell_type": "markdown",
      "metadata": {
        "id": "Hyvo9H61QlRu",
        "colab_type": "text"
      },
      "source": [
        "En esta sección de código le decimos a python que queremos crear una secuencia de nueros que comienzan en 1 y teminan en 20 y se incrementan en tres.\n",
        "\n",
        "\n",
        "## Función ``enumerate()``\n",
        "\n",
        "La función ``enumerate()``crea un par de elementos de índice para cada elemento en el objeto proporcionado,por ejemplo llamar a enumerate en las letras de una lista produce una secuencia de valores indexados,similar a la funcion ``range()``devuelve un objeto enumerate que tambien se puede convertir en una lista e imprimirveamos un ejemplo:"
      ]
    },
    {
      "cell_type": "code",
      "metadata": {
        "id": "l4TKfs-mQgcH",
        "colab_type": "code",
        "colab": {
          "base_uri": "https://localhost:8080/",
          "height": 34
        },
        "outputId": "8b120c86-cb7b-4d7e-f2df-a74cbc94ec73"
      },
      "source": [
        "letras = ['S','P','R','C','J']\n",
        "letras_indexadas = enumerate(letras)\n",
        "\n",
        "lista_indexada_letras = list(letras_indexadas)\n",
        "print(lista_indexada_letras)"
      ],
      "execution_count": 35,
      "outputs": [
        {
          "output_type": "stream",
          "text": [
            "[(0, 'S'), (1, 'P'), (2, 'R'), (3, 'C'), (4, 'J')]\n"
          ],
          "name": "stdout"
        }
      ]
    },
    {
      "cell_type": "markdown",
      "metadata": {
        "id": "BMcAEB6FR14P",
        "colab_type": "text"
      },
      "source": [
        "También podemos especificar el índice inicial de enumerate con el argumento de la palabra clave ``start``,veamos un ejemplo."
      ]
    },
    {
      "cell_type": "code",
      "metadata": {
        "id": "ftcwcMjoRsyY",
        "colab_type": "code",
        "colab": {
          "base_uri": "https://localhost:8080/",
          "height": 34
        },
        "outputId": "eb99d338-209a-4608-820e-0ca96da35b02"
      },
      "source": [
        "letras_indexadas2 = enumerate(letras,start=4)\n",
        "lista_indexada2_letras = list(letras_indexadas2)\n",
        "print(lista_indexada2_letras)"
      ],
      "execution_count": 36,
      "outputs": [
        {
          "output_type": "stream",
          "text": [
            "[(4, 'S'), (5, 'P'), (6, 'R'), (7, 'C'), (8, 'J')]\n"
          ],
          "name": "stdout"
        }
      ]
    },
    {
      "cell_type": "markdown",
      "metadata": {
        "id": "v3X9z7OPSTQH",
        "colab_type": "text"
      },
      "source": [
        "En el codgio anterior le decimos a la función enumerate que comiende el índice a las cuatro pasando el parametro start igual a cuatro.\n",
        "\n",
        "\n",
        "\n",
        "## Función ``map()``\n",
        "\n",
        "La función ``map()``aplica una función a cada elmento de un objeto,a continuación veamos que la funcion map recibe 2 argumetnos , primero la funcion a aplicar y segundo el objeto donde aplicamos la funcion.\n",
        "\n"
      ]
    },
    {
      "cell_type": "code",
      "metadata": {
        "id": "HfhJ28PRSRv4",
        "colab_type": "code",
        "colab": {
          "base_uri": "https://localhost:8080/",
          "height": 34
        },
        "outputId": "84b1702a-7b70-426a-8026-09c6f123d31a"
      },
      "source": [
        "costos = [12.56,32.4,56,8.2,23.5,7.2]\n",
        "costos_redond = map(round,costos)\n",
        "print(list(costos_redond))"
      ],
      "execution_count": 41,
      "outputs": [
        {
          "output_type": "stream",
          "text": [
            "[13, 32, 56, 8, 24, 7]\n"
          ],
          "name": "stdout"
        }
      ]
    },
    {
      "cell_type": "markdown",
      "metadata": {
        "id": "rEKY8ktAT2Ab",
        "colab_type": "text"
      },
      "source": [
        "Tengamos en cuenta que también podemos utilizar map con una función lambda como parametro, veamos un ejemplo:"
      ]
    },
    {
      "cell_type": "code",
      "metadata": {
        "id": "VOOSo2nrTjUr",
        "colab_type": "code",
        "colab": {
          "base_uri": "https://localhost:8080/",
          "height": 34
        },
        "outputId": "533f7e1f-76cd-4c51-f405-97de0ed564c1"
      },
      "source": [
        "nums = [2,5,7,9,0]\n",
        "nums_elevados = map(lambda x: x**2,nums)\n",
        "print(list(nums_elevados))"
      ],
      "execution_count": 42,
      "outputs": [
        {
          "output_type": "stream",
          "text": [
            "[4, 25, 49, 81, 0]\n"
          ],
          "name": "stdout"
        }
      ]
    },
    {
      "cell_type": "markdown",
      "metadata": {
        "id": "ZdahZHLmVjWw",
        "colab_type": "text"
      },
      "source": [
        "# El poder de NumPy\n",
        "\n",
        "## Introdución:\n",
        "\n",
        "Numpy es un paquete invaluable de Python para los cientificos de datos,es el paquete fundamental para la informática científica en Python y proporciona una serie de beneficios para escribir código eficiente, a continuacion veremos una de las ventajas más importantes de NumPy, la matriz de NumPy.\n",
        "\n"
      ]
    },
    {
      "cell_type": "code",
      "metadata": {
        "id": "DXr4B767XIfn",
        "colab_type": "code",
        "colab": {
          "base_uri": "https://localhost:8080/",
          "height": 34
        },
        "outputId": "b8ba1757-d5bc-4015-abb6-da2f7065ced0"
      },
      "source": [
        "num_lista = list(range(5))\n",
        "num_lista"
      ],
      "execution_count": 46,
      "outputs": [
        {
          "output_type": "execute_result",
          "data": {
            "text/plain": [
              "[0, 1, 2, 3, 4]"
            ]
          },
          "metadata": {
            "tags": []
          },
          "execution_count": 46
        }
      ]
    },
    {
      "cell_type": "markdown",
      "metadata": {
        "id": "690BA0S3XCWX",
        "colab_type": "text"
      },
      "source": [
        "La matriz de NumPy proporciona una alternativa rápida y eficiente en memoria a las listas de Python.\n",
        "\n",
        "Por lo general importamos NumPy como no y usamos la matriz de puntos no para crear una matriz NumPy,estas son homogeneas lo que significa que deben de contener elenentos del mismo tipo."
      ]
    },
    {
      "cell_type": "code",
      "metadata": {
        "id": "of3YOnm8WxER",
        "colab_type": "code",
        "colab": {
          "base_uri": "https://localhost:8080/",
          "height": 34
        },
        "outputId": "0d24b1e0-81d8-4ffe-e581-2dc39697f6b9"
      },
      "source": [
        "import numpy as np\n",
        "\n",
        "nums_np = np.array(range(5))\n",
        "nums_np"
      ],
      "execution_count": 48,
      "outputs": [
        {
          "output_type": "execute_result",
          "data": {
            "text/plain": [
              "array([0, 1, 2, 3, 4])"
            ]
          },
          "metadata": {
            "tags": []
          },
          "execution_count": 48
        }
      ]
    },
    {
      "cell_type": "markdown",
      "metadata": {
        "id": "3nBHaTDzXioE",
        "colab_type": "text"
      },
      "source": [
        "Las matrices en NumPy son homogéneas , lo que significa que deben contener elementos del mismo tipo, a continuación un ejemplo."
      ]
    },
    {
      "cell_type": "code",
      "metadata": {
        "id": "Kf4giQfkW6rh",
        "colab_type": "code",
        "colab": {
          "base_uri": "https://localhost:8080/",
          "height": 34
        },
        "outputId": "ec6227c9-2403-42d3-ee3b-66ac9caa12ab"
      },
      "source": [
        "# Matriz NumPy Homogenea\n",
        "num_np_hom = np.array([7,8,9])\n",
        "num_np_hom\n"
      ],
      "execution_count": 49,
      "outputs": [
        {
          "output_type": "execute_result",
          "data": {
            "text/plain": [
              "array([7, 8, 9])"
            ]
          },
          "metadata": {
            "tags": []
          },
          "execution_count": 49
        }
      ]
    },
    {
      "cell_type": "markdown",
      "metadata": {
        "id": "nvnNkJlxX52O",
        "colab_type": "text"
      },
      "source": [
        "Podemos ver el tipo de cada elemento usando el método ``.dtype```\n"
      ]
    },
    {
      "cell_type": "code",
      "metadata": {
        "id": "EnySmemUX4wB",
        "colab_type": "code",
        "colab": {
          "base_uri": "https://localhost:8080/",
          "height": 34
        },
        "outputId": "27a8caf9-ee6c-42a8-bfef-2d71b3e00347"
      },
      "source": [
        "num_np_hom.dtype"
      ],
      "execution_count": 50,
      "outputs": [
        {
          "output_type": "execute_result",
          "data": {
            "text/plain": [
              "dtype('int64')"
            ]
          },
          "metadata": {
            "tags": []
          },
          "execution_count": 50
        }
      ]
    },
    {
      "cell_type": "markdown",
      "metadata": {
        "id": "1UoavtnUYKsG",
        "colab_type": "text"
      },
      "source": [
        "Supongamos que creamos una matriz usando difrentes tipos de datos:"
      ]
    },
    {
      "cell_type": "code",
      "metadata": {
        "id": "1ZMXOHvjYFUw",
        "colab_type": "code",
        "colab": {
          "base_uri": "https://localhost:8080/",
          "height": 34
        },
        "outputId": "f2136cc4-7816-441d-a793-2f3f39144738"
      },
      "source": [
        "nums_no_float = np.array([5,6.78,7])\n",
        "nums_no_float"
      ],
      "execution_count": 52,
      "outputs": [
        {
          "output_type": "execute_result",
          "data": {
            "text/plain": [
              "array([5.  , 6.78, 7.  ])"
            ]
          },
          "metadata": {
            "tags": []
          },
          "execution_count": 52
        }
      ]
    },
    {
      "cell_type": "markdown",
      "metadata": {
        "id": "Hqu4rsY9YekI",
        "colab_type": "text"
      },
      "source": [
        "Podemos observar que numpy convirtió los enteros en flotantes para retener la naturaleza homogénea de esa matriz, ahora verificaremos el tipo de dato de la matriz."
      ]
    },
    {
      "cell_type": "code",
      "metadata": {
        "id": "4m-eNj5AYV2H",
        "colab_type": "code",
        "colab": {
          "base_uri": "https://localhost:8080/",
          "height": 34
        },
        "outputId": "0cc79866-c98f-4c28-ccc6-6048e60e5a80"
      },
      "source": [
        "nums_no_float.dtype"
      ],
      "execution_count": 53,
      "outputs": [
        {
          "output_type": "execute_result",
          "data": {
            "text/plain": [
              "dtype('float64')"
            ]
          },
          "metadata": {
            "tags": []
          },
          "execution_count": 53
        }
      ]
    },
    {
      "cell_type": "markdown",
      "metadata": {
        "id": "vB53tNitY3EV",
        "colab_type": "text"
      },
      "source": [
        "## Funcionalidad de transmisión de Matrices de NumPy.\n",
        "\n",
        "Al analizr nuestros datos, a menudo realizaremos operaciones en colecciones completas de valores rapidamente.Digamos por ejemplo que queremos elevar al cuadrado cada número de una lista de números, seria bueno si solamente pudieramos aplicar la operacion a la lista de valores, desafortunadamente las listas de Python no admiten este tipo de cálculos."
      ]
    },
    {
      "cell_type": "code",
      "metadata": {
        "id": "mLVRzNIXYvdZ",
        "colab_type": "code",
        "colab": {
          "base_uri": "https://localhost:8080/",
          "height": 181
        },
        "outputId": "e00341f3-3e44-4d90-818b-4748dec44aab"
      },
      "source": [
        "nums = [-3,-2,-1,0,1,2,3]\n",
        "nums ** 2"
      ],
      "execution_count": 54,
      "outputs": [
        {
          "output_type": "error",
          "ename": "TypeError",
          "evalue": "ignored",
          "traceback": [
            "\u001b[0;31m---------------------------------------------------------------------------\u001b[0m",
            "\u001b[0;31mTypeError\u001b[0m                                 Traceback (most recent call last)",
            "\u001b[0;32m<ipython-input-54-683381f5493c>\u001b[0m in \u001b[0;36m<module>\u001b[0;34m()\u001b[0m\n\u001b[1;32m      1\u001b[0m \u001b[0mnums\u001b[0m \u001b[0;34m=\u001b[0m \u001b[0;34m[\u001b[0m\u001b[0;34m-\u001b[0m\u001b[0;36m3\u001b[0m\u001b[0;34m,\u001b[0m\u001b[0;34m-\u001b[0m\u001b[0;36m2\u001b[0m\u001b[0;34m,\u001b[0m\u001b[0;34m-\u001b[0m\u001b[0;36m1\u001b[0m\u001b[0;34m,\u001b[0m\u001b[0;36m0\u001b[0m\u001b[0;34m,\u001b[0m\u001b[0;36m1\u001b[0m\u001b[0;34m,\u001b[0m\u001b[0;36m2\u001b[0m\u001b[0;34m,\u001b[0m\u001b[0;36m3\u001b[0m\u001b[0;34m]\u001b[0m\u001b[0;34m\u001b[0m\u001b[0;34m\u001b[0m\u001b[0m\n\u001b[0;32m----> 2\u001b[0;31m \u001b[0mnums\u001b[0m \u001b[0;34m**\u001b[0m \u001b[0;36m2\u001b[0m\u001b[0;34m\u001b[0m\u001b[0;34m\u001b[0m\u001b[0m\n\u001b[0m",
            "\u001b[0;31mTypeError\u001b[0m: unsupported operand type(s) for ** or pow(): 'list' and 'int'"
          ]
        }
      ]
    },
    {
      "cell_type": "markdown",
      "metadata": {
        "id": "M4nDk9I6ZzyY",
        "colab_type": "text"
      },
      "source": [
        "Podriamos elevar al cuadrado usando un bucle for o usando una compresion de la lista."
      ]
    },
    {
      "cell_type": "code",
      "metadata": {
        "id": "-bc-eCyfZX-m",
        "colab_type": "code",
        "colab": {
          "base_uri": "https://localhost:8080/",
          "height": 34
        },
        "outputId": "9d8f8329-5fa1-47db-9afb-9671a63f999a"
      },
      "source": [
        "#Forma infeciciente \n",
        "nums_cuadrados = []\n",
        "for num in nums:\n",
        "  nums_cuadrados.append(num ** 2)\n",
        "print(nums_cuadrados)"
      ],
      "execution_count": 55,
      "outputs": [
        {
          "output_type": "stream",
          "text": [
            "[9, 4, 1, 0, 1, 4, 9]\n"
          ],
          "name": "stdout"
        }
      ]
    },
    {
      "cell_type": "code",
      "metadata": {
        "id": "_Jln-U6PaqXB",
        "colab_type": "code",
        "colab": {
          "base_uri": "https://localhost:8080/",
          "height": 34
        },
        "outputId": "8fd7a427-6a02-4681-b080-a501699f8cc4"
      },
      "source": [
        "# Mejor opción pero no la mejor\n",
        "nums_cuadrados = [num ** 2 for num in nums]\n",
        "print(nums_cuadrados)"
      ],
      "execution_count": 56,
      "outputs": [
        {
          "output_type": "stream",
          "text": [
            "[9, 4, 1, 0, 1, 4, 9]\n"
          ],
          "name": "stdout"
        }
      ]
    },
    {
      "cell_type": "markdown",
      "metadata": {
        "id": "5WrWweMTbw_Y",
        "colab_type": "text"
      },
      "source": [
        "Ninguno de los enfoques anteriores es adecuado y eficiente,aqui radica la segunda ventaja de los arreglos numpy, la **funcionalidad de transmisión.**\n",
        "\n",
        "Las matrices NumPy vectorizan las operaciones , por lo que se realizan en todos los elementos de un objeto a la vez, esto nos permite realizar cálculos de manera mas eficiente en matrices enteras."
      ]
    },
    {
      "cell_type": "code",
      "metadata": {
        "id": "r1ioHqRSbueh",
        "colab_type": "code",
        "colab": {
          "base_uri": "https://localhost:8080/",
          "height": 34
        },
        "outputId": "90e1ab17-d1aa-481c-965d-96592a1e1621"
      },
      "source": [
        "nums_np = np.array([1,2,3])\n",
        "nums_np ** 3"
      ],
      "execution_count": 57,
      "outputs": [
        {
          "output_type": "execute_result",
          "data": {
            "text/plain": [
              "array([ 1,  8, 27])"
            ]
          },
          "metadata": {
            "tags": []
          },
          "execution_count": 57
        }
      ]
    },
    {
      "cell_type": "markdown",
      "metadata": {
        "id": "0g5rYTqscwn4",
        "colab_type": "text"
      },
      "source": [
        "Otra ventaja de los arreglos NumPy es su capacidad de indexación, a continuación compararemos la indexación basica entre una matriz unidimensional y una lista ."
      ]
    },
    {
      "cell_type": "code",
      "metadata": {
        "id": "hl00BACIcpki",
        "colab_type": "code",
        "colab": {
          "base_uri": "https://localhost:8080/",
          "height": 34
        },
        "outputId": "a026b202-eeea-404c-8a4c-83612c25d2e2"
      },
      "source": [
        "# Indexado 1-D basico(listas)\n",
        "nums = [-3,-1,0,1,3]\n",
        "nums[2]\n"
      ],
      "execution_count": 58,
      "outputs": [
        {
          "output_type": "execute_result",
          "data": {
            "text/plain": [
              "0"
            ]
          },
          "metadata": {
            "tags": []
          },
          "execution_count": 58
        }
      ]
    },
    {
      "cell_type": "code",
      "metadata": {
        "id": "9eTUfv4wdJnW",
        "colab_type": "code",
        "colab": {
          "base_uri": "https://localhost:8080/",
          "height": 34
        },
        "outputId": "6e137037-2ae1-48d9-83d2-633c0b11e7ae"
      },
      "source": [
        "# Indexado 1-D basico(Matriz)\n",
        "nums_np = np.array(nums)\n",
        "nums_np[2]"
      ],
      "execution_count": 59,
      "outputs": [
        {
          "output_type": "execute_result",
          "data": {
            "text/plain": [
              "0"
            ]
          },
          "metadata": {
            "tags": []
          },
          "execution_count": 59
        }
      ]
    },
    {
      "cell_type": "code",
      "metadata": {
        "id": "qkc_85Hzdad_",
        "colab_type": "code",
        "colab": {
          "base_uri": "https://localhost:8080/",
          "height": 34
        },
        "outputId": "f56a8d91-97d3-43d7-b228-f082efd45792"
      },
      "source": [
        "# Indexado 1-D basico(listas)\n",
        "nums[-1]"
      ],
      "execution_count": 60,
      "outputs": [
        {
          "output_type": "execute_result",
          "data": {
            "text/plain": [
              "3"
            ]
          },
          "metadata": {
            "tags": []
          },
          "execution_count": 60
        }
      ]
    },
    {
      "cell_type": "code",
      "metadata": {
        "id": "Awh5BVBNde6B",
        "colab_type": "code",
        "colab": {
          "base_uri": "https://localhost:8080/",
          "height": 34
        },
        "outputId": "e98c0370-9332-4a18-a316-4d5f0e5c7d6c"
      },
      "source": [
        "# Indexado 1-D basico(Matriz)\n",
        "nums_np[-1]"
      ],
      "execution_count": 61,
      "outputs": [
        {
          "output_type": "execute_result",
          "data": {
            "text/plain": [
              "3"
            ]
          },
          "metadata": {
            "tags": []
          },
          "execution_count": 61
        }
      ]
    },
    {
      "cell_type": "markdown",
      "metadata": {
        "id": "8wSYQCnndke8",
        "colab_type": "text"
      },
      "source": [
        "Al compara la indexación basica entre una matriz unidimensional y una lista , las capacidades son idénticas.Cuando se usan matrices y listas bidimensionales, las ventajas de las matrices son claras, veamos a continuacion un ejemplo."
      ]
    },
    {
      "cell_type": "code",
      "metadata": {
        "id": "UonHNQaAdjDG",
        "colab_type": "code",
        "colab": {}
      },
      "source": [
        "# 2-D lista\n",
        "nums2 = [[1,2,3],\n",
        "         [4,5,6]]\n",
        "#2-D matriz\n",
        "nums2_np = np.array(nums2)\n"
      ],
      "execution_count": 62,
      "outputs": []
    },
    {
      "cell_type": "markdown",
      "metadata": {
        "id": "7WqYr_MAeQO5",
        "colab_type": "text"
      },
      "source": [
        "Para devolver el segundo elemento de la primera fila en nuestras variables veremos notablemente las diferencias:"
      ]
    },
    {
      "cell_type": "code",
      "metadata": {
        "id": "_rcw4Rj4eNU0",
        "colab_type": "code",
        "colab": {
          "base_uri": "https://localhost:8080/",
          "height": 34
        },
        "outputId": "eb898e7a-ab2a-4751-abe3-7e30564b14dc"
      },
      "source": [
        "# Indexado Bsico 2-D(listas)\n",
        "nums2[0][1]"
      ],
      "execution_count": 63,
      "outputs": [
        {
          "output_type": "execute_result",
          "data": {
            "text/plain": [
              "2"
            ]
          },
          "metadata": {
            "tags": []
          },
          "execution_count": 63
        }
      ]
    },
    {
      "cell_type": "code",
      "metadata": {
        "id": "AUiVYLGqeeBO",
        "colab_type": "code",
        "colab": {
          "base_uri": "https://localhost:8080/",
          "height": 34
        },
        "outputId": "a8c32ea8-2643-410a-8884-50f0560bbc06"
      },
      "source": [
        "# Indexado Basico 2-D(matrices)\n",
        "nums2_np[0,1]"
      ],
      "execution_count": 64,
      "outputs": [
        {
          "output_type": "execute_result",
          "data": {
            "text/plain": [
              "2"
            ]
          },
          "metadata": {
            "tags": []
          },
          "execution_count": 64
        }
      ]
    },
    {
      "cell_type": "markdown",
      "metadata": {
        "id": "qm23bZApetcY",
        "colab_type": "text"
      },
      "source": [
        "Podemos observar que la sintaxis de la lista es un poco mas detallada ya que tenemos que poner tanto el cero como el uno en diferentes corchetes mientras que en la matriz no.\n",
        "\n",
        "### OBSERVACIÓN:\n",
        "\n",
        "Para devolver la primera columna de valores de nuestros objetos , la sintaxis de la matriz es mucho mas simple, veamos a continuación."
      ]
    },
    {
      "cell_type": "code",
      "metadata": {
        "id": "nF4UjuPZen8N",
        "colab_type": "code",
        "colab": {
          "base_uri": "https://localhost:8080/",
          "height": 34
        },
        "outputId": "55583b07-b186-4b60-afa9-6d06a87e853d"
      },
      "source": [
        "#Lista\n",
        "[col[0] for col in nums2]"
      ],
      "execution_count": 65,
      "outputs": [
        {
          "output_type": "execute_result",
          "data": {
            "text/plain": [
              "[1, 4]"
            ]
          },
          "metadata": {
            "tags": []
          },
          "execution_count": 65
        }
      ]
    },
    {
      "cell_type": "code",
      "metadata": {
        "id": "MTitsYx3fPk4",
        "colab_type": "code",
        "colab": {
          "base_uri": "https://localhost:8080/",
          "height": 34
        },
        "outputId": "81c82206-4e15-463d-c9dd-b1c2da7922aa"
      },
      "source": [
        "#Matriz\n",
        "nums2_np[:,0]"
      ],
      "execution_count": 66,
      "outputs": [
        {
          "output_type": "execute_result",
          "data": {
            "text/plain": [
              "array([1, 4])"
            ]
          },
          "metadata": {
            "tags": []
          },
          "execution_count": 66
        }
      ]
    },
    {
      "cell_type": "markdown",
      "metadata": {
        "id": "0hqxg8N1gAs4",
        "colab_type": "text"
      },
      "source": [
        "Las matrices NumPy tambien tienen una técnica especial llamada indexación booleana,supongamos que deseamos reunir solo números postivos de la secuencia siguiente:"
      ]
    },
    {
      "cell_type": "code",
      "metadata": {
        "id": "1ebvyOxRfZdf",
        "colab_type": "code",
        "colab": {}
      },
      "source": [
        "nums = [-2,-6,-3,8,90,43]\n",
        "nums_np = np.array(nums)"
      ],
      "execution_count": 69,
      "outputs": []
    },
    {
      "cell_type": "markdown",
      "metadata": {
        "id": "8boCZbDxgcgi",
        "colab_type": "text"
      },
      "source": [
        "Con una matriz , podemos crear una máscara booleana usando una simple desigualdad."
      ]
    },
    {
      "cell_type": "code",
      "metadata": {
        "id": "T2yjmWmYgYpV",
        "colab_type": "code",
        "colab": {
          "base_uri": "https://localhost:8080/",
          "height": 34
        },
        "outputId": "c92793d7-12b9-4f20-cc4b-584743234130"
      },
      "source": [
        "nums_np > 0"
      ],
      "execution_count": 72,
      "outputs": [
        {
          "output_type": "execute_result",
          "data": {
            "text/plain": [
              "array([False, False, False,  True,  True,  True])"
            ]
          },
          "metadata": {
            "tags": []
          },
          "execution_count": 72
        }
      ]
    },
    {
      "cell_type": "markdown",
      "metadata": {
        "id": "NrosYU65gt1z",
        "colab_type": "text"
      },
      "source": [
        "La indexación de la matriz es tan simple como encerrar esta desgiauldad entre corchetes."
      ]
    },
    {
      "cell_type": "code",
      "metadata": {
        "id": "JsvHvsQygi4_",
        "colab_type": "code",
        "colab": {
          "base_uri": "https://localhost:8080/",
          "height": 34
        },
        "outputId": "44b2d01c-7087-4002-e4ac-350a811fce2d"
      },
      "source": [
        "nums_np[nums_np> 0]"
      ],
      "execution_count": 73,
      "outputs": [
        {
          "output_type": "execute_result",
          "data": {
            "text/plain": [
              "array([ 8, 90, 43])"
            ]
          },
          "metadata": {
            "tags": []
          },
          "execution_count": 73
        }
      ]
    },
    {
      "cell_type": "markdown",
      "metadata": {
        "id": "cBXy4H6xg68n",
        "colab_type": "text"
      },
      "source": [
        "Para hacer esto en una lista,necesitamos escribir un bucle for para filtrar la lista o usar una comprension en la lista:"
      ]
    },
    {
      "cell_type": "code",
      "metadata": {
        "id": "rIhnkqoJg287",
        "colab_type": "code",
        "colab": {
          "base_uri": "https://localhost:8080/",
          "height": 34
        },
        "outputId": "054007b7-1524-48b9-a566-e771596a7049"
      },
      "source": [
        "# Forma ineficiente\n",
        "pos = []\n",
        "for num in nums:\n",
        "  if num > 0:\n",
        "    pos.append(num)\n",
        "print(pos)"
      ],
      "execution_count": 74,
      "outputs": [
        {
          "output_type": "stream",
          "text": [
            "[8, 90, 43]\n"
          ],
          "name": "stdout"
        }
      ]
    },
    {
      "cell_type": "code",
      "metadata": {
        "id": "7vFSa9MEhObm",
        "colab_type": "code",
        "colab": {
          "base_uri": "https://localhost:8080/",
          "height": 34
        },
        "outputId": "b7bd347f-07d8-4925-862d-357ac531fd5d"
      },
      "source": [
        "# Mejor forma pero ineficiente aun\n",
        "pos = [num for num in nums if num > 0]\n",
        "print(pos)"
      ],
      "execution_count": 75,
      "outputs": [
        {
          "output_type": "stream",
          "text": [
            "[8, 90, 43]\n"
          ],
          "name": "stdout"
        }
      ]
    }
  ]
}