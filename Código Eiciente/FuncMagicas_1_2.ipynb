{
  "nbformat": 4,
  "nbformat_minor": 0,
  "metadata": {
    "colab": {
      "name": "FuncMagicas_1.2.ipynb",
      "provenance": [],
      "collapsed_sections": []
    },
    "kernelspec": {
      "name": "python3",
      "display_name": "Python 3"
    }
  },
  "cells": [
    {
      "cell_type": "markdown",
      "metadata": {
        "id": "1aagGPYmqZgj",
        "colab_type": "text"
      },
      "source": [
        "![texto alternativo](https://raw.githubusercontent.com/Chilangdon20/PYTHON/master/Curso%20Basico/CursoExpress/Imagenes/Logo.png)"
      ]
    },
    {
      "cell_type": "markdown",
      "metadata": {
        "id": "8q2GupE8YXf1",
        "colab_type": "text"
      },
      "source": [
        "# Tiempo de ejecución de nuestro código.\n",
        "\n",
        "## Introducción:\n",
        "\n",
        "Al reunir y a anlizar tiempos de ejecición de nuestro código ,podemos estar seguros de implementar el código que sea mas rapído y por lo tanto mucho mas eficiente.\n",
        "\n",
        "Para poder comparar los tiempos de ejecución,necesitamos poder calcular el tiempo de ejecución de una linea o varias líneas de código.\n",
        "\n",
        "Para hacer todo esto podemos usar comandos practicos que viene en IPython y nos ayudaran a cronometrar nuestro código.\n",
        "\n",
        "Los comandos mágicos son mejoras que se han agregado a la sintaxis normal de Python,estos comandos tienen el prefijo con el signo de %.\n",
        "\n",
        "A continuación veremos un ejemplo:\n",
        "\n",
        "Queremos inspeccionar el tiempo de ejecución para seleccionar 3000 numeros aleatorios entre cero y uno usando la funcion ``np.random.rand()``\n",
        "\n",
        "\n"
      ]
    },
    {
      "cell_type": "code",
      "metadata": {
        "id": "CNY9tBZ3YVnz",
        "colab_type": "code",
        "colab": {}
      },
      "source": [
        "import numpy as np\n",
        " \n",
        "rand_num = np.random.rand(3000)"
      ],
      "execution_count": null,
      "outputs": []
    },
    {
      "cell_type": "markdown",
      "metadata": {
        "id": "24vCxzaXaNy7",
        "colab_type": "text"
      },
      "source": [
        "Usando ``%timeit``  solo requerimos agregar este comando mágico antes de la linea de código que queremos analizar."
      ]
    },
    {
      "cell_type": "code",
      "metadata": {
        "id": "xd3Mt7idaDzU",
        "colab_type": "code",
        "colab": {
          "base_uri": "https://localhost:8080/",
          "height": 51
        },
        "outputId": "e5f74776-cfc8-48b5-c31b-4e3d413d88f7"
      },
      "source": [
        "%timeit rand_num = np.random.rand(3000)"
      ],
      "execution_count": null,
      "outputs": [
        {
          "output_type": "stream",
          "text": [
            "The slowest run took 7.45 times longer than the fastest. This could mean that an intermediate result is being cached.\n",
            "10000 loops, best of 3: 25.8 µs per loop\n"
          ],
          "name": "stdout"
        }
      ]
    },
    {
      "cell_type": "markdown",
      "metadata": {
        "id": "KZZaHP1galtj",
        "colab_type": "text"
      },
      "source": [
        "Una ventaja de utilizar este comando es que proporciona cierta información acerca de el proceso mas rapido  y mas tardado en cierto intervalo.\n",
        "\n",
        "\n",
        "``%timeit`` recorre el código proporcionando varias veces para estimar el tiempo de ejecución del código, esto proporciona una representación más precisa del tiempo de ejecución real, en lugar de depender de una sola iteración para calcular el tiempo de ejecución.\n",
        "\n",
        "## Especificando el numero de ejecuciones/loops\n",
        "\n",
        "El numero de ejecuciones representa cuantas iteraciones nos gustaria usar para estimar el tiempo de ejecución,por otro lado el numero de *bucles* representa cuántas veces deseamos que se ejecute nuestro código por ejecución.\n",
        "\n",
        "Podemos especificar el número de ejecuciones , utilizando el indicador ``-r``& el numero de bucles utilizando el indicador ``-n``."
      ]
    },
    {
      "cell_type": "code",
      "metadata": {
        "id": "qv21740aadHw",
        "colab_type": "code",
        "colab": {
          "base_uri": "https://localhost:8080/",
          "height": 51
        },
        "outputId": "34052fa1-50ce-4111-8674-8c9a13b9808a"
      },
      "source": [
        "# Seleccionamos el número de ejecuciones a 2 (-r2)\n",
        "# Seleccionamos el numero de loops a 10 (-n10)\n",
        "%timeit -r2 -n10 rand_num = np.random.rand(3000)"
      ],
      "execution_count": null,
      "outputs": [
        {
          "output_type": "stream",
          "text": [
            "The slowest run took 12.61 times longer than the fastest. This could mean that an intermediate result is being cached.\n",
            "10 loops, best of 2: 27.6 µs per loop\n"
          ],
          "name": "stdout"
        }
      ]
    },
    {
      "cell_type": "markdown",
      "metadata": {
        "id": "QOYPrbl6clZ3",
        "colab_type": "text"
      },
      "source": [
        "En este ejemplo ``%timeit``ejecutaría nuestra selección de números aleatorios 20 veces para estimar el tiempo de ejecución(2 ejecuciones cada una con 10 ejecuciones).\n",
        "\n",
        "Otra caractyeristica de ``%timeit``es que tiene la capacidad para ejecutarse en una o varias linenas de código."
      ]
    },
    {
      "cell_type": "code",
      "metadata": {
        "id": "mpwz_DXXcZzx",
        "colab_type": "code",
        "colab": {
          "base_uri": "https://localhost:8080/",
          "height": 51
        },
        "outputId": "d4077a23-ecbf-460b-a12f-dd41f84125c2"
      },
      "source": [
        "# Simple linea de código\n",
        "\n",
        "%timeit nums = [x for x in range(10)]"
      ],
      "execution_count": null,
      "outputs": [
        {
          "output_type": "stream",
          "text": [
            "The slowest run took 5.56 times longer than the fastest. This could mean that an intermediate result is being cached.\n",
            "1000000 loops, best of 3: 624 ns per loop\n"
          ],
          "name": "stdout"
        }
      ]
    },
    {
      "cell_type": "markdown",
      "metadata": {
        "id": "aVZ7aIN5dPgm",
        "colab_type": "text"
      },
      "source": [
        "Cuando se usamos ``%timeit`` en una sola linea s eusa un signo de porcentaje,de mismo modo podemos ejecutar ``%timeit``en multipes lineas de código utilizando dos signos de porecentaje, a continución un ejemplo."
      ]
    },
    {
      "cell_type": "code",
      "metadata": {
        "id": "yrOoEtB-dMez",
        "colab_type": "code",
        "colab": {
          "base_uri": "https://localhost:8080/",
          "height": 51
        },
        "outputId": "9b770ce1-4db7-4ef0-8744-b28d4aff0b77"
      },
      "source": [
        "#Mutiples lineas de código.\n",
        "\n",
        "%%timeit \n",
        " nums = []\n",
        " for x in range(10):\n",
        "   nums.append(x)"
      ],
      "execution_count": null,
      "outputs": [
        {
          "output_type": "stream",
          "text": [
            "The slowest run took 5.38 times longer than the fastest. This could mean that an intermediate result is being cached.\n",
            "1000000 loops, best of 3: 854 ns per loop\n"
          ],
          "name": "stdout"
        }
      ]
    },
    {
      "cell_type": "markdown",
      "metadata": {
        "id": "NO3AoE2id2kE",
        "colab_type": "text"
      },
      "source": [
        "Podemos guardar la salida de ``%timeit``en una variable usando el indicador ``-o``, esto nos permite profundizar en la salida y ver cosas como el tiempo para cada ejecución, el mejor momento para todas las ejecuciones y el peor momento para todas las ejecuciones."
      ]
    },
    {
      "cell_type": "code",
      "metadata": {
        "id": "YBhmmpHPdyHb",
        "colab_type": "code",
        "colab": {
          "base_uri": "https://localhost:8080/",
          "height": 51
        },
        "outputId": "436a0166-fd25-45d3-e64f-1788e9f6f97b"
      },
      "source": [
        "times = %timeit -o rand_num = np.random.rand(500)\n"
      ],
      "execution_count": null,
      "outputs": [
        {
          "output_type": "stream",
          "text": [
            "The slowest run took 47.99 times longer than the fastest. This could mean that an intermediate result is being cached.\n",
            "100000 loops, best of 3: 5.15 µs per loop\n"
          ],
          "name": "stdout"
        }
      ]
    },
    {
      "cell_type": "code",
      "metadata": {
        "id": "aPnctuBaeSfU",
        "colab_type": "code",
        "colab": {
          "base_uri": "https://localhost:8080/",
          "height": 34
        },
        "outputId": "9e1bae91-6925-4fb3-e636-6172e9a5e2c6"
      },
      "source": [
        "# Mejor momento para todas las ejecuciones\n",
        "times.best\n",
        "# Peor momento para todas las ejecucuiones.\n",
        "times.worst"
      ],
      "execution_count": null,
      "outputs": [
        {
          "output_type": "execute_result",
          "data": {
            "text/plain": [
              "0.0002469769999606797"
            ]
          },
          "metadata": {
            "tags": []
          },
          "execution_count": 13
        }
      ]
    },
    {
      "cell_type": "markdown",
      "metadata": {
        "id": "zgDTGaRZfbzm",
        "colab_type": "text"
      },
      "source": [
        "Ahor usaremos ``%timeit`` en algunas estructuras de datos integradas en Python, este lenguaje nos permite crear estructuras de datos usando un nombre formal o una taquigrafia llamada sintaxis literal."
      ]
    },
    {
      "cell_type": "code",
      "metadata": {
        "id": "-hD_SCoefHgq",
        "colab_type": "code",
        "colab": {}
      },
      "source": [
        "# Forma normal\n",
        "\n",
        "lista_formal = list()\n",
        "dic_formal = dict()\n",
        "tupla_formal = tuple()\n",
        "\n",
        "# Forma literal\n",
        "\n",
        "list_literal = []\n",
        "dic_literal = {}\n",
        "tupla_literal = ()"
      ],
      "execution_count": null,
      "outputs": []
    },
    {
      "cell_type": "markdown",
      "metadata": {
        "id": "M7DHqUuxgD0h",
        "colab_type": "text"
      },
      "source": [
        "Si nosotros quisieramos comparar el tiempo de ejecución entre crear un diccionario usando el nombre formal y crear un diccionario la sintaxis literal podriamos guardar la salida de los comando individuales %timeit como se muestra continuación."
      ]
    },
    {
      "cell_type": "code",
      "metadata": {
        "id": "5lPajMXhfUCw",
        "colab_type": "code",
        "colab": {
          "base_uri": "https://localhost:8080/",
          "height": 51
        },
        "outputId": "be5c2425-c3d7-40ec-f019-157e0bb2fa54"
      },
      "source": [
        "f_time = %timeit -o formal_dict = dict() "
      ],
      "execution_count": null,
      "outputs": [
        {
          "output_type": "stream",
          "text": [
            "The slowest run took 12.63 times longer than the fastest. This could mean that an intermediate result is being cached.\n",
            "10000000 loops, best of 3: 103 ns per loop\n"
          ],
          "name": "stdout"
        }
      ]
    },
    {
      "cell_type": "code",
      "metadata": {
        "id": "T3ZXE26Dj3o1",
        "colab_type": "code",
        "colab": {
          "base_uri": "https://localhost:8080/",
          "height": 34
        },
        "outputId": "26eaffe8-e0d5-4895-9e4a-4bf15f3a5ca9"
      },
      "source": [
        "l_time = %timeit -o literal_dict = {}"
      ],
      "execution_count": null,
      "outputs": [
        {
          "output_type": "stream",
          "text": [
            "10000000 loops, best of 3: 40 ns per loop\n"
          ],
          "name": "stdout"
        }
      ]
    },
    {
      "cell_type": "markdown",
      "metadata": {
        "id": "u76k6wMDkDAh",
        "colab_type": "text"
      },
      "source": [
        "Ahora ¿Que pasaria si queremos cronometrar una base de código grande o ver los tiempos de ejecución linea por linea dentro de una función?\n",
        "\n",
        "Para responder esta pregunta cubriremos un concepto llamado perfíl de código que nos permite analizar el código de manera más eficiente.La creación de perfiles de código es una técnica utilizada para descubrir cuánto tiempo y con que frecuencia se ejecutan varias partes de un programa.\n",
        "\n",
        "Nos enfocaremos en el parquete **line_profiler** para perfilar el tiempode ejecución de una función linea por linea.\n",
        "\n",
        "Es importante que debemos de instalar este paquete por separado , ya que no viene incluido."
      ]
    },
    {
      "cell_type": "code",
      "metadata": {
        "id": "0gX_54pXj-C0",
        "colab_type": "code",
        "colab": {
          "base_uri": "https://localhost:8080/",
          "height": 323
        },
        "outputId": "57bb6b99-b1ad-4e25-9b2c-b1bbf9ee39d2"
      },
      "source": [
        "pip install line_profiler"
      ],
      "execution_count": null,
      "outputs": [
        {
          "output_type": "stream",
          "text": [
            "Collecting line_profiler\n",
            "\u001b[?25l  Downloading https://files.pythonhosted.org/packages/d8/cc/4237472dd5c9a1a4079a89df7ba3d2924eed2696d68b91886743c728a9df/line_profiler-3.0.2-cp36-cp36m-manylinux2010_x86_64.whl (68kB)\n",
            "\r\u001b[K     |████▊                           | 10kB 16.0MB/s eta 0:00:01\r\u001b[K     |█████████▌                      | 20kB 3.0MB/s eta 0:00:01\r\u001b[K     |██████████████▎                 | 30kB 3.8MB/s eta 0:00:01\r\u001b[K     |███████████████████             | 40kB 4.1MB/s eta 0:00:01\r\u001b[K     |███████████████████████▉        | 51kB 3.4MB/s eta 0:00:01\r\u001b[K     |████████████████████████████▋   | 61kB 4.0MB/s eta 0:00:01\r\u001b[K     |████████████████████████████████| 71kB 2.9MB/s \n",
            "\u001b[?25hRequirement already satisfied: IPython in /usr/local/lib/python3.6/dist-packages (from line_profiler) (5.5.0)\n",
            "Requirement already satisfied: decorator in /usr/local/lib/python3.6/dist-packages (from IPython->line_profiler) (4.4.2)\n",
            "Requirement already satisfied: setuptools>=18.5 in /usr/local/lib/python3.6/dist-packages (from IPython->line_profiler) (49.1.0)\n",
            "Requirement already satisfied: prompt-toolkit<2.0.0,>=1.0.4 in /usr/local/lib/python3.6/dist-packages (from IPython->line_profiler) (1.0.18)\n",
            "Requirement already satisfied: traitlets>=4.2 in /usr/local/lib/python3.6/dist-packages (from IPython->line_profiler) (4.3.3)\n",
            "Requirement already satisfied: pickleshare in /usr/local/lib/python3.6/dist-packages (from IPython->line_profiler) (0.7.5)\n",
            "Requirement already satisfied: simplegeneric>0.8 in /usr/local/lib/python3.6/dist-packages (from IPython->line_profiler) (0.8.1)\n",
            "Requirement already satisfied: pexpect; sys_platform != \"win32\" in /usr/local/lib/python3.6/dist-packages (from IPython->line_profiler) (4.8.0)\n",
            "Requirement already satisfied: pygments in /usr/local/lib/python3.6/dist-packages (from IPython->line_profiler) (2.1.3)\n",
            "Requirement already satisfied: six>=1.9.0 in /usr/local/lib/python3.6/dist-packages (from prompt-toolkit<2.0.0,>=1.0.4->IPython->line_profiler) (1.12.0)\n",
            "Requirement already satisfied: wcwidth in /usr/local/lib/python3.6/dist-packages (from prompt-toolkit<2.0.0,>=1.0.4->IPython->line_profiler) (0.2.5)\n",
            "Requirement already satisfied: ipython-genutils in /usr/local/lib/python3.6/dist-packages (from traitlets>=4.2->IPython->line_profiler) (0.2.0)\n",
            "Requirement already satisfied: ptyprocess>=0.5 in /usr/local/lib/python3.6/dist-packages (from pexpect; sys_platform != \"win32\"->IPython->line_profiler) (0.6.0)\n",
            "Installing collected packages: line-profiler\n",
            "Successfully installed line-profiler-3.0.2\n"
          ],
          "name": "stdout"
        }
      ]
    },
    {
      "cell_type": "markdown",
      "metadata": {
        "id": "nIXroOw4l_wY",
        "colab_type": "text"
      },
      "source": [
        "Supongamos que tenemos una lista con nombres de personas y tambien tenemos sus alturas y pesos cargador como matrices NumPy. "
      ]
    },
    {
      "cell_type": "code",
      "metadata": {
        "id": "Mz4FBy5ll6TQ",
        "colab_type": "code",
        "colab": {}
      },
      "source": [
        "persona = [\"Fer\",\"Mariana\",\"Majo\"]\n",
        "alt = np.array([178.0,145.6,168.7])\n",
        "kg = np.array([78,65,47])"
      ],
      "execution_count": null,
      "outputs": []
    },
    {
      "cell_type": "markdown",
      "metadata": {
        "id": "Au0UCZJxmqcW",
        "colab_type": "text"
      },
      "source": [
        "También hemos desarrollado una función llamada convert_unid que convierte cada altura de las personas de centimetros a pulgadas y de kilogramos a libras."
      ]
    },
    {
      "cell_type": "code",
      "metadata": {
        "id": "5cgr39armmET",
        "colab_type": "code",
        "colab": {}
      },
      "source": [
        "def conver_unid(personas,altura,peso):\n",
        "    \n",
        "    pulg = [ht * 0.39379 for ht in altura]\n",
        "    libr = [kg * 2.20462 for kg in peso]\n",
        "\n",
        "    persona_data = {}\n",
        "\n",
        "    for i,personas in enumerate(persona):\n",
        "      persona_data[personas] = (pulg[i],libr[i])\n",
        "\n",
        "    return persona_data"
      ],
      "execution_count": null,
      "outputs": []
    },
    {
      "cell_type": "code",
      "metadata": {
        "id": "z7WdehARnuiD",
        "colab_type": "code",
        "colab": {
          "base_uri": "https://localhost:8080/",
          "height": 68
        },
        "outputId": "4880c00c-c3a7-4ed3-d939-a32795d267aa"
      },
      "source": [
        "conver_unid(persona,alt,kg)"
      ],
      "execution_count": null,
      "outputs": [
        {
          "output_type": "execute_result",
          "data": {
            "text/plain": [
              "{'Fer': (70.09461999999999, 171.96035999999998),\n",
              " 'Majo': (66.43237299999998, 103.61713999999999),\n",
              " 'Mariana': (57.335823999999995, 143.3003)}"
            ]
          },
          "metadata": {
            "tags": []
          },
          "execution_count": 30
        }
      ]
    },
    {
      "cell_type": "markdown",
      "metadata": {
        "id": "rXuX5jAZoATa",
        "colab_type": "text"
      },
      "source": [
        "Si quisieramos obtener un tiempo de ejcución estimado de esta función , podriamos usar ``%timeit``, peroesto solo nos daria el tiempo total de la ejecucción."
      ]
    },
    {
      "cell_type": "code",
      "metadata": {
        "id": "kbERqogQnyaj",
        "colab_type": "code",
        "colab": {
          "base_uri": "https://localhost:8080/",
          "height": 51
        },
        "outputId": "6cbaacfc-eba0-4816-df1e-ca345ce3f68b"
      },
      "source": [
        "%timeit conver_unid(persona,alt,kg)"
      ],
      "execution_count": null,
      "outputs": [
        {
          "output_type": "stream",
          "text": [
            "The slowest run took 7.02 times longer than the fastest. This could mean that an intermediate result is being cached.\n",
            "100000 loops, best of 3: 10.1 µs per loop\n"
          ],
          "name": "stdout"
        }
      ]
    },
    {
      "cell_type": "markdown",
      "metadata": {
        "id": "xJcwjyrWoPVi",
        "colab_type": "text"
      },
      "source": [
        "¿Que pasaria si quisiéramos ver cuánto tiempo tardó en ejecutarse cada línea dentro de la función?\n",
        "\n",
        "Podriamos usar ``%timeit``en cada linea pero esto es mucho trabajo manual y nada eficiente.En cambio podemos perfilar nuestra función con el paquete line_profiler.\n",
        "\n",
        "Primero cargemos nuestro paquete en el notebook:"
      ]
    },
    {
      "cell_type": "code",
      "metadata": {
        "id": "6LmAn4wzoOJW",
        "colab_type": "code",
        "colab": {}
      },
      "source": [
        "%load_ext line_profiler"
      ],
      "execution_count": null,
      "outputs": []
    },
    {
      "cell_type": "markdown",
      "metadata": {
        "id": "AVz4tWo8o--w",
        "colab_type": "text"
      },
      "source": [
        "Ahora usaremos el comando mágico ``%lprun`` hasta reunir tiempos de ejecución para lineas de código individuales dentro de nuestra función.\n",
        "\n",
        "``%lprun``usa una sintaxis especial, primero utilizamos ``-f``para indicar que nos gustaria perfilar una función,despues espeficicamos el nombre de la función que nos gustaria perfilar,**IMPORTANTE**,tengamos en cuenta que el nombre de la función se pasa sin parentesis.\n",
        "\n",
        "Finalmente proporcionamos la llamada función exacta que nos gustaria perfilar al incluir cualquier argumento que sea necesario:\n",
        "\n",
        "Este bloque de código nos proporciona una tabla bastante buena que resume las estadisticas de creación de perfiles."
      ]
    },
    {
      "cell_type": "code",
      "metadata": {
        "id": "awQL8Ihyo6Hb",
        "colab_type": "code",
        "colab": {}
      },
      "source": [
        "%lprun -f conver_unid conver_unid(persona,alt,kg)"
      ],
      "execution_count": null,
      "outputs": []
    },
    {
      "cell_type": "markdown",
      "metadata": {
        "id": "MbTCwFV-qVNZ",
        "colab_type": "text"
      },
      "source": [
        "Un enfoque basico para inspeccionar el consumo de memoria es usar el sistema de modulos incorporao de Python ``import sys``, este modulo contiene funciones especificas del sistema y cotiene un metodo que devuelve el tamano de un objeto en bytes.\n",
        "\n"
      ]
    },
    {
      "cell_type": "code",
      "metadata": {
        "id": "dLBpCSFAp8x_",
        "colab_type": "code",
        "colab": {
          "base_uri": "https://localhost:8080/",
          "height": 34
        },
        "outputId": "d5b59b88-c3ce-4d8c-973d-6e2ae5c479a3"
      },
      "source": [
        "import sys\n",
        "num_list = [*range(1000)]\n",
        "sys.getsizeof(num_list)"
      ],
      "execution_count": null,
      "outputs": [
        {
          "output_type": "execute_result",
          "data": {
            "text/plain": [
              "9112"
            ]
          },
          "metadata": {
            "tags": []
          },
          "execution_count": 1
        }
      ]
    },
    {
      "cell_type": "markdown",
      "metadata": {
        "id": "x6Qm9mpyr8zK",
        "colab_type": "text"
      },
      "source": [
        "Podemos observar que ``sys.getsizeof`` es una forma rapida y sucia de ver la dimension de un objeto."
      ]
    },
    {
      "cell_type": "code",
      "metadata": {
        "id": "Wm2-68_trRsI",
        "colab_type": "code",
        "colab": {
          "base_uri": "https://localhost:8080/",
          "height": 34
        },
        "outputId": "086a09fc-dcff-438d-f24f-57750cb60693"
      },
      "source": [
        "import numpy as np \n",
        "nums_np = np.array(range(1000))\n",
        "sys.getsizeof(nums_np)"
      ],
      "execution_count": null,
      "outputs": [
        {
          "output_type": "execute_result",
          "data": {
            "text/plain": [
              "8096"
            ]
          },
          "metadata": {
            "tags": []
          },
          "execution_count": 2
        }
      ]
    },
    {
      "cell_type": "markdown",
      "metadata": {
        "id": "B0eGivxBseSU",
        "colab_type": "text"
      },
      "source": [
        "Observemos que solo nos da la dimension de un objeto individual...pero Que pasaria si quisieramos inspeccionar la huella de memoria linea por linea de nuestro codigo?\n",
        "\n",
        "Tediamos que utilizar un perfilado de nuestro codigo para analizar la asignacion de memoria para cada linea de codigo en nuestra base de codigo.\n",
        "\n",
        "Usaremos el paquete ``memory_profiler`` que es muy similar a ``line_profiler``\n"
      ]
    },
    {
      "cell_type": "code",
      "metadata": {
        "id": "xjdBsmbLtZu2",
        "colab_type": "code",
        "colab": {
          "base_uri": "https://localhost:8080/",
          "height": 207
        },
        "outputId": "a2ca32b6-88c3-4bbd-a237-9518a7e9d2a7"
      },
      "source": [
        "# Instalamos le paquete\n",
        "pip install memory_profiler"
      ],
      "execution_count": null,
      "outputs": [
        {
          "output_type": "stream",
          "text": [
            "Collecting memory_profiler\n",
            "  Downloading https://files.pythonhosted.org/packages/f4/03/175d380294b2333b9b79c2f2aa235eb90ee95e3ddef644497a9455404312/memory_profiler-0.57.0.tar.gz\n",
            "Requirement already satisfied: psutil in /usr/local/lib/python3.6/dist-packages (from memory_profiler) (5.4.8)\n",
            "Building wheels for collected packages: memory-profiler\n",
            "  Building wheel for memory-profiler (setup.py) ... \u001b[?25l\u001b[?25hdone\n",
            "  Created wheel for memory-profiler: filename=memory_profiler-0.57.0-cp36-none-any.whl size=28992 sha256=7d99e3c35da02adb61d8cb79260986b6ec493d3f858f05e9bdc7d59b7ea80d0e\n",
            "  Stored in directory: /root/.cache/pip/wheels/74/20/b5/20964ef97be73d2c3a695c9cad7bccd96d1e3e737a8163861f\n",
            "Successfully built memory-profiler\n",
            "Installing collected packages: memory-profiler\n",
            "Successfully installed memory-profiler-0.57.0\n"
          ],
          "name": "stdout"
        }
      ]
    },
    {
      "cell_type": "code",
      "metadata": {
        "id": "nSW5ahiKtkSC",
        "colab_type": "code",
        "colab": {
          "base_uri": "https://localhost:8080/",
          "height": 102
        },
        "outputId": "de7074a8-bec8-46c2-9525-a71a0b0d22db"
      },
      "source": [
        "# Cargamos el paqete\n",
        "%load_ext memory_profiler\n",
        "\n",
        "# Corremos el paquete\n",
        "%mprun -f conver_unid conver_unid(persona,alt,kg)"
      ],
      "execution_count": null,
      "outputs": [
        {
          "output_type": "stream",
          "text": [
            "The memory_profiler extension is already loaded. To reload it, use:\n",
            "  %reload_ext memory_profiler\n",
            "ERROR: Could not find file <ipython-input-12-0ebf070adfcb>\n",
            "NOTE: %mprun can only be used on functions defined in physical files, and not in the IPython environment.\n",
            "\n"
          ],
          "name": "stdout"
        }
      ]
    },
    {
      "cell_type": "markdown",
      "metadata": {
        "id": "LnHpng_SuwZM",
        "colab_type": "text"
      },
      "source": [
        "Un inconveniente de usar %mprun es que cualquier funcion perfilada para el consumo de meoria dee definirse en un archivo e importarse, en otras palabras %mprun solo puede usarse en funciones definidas en archivos fisicos y no en la sesion de Python."
      ]
    }
  ]
}