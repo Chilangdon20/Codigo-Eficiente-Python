{
  "nbformat": 4,
  "nbformat_minor": 0,
  "metadata": {
    "colab": {
      "name": "PandasBaseball_1_4.ipynb",
      "provenance": [],
      "collapsed_sections": []
    },
    "kernelspec": {
      "name": "python3",
      "display_name": "Python 3"
    }
  },
  "cells": [
    {
      "cell_type": "markdown",
      "metadata": {
        "id": "w1I6Td7mQB58",
        "colab_type": "text"
      },
      "source": [
        "![texto alternativo](https://raw.githubusercontent.com/Chilangdon20/PYTHON/master/Curso%20Basico/CursoExpress/Imagenes/PANDAS.jpg)"
      ]
    },
    {
      "cell_type": "markdown",
      "metadata": {
        "id": "iv4FuiGA6vnI",
        "colab_type": "text"
      },
      "source": [
        "# Optimización Basica en Pandas.\n",
        "\n",
        "## Introdución:\n",
        "\n",
        "Hasta ahora nos hemos centrado en las estructuras de datos integradas en Python,ahora cambiaremos de marcha y nos centraremos en una de las heramientas de análisis de datos más populares: El PANDAS DATAFRAME.\n",
        "\n",
        "Cabe mencionar que es necesario que estes familizarizado con Pandas antes de continuar, de lo contrario te recomiendo estudiar un poco acerca de esta libreria.\n",
        "\n",
        "Recordemos que pandas es una biblioteca utilizada para el análisis de datos, la construcción principal de pandas es el *DataFrame* , una estructura de datos tabular y con filas y columnas etiquetadas.\n",
        "\n",
        "En esta lectura nos centraremos en los mejores enfoques para iterar sobre un DataFrame.\n",
        " \n",
        "Comencemos analizando un conjunto de datos de Major League Baseball,el dataset contiene estadisticas del equipo para cada equipo de Major League Baseball del año 1962 a 2012.\n",
        "\n",
        "La columna de equipo es el nombre abreviado de cada equipo de béisbol, el mprimer equipo representa a los Dimondbacks de Arizona(ARI),todas las columnas de este dataframe representan estadísticas especifícas para cada equipo en un año o temporada determinados.\n",
        "\n",
        "Por ahora nos centraremos en la columna W , que especifica la cantdad de victorias que tuvo un equipo y la columna G que contiene la cantidad de juegos que un equipo jugo en una temporada."
      ]
    },
    {
      "cell_type": "code",
      "metadata": {
        "id": "lBBMeJvh6ml9",
        "colab_type": "code",
        "colab": {}
      },
      "source": [
        "import pandas as pd\n",
        "data = pd.read_csv(\"https://assets.datacamp.com/production/repositories/3581/datasets/779033fb8fb5021aee9ff46253980abcbc5851f3/baseball_stats.csv\")"
      ],
      "execution_count": 2,
      "outputs": []
    },
    {
      "cell_type": "code",
      "metadata": {
        "id": "oPOCwjtJ8hc4",
        "colab_type": "code",
        "colab": {
          "base_uri": "https://localhost:8080/",
          "height": 153
        },
        "outputId": "9057a621-4923-40b4-df13-0ee1506f5886"
      },
      "source": [
        "print(data.head())"
      ],
      "execution_count": null,
      "outputs": [
        {
          "output_type": "stream",
          "text": [
            "  Team League  Year   RS   RA  ...  RankSeason  RankPlayoffs    G   OOBP   OSLG\n",
            "0  ARI     NL  2012  734  688  ...         NaN           NaN  162  0.317  0.415\n",
            "1  ATL     NL  2012  700  600  ...         4.0           5.0  162  0.306  0.378\n",
            "2  BAL     AL  2012  712  705  ...         5.0           4.0  162  0.315  0.403\n",
            "3  BOS     AL  2012  734  806  ...         NaN           NaN  162  0.331  0.428\n",
            "4  CHC     NL  2012  613  759  ...         NaN           NaN  162  0.335  0.424\n",
            "\n",
            "[5 rows x 15 columns]\n"
          ],
          "name": "stdout"
        }
      ]
    },
    {
      "cell_type": "code",
      "metadata": {
        "id": "OM1_GCSJ8pa_",
        "colab_type": "code",
        "colab": {
          "base_uri": "https://localhost:8080/",
          "height": 51
        },
        "outputId": "1597fa7c-a6db-4bda-b1f9-79ae4a03ae88"
      },
      "source": [
        "# Observamos todos los nombres de las columnas\n",
        "print(data.columns.values)"
      ],
      "execution_count": null,
      "outputs": [
        {
          "output_type": "stream",
          "text": [
            "['Team' 'League' 'Year' 'RS' 'RA' 'W' 'OBP' 'SLG' 'BA' 'Playoffs'\n",
            " 'RankSeason' 'RankPlayoffs' 'G' 'OOBP' 'OSLG']\n"
          ],
          "name": "stdout"
        }
      ]
    },
    {
      "cell_type": "markdown",
      "metadata": {
        "id": "PiBqtiYY-w2Q",
        "colab_type": "text"
      },
      "source": [
        "Una estadistica popular utilizada para evaluar el rendimiento de un equipo para una temporada determinada es el porcentaje de victorias del equipo, esta métrica se calcula dividiendo las victorias totales de un equipo por el número de juegos jugados,para esto haremos una simple función para realizar este cálculo."
      ]
    },
    {
      "cell_type": "code",
      "metadata": {
        "id": "BDm2w_5R-Jaa",
        "colab_type": "code",
        "colab": {}
      },
      "source": [
        "import numpy as np\n",
        "\n",
        "def calc_vict_porc(vict,juegos_jugados):\n",
        "\n",
        "  vict_porcentaje = vict / juegos_jugados\n",
        "\n",
        "  return np.round(vict_porcentaje,2)"
      ],
      "execution_count": 4,
      "outputs": []
    },
    {
      "cell_type": "markdown",
      "metadata": {
        "id": "VfCKXrDq_-JT",
        "colab_type": "text"
      },
      "source": [
        "Si un equipo gana 50 de cada 100 juegos , vemos que nuestra función retorna el resultado correcto."
      ]
    },
    {
      "cell_type": "code",
      "metadata": {
        "id": "bwh3xPO6_t48",
        "colab_type": "code",
        "colab": {
          "base_uri": "https://localhost:8080/",
          "height": 34
        },
        "outputId": "d5d1c3a1-3e65-4b48-ae65-2fd271d95729"
      },
      "source": [
        "vict_porce = calc_vict_porc(50,100)\n",
        "print(vict_porce)"
      ],
      "execution_count": null,
      "outputs": [
        {
          "output_type": "stream",
          "text": [
            "0.5\n"
          ],
          "name": "stdout"
        }
      ]
    },
    {
      "cell_type": "markdown",
      "metadata": {
        "id": "9IOro42iAJrG",
        "colab_type": "text"
      },
      "source": [
        "Nos gustaria crear una nueva columna a nuestro DataFrame ``data`` que almacene el porcentaje de victorias de cada equipo durante una temporada, para hacer esto necesitaremos iterar sobre las filas del dataframe y aplicar nuestra función creada anteriormente.\n",
        "\n",
        "Primero creamos una lista vacia para almacenar todos los porcentajes de victorias que calcularemos , despues escribiremos un loop que iterará sobre cada fia del DataFrame.\n",
        "\n",
        "\n",
        "**IMPORTANTE** veanos que estamos usando una variable de indice *i* que varia desde cero hasta el número de filas que existen dentro del DataFrame.\n",
        "\n",
        "Luego usaoms el método ``.iloc`` para buscar cada fila individual dentro del dataframe usando la variable del índice.\n",
        "\n",
        "Ahora tomaremos las victorias y los juegos de cada equipo haciendo referencia a las columnas ``W`` & ``G``.Despues pasamos las victorias y los juegos del equipo a nuestra lista vacia para calculas los porcentajes de victorias.\n",
        "\n",
        "Finalmente ,agregamos a nuestra lista ``.append()``y continuamos el ciclo.\n",
        "\n",
        "Creamos nuestra columna deseada  en el DataFrame llamada ``WP``, estableciendo el valor de la columna igual a ``vict_poc_list``"
      ]
    },
    {
      "cell_type": "code",
      "metadata": {
        "id": "dk8M3G4v_8xO",
        "colab_type": "code",
        "colab": {}
      },
      "source": [
        "vict_poc_list = []\n",
        "\n",
        "for i in range(len(data)):\n",
        "\n",
        "  row = data.iloc[i]\n",
        "\n",
        "  vict = row['W']\n",
        "  juegos_jugados = row['G']\n",
        "\n",
        "  vict_porc = calc_vict_porc(vict,juegos_jugados)\n",
        "\n",
        "  vict_poc_list.append(vict_porc)\n",
        "\n",
        "data['WP'] = vict_poc_list"
      ],
      "execution_count": null,
      "outputs": []
    },
    {
      "cell_type": "code",
      "metadata": {
        "id": "tXsYQ4HGDbLd",
        "colab_type": "code",
        "colab": {
          "base_uri": "https://localhost:8080/",
          "height": 153
        },
        "outputId": "64496d66-da4f-4496-b1f5-288a22884044"
      },
      "source": [
        "print(data.head())"
      ],
      "execution_count": null,
      "outputs": [
        {
          "output_type": "stream",
          "text": [
            "  Team League  Year   RS   RA  ...  RankPlayoffs    G   OOBP   OSLG    WP\n",
            "0  ARI     NL  2012  734  688  ...           NaN  162  0.317  0.415  0.50\n",
            "1  ATL     NL  2012  700  600  ...           5.0  162  0.306  0.378  0.58\n",
            "2  BAL     AL  2012  712  705  ...           4.0  162  0.315  0.403  0.57\n",
            "3  BOS     AL  2012  734  806  ...           NaN  162  0.331  0.428  0.43\n",
            "4  CHC     NL  2012  613  759  ...           NaN  162  0.335  0.424  0.38\n",
            "\n",
            "[5 rows x 16 columns]\n"
          ],
          "name": "stdout"
        }
      ]
    },
    {
      "cell_type": "markdown",
      "metadata": {
        "id": "7RJ1XbrxDfTA",
        "colab_type": "text"
      },
      "source": [
        "Al imprimir las cinco filas de nuestro DataFrame , vemos que ahora aparece la columna de porcentaje de victorias.\n",
        "\n",
        "Recorres el dataframe con ``.iloc`` nos dio el resultado deseado pero... ¿ Es eficiente?\n"
      ]
    },
    {
      "cell_type": "code",
      "metadata": {
        "id": "usop1xA4DdXn",
        "colab_type": "code",
        "colab": {
          "base_uri": "https://localhost:8080/",
          "height": 34
        },
        "outputId": "316bcf46-b86c-4253-8e2e-592b9db7a8c6"
      },
      "source": [
        "%%timeit\n",
        "vict_poc_list = []\n",
        "\n",
        "for i in range(len(data)):\n",
        "\n",
        "  row = data.iloc[i]\n",
        "\n",
        "  vict = row['W']\n",
        "  juegos_jugados = row['G']\n",
        "\n",
        "  vict_porc = calc_vict_porc(vict,juegos_jugados)\n",
        "\n",
        "  vict_poc_list.append(vict_porc)\n",
        "\n",
        "data['WP'] = vict_poc_list"
      ],
      "execution_count": null,
      "outputs": [
        {
          "output_type": "stream",
          "text": [
            "1 loop, best of 3: 273 ms per loop\n"
          ],
          "name": "stdout"
        }
      ]
    },
    {
      "cell_type": "markdown",
      "metadata": {
        "id": "Tp0qe6txD_0i",
        "colab_type": "text"
      },
      "source": [
        "Al estimar el tiempo de ejecución , ``.iloc`` tomo 273 milisegundos , lo cual es bastante ineficiente.Pero no todo esta perdido ya que panda viene con algunos métodoe eficientes para recorrer un DataFrame.\n",
        "\n",
        "El primer método que analizaremos sera el método ``.iterrows()``.\n",
        "\n",
        "## ``.iterrows()``\n",
        "\n",
        "Este método es similar al metodo ``.iloc()``, pero ``.iterrows()`` devuelve cada fila del DatafFrame como una tupla de pares, esto significa que cada objeto devuelto por ``.iterrows()``contiene el indice de cada fila como el mprimer elemento y los datos en cada fila como una serie de pandas como el segundo elemento."
      ]
    },
    {
      "cell_type": "code",
      "metadata": {
        "id": "tMO9Gl5_D8O-",
        "colab_type": "code",
        "colab": {}
      },
      "source": [
        "vict_porcent_lista = []\n",
        "for i,row in data.iterrows():"
      ],
      "execution_count": null,
      "outputs": []
    },
    {
      "cell_type": "markdown",
      "metadata": {
        "id": "t1QwGyzDH0R9",
        "colab_type": "text"
      },
      "source": [
        "Veamos que ya creamos la lista vacia pero ahora tenemos que crear una variable de indice para buscar cada fila dentro del DataFrame, afortunadamente ``.iterrows()``maneja la indexación por nosotros, el resto del ciclo permanece exatcamente igual que el anterior."
      ]
    },
    {
      "cell_type": "code",
      "metadata": {
        "id": "QlQAg9LAIMnh",
        "colab_type": "code",
        "colab": {}
      },
      "source": [
        "vict_porcent_lista = []\n",
        "\n",
        "for i,row in data.iterrows():\n",
        "\n",
        "   vict = row['W']\n",
        "   juegos_jugados = row['G']\n",
        "\n",
        "   vict_porc = calc_vict_porc(vict, juegos_jugados)\n",
        "\n",
        "   vict_porcent_lista.append(vict_porc)\n",
        "\n",
        "data['WP'] = vict_porcent_lista"
      ],
      "execution_count": null,
      "outputs": []
    },
    {
      "cell_type": "code",
      "metadata": {
        "id": "XINnuz0dPuiV",
        "colab_type": "code",
        "colab": {
          "base_uri": "https://localhost:8080/",
          "height": 54
        },
        "outputId": "a997f787-80ab-436a-9a43-28241668e25c"
      },
      "source": [
        "print(vict_porcent_lista)"
      ],
      "execution_count": null,
      "outputs": [
        {
          "output_type": "stream",
          "text": [
            "[0.5, 0.58, 0.57, 0.43, 0.38, 0.52, 0.6, 0.42, 0.4, 0.54, 0.34, 0.44, 0.55, 0.53, 0.43, 0.51, 0.41, 0.46, 0.59, 0.58, 0.5, 0.49, 0.47, 0.46, 0.58, 0.54, 0.56, 0.57, 0.45, 0.6, 0.58, 0.55, 0.43, 0.56, 0.44, 0.49, 0.49, 0.49, 0.45, 0.59, 0.44, 0.35, 0.44, 0.53, 0.51, 0.59, 0.39, 0.48, 0.6, 0.46, 0.63, 0.44, 0.44, 0.41, 0.53, 0.56, 0.56, 0.59, 0.5, 0.5, 0.4, 0.56, 0.41, 0.55, 0.46, 0.54, 0.56, 0.43, 0.51, 0.5, 0.49, 0.47, 0.41, 0.49, 0.49, 0.48, 0.58, 0.49, 0.59, 0.5, 0.6, 0.35, 0.56, 0.38, 0.57, 0.53, 0.59, 0.56, 0.52, 0.43, 0.43, 0.53, 0.4, 0.59, 0.52, 0.49, 0.48, 0.4, 0.57, 0.53, 0.54, 0.46, 0.4, 0.6, 0.59, 0.49, 0.53, 0.43, 0.64, 0.46, 0.57, 0.39, 0.46, 0.52, 0.54, 0.56, 0.52, 0.54, 0.46, 0.36, 0.51, 0.44, 0.42, 0.59, 0.6, 0.55, 0.46, 0.5, 0.46, 0.46, 0.52, 0.53, 0.46, 0.62, 0.52, 0.56, 0.54, 0.55, 0.55, 0.47, 0.57, 0.41, 0.39, 0.38, 0.44, 0.53, 0.6, 0.49, 0.53, 0.37, 0.56, 0.52, 0.43, 0.59, 0.52, 0.44, 0.44, 0.59, 0.55, 0.54, 0.44, 0.45, 0.43, 0.58, 0.51, 0.51, 0.49, 0.54, 0.58, 0.47, 0.55, 0.42, 0.55, 0.54, 0.44, 0.48, 0.41, 0.46, 0.51, 0.45, 0.47, 0.49, 0.43, 0.53, 0.41, 0.56, 0.49, 0.48, 0.47, 0.59, 0.48, 0.51, 0.38, 0.55, 0.54, 0.46, 0.59, 0.6, 0.6, 0.57, 0.52, 0.41, 0.54, 0.48, 0.47, 0.52, 0.38, 0.49, 0.54, 0.44, 0.48, 0.56, 0.46, 0.59, 0.49, 0.61, 0.45, 0.57, 0.41, 0.44, 0.51, 0.55, 0.35, 0.59, 0.44, 0.5, 0.51, 0.51, 0.59, 0.54, 0.54, 0.41, 0.51, 0.43, 0.46, 0.62, 0.41, 0.49, 0.49, 0.5, 0.57, 0.31, 0.59, 0.48, 0.6, 0.55, 0.51, 0.47, 0.49, 0.42, 0.44, 0.51, 0.57, 0.36, 0.57, 0.42, 0.57, 0.41, 0.44, 0.62, 0.56, 0.53, 0.45, 0.54, 0.39, 0.56, 0.65, 0.43, 0.55, 0.42, 0.48, 0.52, 0.62, 0.44, 0.59, 0.54, 0.53, 0.43, 0.42, 0.46, 0.27, 0.56, 0.54, 0.51, 0.52, 0.42, 0.56, 0.51, 0.41, 0.62, 0.59, 0.53, 0.46, 0.4, 0.57, 0.62, 0.52, 0.39, 0.44, 0.53, 0.61, 0.6, 0.63, 0.41, 0.57, 0.41, 0.5, 0.48, 0.46, 0.45, 0.34, 0.49, 0.52, 0.38, 0.57, 0.35, 0.58, 0.51, 0.47, 0.64, 0.64, 0.5, 0.45, 0.41, 0.57, 0.59, 0.6, 0.34, 0.44, 0.48, 0.46, 0.57, 0.54, 0.39, 0.51, 0.54, 0.51, 0.41, 0.56, 0.45, 0.41, 0.47, 0.57, 0.4, 0.53, 0.42, 0.52, 0.42, 0.51, 0.59, 0.63, 0.53, 0.38, 0.49, 0.72, 0.56, 0.57, 0.38, 0.45, 0.49, 0.51, 0.52, 0.59, 0.46, 0.52, 0.4, 0.59, 0.52, 0.56, 0.51, 0.49, 0.49, 0.44, 0.48, 0.53, 0.45, 0.43, 0.41, 0.58, 0.54, 0.57, 0.4, 0.43, 0.47, 0.56, 0.6, 0.59, 0.43, 0.44, 0.51, 0.43, 0.62, 0.64, 0.48, 0.58, 0.41, 0.46, 0.59, 0.6, 0.44, 0.43, 0.4, 0.6, 0.4, 0.48, 0.46, 0.39, 0.42, 0.6, 0.6, 0.54, 0.48, 0.48, 0.46, 0.49, 0.53, 0.47, 0.43, 0.59, 0.52, 0.52, 0.4, 0.65, 0.49, 0.57, 0.55, 0.49, 0.48, 0.55, 0.48, 0.4, 0.33, 0.63, 0.45, 0.51, 0.46, 0.43, 0.4, 0.54, 0.7, 0.46, 0.46, 0.42, 0.6, 0.47, 0.55, 0.51, 0.39, 0.54, 0.54, 0.52, 0.62, 0.6, 0.48, 0.42, 0.5, 0.47, 0.53, 0.51, 0.49, 0.57, 0.52, 0.42, 0.54, 0.48, 0.42, 0.48, 0.54, 0.59, 0.4, 0.42, 0.49, 0.47, 0.56, 0.56, 0.45, 0.48, 0.47, 0.59, 0.54, 0.52, 0.43, 0.47, 0.52, 0.5, 0.61, 0.51, 0.33, 0.49, 0.51, 0.47, 0.56, 0.49, 0.48, 0.54, 0.44, 0.57, 0.48, 0.41, 0.45, 0.56, 0.53, 0.42, 0.54, 0.55, 0.46, 0.64, 0.52, 0.49, 0.44, 0.52, 0.58, 0.45, 0.47, 0.41, 0.52, 0.4, 0.52, 0.52, 0.5, 0.43, 0.44, 0.58, 0.36, 0.54, 0.42, 0.6, 0.46, 0.38, 0.51, 0.64, 0.54, 0.53, 0.59, 0.6, 0.55, 0.45, 0.44, 0.48, 0.53, 0.56, 0.47, 0.46, 0.5, 0.44, 0.39, 0.57, 0.56, 0.54, 0.44, 0.47, 0.59, 0.43, 0.59, 0.51, 0.4, 0.44, 0.51, 0.48, 0.59, 0.58, 0.41, 0.52, 0.5, 0.48, 0.54, 0.46, 0.35, 0.52, 0.4, 0.51, 0.57, 0.51, 0.59, 0.44, 0.48, 0.44, 0.52, 0.48, 0.6, 0.52, 0.51, 0.46, 0.52, 0.52, 0.56, 0.4, 0.47, 0.54, 0.49, 0.48, 0.58, 0.56, 0.48, 0.49, 0.46, 0.47, 0.53, 0.46, 0.46, 0.52, 0.56, 0.41, 0.64, 0.48, 0.59, 0.46, 0.48, 0.52, 0.43, 0.51, 0.53, 0.39, 0.54, 0.51, 0.56, 0.57, 0.43, 0.46, 0.45, 0.36, 0.53, 0.57, 0.48, 0.5, 0.49, 0.5, 0.54, 0.46, 0.61, 0.41, 0.45, 0.55, 0.45, 0.57, 0.52, 0.51, 0.55, 0.34, 0.34, 0.55, 0.46, 0.47, 0.44, 0.54, 0.48, 0.54, 0.51, 0.52, 0.58, 0.54, 0.56, 0.5, 0.62, 0.53, 0.64, 0.4, 0.53, 0.52, 0.42, 0.51, 0.47, 0.43, 0.54, 0.43, 0.41, 0.48, 0.46, 0.47, 0.48, 0.52, 0.38, 0.6, 0.47, 0.51, 0.45, 0.56, 0.52, 0.56, 0.57, 0.55, 0.5, 0.49, 0.49, 0.4, 0.48, 0.56, 0.59, 0.46, 0.59, 0.45, 0.45, 0.59, 0.57, 0.44, 0.44, 0.53, 0.52, 0.54, 0.59, 0.47, 0.45, 0.48, 0.44, 0.48, 0.67, 0.56, 0.47, 0.53, 0.4, 0.46, 0.41, 0.51, 0.49, 0.54, 0.53, 0.41, 0.52, 0.5, 0.56, 0.48, 0.52, 0.55, 0.37, 0.52, 0.51, 0.56, 0.59, 0.44, 0.48, 0.52, 0.6, 0.6, 0.48, 0.46, 0.35, 0.51, 0.46, 0.38, 0.62, 0.39, 0.61, 0.49, 0.52, 0.53, 0.5, 0.6, 0.46, 0.43, 0.46, 0.64, 0.49, 0.52, 0.49, 0.42, 0.5, 0.48, 0.56, 0.54, 0.48, 0.5, 0.46, 0.57, 0.46, 0.41, 0.52, 0.43, 0.55, 0.54, 0.6, 0.48, 0.43, 0.44, 0.61, 0.46, 0.43, 0.57, 0.52, 0.48, 0.56, 0.54, 0.43, 0.5, 0.42, 0.56, 0.46, 0.55, 0.52, 0.5, 0.37, 0.49, 0.49, 0.47, 0.55, 0.55, 0.58, 0.55, 0.57, 0.45, 0.54, 0.38, 0.48, 0.51, 0.48, 0.56, 0.54, 0.58, 0.37, 0.53, 0.4, 0.49, 0.42, 0.55, 0.52, 0.5, 0.47, 0.54, 0.57, 0.4, 0.48, 0.5, 0.62, 0.52, 0.41, 0.4, 0.43, 0.55, 0.49, 0.52, 0.57, 0.6, 0.56, 0.53, 0.48, 0.56, 0.41, 0.64, 0.51, 0.56, 0.51, 0.45, 0.36, 0.47, 0.46, 0.47, 0.41, 0.41, 0.64, 0.57, 0.54, 0.49, 0.46, 0.56, 0.5, 0.52, 0.55, 0.52, 0.49, 0.59, 0.51, 0.59, 0.39, 0.56, 0.33, 0.52, 0.6, 0.42, 0.41, 0.44, 0.53, 0.51, 0.33, 0.43, 0.56, 0.61, 0.54, 0.49, 0.44, 0.57, 0.43, 0.53, 0.46, 0.57, 0.59, 0.57, 0.45, 0.47, 0.41, 0.61, 0.43, 0.56, 0.55, 0.52, 0.35, 0.55, 0.43, 0.54, 0.37, 0.38, 0.6, 0.6, 0.46, 0.5, 0.56, 0.54, 0.44, 0.46, 0.5, 0.63, 0.6, 0.41, 0.52, 0.46, 0.4, 0.62, 0.39, 0.62, 0.59, 0.43, 0.4, 0.46, 0.51, 0.58, 0.34, 0.43, 0.54, 0.51, 0.47, 0.46, 0.4, 0.63, 0.51, 0.46, 0.49, 0.56, 0.57, 0.41, 0.52, 0.34, 0.53, 0.61, 0.54, 0.62, 0.57, 0.45, 0.46, 0.44, 0.47, 0.42, 0.57, 0.59, 0.45, 0.46, 0.47, 0.67, 0.5, 0.36, 0.4, 0.56, 0.54, 0.42, 0.48, 0.46, 0.51, 0.52, 0.6, 0.53, 0.57, 0.44, 0.5, 0.5, 0.49, 0.54, 0.56, 0.52, 0.42, 0.41, 0.49, 0.6, 0.48, 0.44, 0.5, 0.48, 0.63, 0.47, 0.5, 0.49, 0.44, 0.55, 0.56, 0.49, 0.54, 0.37, 0.44, 0.53, 0.52, 0.47, 0.6, 0.55, 0.49, 0.48, 0.48, 0.61, 0.44, 0.52, 0.51, 0.54, 0.59, 0.46, 0.5, 0.49, 0.51, 0.49, 0.58, 0.44, 0.49, 0.37, 0.54, 0.5, 0.35, 0.51, 0.64, 0.52, 0.47, 0.51, 0.49, 0.49, 0.37, 0.56, 0.49, 0.53, 0.55, 0.43, 0.46, 0.44, 0.51, 0.5, 0.63, 0.41, 0.6, 0.38, 0.56, 0.55, 0.4, 0.47, 0.67, 0.54, 0.53, 0.52, 0.35, 0.63, 0.47, 0.49, 0.49, 0.4, 0.54, 0.4, 0.6, 0.45, 0.51, 0.57, 0.55, 0.45, 0.55, 0.39, 0.53, 0.47, 0.43, 0.57, 0.67, 0.54, 0.44, 0.56, 0.42, 0.55, 0.39, 0.56, 0.5, 0.42, 0.52, 0.6, 0.32, 0.62, 0.49, 0.54, 0.39, 0.54, 0.32, 0.39, 0.56, 0.54, 0.53, 0.5, 0.56, 0.53, 0.41, 0.52, 0.41, 0.51, 0.53, 0.63, 0.44, 0.47, 0.49, 0.45, 0.51, 0.5, 0.47, 0.49, 0.54, 0.6, 0.4, 0.48, 0.47, 0.57, 0.52, 0.54, 0.55, 0.54, 0.46, 0.56, 0.43, 0.39, 0.45, 0.55, 0.38, 0.44, 0.51, 0.5, 0.56, 0.63, 0.47, 0.52, 0.61, 0.44, 0.49, 0.36, 0.51, 0.48, 0.5, 0.54, 0.44, 0.46, 0.59, 0.55, 0.41, 0.44, 0.54, 0.57, 0.58, 0.51, 0.45, 0.58, 0.38, 0.46, 0.44, 0.59, 0.55, 0.54, 0.55, 0.4, 0.36, 0.6, 0.63, 0.53, 0.3, 0.48, 0.52, 0.55, 0.58, 0.49, 0.43, 0.6, 0.44, 0.47, 0.6, 0.56, 0.48, 0.52, 0.41, 0.35, 0.51, 0.49, 0.48, 0.54, 0.33, 0.6, 0.57, 0.49, 0.56, 0.57, 0.38, 0.53, 0.47, 0.51, 0.58, 0.53, 0.49, 0.49, 0.41, 0.45, 0.43, 0.61, 0.57, 0.52, 0.31, 0.65, 0.54, 0.46, 0.54, 0.57, 0.35, 0.48, 0.48, 0.36, 0.52, 0.6, 0.49, 0.53, 0.4, 0.44, 0.53, 0.62, 0.56, 0.53, 0.25, 0.59, 0.5, 0.58, 0.62, 0.52, 0.37]\n"
          ],
          "name": "stdout"
        }
      ]
    },
    {
      "cell_type": "markdown",
      "metadata": {
        "id": "QZkIvE3TJR8S",
        "colab_type": "text"
      },
      "source": [
        "Podemos observar en la siguiente linea de código que el uso de ``.iterrows()``lleva aproximadamente la mitas de tiempo que ``.iloc()`` para iterar sobre nuestros datos."
      ]
    },
    {
      "cell_type": "code",
      "metadata": {
        "id": "ecuiHKn1IXCa",
        "colab_type": "code",
        "colab": {
          "base_uri": "https://localhost:8080/",
          "height": 34
        },
        "outputId": "2dda6f63-07b7-4914-c53e-d152ae00f6ed"
      },
      "source": [
        "%%timeit\n",
        "vict_porcent_lista = []\n",
        "\n",
        "for i,row in data.iterrows():\n",
        "\n",
        "   vict = row['W']\n",
        "   juegos_jugados = row['G']\n",
        "\n",
        "   vict_porc = calc_vict_porc(vict, juegos_jugados)\n",
        "\n",
        "   vict_porcent_lista.append(vict_porc)\n",
        "\n",
        "data['WP'] = vict_porcent_lista"
      ],
      "execution_count": null,
      "outputs": [
        {
          "output_type": "stream",
          "text": [
            "10 loops, best of 3: 154 ms per loop\n"
          ],
          "name": "stdout"
        }
      ]
    },
    {
      "cell_type": "markdown",
      "metadata": {
        "id": "ouPX62UaLxW8",
        "colab_type": "text"
      },
      "source": [
        "\n",
        "\n",
        "---\n",
        "\n",
        "\n",
        "\n",
        "---\n",
        "\n"
      ]
    },
    {
      "cell_type": "markdown",
      "metadata": {
        "id": "X0ih0S9TMc5V",
        "colab_type": "text"
      },
      "source": [
        "# Metodo ``itertuples()``\n",
        "\n",
        "Anteriormente , cubrimos cómo iterar sobre un DataFrame de pandas fila por fila usando el metodo ``.iterrows()`` , pandas también viene con un método de iteraciónn similas llamado ``.itertuples()``.\n",
        "\n",
        "Supongamos que tenemos un DataFrame de pandas llamado team_wins_df que contiene las victoria totales de cada equipo en una temporada."
      ]
    },
    {
      "cell_type": "code",
      "metadata": {
        "id": "mOKv9RbJLyGY",
        "colab_type": "code",
        "colab": {
          "base_uri": "https://localhost:8080/",
          "height": 119
        },
        "outputId": "f3432ef7-5932-4832-c5c9-dac02a43a439"
      },
      "source": [
        "#Seleccionamos las columnas que necesitamos\n",
        "team_winds_df = data.loc[:,['Team','Year','W']]\n",
        "\n",
        "print(team_winds_df.head())"
      ],
      "execution_count": null,
      "outputs": [
        {
          "output_type": "stream",
          "text": [
            "  Team  Year   W\n",
            "0  ARI  2012  81\n",
            "1  ATL  2012  94\n",
            "2  BAL  2012  93\n",
            "3  BOS  2012  69\n",
            "4  CHC  2012  61\n"
          ],
          "name": "stdout"
        }
      ]
    },
    {
      "cell_type": "markdown",
      "metadata": {
        "id": "-W_EN8lzN_fd",
        "colab_type": "text"
      },
      "source": [
        "Si usamos ``.iterrows()`` para recorrer nuestro DataFrame e imprimir en la tupla de cada fila , vemos que los valores de cada fila se almcena como una serie de pandas, recordemos que ``.iterrows()`` devuelve cada fila del DataFrame como una tupla de (index,pandas), por lo que tenemos que acceder a los valores de la fila con indexación de corchetes."
      ]
    },
    {
      "cell_type": "code",
      "metadata": {
        "id": "1Z1O136BNQ9E",
        "colab_type": "code",
        "colab": {}
      },
      "source": [
        "for r_tupla in team_winds_df.iterrows():\n",
        "\n",
        "  print(r_tupla)\n",
        "  print(type(r_tupla[1]))"
      ],
      "execution_count": null,
      "outputs": []
    },
    {
      "cell_type": "markdown",
      "metadata": {
        "id": "p9WUE5OAQJYR",
        "colab_type": "text"
      },
      "source": [
        "Pero, en su lugar podriamos usar ``.itertuples()``para recorrer nuestras filas del DF.El metodo ``.itertuples()``devuelve cada fila del DataFrame como un tipo de datos especia llamado *namedtuple*-(TuplaNombrada/TN)\n"
      ]
    },
    {
      "cell_type": "markdown",
      "metadata": {
        "id": "a88w_GQ9RjcM",
        "colab_type": "text"
      },
      "source": [
        "Una TN es uno de los tipos de datos especializados que existen dentro del módulo de colecciones que hemos discutido anteriormente.Estos tipos de datos se comportan como una tupla de Python pero tienen campos accesibles mediante la búsqueda de atributos.\n",
        "\n",
        "¿Que significa esto?\n",
        " Veamos en el resultado que cada fila impresa tiene un indice de atributo y cada columna  tambien,estos ignifica que podemos acceder acada uno de estos atributos con una búsqueda utilizando el metodo de puntos."
      ]
    },
    {
      "cell_type": "code",
      "metadata": {
        "id": "Wd7mSO6mP-k4",
        "colab_type": "code",
        "colab": {
          "base_uri": "https://localhost:8080/",
          "height": 1000
        },
        "outputId": "0e9053fe-694a-4d1f-dfdf-98dbc56abb8d"
      },
      "source": [
        "for r_namedtuple in team_winds_df.itertuples():\n",
        "  print(r_namedtuple)"
      ],
      "execution_count": null,
      "outputs": [
        {
          "output_type": "stream",
          "text": [
            "Pandas(Index=0, Team='ARI', Year=2012, W=81)\n",
            "Pandas(Index=1, Team='ATL', Year=2012, W=94)\n",
            "Pandas(Index=2, Team='BAL', Year=2012, W=93)\n",
            "Pandas(Index=3, Team='BOS', Year=2012, W=69)\n",
            "Pandas(Index=4, Team='CHC', Year=2012, W=61)\n",
            "Pandas(Index=5, Team='CHW', Year=2012, W=85)\n",
            "Pandas(Index=6, Team='CIN', Year=2012, W=97)\n",
            "Pandas(Index=7, Team='CLE', Year=2012, W=68)\n",
            "Pandas(Index=8, Team='COL', Year=2012, W=64)\n",
            "Pandas(Index=9, Team='DET', Year=2012, W=88)\n",
            "Pandas(Index=10, Team='HOU', Year=2012, W=55)\n",
            "Pandas(Index=11, Team='KCR', Year=2012, W=72)\n",
            "Pandas(Index=12, Team='LAA', Year=2012, W=89)\n",
            "Pandas(Index=13, Team='LAD', Year=2012, W=86)\n",
            "Pandas(Index=14, Team='MIA', Year=2012, W=69)\n",
            "Pandas(Index=15, Team='MIL', Year=2012, W=83)\n",
            "Pandas(Index=16, Team='MIN', Year=2012, W=66)\n",
            "Pandas(Index=17, Team='NYM', Year=2012, W=74)\n",
            "Pandas(Index=18, Team='NYY', Year=2012, W=95)\n",
            "Pandas(Index=19, Team='OAK', Year=2012, W=94)\n",
            "Pandas(Index=20, Team='PHI', Year=2012, W=81)\n",
            "Pandas(Index=21, Team='PIT', Year=2012, W=79)\n",
            "Pandas(Index=22, Team='SDP', Year=2012, W=76)\n",
            "Pandas(Index=23, Team='SEA', Year=2012, W=75)\n",
            "Pandas(Index=24, Team='SFG', Year=2012, W=94)\n",
            "Pandas(Index=25, Team='STL', Year=2012, W=88)\n",
            "Pandas(Index=26, Team='TBR', Year=2012, W=90)\n",
            "Pandas(Index=27, Team='TEX', Year=2012, W=93)\n",
            "Pandas(Index=28, Team='TOR', Year=2012, W=73)\n",
            "Pandas(Index=29, Team='WSN', Year=2012, W=98)\n",
            "Pandas(Index=30, Team='ARI', Year=2011, W=94)\n",
            "Pandas(Index=31, Team='ATL', Year=2011, W=89)\n",
            "Pandas(Index=32, Team='BAL', Year=2011, W=69)\n",
            "Pandas(Index=33, Team='BOS', Year=2011, W=90)\n",
            "Pandas(Index=34, Team='CHC', Year=2011, W=71)\n",
            "Pandas(Index=35, Team='CHW', Year=2011, W=79)\n",
            "Pandas(Index=36, Team='CIN', Year=2011, W=79)\n",
            "Pandas(Index=37, Team='CLE', Year=2011, W=80)\n",
            "Pandas(Index=38, Team='COL', Year=2011, W=73)\n",
            "Pandas(Index=39, Team='DET', Year=2011, W=95)\n",
            "Pandas(Index=40, Team='FLA', Year=2011, W=72)\n",
            "Pandas(Index=41, Team='HOU', Year=2011, W=56)\n",
            "Pandas(Index=42, Team='KCR', Year=2011, W=71)\n",
            "Pandas(Index=43, Team='LAA', Year=2011, W=86)\n",
            "Pandas(Index=44, Team='LAD', Year=2011, W=82)\n",
            "Pandas(Index=45, Team='MIL', Year=2011, W=96)\n",
            "Pandas(Index=46, Team='MIN', Year=2011, W=63)\n",
            "Pandas(Index=47, Team='NYM', Year=2011, W=77)\n",
            "Pandas(Index=48, Team='NYY', Year=2011, W=97)\n",
            "Pandas(Index=49, Team='OAK', Year=2011, W=74)\n",
            "Pandas(Index=50, Team='PHI', Year=2011, W=102)\n",
            "Pandas(Index=51, Team='PIT', Year=2011, W=72)\n",
            "Pandas(Index=52, Team='SDP', Year=2011, W=71)\n",
            "Pandas(Index=53, Team='SEA', Year=2011, W=67)\n",
            "Pandas(Index=54, Team='SFG', Year=2011, W=86)\n",
            "Pandas(Index=55, Team='STL', Year=2011, W=90)\n",
            "Pandas(Index=56, Team='TBR', Year=2011, W=91)\n",
            "Pandas(Index=57, Team='TEX', Year=2011, W=96)\n",
            "Pandas(Index=58, Team='TOR', Year=2011, W=81)\n",
            "Pandas(Index=59, Team='WSN', Year=2011, W=80)\n",
            "Pandas(Index=60, Team='ARI', Year=2010, W=65)\n",
            "Pandas(Index=61, Team='ATL', Year=2010, W=91)\n",
            "Pandas(Index=62, Team='BAL', Year=2010, W=66)\n",
            "Pandas(Index=63, Team='BOS', Year=2010, W=89)\n",
            "Pandas(Index=64, Team='CHC', Year=2010, W=75)\n",
            "Pandas(Index=65, Team='CHW', Year=2010, W=88)\n",
            "Pandas(Index=66, Team='CIN', Year=2010, W=91)\n",
            "Pandas(Index=67, Team='CLE', Year=2010, W=69)\n",
            "Pandas(Index=68, Team='COL', Year=2010, W=83)\n",
            "Pandas(Index=69, Team='DET', Year=2010, W=81)\n",
            "Pandas(Index=70, Team='FLA', Year=2010, W=80)\n",
            "Pandas(Index=71, Team='HOU', Year=2010, W=76)\n",
            "Pandas(Index=72, Team='KCR', Year=2010, W=67)\n",
            "Pandas(Index=73, Team='LAA', Year=2010, W=80)\n",
            "Pandas(Index=74, Team='LAD', Year=2010, W=80)\n",
            "Pandas(Index=75, Team='MIL', Year=2010, W=77)\n",
            "Pandas(Index=76, Team='MIN', Year=2010, W=94)\n",
            "Pandas(Index=77, Team='NYM', Year=2010, W=79)\n",
            "Pandas(Index=78, Team='NYY', Year=2010, W=95)\n",
            "Pandas(Index=79, Team='OAK', Year=2010, W=81)\n",
            "Pandas(Index=80, Team='PHI', Year=2010, W=97)\n",
            "Pandas(Index=81, Team='PIT', Year=2010, W=57)\n",
            "Pandas(Index=82, Team='SDP', Year=2010, W=90)\n",
            "Pandas(Index=83, Team='SEA', Year=2010, W=61)\n",
            "Pandas(Index=84, Team='SFG', Year=2010, W=92)\n",
            "Pandas(Index=85, Team='STL', Year=2010, W=86)\n",
            "Pandas(Index=86, Team='TBR', Year=2010, W=96)\n",
            "Pandas(Index=87, Team='TEX', Year=2010, W=90)\n",
            "Pandas(Index=88, Team='TOR', Year=2010, W=85)\n",
            "Pandas(Index=89, Team='WSN', Year=2010, W=69)\n",
            "Pandas(Index=90, Team='ARI', Year=2009, W=70)\n",
            "Pandas(Index=91, Team='ATL', Year=2009, W=86)\n",
            "Pandas(Index=92, Team='BAL', Year=2009, W=64)\n",
            "Pandas(Index=93, Team='BOS', Year=2009, W=95)\n",
            "Pandas(Index=94, Team='CHC', Year=2009, W=83)\n",
            "Pandas(Index=95, Team='CHW', Year=2009, W=79)\n",
            "Pandas(Index=96, Team='CIN', Year=2009, W=78)\n",
            "Pandas(Index=97, Team='CLE', Year=2009, W=65)\n",
            "Pandas(Index=98, Team='COL', Year=2009, W=92)\n",
            "Pandas(Index=99, Team='DET', Year=2009, W=86)\n",
            "Pandas(Index=100, Team='FLA', Year=2009, W=87)\n",
            "Pandas(Index=101, Team='HOU', Year=2009, W=74)\n",
            "Pandas(Index=102, Team='KCR', Year=2009, W=65)\n",
            "Pandas(Index=103, Team='LAA', Year=2009, W=97)\n",
            "Pandas(Index=104, Team='LAD', Year=2009, W=95)\n",
            "Pandas(Index=105, Team='MIL', Year=2009, W=80)\n",
            "Pandas(Index=106, Team='MIN', Year=2009, W=87)\n",
            "Pandas(Index=107, Team='NYM', Year=2009, W=70)\n",
            "Pandas(Index=108, Team='NYY', Year=2009, W=103)\n",
            "Pandas(Index=109, Team='OAK', Year=2009, W=75)\n",
            "Pandas(Index=110, Team='PHI', Year=2009, W=93)\n",
            "Pandas(Index=111, Team='PIT', Year=2009, W=62)\n",
            "Pandas(Index=112, Team='SDP', Year=2009, W=75)\n",
            "Pandas(Index=113, Team='SEA', Year=2009, W=85)\n",
            "Pandas(Index=114, Team='SFG', Year=2009, W=88)\n",
            "Pandas(Index=115, Team='STL', Year=2009, W=91)\n",
            "Pandas(Index=116, Team='TBR', Year=2009, W=84)\n",
            "Pandas(Index=117, Team='TEX', Year=2009, W=87)\n",
            "Pandas(Index=118, Team='TOR', Year=2009, W=75)\n",
            "Pandas(Index=119, Team='WSN', Year=2009, W=59)\n",
            "Pandas(Index=120, Team='ARI', Year=2008, W=82)\n",
            "Pandas(Index=121, Team='ATL', Year=2008, W=72)\n",
            "Pandas(Index=122, Team='BAL', Year=2008, W=68)\n",
            "Pandas(Index=123, Team='BOS', Year=2008, W=95)\n",
            "Pandas(Index=124, Team='CHC', Year=2008, W=97)\n",
            "Pandas(Index=125, Team='CHW', Year=2008, W=89)\n",
            "Pandas(Index=126, Team='CIN', Year=2008, W=74)\n",
            "Pandas(Index=127, Team='CLE', Year=2008, W=81)\n",
            "Pandas(Index=128, Team='COL', Year=2008, W=74)\n",
            "Pandas(Index=129, Team='DET', Year=2008, W=74)\n",
            "Pandas(Index=130, Team='FLA', Year=2008, W=84)\n",
            "Pandas(Index=131, Team='HOU', Year=2008, W=86)\n",
            "Pandas(Index=132, Team='KCR', Year=2008, W=75)\n",
            "Pandas(Index=133, Team='LAA', Year=2008, W=100)\n",
            "Pandas(Index=134, Team='LAD', Year=2008, W=84)\n",
            "Pandas(Index=135, Team='MIL', Year=2008, W=90)\n",
            "Pandas(Index=136, Team='MIN', Year=2008, W=88)\n",
            "Pandas(Index=137, Team='NYM', Year=2008, W=89)\n",
            "Pandas(Index=138, Team='NYY', Year=2008, W=89)\n",
            "Pandas(Index=139, Team='OAK', Year=2008, W=75)\n",
            "Pandas(Index=140, Team='PHI', Year=2008, W=92)\n",
            "Pandas(Index=141, Team='PIT', Year=2008, W=67)\n",
            "Pandas(Index=142, Team='SDP', Year=2008, W=63)\n",
            "Pandas(Index=143, Team='SEA', Year=2008, W=61)\n",
            "Pandas(Index=144, Team='SFG', Year=2008, W=72)\n",
            "Pandas(Index=145, Team='STL', Year=2008, W=86)\n",
            "Pandas(Index=146, Team='TBR', Year=2008, W=97)\n",
            "Pandas(Index=147, Team='TEX', Year=2008, W=79)\n",
            "Pandas(Index=148, Team='TOR', Year=2008, W=86)\n",
            "Pandas(Index=149, Team='WSN', Year=2008, W=59)\n",
            "Pandas(Index=150, Team='ARI', Year=2007, W=90)\n",
            "Pandas(Index=151, Team='ATL', Year=2007, W=84)\n",
            "Pandas(Index=152, Team='BAL', Year=2007, W=69)\n",
            "Pandas(Index=153, Team='BOS', Year=2007, W=96)\n",
            "Pandas(Index=154, Team='CHC', Year=2007, W=85)\n",
            "Pandas(Index=155, Team='CHW', Year=2007, W=72)\n",
            "Pandas(Index=156, Team='CIN', Year=2007, W=72)\n",
            "Pandas(Index=157, Team='CLE', Year=2007, W=96)\n",
            "Pandas(Index=158, Team='COL', Year=2007, W=90)\n",
            "Pandas(Index=159, Team='DET', Year=2007, W=88)\n",
            "Pandas(Index=160, Team='FLA', Year=2007, W=71)\n",
            "Pandas(Index=161, Team='HOU', Year=2007, W=73)\n",
            "Pandas(Index=162, Team='KCR', Year=2007, W=69)\n",
            "Pandas(Index=163, Team='LAA', Year=2007, W=94)\n",
            "Pandas(Index=164, Team='LAD', Year=2007, W=82)\n",
            "Pandas(Index=165, Team='MIL', Year=2007, W=83)\n",
            "Pandas(Index=166, Team='MIN', Year=2007, W=79)\n",
            "Pandas(Index=167, Team='NYM', Year=2007, W=88)\n",
            "Pandas(Index=168, Team='NYY', Year=2007, W=94)\n",
            "Pandas(Index=169, Team='OAK', Year=2007, W=76)\n",
            "Pandas(Index=170, Team='PHI', Year=2007, W=89)\n",
            "Pandas(Index=171, Team='PIT', Year=2007, W=68)\n",
            "Pandas(Index=172, Team='SDP', Year=2007, W=89)\n",
            "Pandas(Index=173, Team='SEA', Year=2007, W=88)\n",
            "Pandas(Index=174, Team='SFG', Year=2007, W=71)\n",
            "Pandas(Index=175, Team='STL', Year=2007, W=78)\n",
            "Pandas(Index=176, Team='TBD', Year=2007, W=66)\n",
            "Pandas(Index=177, Team='TEX', Year=2007, W=75)\n",
            "Pandas(Index=178, Team='TOR', Year=2007, W=83)\n",
            "Pandas(Index=179, Team='WSN', Year=2007, W=73)\n",
            "Pandas(Index=180, Team='ARI', Year=2006, W=76)\n",
            "Pandas(Index=181, Team='ATL', Year=2006, W=79)\n",
            "Pandas(Index=182, Team='BAL', Year=2006, W=70)\n",
            "Pandas(Index=183, Team='BOS', Year=2006, W=86)\n",
            "Pandas(Index=184, Team='CHC', Year=2006, W=66)\n",
            "Pandas(Index=185, Team='CHW', Year=2006, W=90)\n",
            "Pandas(Index=186, Team='CIN', Year=2006, W=80)\n",
            "Pandas(Index=187, Team='CLE', Year=2006, W=78)\n",
            "Pandas(Index=188, Team='COL', Year=2006, W=76)\n",
            "Pandas(Index=189, Team='DET', Year=2006, W=95)\n",
            "Pandas(Index=190, Team='FLA', Year=2006, W=78)\n",
            "Pandas(Index=191, Team='HOU', Year=2006, W=82)\n",
            "Pandas(Index=192, Team='KCR', Year=2006, W=62)\n",
            "Pandas(Index=193, Team='LAA', Year=2006, W=89)\n",
            "Pandas(Index=194, Team='LAD', Year=2006, W=88)\n",
            "Pandas(Index=195, Team='MIL', Year=2006, W=75)\n",
            "Pandas(Index=196, Team='MIN', Year=2006, W=96)\n",
            "Pandas(Index=197, Team='NYM', Year=2006, W=97)\n",
            "Pandas(Index=198, Team='NYY', Year=2006, W=97)\n",
            "Pandas(Index=199, Team='OAK', Year=2006, W=93)\n",
            "Pandas(Index=200, Team='PHI', Year=2006, W=85)\n",
            "Pandas(Index=201, Team='PIT', Year=2006, W=67)\n",
            "Pandas(Index=202, Team='SDP', Year=2006, W=88)\n",
            "Pandas(Index=203, Team='SEA', Year=2006, W=78)\n",
            "Pandas(Index=204, Team='SFG', Year=2006, W=76)\n",
            "Pandas(Index=205, Team='STL', Year=2006, W=83)\n",
            "Pandas(Index=206, Team='TBD', Year=2006, W=61)\n",
            "Pandas(Index=207, Team='TEX', Year=2006, W=80)\n",
            "Pandas(Index=208, Team='TOR', Year=2006, W=87)\n",
            "Pandas(Index=209, Team='WSN', Year=2006, W=71)\n",
            "Pandas(Index=210, Team='ARI', Year=2005, W=77)\n",
            "Pandas(Index=211, Team='ATL', Year=2005, W=90)\n",
            "Pandas(Index=212, Team='BAL', Year=2005, W=74)\n",
            "Pandas(Index=213, Team='BOS', Year=2005, W=95)\n",
            "Pandas(Index=214, Team='CHC', Year=2005, W=79)\n",
            "Pandas(Index=215, Team='CHW', Year=2005, W=99)\n",
            "Pandas(Index=216, Team='CIN', Year=2005, W=73)\n",
            "Pandas(Index=217, Team='CLE', Year=2005, W=93)\n",
            "Pandas(Index=218, Team='COL', Year=2005, W=67)\n",
            "Pandas(Index=219, Team='DET', Year=2005, W=71)\n",
            "Pandas(Index=220, Team='FLA', Year=2005, W=83)\n",
            "Pandas(Index=221, Team='HOU', Year=2005, W=89)\n",
            "Pandas(Index=222, Team='KCR', Year=2005, W=56)\n",
            "Pandas(Index=223, Team='LAA', Year=2005, W=95)\n",
            "Pandas(Index=224, Team='LAD', Year=2005, W=71)\n",
            "Pandas(Index=225, Team='MIL', Year=2005, W=81)\n",
            "Pandas(Index=226, Team='MIN', Year=2005, W=83)\n",
            "Pandas(Index=227, Team='NYM', Year=2005, W=83)\n",
            "Pandas(Index=228, Team='NYY', Year=2005, W=95)\n",
            "Pandas(Index=229, Team='OAK', Year=2005, W=88)\n",
            "Pandas(Index=230, Team='PHI', Year=2005, W=88)\n",
            "Pandas(Index=231, Team='PIT', Year=2005, W=67)\n",
            "Pandas(Index=232, Team='SDP', Year=2005, W=82)\n",
            "Pandas(Index=233, Team='SEA', Year=2005, W=69)\n",
            "Pandas(Index=234, Team='SFG', Year=2005, W=75)\n",
            "Pandas(Index=235, Team='STL', Year=2005, W=100)\n",
            "Pandas(Index=236, Team='TBD', Year=2005, W=67)\n",
            "Pandas(Index=237, Team='TEX', Year=2005, W=79)\n",
            "Pandas(Index=238, Team='TOR', Year=2005, W=80)\n",
            "Pandas(Index=239, Team='WSN', Year=2005, W=81)\n",
            "Pandas(Index=240, Team='ANA', Year=2004, W=92)\n",
            "Pandas(Index=241, Team='ARI', Year=2004, W=51)\n",
            "Pandas(Index=242, Team='ATL', Year=2004, W=96)\n",
            "Pandas(Index=243, Team='BAL', Year=2004, W=78)\n",
            "Pandas(Index=244, Team='BOS', Year=2004, W=98)\n",
            "Pandas(Index=245, Team='CHC', Year=2004, W=89)\n",
            "Pandas(Index=246, Team='CHW', Year=2004, W=83)\n",
            "Pandas(Index=247, Team='CIN', Year=2004, W=76)\n",
            "Pandas(Index=248, Team='CLE', Year=2004, W=80)\n",
            "Pandas(Index=249, Team='COL', Year=2004, W=68)\n",
            "Pandas(Index=250, Team='DET', Year=2004, W=72)\n",
            "Pandas(Index=251, Team='FLA', Year=2004, W=83)\n",
            "Pandas(Index=252, Team='HOU', Year=2004, W=92)\n",
            "Pandas(Index=253, Team='KCR', Year=2004, W=58)\n",
            "Pandas(Index=254, Team='LAD', Year=2004, W=93)\n",
            "Pandas(Index=255, Team='MIL', Year=2004, W=67)\n",
            "Pandas(Index=256, Team='MIN', Year=2004, W=92)\n",
            "Pandas(Index=257, Team='MON', Year=2004, W=67)\n",
            "Pandas(Index=258, Team='NYM', Year=2004, W=71)\n",
            "Pandas(Index=259, Team='NYY', Year=2004, W=101)\n",
            "Pandas(Index=260, Team='OAK', Year=2004, W=91)\n",
            "Pandas(Index=261, Team='PHI', Year=2004, W=86)\n",
            "Pandas(Index=262, Team='PIT', Year=2004, W=72)\n",
            "Pandas(Index=263, Team='SDP', Year=2004, W=87)\n",
            "Pandas(Index=264, Team='SEA', Year=2004, W=63)\n",
            "Pandas(Index=265, Team='SFG', Year=2004, W=91)\n",
            "Pandas(Index=266, Team='STL', Year=2004, W=105)\n",
            "Pandas(Index=267, Team='TBD', Year=2004, W=70)\n",
            "Pandas(Index=268, Team='TEX', Year=2004, W=89)\n",
            "Pandas(Index=269, Team='TOR', Year=2004, W=67)\n",
            "Pandas(Index=270, Team='ANA', Year=2003, W=77)\n",
            "Pandas(Index=271, Team='ARI', Year=2003, W=84)\n",
            "Pandas(Index=272, Team='ATL', Year=2003, W=101)\n",
            "Pandas(Index=273, Team='BAL', Year=2003, W=71)\n",
            "Pandas(Index=274, Team='BOS', Year=2003, W=95)\n",
            "Pandas(Index=275, Team='CHC', Year=2003, W=88)\n",
            "Pandas(Index=276, Team='CHW', Year=2003, W=86)\n",
            "Pandas(Index=277, Team='CIN', Year=2003, W=69)\n",
            "Pandas(Index=278, Team='CLE', Year=2003, W=68)\n",
            "Pandas(Index=279, Team='COL', Year=2003, W=74)\n",
            "Pandas(Index=280, Team='DET', Year=2003, W=43)\n",
            "Pandas(Index=281, Team='FLA', Year=2003, W=91)\n",
            "Pandas(Index=282, Team='HOU', Year=2003, W=87)\n",
            "Pandas(Index=283, Team='KCR', Year=2003, W=83)\n",
            "Pandas(Index=284, Team='LAD', Year=2003, W=85)\n",
            "Pandas(Index=285, Team='MIL', Year=2003, W=68)\n",
            "Pandas(Index=286, Team='MIN', Year=2003, W=90)\n",
            "Pandas(Index=287, Team='MON', Year=2003, W=83)\n",
            "Pandas(Index=288, Team='NYM', Year=2003, W=66)\n",
            "Pandas(Index=289, Team='NYY', Year=2003, W=101)\n",
            "Pandas(Index=290, Team='OAK', Year=2003, W=96)\n",
            "Pandas(Index=291, Team='PHI', Year=2003, W=86)\n",
            "Pandas(Index=292, Team='PIT', Year=2003, W=75)\n",
            "Pandas(Index=293, Team='SDP', Year=2003, W=64)\n",
            "Pandas(Index=294, Team='SEA', Year=2003, W=93)\n",
            "Pandas(Index=295, Team='SFG', Year=2003, W=100)\n",
            "Pandas(Index=296, Team='STL', Year=2003, W=85)\n",
            "Pandas(Index=297, Team='TBD', Year=2003, W=63)\n",
            "Pandas(Index=298, Team='TEX', Year=2003, W=71)\n",
            "Pandas(Index=299, Team='TOR', Year=2003, W=86)\n",
            "Pandas(Index=300, Team='ANA', Year=2002, W=99)\n",
            "Pandas(Index=301, Team='ARI', Year=2002, W=98)\n",
            "Pandas(Index=302, Team='ATL', Year=2002, W=101)\n",
            "Pandas(Index=303, Team='BAL', Year=2002, W=67)\n",
            "Pandas(Index=304, Team='BOS', Year=2002, W=93)\n",
            "Pandas(Index=305, Team='CHC', Year=2002, W=67)\n",
            "Pandas(Index=306, Team='CHW', Year=2002, W=81)\n",
            "Pandas(Index=307, Team='CIN', Year=2002, W=78)\n",
            "Pandas(Index=308, Team='CLE', Year=2002, W=74)\n",
            "Pandas(Index=309, Team='COL', Year=2002, W=73)\n",
            "Pandas(Index=310, Team='DET', Year=2002, W=55)\n",
            "Pandas(Index=311, Team='FLA', Year=2002, W=79)\n",
            "Pandas(Index=312, Team='HOU', Year=2002, W=84)\n",
            "Pandas(Index=313, Team='KCR', Year=2002, W=62)\n",
            "Pandas(Index=314, Team='LAD', Year=2002, W=92)\n",
            "Pandas(Index=315, Team='MIL', Year=2002, W=56)\n",
            "Pandas(Index=316, Team='MIN', Year=2002, W=94)\n",
            "Pandas(Index=317, Team='MON', Year=2002, W=83)\n",
            "Pandas(Index=318, Team='NYM', Year=2002, W=75)\n",
            "Pandas(Index=319, Team='NYY', Year=2002, W=103)\n",
            "Pandas(Index=320, Team='OAK', Year=2002, W=103)\n",
            "Pandas(Index=321, Team='PHI', Year=2002, W=80)\n",
            "Pandas(Index=322, Team='PIT', Year=2002, W=72)\n",
            "Pandas(Index=323, Team='SDP', Year=2002, W=66)\n",
            "Pandas(Index=324, Team='SEA', Year=2002, W=93)\n",
            "Pandas(Index=325, Team='SFG', Year=2002, W=95)\n",
            "Pandas(Index=326, Team='STL', Year=2002, W=97)\n",
            "Pandas(Index=327, Team='TBD', Year=2002, W=55)\n",
            "Pandas(Index=328, Team='TEX', Year=2002, W=72)\n",
            "Pandas(Index=329, Team='TOR', Year=2002, W=78)\n",
            "Pandas(Index=330, Team='ANA', Year=2001, W=75)\n",
            "Pandas(Index=331, Team='ARI', Year=2001, W=92)\n",
            "Pandas(Index=332, Team='ATL', Year=2001, W=88)\n",
            "Pandas(Index=333, Team='BAL', Year=2001, W=63)\n",
            "Pandas(Index=334, Team='BOS', Year=2001, W=82)\n",
            "Pandas(Index=335, Team='CHC', Year=2001, W=88)\n",
            "Pandas(Index=336, Team='CHW', Year=2001, W=83)\n",
            "Pandas(Index=337, Team='CIN', Year=2001, W=66)\n",
            "Pandas(Index=338, Team='CLE', Year=2001, W=91)\n",
            "Pandas(Index=339, Team='COL', Year=2001, W=73)\n",
            "Pandas(Index=340, Team='DET', Year=2001, W=66)\n",
            "Pandas(Index=341, Team='FLA', Year=2001, W=76)\n",
            "Pandas(Index=342, Team='HOU', Year=2001, W=93)\n",
            "Pandas(Index=343, Team='KCR', Year=2001, W=65)\n",
            "Pandas(Index=344, Team='LAD', Year=2001, W=86)\n",
            "Pandas(Index=345, Team='MIL', Year=2001, W=68)\n",
            "Pandas(Index=346, Team='MIN', Year=2001, W=85)\n",
            "Pandas(Index=347, Team='MON', Year=2001, W=68)\n",
            "Pandas(Index=348, Team='NYM', Year=2001, W=82)\n",
            "Pandas(Index=349, Team='NYY', Year=2001, W=95)\n",
            "Pandas(Index=350, Team='OAK', Year=2001, W=102)\n",
            "Pandas(Index=351, Team='PHI', Year=2001, W=86)\n",
            "Pandas(Index=352, Team='PIT', Year=2001, W=62)\n",
            "Pandas(Index=353, Team='SDP', Year=2001, W=79)\n",
            "Pandas(Index=354, Team='SEA', Year=2001, W=116)\n",
            "Pandas(Index=355, Team='SFG', Year=2001, W=90)\n",
            "Pandas(Index=356, Team='STL', Year=2001, W=93)\n",
            "Pandas(Index=357, Team='TBD', Year=2001, W=62)\n",
            "Pandas(Index=358, Team='TEX', Year=2001, W=73)\n",
            "Pandas(Index=359, Team='TOR', Year=2001, W=80)\n",
            "Pandas(Index=360, Team='ANA', Year=2000, W=82)\n",
            "Pandas(Index=361, Team='ARI', Year=2000, W=85)\n",
            "Pandas(Index=362, Team='ATL', Year=2000, W=95)\n",
            "Pandas(Index=363, Team='BAL', Year=2000, W=74)\n",
            "Pandas(Index=364, Team='BOS', Year=2000, W=85)\n",
            "Pandas(Index=365, Team='CHC', Year=2000, W=65)\n",
            "Pandas(Index=366, Team='CHW', Year=2000, W=95)\n",
            "Pandas(Index=367, Team='CIN', Year=2000, W=85)\n",
            "Pandas(Index=368, Team='CLE', Year=2000, W=90)\n",
            "Pandas(Index=369, Team='COL', Year=2000, W=82)\n",
            "Pandas(Index=370, Team='DET', Year=2000, W=79)\n",
            "Pandas(Index=371, Team='FLA', Year=2000, W=79)\n",
            "Pandas(Index=372, Team='HOU', Year=2000, W=72)\n",
            "Pandas(Index=373, Team='KCR', Year=2000, W=77)\n",
            "Pandas(Index=374, Team='LAD', Year=2000, W=86)\n",
            "Pandas(Index=375, Team='MIL', Year=2000, W=73)\n",
            "Pandas(Index=376, Team='MIN', Year=2000, W=69)\n",
            "Pandas(Index=377, Team='MON', Year=2000, W=67)\n",
            "Pandas(Index=378, Team='NYM', Year=2000, W=94)\n",
            "Pandas(Index=379, Team='NYY', Year=2000, W=87)\n",
            "Pandas(Index=380, Team='OAK', Year=2000, W=91)\n",
            "Pandas(Index=381, Team='PHI', Year=2000, W=65)\n",
            "Pandas(Index=382, Team='PIT', Year=2000, W=69)\n",
            "Pandas(Index=383, Team='SDP', Year=2000, W=76)\n",
            "Pandas(Index=384, Team='SEA', Year=2000, W=91)\n",
            "Pandas(Index=385, Team='SFG', Year=2000, W=97)\n",
            "Pandas(Index=386, Team='STL', Year=2000, W=95)\n",
            "Pandas(Index=387, Team='TBD', Year=2000, W=69)\n",
            "Pandas(Index=388, Team='TEX', Year=2000, W=71)\n",
            "Pandas(Index=389, Team='TOR', Year=2000, W=83)\n",
            "Pandas(Index=390, Team='ANA', Year=1999, W=70)\n",
            "Pandas(Index=391, Team='ARI', Year=1999, W=100)\n",
            "Pandas(Index=392, Team='ATL', Year=1999, W=103)\n",
            "Pandas(Index=393, Team='BAL', Year=1999, W=78)\n",
            "Pandas(Index=394, Team='BOS', Year=1999, W=94)\n",
            "Pandas(Index=395, Team='CHC', Year=1999, W=67)\n",
            "Pandas(Index=396, Team='CHW', Year=1999, W=75)\n",
            "Pandas(Index=397, Team='CIN', Year=1999, W=96)\n",
            "Pandas(Index=398, Team='CLE', Year=1999, W=97)\n",
            "Pandas(Index=399, Team='COL', Year=1999, W=72)\n",
            "Pandas(Index=400, Team='DET', Year=1999, W=69)\n",
            "Pandas(Index=401, Team='FLA', Year=1999, W=64)\n",
            "Pandas(Index=402, Team='HOU', Year=1999, W=97)\n",
            "Pandas(Index=403, Team='KCR', Year=1999, W=64)\n",
            "Pandas(Index=404, Team='LAD', Year=1999, W=77)\n",
            "Pandas(Index=405, Team='MIL', Year=1999, W=74)\n",
            "Pandas(Index=406, Team='MIN', Year=1999, W=63)\n",
            "Pandas(Index=407, Team='MON', Year=1999, W=68)\n",
            "Pandas(Index=408, Team='NYM', Year=1999, W=97)\n",
            "Pandas(Index=409, Team='NYY', Year=1999, W=98)\n",
            "Pandas(Index=410, Team='OAK', Year=1999, W=87)\n",
            "Pandas(Index=411, Team='PHI', Year=1999, W=77)\n",
            "Pandas(Index=412, Team='PIT', Year=1999, W=78)\n",
            "Pandas(Index=413, Team='SDP', Year=1999, W=74)\n",
            "Pandas(Index=414, Team='SEA', Year=1999, W=79)\n",
            "Pandas(Index=415, Team='SFG', Year=1999, W=86)\n",
            "Pandas(Index=416, Team='STL', Year=1999, W=75)\n",
            "Pandas(Index=417, Team='TBD', Year=1999, W=69)\n",
            "Pandas(Index=418, Team='TEX', Year=1999, W=95)\n",
            "Pandas(Index=419, Team='TOR', Year=1999, W=84)\n",
            "Pandas(Index=420, Team='ANA', Year=1998, W=85)\n",
            "Pandas(Index=421, Team='ARI', Year=1998, W=65)\n",
            "Pandas(Index=422, Team='ATL', Year=1998, W=106)\n",
            "Pandas(Index=423, Team='BAL', Year=1998, W=79)\n",
            "Pandas(Index=424, Team='BOS', Year=1998, W=92)\n",
            "Pandas(Index=425, Team='CHC', Year=1998, W=90)\n",
            "Pandas(Index=426, Team='CHW', Year=1998, W=80)\n",
            "Pandas(Index=427, Team='CIN', Year=1998, W=77)\n",
            "Pandas(Index=428, Team='CLE', Year=1998, W=89)\n",
            "Pandas(Index=429, Team='COL', Year=1998, W=77)\n",
            "Pandas(Index=430, Team='DET', Year=1998, W=65)\n",
            "Pandas(Index=431, Team='FLA', Year=1998, W=54)\n",
            "Pandas(Index=432, Team='HOU', Year=1998, W=102)\n",
            "Pandas(Index=433, Team='KCR', Year=1998, W=72)\n",
            "Pandas(Index=434, Team='LAD', Year=1998, W=83)\n",
            "Pandas(Index=435, Team='MIL', Year=1998, W=74)\n",
            "Pandas(Index=436, Team='MIN', Year=1998, W=70)\n",
            "Pandas(Index=437, Team='MON', Year=1998, W=65)\n",
            "Pandas(Index=438, Team='NYM', Year=1998, W=88)\n",
            "Pandas(Index=439, Team='NYY', Year=1998, W=114)\n",
            "Pandas(Index=440, Team='OAK', Year=1998, W=74)\n",
            "Pandas(Index=441, Team='PHI', Year=1998, W=75)\n",
            "Pandas(Index=442, Team='PIT', Year=1998, W=69)\n",
            "Pandas(Index=443, Team='SDP', Year=1998, W=98)\n",
            "Pandas(Index=444, Team='SEA', Year=1998, W=76)\n",
            "Pandas(Index=445, Team='SFG', Year=1998, W=89)\n",
            "Pandas(Index=446, Team='STL', Year=1998, W=83)\n",
            "Pandas(Index=447, Team='TBD', Year=1998, W=63)\n",
            "Pandas(Index=448, Team='TEX', Year=1998, W=88)\n",
            "Pandas(Index=449, Team='TOR', Year=1998, W=88)\n",
            "Pandas(Index=450, Team='ANA', Year=1997, W=84)\n",
            "Pandas(Index=451, Team='ATL', Year=1997, W=101)\n",
            "Pandas(Index=452, Team='BAL', Year=1997, W=98)\n",
            "Pandas(Index=453, Team='BOS', Year=1997, W=78)\n",
            "Pandas(Index=454, Team='CHC', Year=1997, W=68)\n",
            "Pandas(Index=455, Team='CHW', Year=1997, W=80)\n",
            "Pandas(Index=456, Team='CIN', Year=1997, W=76)\n",
            "Pandas(Index=457, Team='CLE', Year=1997, W=86)\n",
            "Pandas(Index=458, Team='COL', Year=1997, W=83)\n",
            "Pandas(Index=459, Team='DET', Year=1997, W=79)\n",
            "Pandas(Index=460, Team='FLA', Year=1997, W=92)\n",
            "Pandas(Index=461, Team='HOU', Year=1997, W=84)\n",
            "Pandas(Index=462, Team='KCR', Year=1997, W=67)\n",
            "Pandas(Index=463, Team='LAD', Year=1997, W=88)\n",
            "Pandas(Index=464, Team='MIL', Year=1997, W=78)\n",
            "Pandas(Index=465, Team='MIN', Year=1997, W=68)\n",
            "Pandas(Index=466, Team='MON', Year=1997, W=78)\n",
            "Pandas(Index=467, Team='NYM', Year=1997, W=88)\n",
            "Pandas(Index=468, Team='NYY', Year=1997, W=96)\n",
            "Pandas(Index=469, Team='OAK', Year=1997, W=65)\n",
            "Pandas(Index=470, Team='PHI', Year=1997, W=68)\n",
            "Pandas(Index=471, Team='PIT', Year=1997, W=79)\n",
            "Pandas(Index=472, Team='SDP', Year=1997, W=76)\n",
            "Pandas(Index=473, Team='SEA', Year=1997, W=90)\n",
            "Pandas(Index=474, Team='SFG', Year=1997, W=90)\n",
            "Pandas(Index=475, Team='STL', Year=1997, W=73)\n",
            "Pandas(Index=476, Team='TEX', Year=1997, W=77)\n",
            "Pandas(Index=477, Team='TOR', Year=1997, W=76)\n",
            "Pandas(Index=478, Team='ATL', Year=1996, W=96)\n",
            "Pandas(Index=479, Team='BAL', Year=1996, W=88)\n",
            "Pandas(Index=480, Team='BOS', Year=1996, W=85)\n",
            "Pandas(Index=481, Team='CAL', Year=1996, W=70)\n",
            "Pandas(Index=482, Team='CHC', Year=1996, W=76)\n",
            "Pandas(Index=483, Team='CHW', Year=1996, W=85)\n",
            "Pandas(Index=484, Team='CIN', Year=1996, W=81)\n",
            "Pandas(Index=485, Team='CLE', Year=1996, W=99)\n",
            "Pandas(Index=486, Team='COL', Year=1996, W=83)\n",
            "Pandas(Index=487, Team='DET', Year=1996, W=53)\n",
            "Pandas(Index=488, Team='FLA', Year=1996, W=80)\n",
            "Pandas(Index=489, Team='HOU', Year=1996, W=82)\n",
            "Pandas(Index=490, Team='KCR', Year=1996, W=75)\n",
            "Pandas(Index=491, Team='LAD', Year=1996, W=90)\n",
            "Pandas(Index=492, Team='MIL', Year=1996, W=80)\n",
            "Pandas(Index=493, Team='MIN', Year=1996, W=78)\n",
            "Pandas(Index=494, Team='MON', Year=1996, W=88)\n",
            "Pandas(Index=495, Team='NYM', Year=1996, W=71)\n",
            "Pandas(Index=496, Team='NYY', Year=1996, W=92)\n",
            "Pandas(Index=497, Team='OAK', Year=1996, W=78)\n",
            "Pandas(Index=498, Team='PHI', Year=1996, W=67)\n",
            "Pandas(Index=499, Team='PIT', Year=1996, W=73)\n",
            "Pandas(Index=500, Team='SDP', Year=1996, W=91)\n",
            "Pandas(Index=501, Team='SEA', Year=1996, W=85)\n",
            "Pandas(Index=502, Team='SFG', Year=1996, W=68)\n",
            "Pandas(Index=503, Team='STL', Year=1996, W=88)\n",
            "Pandas(Index=504, Team='TEX', Year=1996, W=90)\n",
            "Pandas(Index=505, Team='TOR', Year=1996, W=74)\n",
            "Pandas(Index=506, Team='ATL', Year=1993, W=104)\n",
            "Pandas(Index=507, Team='BAL', Year=1993, W=85)\n",
            "Pandas(Index=508, Team='BOS', Year=1993, W=80)\n",
            "Pandas(Index=509, Team='CAL', Year=1993, W=71)\n",
            "Pandas(Index=510, Team='CHC', Year=1993, W=84)\n",
            "Pandas(Index=511, Team='CHW', Year=1993, W=94)\n",
            "Pandas(Index=512, Team='CIN', Year=1993, W=73)\n",
            "Pandas(Index=513, Team='CLE', Year=1993, W=76)\n",
            "Pandas(Index=514, Team='COL', Year=1993, W=67)\n",
            "Pandas(Index=515, Team='DET', Year=1993, W=85)\n",
            "Pandas(Index=516, Team='FLA', Year=1993, W=64)\n",
            "Pandas(Index=517, Team='HOU', Year=1993, W=85)\n",
            "Pandas(Index=518, Team='KCR', Year=1993, W=84)\n",
            "Pandas(Index=519, Team='LAD', Year=1993, W=81)\n",
            "Pandas(Index=520, Team='MIL', Year=1993, W=69)\n",
            "Pandas(Index=521, Team='MIN', Year=1993, W=71)\n",
            "Pandas(Index=522, Team='MON', Year=1993, W=94)\n",
            "Pandas(Index=523, Team='NYM', Year=1993, W=59)\n",
            "Pandas(Index=524, Team='NYY', Year=1993, W=88)\n",
            "Pandas(Index=525, Team='OAK', Year=1993, W=68)\n",
            "Pandas(Index=526, Team='PHI', Year=1993, W=97)\n",
            "Pandas(Index=527, Team='PIT', Year=1993, W=75)\n",
            "Pandas(Index=528, Team='SDP', Year=1993, W=61)\n",
            "Pandas(Index=529, Team='SEA', Year=1993, W=82)\n",
            "Pandas(Index=530, Team='SFG', Year=1993, W=103)\n",
            "Pandas(Index=531, Team='STL', Year=1993, W=87)\n",
            "Pandas(Index=532, Team='TEX', Year=1993, W=86)\n",
            "Pandas(Index=533, Team='TOR', Year=1993, W=95)\n",
            "Pandas(Index=534, Team='ATL', Year=1992, W=98)\n",
            "Pandas(Index=535, Team='BAL', Year=1992, W=89)\n",
            "Pandas(Index=536, Team='BOS', Year=1992, W=73)\n",
            "Pandas(Index=537, Team='CAL', Year=1992, W=72)\n",
            "Pandas(Index=538, Team='CHC', Year=1992, W=78)\n",
            "Pandas(Index=539, Team='CHW', Year=1992, W=86)\n",
            "Pandas(Index=540, Team='CIN', Year=1992, W=90)\n",
            "Pandas(Index=541, Team='CLE', Year=1992, W=76)\n",
            "Pandas(Index=542, Team='DET', Year=1992, W=75)\n",
            "Pandas(Index=543, Team='HOU', Year=1992, W=81)\n",
            "Pandas(Index=544, Team='KCR', Year=1992, W=72)\n",
            "Pandas(Index=545, Team='LAD', Year=1992, W=63)\n",
            "Pandas(Index=546, Team='MIL', Year=1992, W=92)\n",
            "Pandas(Index=547, Team='MIN', Year=1992, W=90)\n",
            "Pandas(Index=548, Team='MON', Year=1992, W=87)\n",
            "Pandas(Index=549, Team='NYM', Year=1992, W=72)\n",
            "Pandas(Index=550, Team='NYY', Year=1992, W=76)\n",
            "Pandas(Index=551, Team='OAK', Year=1992, W=96)\n",
            "Pandas(Index=552, Team='PHI', Year=1992, W=70)\n",
            "Pandas(Index=553, Team='PIT', Year=1992, W=96)\n",
            "Pandas(Index=554, Team='SDP', Year=1992, W=82)\n",
            "Pandas(Index=555, Team='SEA', Year=1992, W=64)\n",
            "Pandas(Index=556, Team='SFG', Year=1992, W=72)\n",
            "Pandas(Index=557, Team='STL', Year=1992, W=83)\n",
            "Pandas(Index=558, Team='TEX', Year=1992, W=77)\n",
            "Pandas(Index=559, Team='TOR', Year=1992, W=96)\n",
            "Pandas(Index=560, Team='ATL', Year=1991, W=94)\n",
            "Pandas(Index=561, Team='BAL', Year=1991, W=67)\n",
            "Pandas(Index=562, Team='BOS', Year=1991, W=84)\n",
            "Pandas(Index=563, Team='CAL', Year=1991, W=81)\n",
            "Pandas(Index=564, Team='CHC', Year=1991, W=77)\n",
            "Pandas(Index=565, Team='CHW', Year=1991, W=87)\n",
            "Pandas(Index=566, Team='CIN', Year=1991, W=74)\n",
            "Pandas(Index=567, Team='CLE', Year=1991, W=57)\n",
            "Pandas(Index=568, Team='DET', Year=1991, W=84)\n",
            "Pandas(Index=569, Team='HOU', Year=1991, W=65)\n",
            "Pandas(Index=570, Team='KCR', Year=1991, W=82)\n",
            "Pandas(Index=571, Team='LAD', Year=1991, W=93)\n",
            "Pandas(Index=572, Team='MIL', Year=1991, W=83)\n",
            "Pandas(Index=573, Team='MIN', Year=1991, W=95)\n",
            "Pandas(Index=574, Team='MON', Year=1991, W=71)\n",
            "Pandas(Index=575, Team='NYM', Year=1991, W=77)\n",
            "Pandas(Index=576, Team='NYY', Year=1991, W=71)\n",
            "Pandas(Index=577, Team='OAK', Year=1991, W=84)\n",
            "Pandas(Index=578, Team='PHI', Year=1991, W=78)\n",
            "Pandas(Index=579, Team='PIT', Year=1991, W=98)\n",
            "Pandas(Index=580, Team='SDP', Year=1991, W=84)\n",
            "Pandas(Index=581, Team='SEA', Year=1991, W=83)\n",
            "Pandas(Index=582, Team='SFG', Year=1991, W=75)\n",
            "Pandas(Index=583, Team='STL', Year=1991, W=84)\n",
            "Pandas(Index=584, Team='TEX', Year=1991, W=85)\n",
            "Pandas(Index=585, Team='TOR', Year=1991, W=91)\n",
            "Pandas(Index=586, Team='ATL', Year=1990, W=65)\n",
            "Pandas(Index=587, Team='BAL', Year=1990, W=76)\n",
            "Pandas(Index=588, Team='BOS', Year=1990, W=88)\n",
            "Pandas(Index=589, Team='CAL', Year=1990, W=80)\n",
            "Pandas(Index=590, Team='CHC', Year=1990, W=77)\n",
            "Pandas(Index=591, Team='CHW', Year=1990, W=94)\n",
            "Pandas(Index=592, Team='CIN', Year=1990, W=91)\n",
            "Pandas(Index=593, Team='CLE', Year=1990, W=77)\n",
            "Pandas(Index=594, Team='DET', Year=1990, W=79)\n",
            "Pandas(Index=595, Team='HOU', Year=1990, W=75)\n",
            "Pandas(Index=596, Team='KCR', Year=1990, W=75)\n",
            "Pandas(Index=597, Team='LAD', Year=1990, W=86)\n",
            "Pandas(Index=598, Team='MIL', Year=1990, W=74)\n",
            "Pandas(Index=599, Team='MIN', Year=1990, W=74)\n",
            "Pandas(Index=600, Team='MON', Year=1990, W=85)\n",
            "Pandas(Index=601, Team='NYM', Year=1990, W=91)\n",
            "Pandas(Index=602, Team='NYY', Year=1990, W=67)\n",
            "Pandas(Index=603, Team='OAK', Year=1990, W=103)\n",
            "Pandas(Index=604, Team='PHI', Year=1990, W=77)\n",
            "Pandas(Index=605, Team='PIT', Year=1990, W=95)\n",
            "Pandas(Index=606, Team='SDP', Year=1990, W=75)\n",
            "Pandas(Index=607, Team='SEA', Year=1990, W=77)\n",
            "Pandas(Index=608, Team='SFG', Year=1990, W=85)\n",
            "Pandas(Index=609, Team='STL', Year=1990, W=70)\n",
            "Pandas(Index=610, Team='TEX', Year=1990, W=83)\n",
            "Pandas(Index=611, Team='TOR', Year=1990, W=86)\n",
            "Pandas(Index=612, Team='ATL', Year=1989, W=63)\n",
            "Pandas(Index=613, Team='BAL', Year=1989, W=87)\n",
            "Pandas(Index=614, Team='BOS', Year=1989, W=83)\n",
            "Pandas(Index=615, Team='CAL', Year=1989, W=91)\n",
            "Pandas(Index=616, Team='CHC', Year=1989, W=93)\n",
            "Pandas(Index=617, Team='CHW', Year=1989, W=69)\n",
            "Pandas(Index=618, Team='CIN', Year=1989, W=75)\n",
            "Pandas(Index=619, Team='CLE', Year=1989, W=73)\n",
            "Pandas(Index=620, Team='DET', Year=1989, W=59)\n",
            "Pandas(Index=621, Team='HOU', Year=1989, W=86)\n",
            "Pandas(Index=622, Team='KCR', Year=1989, W=92)\n",
            "Pandas(Index=623, Team='LAD', Year=1989, W=77)\n",
            "Pandas(Index=624, Team='MIL', Year=1989, W=81)\n",
            "Pandas(Index=625, Team='MIN', Year=1989, W=80)\n",
            "Pandas(Index=626, Team='MON', Year=1989, W=81)\n",
            "Pandas(Index=627, Team='NYM', Year=1989, W=87)\n",
            "Pandas(Index=628, Team='NYY', Year=1989, W=74)\n",
            "Pandas(Index=629, Team='OAK', Year=1989, W=99)\n",
            "Pandas(Index=630, Team='PHI', Year=1989, W=67)\n",
            "Pandas(Index=631, Team='PIT', Year=1989, W=74)\n",
            "Pandas(Index=632, Team='SDP', Year=1989, W=89)\n",
            "Pandas(Index=633, Team='SEA', Year=1989, W=73)\n",
            "Pandas(Index=634, Team='SFG', Year=1989, W=92)\n",
            "Pandas(Index=635, Team='STL', Year=1989, W=86)\n",
            "Pandas(Index=636, Team='TEX', Year=1989, W=83)\n",
            "Pandas(Index=637, Team='TOR', Year=1989, W=89)\n",
            "Pandas(Index=638, Team='ATL', Year=1988, W=54)\n",
            "Pandas(Index=639, Team='BAL', Year=1988, W=54)\n",
            "Pandas(Index=640, Team='BOS', Year=1988, W=89)\n",
            "Pandas(Index=641, Team='CAL', Year=1988, W=75)\n",
            "Pandas(Index=642, Team='CHC', Year=1988, W=77)\n",
            "Pandas(Index=643, Team='CHW', Year=1988, W=71)\n",
            "Pandas(Index=644, Team='CIN', Year=1988, W=87)\n",
            "Pandas(Index=645, Team='CLE', Year=1988, W=78)\n",
            "Pandas(Index=646, Team='DET', Year=1988, W=88)\n",
            "Pandas(Index=647, Team='HOU', Year=1988, W=82)\n",
            "Pandas(Index=648, Team='KCR', Year=1988, W=84)\n",
            "Pandas(Index=649, Team='LAD', Year=1988, W=94)\n",
            "Pandas(Index=650, Team='MIL', Year=1988, W=87)\n",
            "Pandas(Index=651, Team='MIN', Year=1988, W=91)\n",
            "Pandas(Index=652, Team='MON', Year=1988, W=81)\n",
            "Pandas(Index=653, Team='NYM', Year=1988, W=100)\n",
            "Pandas(Index=654, Team='NYY', Year=1988, W=85)\n",
            "Pandas(Index=655, Team='OAK', Year=1988, W=104)\n",
            "Pandas(Index=656, Team='PHI', Year=1988, W=65)\n",
            "Pandas(Index=657, Team='PIT', Year=1988, W=85)\n",
            "Pandas(Index=658, Team='SDP', Year=1988, W=83)\n",
            "Pandas(Index=659, Team='SEA', Year=1988, W=68)\n",
            "Pandas(Index=660, Team='SFG', Year=1988, W=83)\n",
            "Pandas(Index=661, Team='STL', Year=1988, W=76)\n",
            "Pandas(Index=662, Team='TEX', Year=1988, W=70)\n",
            "Pandas(Index=663, Team='TOR', Year=1988, W=87)\n",
            "Pandas(Index=664, Team='ATL', Year=1987, W=69)\n",
            "Pandas(Index=665, Team='BAL', Year=1987, W=67)\n",
            "Pandas(Index=666, Team='BOS', Year=1987, W=78)\n",
            "Pandas(Index=667, Team='CAL', Year=1987, W=75)\n",
            "Pandas(Index=668, Team='CHC', Year=1987, W=76)\n",
            "Pandas(Index=669, Team='CHW', Year=1987, W=77)\n",
            "Pandas(Index=670, Team='CIN', Year=1987, W=84)\n",
            "Pandas(Index=671, Team='CLE', Year=1987, W=61)\n",
            "Pandas(Index=672, Team='DET', Year=1987, W=98)\n",
            "Pandas(Index=673, Team='HOU', Year=1987, W=76)\n",
            "Pandas(Index=674, Team='KCR', Year=1987, W=83)\n",
            "Pandas(Index=675, Team='LAD', Year=1987, W=73)\n",
            "Pandas(Index=676, Team='MIL', Year=1987, W=91)\n",
            "Pandas(Index=677, Team='MIN', Year=1987, W=85)\n",
            "Pandas(Index=678, Team='MON', Year=1987, W=91)\n",
            "Pandas(Index=679, Team='NYM', Year=1987, W=92)\n",
            "Pandas(Index=680, Team='NYY', Year=1987, W=89)\n",
            "Pandas(Index=681, Team='OAK', Year=1987, W=81)\n",
            "Pandas(Index=682, Team='PHI', Year=1987, W=80)\n",
            "Pandas(Index=683, Team='PIT', Year=1987, W=80)\n",
            "Pandas(Index=684, Team='SDP', Year=1987, W=65)\n",
            "Pandas(Index=685, Team='SEA', Year=1987, W=78)\n",
            "Pandas(Index=686, Team='SFG', Year=1987, W=90)\n",
            "Pandas(Index=687, Team='STL', Year=1987, W=95)\n",
            "Pandas(Index=688, Team='TEX', Year=1987, W=75)\n",
            "Pandas(Index=689, Team='TOR', Year=1987, W=96)\n",
            "Pandas(Index=690, Team='ATL', Year=1986, W=72)\n",
            "Pandas(Index=691, Team='BAL', Year=1986, W=73)\n",
            "Pandas(Index=692, Team='BOS', Year=1986, W=95)\n",
            "Pandas(Index=693, Team='CAL', Year=1986, W=92)\n",
            "Pandas(Index=694, Team='CHC', Year=1986, W=70)\n",
            "Pandas(Index=695, Team='CHW', Year=1986, W=72)\n",
            "Pandas(Index=696, Team='CIN', Year=1986, W=86)\n",
            "Pandas(Index=697, Team='CLE', Year=1986, W=84)\n",
            "Pandas(Index=698, Team='DET', Year=1986, W=87)\n",
            "Pandas(Index=699, Team='HOU', Year=1986, W=96)\n",
            "Pandas(Index=700, Team='KCR', Year=1986, W=76)\n",
            "Pandas(Index=701, Team='LAD', Year=1986, W=73)\n",
            "Pandas(Index=702, Team='MIL', Year=1986, W=77)\n",
            "Pandas(Index=703, Team='MIN', Year=1986, W=71)\n",
            "Pandas(Index=704, Team='MON', Year=1986, W=78)\n",
            "Pandas(Index=705, Team='NYM', Year=1986, W=108)\n",
            "Pandas(Index=706, Team='NYY', Year=1986, W=90)\n",
            "Pandas(Index=707, Team='OAK', Year=1986, W=76)\n",
            "Pandas(Index=708, Team='PHI', Year=1986, W=86)\n",
            "Pandas(Index=709, Team='PIT', Year=1986, W=64)\n",
            "Pandas(Index=710, Team='SDP', Year=1986, W=74)\n",
            "Pandas(Index=711, Team='SEA', Year=1986, W=67)\n",
            "Pandas(Index=712, Team='SFG', Year=1986, W=83)\n",
            "Pandas(Index=713, Team='STL', Year=1986, W=79)\n",
            "Pandas(Index=714, Team='TEX', Year=1986, W=87)\n",
            "Pandas(Index=715, Team='TOR', Year=1986, W=86)\n",
            "Pandas(Index=716, Team='ATL', Year=1985, W=66)\n",
            "Pandas(Index=717, Team='BAL', Year=1985, W=83)\n",
            "Pandas(Index=718, Team='BOS', Year=1985, W=81)\n",
            "Pandas(Index=719, Team='CAL', Year=1985, W=90)\n",
            "Pandas(Index=720, Team='CHC', Year=1985, W=77)\n",
            "Pandas(Index=721, Team='CHW', Year=1985, W=85)\n",
            "Pandas(Index=722, Team='CIN', Year=1985, W=89)\n",
            "Pandas(Index=723, Team='CLE', Year=1985, W=60)\n",
            "Pandas(Index=724, Team='DET', Year=1985, W=84)\n",
            "Pandas(Index=725, Team='HOU', Year=1985, W=83)\n",
            "Pandas(Index=726, Team='KCR', Year=1985, W=91)\n",
            "Pandas(Index=727, Team='LAD', Year=1985, W=95)\n",
            "Pandas(Index=728, Team='MIL', Year=1985, W=71)\n",
            "Pandas(Index=729, Team='MIN', Year=1985, W=77)\n",
            "Pandas(Index=730, Team='MON', Year=1985, W=84)\n",
            "Pandas(Index=731, Team='NYM', Year=1985, W=98)\n",
            "Pandas(Index=732, Team='NYY', Year=1985, W=97)\n",
            "Pandas(Index=733, Team='OAK', Year=1985, W=77)\n",
            "Pandas(Index=734, Team='PHI', Year=1985, W=75)\n",
            "Pandas(Index=735, Team='PIT', Year=1985, W=57)\n",
            "Pandas(Index=736, Team='SDP', Year=1985, W=83)\n",
            "Pandas(Index=737, Team='SEA', Year=1985, W=74)\n",
            "Pandas(Index=738, Team='SFG', Year=1985, W=62)\n",
            "Pandas(Index=739, Team='STL', Year=1985, W=101)\n",
            "Pandas(Index=740, Team='TEX', Year=1985, W=62)\n",
            "Pandas(Index=741, Team='TOR', Year=1985, W=99)\n",
            "Pandas(Index=742, Team='ATL', Year=1984, W=80)\n",
            "Pandas(Index=743, Team='BAL', Year=1984, W=85)\n",
            "Pandas(Index=744, Team='BOS', Year=1984, W=86)\n",
            "Pandas(Index=745, Team='CAL', Year=1984, W=81)\n",
            "Pandas(Index=746, Team='CHC', Year=1984, W=96)\n",
            "Pandas(Index=747, Team='CHW', Year=1984, W=74)\n",
            "Pandas(Index=748, Team='CIN', Year=1984, W=70)\n",
            "Pandas(Index=749, Team='CLE', Year=1984, W=75)\n",
            "Pandas(Index=750, Team='DET', Year=1984, W=104)\n",
            "Pandas(Index=751, Team='HOU', Year=1984, W=80)\n",
            "Pandas(Index=752, Team='KCR', Year=1984, W=84)\n",
            "Pandas(Index=753, Team='LAD', Year=1984, W=79)\n",
            "Pandas(Index=754, Team='MIL', Year=1984, W=67)\n",
            "Pandas(Index=755, Team='MIN', Year=1984, W=81)\n",
            "Pandas(Index=756, Team='MON', Year=1984, W=78)\n",
            "Pandas(Index=757, Team='NYM', Year=1984, W=90)\n",
            "Pandas(Index=758, Team='NYY', Year=1984, W=87)\n",
            "Pandas(Index=759, Team='OAK', Year=1984, W=77)\n",
            "Pandas(Index=760, Team='PHI', Year=1984, W=81)\n",
            "Pandas(Index=761, Team='PIT', Year=1984, W=75)\n",
            "Pandas(Index=762, Team='SDP', Year=1984, W=92)\n",
            "Pandas(Index=763, Team='SEA', Year=1984, W=74)\n",
            "Pandas(Index=764, Team='SFG', Year=1984, W=66)\n",
            "Pandas(Index=765, Team='STL', Year=1984, W=84)\n",
            "Pandas(Index=766, Team='TEX', Year=1984, W=69)\n",
            "Pandas(Index=767, Team='TOR', Year=1984, W=89)\n",
            "Pandas(Index=768, Team='ATL', Year=1983, W=88)\n",
            "Pandas(Index=769, Team='BAL', Year=1983, W=98)\n",
            "Pandas(Index=770, Team='BOS', Year=1983, W=78)\n",
            "Pandas(Index=771, Team='CAL', Year=1983, W=70)\n",
            "Pandas(Index=772, Team='CHC', Year=1983, W=71)\n",
            "Pandas(Index=773, Team='CHW', Year=1983, W=99)\n",
            "Pandas(Index=774, Team='CIN', Year=1983, W=74)\n",
            "Pandas(Index=775, Team='CLE', Year=1983, W=70)\n",
            "Pandas(Index=776, Team='DET', Year=1983, W=92)\n",
            "Pandas(Index=777, Team='HOU', Year=1983, W=85)\n",
            "Pandas(Index=778, Team='KCR', Year=1983, W=79)\n",
            "Pandas(Index=779, Team='LAD', Year=1983, W=91)\n",
            "Pandas(Index=780, Team='MIL', Year=1983, W=87)\n",
            "Pandas(Index=781, Team='MIN', Year=1983, W=70)\n",
            "Pandas(Index=782, Team='MON', Year=1983, W=82)\n",
            "Pandas(Index=783, Team='NYM', Year=1983, W=68)\n",
            "Pandas(Index=784, Team='NYY', Year=1983, W=91)\n",
            "Pandas(Index=785, Team='OAK', Year=1983, W=74)\n",
            "Pandas(Index=786, Team='PHI', Year=1983, W=90)\n",
            "Pandas(Index=787, Team='PIT', Year=1983, W=84)\n",
            "Pandas(Index=788, Team='SDP', Year=1983, W=81)\n",
            "Pandas(Index=789, Team='SEA', Year=1983, W=60)\n",
            "Pandas(Index=790, Team='SFG', Year=1983, W=79)\n",
            "Pandas(Index=791, Team='STL', Year=1983, W=79)\n",
            "Pandas(Index=792, Team='TEX', Year=1983, W=77)\n",
            "Pandas(Index=793, Team='TOR', Year=1983, W=89)\n",
            "Pandas(Index=794, Team='ATL', Year=1982, W=89)\n",
            "Pandas(Index=795, Team='BAL', Year=1982, W=94)\n",
            "Pandas(Index=796, Team='BOS', Year=1982, W=89)\n",
            "Pandas(Index=797, Team='CAL', Year=1982, W=93)\n",
            "Pandas(Index=798, Team='CHC', Year=1982, W=73)\n",
            "Pandas(Index=799, Team='CHW', Year=1982, W=87)\n",
            "Pandas(Index=800, Team='CIN', Year=1982, W=61)\n",
            "Pandas(Index=801, Team='CLE', Year=1982, W=78)\n",
            "Pandas(Index=802, Team='DET', Year=1982, W=83)\n",
            "Pandas(Index=803, Team='HOU', Year=1982, W=77)\n",
            "Pandas(Index=804, Team='KCR', Year=1982, W=90)\n",
            "Pandas(Index=805, Team='LAD', Year=1982, W=88)\n",
            "Pandas(Index=806, Team='MIL', Year=1982, W=95)\n",
            "Pandas(Index=807, Team='MIN', Year=1982, W=60)\n",
            "Pandas(Index=808, Team='MON', Year=1982, W=86)\n",
            "Pandas(Index=809, Team='NYM', Year=1982, W=65)\n",
            "Pandas(Index=810, Team='NYY', Year=1982, W=79)\n",
            "Pandas(Index=811, Team='OAK', Year=1982, W=68)\n",
            "Pandas(Index=812, Team='PHI', Year=1982, W=89)\n",
            "Pandas(Index=813, Team='PIT', Year=1982, W=84)\n",
            "Pandas(Index=814, Team='SDP', Year=1982, W=81)\n",
            "Pandas(Index=815, Team='SEA', Year=1982, W=76)\n",
            "Pandas(Index=816, Team='SFG', Year=1982, W=87)\n",
            "Pandas(Index=817, Team='STL', Year=1982, W=92)\n",
            "Pandas(Index=818, Team='TEX', Year=1982, W=64)\n",
            "Pandas(Index=819, Team='TOR', Year=1982, W=78)\n",
            "Pandas(Index=820, Team='ATL', Year=1980, W=81)\n",
            "Pandas(Index=821, Team='BAL', Year=1980, W=100)\n",
            "Pandas(Index=822, Team='BOS', Year=1980, W=83)\n",
            "Pandas(Index=823, Team='CAL', Year=1980, W=65)\n",
            "Pandas(Index=824, Team='CHC', Year=1980, W=64)\n",
            "Pandas(Index=825, Team='CHW', Year=1980, W=70)\n",
            "Pandas(Index=826, Team='CIN', Year=1980, W=89)\n",
            "Pandas(Index=827, Team='CLE', Year=1980, W=79)\n",
            "Pandas(Index=828, Team='DET', Year=1980, W=84)\n",
            "Pandas(Index=829, Team='HOU', Year=1980, W=93)\n",
            "Pandas(Index=830, Team='KCR', Year=1980, W=97)\n",
            "Pandas(Index=831, Team='LAD', Year=1980, W=92)\n",
            "Pandas(Index=832, Team='MIL', Year=1980, W=86)\n",
            "Pandas(Index=833, Team='MIN', Year=1980, W=77)\n",
            "Pandas(Index=834, Team='MON', Year=1980, W=90)\n",
            "Pandas(Index=835, Team='NYM', Year=1980, W=67)\n",
            "Pandas(Index=836, Team='NYY', Year=1980, W=103)\n",
            "Pandas(Index=837, Team='OAK', Year=1980, W=83)\n",
            "Pandas(Index=838, Team='PHI', Year=1980, W=91)\n",
            "Pandas(Index=839, Team='PIT', Year=1980, W=83)\n",
            "Pandas(Index=840, Team='SDP', Year=1980, W=73)\n",
            "Pandas(Index=841, Team='SEA', Year=1980, W=59)\n",
            "Pandas(Index=842, Team='SFG', Year=1980, W=75)\n",
            "Pandas(Index=843, Team='STL', Year=1980, W=74)\n",
            "Pandas(Index=844, Team='TEX', Year=1980, W=76)\n",
            "Pandas(Index=845, Team='TOR', Year=1980, W=67)\n",
            "Pandas(Index=846, Team='ATL', Year=1979, W=66)\n",
            "Pandas(Index=847, Team='BAL', Year=1979, W=102)\n",
            "Pandas(Index=848, Team='BOS', Year=1979, W=91)\n",
            "Pandas(Index=849, Team='CAL', Year=1979, W=88)\n",
            "Pandas(Index=850, Team='CHC', Year=1979, W=80)\n",
            "Pandas(Index=851, Team='CHW', Year=1979, W=73)\n",
            "Pandas(Index=852, Team='CIN', Year=1979, W=90)\n",
            "Pandas(Index=853, Team='CLE', Year=1979, W=81)\n",
            "Pandas(Index=854, Team='DET', Year=1979, W=84)\n",
            "Pandas(Index=855, Team='HOU', Year=1979, W=89)\n",
            "Pandas(Index=856, Team='KCR', Year=1979, W=85)\n",
            "Pandas(Index=857, Team='LAD', Year=1979, W=79)\n",
            "Pandas(Index=858, Team='MIL', Year=1979, W=95)\n",
            "Pandas(Index=859, Team='MIN', Year=1979, W=82)\n",
            "Pandas(Index=860, Team='MON', Year=1979, W=95)\n",
            "Pandas(Index=861, Team='NYM', Year=1979, W=63)\n",
            "Pandas(Index=862, Team='NYY', Year=1979, W=89)\n",
            "Pandas(Index=863, Team='OAK', Year=1979, W=54)\n",
            "Pandas(Index=864, Team='PHI', Year=1979, W=84)\n",
            "Pandas(Index=865, Team='PIT', Year=1979, W=98)\n",
            "Pandas(Index=866, Team='SDP', Year=1979, W=68)\n",
            "Pandas(Index=867, Team='SEA', Year=1979, W=67)\n",
            "Pandas(Index=868, Team='SFG', Year=1979, W=71)\n",
            "Pandas(Index=869, Team='STL', Year=1979, W=86)\n",
            "Pandas(Index=870, Team='TEX', Year=1979, W=83)\n",
            "Pandas(Index=871, Team='TOR', Year=1979, W=53)\n",
            "Pandas(Index=872, Team='ATL', Year=1978, W=69)\n",
            "Pandas(Index=873, Team='BAL', Year=1978, W=90)\n",
            "Pandas(Index=874, Team='BOS', Year=1978, W=99)\n",
            "Pandas(Index=875, Team='CAL', Year=1978, W=87)\n",
            "Pandas(Index=876, Team='CHC', Year=1978, W=79)\n",
            "Pandas(Index=877, Team='CHW', Year=1978, W=71)\n",
            "Pandas(Index=878, Team='CIN', Year=1978, W=92)\n",
            "Pandas(Index=879, Team='CLE', Year=1978, W=69)\n",
            "Pandas(Index=880, Team='DET', Year=1978, W=86)\n",
            "Pandas(Index=881, Team='HOU', Year=1978, W=74)\n",
            "Pandas(Index=882, Team='KCR', Year=1978, W=92)\n",
            "Pandas(Index=883, Team='LAD', Year=1978, W=95)\n",
            "Pandas(Index=884, Team='MIL', Year=1978, W=93)\n",
            "Pandas(Index=885, Team='MIN', Year=1978, W=73)\n",
            "Pandas(Index=886, Team='MON', Year=1978, W=76)\n",
            "Pandas(Index=887, Team='NYM', Year=1978, W=66)\n",
            "Pandas(Index=888, Team='NYY', Year=1978, W=100)\n",
            "Pandas(Index=889, Team='OAK', Year=1978, W=69)\n",
            "Pandas(Index=890, Team='PHI', Year=1978, W=90)\n",
            "Pandas(Index=891, Team='PIT', Year=1978, W=88)\n",
            "Pandas(Index=892, Team='SDP', Year=1978, W=84)\n",
            "Pandas(Index=893, Team='SEA', Year=1978, W=56)\n",
            "Pandas(Index=894, Team='SFG', Year=1978, W=89)\n",
            "Pandas(Index=895, Team='STL', Year=1978, W=69)\n",
            "Pandas(Index=896, Team='TEX', Year=1978, W=87)\n",
            "Pandas(Index=897, Team='TOR', Year=1978, W=59)\n",
            "Pandas(Index=898, Team='ATL', Year=1977, W=61)\n",
            "Pandas(Index=899, Team='BAL', Year=1977, W=97)\n",
            "Pandas(Index=900, Team='BOS', Year=1977, W=97)\n",
            "Pandas(Index=901, Team='CAL', Year=1977, W=74)\n",
            "Pandas(Index=902, Team='CHC', Year=1977, W=81)\n",
            "Pandas(Index=903, Team='CHW', Year=1977, W=90)\n",
            "Pandas(Index=904, Team='CIN', Year=1977, W=88)\n",
            "Pandas(Index=905, Team='CLE', Year=1977, W=71)\n",
            "Pandas(Index=906, Team='DET', Year=1977, W=74)\n",
            "Pandas(Index=907, Team='HOU', Year=1977, W=81)\n",
            "Pandas(Index=908, Team='KCR', Year=1977, W=102)\n",
            "Pandas(Index=909, Team='LAD', Year=1977, W=98)\n",
            "Pandas(Index=910, Team='MIL', Year=1977, W=67)\n",
            "Pandas(Index=911, Team='MIN', Year=1977, W=84)\n",
            "Pandas(Index=912, Team='MON', Year=1977, W=75)\n",
            "Pandas(Index=913, Team='NYM', Year=1977, W=64)\n",
            "Pandas(Index=914, Team='NYY', Year=1977, W=100)\n",
            "Pandas(Index=915, Team='OAK', Year=1977, W=63)\n",
            "Pandas(Index=916, Team='PHI', Year=1977, W=101)\n",
            "Pandas(Index=917, Team='PIT', Year=1977, W=96)\n",
            "Pandas(Index=918, Team='SDP', Year=1977, W=69)\n",
            "Pandas(Index=919, Team='SEA', Year=1977, W=64)\n",
            "Pandas(Index=920, Team='SFG', Year=1977, W=75)\n",
            "Pandas(Index=921, Team='STL', Year=1977, W=83)\n",
            "Pandas(Index=922, Team='TEX', Year=1977, W=94)\n",
            "Pandas(Index=923, Team='TOR', Year=1977, W=54)\n",
            "Pandas(Index=924, Team='ATL', Year=1976, W=70)\n",
            "Pandas(Index=925, Team='BAL', Year=1976, W=88)\n",
            "Pandas(Index=926, Team='BOS', Year=1976, W=83)\n",
            "Pandas(Index=927, Team='CAL', Year=1976, W=76)\n",
            "Pandas(Index=928, Team='CHC', Year=1976, W=75)\n",
            "Pandas(Index=929, Team='CHW', Year=1976, W=64)\n",
            "Pandas(Index=930, Team='CIN', Year=1976, W=102)\n",
            "Pandas(Index=931, Team='CLE', Year=1976, W=81)\n",
            "Pandas(Index=932, Team='DET', Year=1976, W=74)\n",
            "Pandas(Index=933, Team='HOU', Year=1976, W=80)\n",
            "Pandas(Index=934, Team='KCR', Year=1976, W=90)\n",
            "Pandas(Index=935, Team='LAD', Year=1976, W=92)\n",
            "Pandas(Index=936, Team='MIL', Year=1976, W=66)\n",
            "Pandas(Index=937, Team='MIN', Year=1976, W=85)\n",
            "Pandas(Index=938, Team='MON', Year=1976, W=55)\n",
            "Pandas(Index=939, Team='NYM', Year=1976, W=86)\n",
            "Pandas(Index=940, Team='NYY', Year=1976, W=97)\n",
            "Pandas(Index=941, Team='OAK', Year=1976, W=87)\n",
            "Pandas(Index=942, Team='PHI', Year=1976, W=101)\n",
            "Pandas(Index=943, Team='PIT', Year=1976, W=92)\n",
            "Pandas(Index=944, Team='SDP', Year=1976, W=73)\n",
            "Pandas(Index=945, Team='SFG', Year=1976, W=74)\n",
            "Pandas(Index=946, Team='STL', Year=1976, W=72)\n",
            "Pandas(Index=947, Team='TEX', Year=1976, W=76)\n",
            "Pandas(Index=948, Team='ATL', Year=1975, W=67)\n",
            "Pandas(Index=949, Team='BAL', Year=1975, W=90)\n",
            "Pandas(Index=950, Team='BOS', Year=1975, W=95)\n",
            "Pandas(Index=951, Team='CAL', Year=1975, W=72)\n",
            "Pandas(Index=952, Team='CHC', Year=1975, W=75)\n",
            "Pandas(Index=953, Team='CHW', Year=1975, W=75)\n",
            "Pandas(Index=954, Team='CIN', Year=1975, W=108)\n",
            "Pandas(Index=955, Team='CLE', Year=1975, W=79)\n",
            "Pandas(Index=956, Team='DET', Year=1975, W=57)\n",
            "Pandas(Index=957, Team='HOU', Year=1975, W=64)\n",
            "Pandas(Index=958, Team='KCR', Year=1975, W=91)\n",
            "Pandas(Index=959, Team='LAD', Year=1975, W=88)\n",
            "Pandas(Index=960, Team='MIL', Year=1975, W=68)\n",
            "Pandas(Index=961, Team='MIN', Year=1975, W=76)\n",
            "Pandas(Index=962, Team='MON', Year=1975, W=75)\n",
            "Pandas(Index=963, Team='NYM', Year=1975, W=82)\n",
            "Pandas(Index=964, Team='NYY', Year=1975, W=83)\n",
            "Pandas(Index=965, Team='OAK', Year=1975, W=98)\n",
            "Pandas(Index=966, Team='PHI', Year=1975, W=86)\n",
            "Pandas(Index=967, Team='PIT', Year=1975, W=92)\n",
            "Pandas(Index=968, Team='SDP', Year=1975, W=71)\n",
            "Pandas(Index=969, Team='SFG', Year=1975, W=80)\n",
            "Pandas(Index=970, Team='STL', Year=1975, W=82)\n",
            "Pandas(Index=971, Team='TEX', Year=1975, W=79)\n",
            "Pandas(Index=972, Team='ATL', Year=1974, W=88)\n",
            "Pandas(Index=973, Team='BAL', Year=1974, W=91)\n",
            "Pandas(Index=974, Team='BOS', Year=1974, W=84)\n",
            "Pandas(Index=975, Team='CAL', Year=1974, W=68)\n",
            "Pandas(Index=976, Team='CHC', Year=1974, W=66)\n",
            "Pandas(Index=977, Team='CHW', Year=1974, W=80)\n",
            "Pandas(Index=978, Team='CIN', Year=1974, W=98)\n",
            "Pandas(Index=979, Team='CLE', Year=1974, W=77)\n",
            "Pandas(Index=980, Team='DET', Year=1974, W=72)\n",
            "Pandas(Index=981, Team='HOU', Year=1974, W=81)\n",
            "Pandas(Index=982, Team='KCR', Year=1974, W=77)\n",
            "Pandas(Index=983, Team='LAD', Year=1974, W=102)\n",
            "Pandas(Index=984, Team='MIL', Year=1974, W=76)\n",
            "Pandas(Index=985, Team='MIN', Year=1974, W=82)\n",
            "Pandas(Index=986, Team='MON', Year=1974, W=79)\n",
            "Pandas(Index=987, Team='NYM', Year=1974, W=71)\n",
            "Pandas(Index=988, Team='NYY', Year=1974, W=89)\n",
            "Pandas(Index=989, Team='OAK', Year=1974, W=90)\n",
            "Pandas(Index=990, Team='PHI', Year=1974, W=80)\n",
            "Pandas(Index=991, Team='PIT', Year=1974, W=88)\n",
            "Pandas(Index=992, Team='SDP', Year=1974, W=60)\n",
            "Pandas(Index=993, Team='SFG', Year=1974, W=72)\n",
            "Pandas(Index=994, Team='STL', Year=1974, W=86)\n",
            "Pandas(Index=995, Team='TEX', Year=1974, W=83)\n",
            "Pandas(Index=996, Team='ATL', Year=1973, W=76)\n",
            "Pandas(Index=997, Team='BAL', Year=1973, W=97)\n",
            "Pandas(Index=998, Team='BOS', Year=1973, W=89)\n",
            "Pandas(Index=999, Team='CAL', Year=1973, W=79)\n",
            "Pandas(Index=1000, Team='CHC', Year=1973, W=77)\n",
            "Pandas(Index=1001, Team='CHW', Year=1973, W=77)\n",
            "Pandas(Index=1002, Team='CIN', Year=1973, W=99)\n",
            "Pandas(Index=1003, Team='CLE', Year=1973, W=71)\n",
            "Pandas(Index=1004, Team='DET', Year=1973, W=85)\n",
            "Pandas(Index=1005, Team='HOU', Year=1973, W=82)\n",
            "Pandas(Index=1006, Team='KCR', Year=1973, W=88)\n",
            "Pandas(Index=1007, Team='LAD', Year=1973, W=95)\n",
            "Pandas(Index=1008, Team='MIL', Year=1973, W=74)\n",
            "Pandas(Index=1009, Team='MIN', Year=1973, W=81)\n",
            "Pandas(Index=1010, Team='MON', Year=1973, W=79)\n",
            "Pandas(Index=1011, Team='NYM', Year=1973, W=82)\n",
            "Pandas(Index=1012, Team='NYY', Year=1973, W=80)\n",
            "Pandas(Index=1013, Team='OAK', Year=1973, W=94)\n",
            "Pandas(Index=1014, Team='PHI', Year=1973, W=71)\n",
            "Pandas(Index=1015, Team='PIT', Year=1973, W=80)\n",
            "Pandas(Index=1016, Team='SDP', Year=1973, W=60)\n",
            "Pandas(Index=1017, Team='SFG', Year=1973, W=88)\n",
            "Pandas(Index=1018, Team='STL', Year=1973, W=81)\n",
            "Pandas(Index=1019, Team='TEX', Year=1973, W=57)\n",
            "Pandas(Index=1020, Team='ATL', Year=1971, W=82)\n",
            "Pandas(Index=1021, Team='BAL', Year=1971, W=101)\n",
            "Pandas(Index=1022, Team='BOS', Year=1971, W=85)\n",
            "Pandas(Index=1023, Team='CAL', Year=1971, W=76)\n",
            "Pandas(Index=1024, Team='CHC', Year=1971, W=83)\n",
            "Pandas(Index=1025, Team='CHW', Year=1971, W=79)\n",
            "Pandas(Index=1026, Team='CIN', Year=1971, W=79)\n",
            "Pandas(Index=1027, Team='CLE', Year=1971, W=60)\n",
            "Pandas(Index=1028, Team='DET', Year=1971, W=91)\n",
            "Pandas(Index=1029, Team='HOU', Year=1971, W=79)\n",
            "Pandas(Index=1030, Team='KCR', Year=1971, W=85)\n",
            "Pandas(Index=1031, Team='LAD', Year=1971, W=89)\n",
            "Pandas(Index=1032, Team='MIL', Year=1971, W=69)\n",
            "Pandas(Index=1033, Team='MIN', Year=1971, W=74)\n",
            "Pandas(Index=1034, Team='MON', Year=1971, W=71)\n",
            "Pandas(Index=1035, Team='NYM', Year=1971, W=83)\n",
            "Pandas(Index=1036, Team='NYY', Year=1971, W=81)\n",
            "Pandas(Index=1037, Team='OAK', Year=1971, W=101)\n",
            "Pandas(Index=1038, Team='PHI', Year=1971, W=67)\n",
            "Pandas(Index=1039, Team='PIT', Year=1971, W=97)\n",
            "Pandas(Index=1040, Team='SDP', Year=1971, W=61)\n",
            "Pandas(Index=1041, Team='SFG', Year=1971, W=90)\n",
            "Pandas(Index=1042, Team='STL', Year=1971, W=90)\n",
            "Pandas(Index=1043, Team='WSA', Year=1971, W=63)\n",
            "Pandas(Index=1044, Team='ATL', Year=1970, W=76)\n",
            "Pandas(Index=1045, Team='BAL', Year=1970, W=108)\n",
            "Pandas(Index=1046, Team='BOS', Year=1970, W=87)\n",
            "Pandas(Index=1047, Team='CAL', Year=1970, W=86)\n",
            "Pandas(Index=1048, Team='CHC', Year=1970, W=84)\n",
            "Pandas(Index=1049, Team='CHW', Year=1970, W=56)\n",
            "Pandas(Index=1050, Team='CIN', Year=1970, W=102)\n",
            "Pandas(Index=1051, Team='CLE', Year=1970, W=76)\n",
            "Pandas(Index=1052, Team='DET', Year=1970, W=79)\n",
            "Pandas(Index=1053, Team='HOU', Year=1970, W=79)\n",
            "Pandas(Index=1054, Team='KCR', Year=1970, W=65)\n",
            "Pandas(Index=1055, Team='LAD', Year=1970, W=87)\n",
            "Pandas(Index=1056, Team='MIL', Year=1970, W=65)\n",
            "Pandas(Index=1057, Team='MIN', Year=1970, W=98)\n",
            "Pandas(Index=1058, Team='MON', Year=1970, W=73)\n",
            "Pandas(Index=1059, Team='NYM', Year=1970, W=83)\n",
            "Pandas(Index=1060, Team='NYY', Year=1970, W=93)\n",
            "Pandas(Index=1061, Team='OAK', Year=1970, W=89)\n",
            "Pandas(Index=1062, Team='PHI', Year=1970, W=73)\n",
            "Pandas(Index=1063, Team='PIT', Year=1970, W=89)\n",
            "Pandas(Index=1064, Team='SDP', Year=1970, W=63)\n",
            "Pandas(Index=1065, Team='SFG', Year=1970, W=86)\n",
            "Pandas(Index=1066, Team='STL', Year=1970, W=76)\n",
            "Pandas(Index=1067, Team='WSA', Year=1970, W=70)\n",
            "Pandas(Index=1068, Team='ATL', Year=1969, W=93)\n",
            "Pandas(Index=1069, Team='BAL', Year=1969, W=109)\n",
            "Pandas(Index=1070, Team='BOS', Year=1969, W=87)\n",
            "Pandas(Index=1071, Team='CAL', Year=1969, W=71)\n",
            "Pandas(Index=1072, Team='CHC', Year=1969, W=92)\n",
            "Pandas(Index=1073, Team='CHW', Year=1969, W=68)\n",
            "Pandas(Index=1074, Team='CIN', Year=1969, W=89)\n",
            "Pandas(Index=1075, Team='CLE', Year=1969, W=62)\n",
            "Pandas(Index=1076, Team='DET', Year=1969, W=90)\n",
            "Pandas(Index=1077, Team='HOU', Year=1969, W=81)\n",
            "Pandas(Index=1078, Team='KCR', Year=1969, W=69)\n",
            "Pandas(Index=1079, Team='LAD', Year=1969, W=85)\n",
            "Pandas(Index=1080, Team='MIN', Year=1969, W=97)\n",
            "Pandas(Index=1081, Team='MON', Year=1969, W=52)\n",
            "Pandas(Index=1082, Team='NYM', Year=1969, W=100)\n",
            "Pandas(Index=1083, Team='NYY', Year=1969, W=80)\n",
            "Pandas(Index=1084, Team='OAK', Year=1969, W=88)\n",
            "Pandas(Index=1085, Team='PHI', Year=1969, W=63)\n",
            "Pandas(Index=1086, Team='PIT', Year=1969, W=88)\n",
            "Pandas(Index=1087, Team='SDP', Year=1969, W=52)\n",
            "Pandas(Index=1088, Team='SEP', Year=1969, W=64)\n",
            "Pandas(Index=1089, Team='SFG', Year=1969, W=90)\n",
            "Pandas(Index=1090, Team='STL', Year=1969, W=87)\n",
            "Pandas(Index=1091, Team='WSA', Year=1969, W=86)\n",
            "Pandas(Index=1092, Team='ATL', Year=1968, W=81)\n",
            "Pandas(Index=1093, Team='BAL', Year=1968, W=91)\n",
            "Pandas(Index=1094, Team='BOS', Year=1968, W=86)\n",
            "Pandas(Index=1095, Team='CAL', Year=1968, W=67)\n",
            "Pandas(Index=1096, Team='CHC', Year=1968, W=84)\n",
            "Pandas(Index=1097, Team='CHW', Year=1968, W=67)\n",
            "Pandas(Index=1098, Team='CIN', Year=1968, W=83)\n",
            "Pandas(Index=1099, Team='CLE', Year=1968, W=86)\n",
            "Pandas(Index=1100, Team='DET', Year=1968, W=103)\n",
            "Pandas(Index=1101, Team='HOU', Year=1968, W=72)\n",
            "Pandas(Index=1102, Team='LAD', Year=1968, W=76)\n",
            "Pandas(Index=1103, Team='MIN', Year=1968, W=79)\n",
            "Pandas(Index=1104, Team='NYM', Year=1968, W=73)\n",
            "Pandas(Index=1105, Team='NYY', Year=1968, W=83)\n",
            "Pandas(Index=1106, Team='OAK', Year=1968, W=82)\n",
            "Pandas(Index=1107, Team='PHI', Year=1968, W=76)\n",
            "Pandas(Index=1108, Team='PIT', Year=1968, W=80)\n",
            "Pandas(Index=1109, Team='SFG', Year=1968, W=88)\n",
            "Pandas(Index=1110, Team='STL', Year=1968, W=97)\n",
            "Pandas(Index=1111, Team='WSA', Year=1968, W=65)\n",
            "Pandas(Index=1112, Team='ATL', Year=1967, W=77)\n",
            "Pandas(Index=1113, Team='BAL', Year=1967, W=76)\n",
            "Pandas(Index=1114, Team='BOS', Year=1967, W=92)\n",
            "Pandas(Index=1115, Team='CAL', Year=1967, W=84)\n",
            "Pandas(Index=1116, Team='CHC', Year=1967, W=87)\n",
            "Pandas(Index=1117, Team='CHW', Year=1967, W=89)\n",
            "Pandas(Index=1118, Team='CIN', Year=1967, W=87)\n",
            "Pandas(Index=1119, Team='CLE', Year=1967, W=75)\n",
            "Pandas(Index=1120, Team='DET', Year=1967, W=91)\n",
            "Pandas(Index=1121, Team='HOU', Year=1967, W=69)\n",
            "Pandas(Index=1122, Team='KCA', Year=1967, W=62)\n",
            "Pandas(Index=1123, Team='LAD', Year=1967, W=73)\n",
            "Pandas(Index=1124, Team='MIN', Year=1967, W=91)\n",
            "Pandas(Index=1125, Team='NYM', Year=1967, W=61)\n",
            "Pandas(Index=1126, Team='NYY', Year=1967, W=72)\n",
            "Pandas(Index=1127, Team='PHI', Year=1967, W=82)\n",
            "Pandas(Index=1128, Team='PIT', Year=1967, W=81)\n",
            "Pandas(Index=1129, Team='SFG', Year=1967, W=91)\n",
            "Pandas(Index=1130, Team='STL', Year=1967, W=101)\n",
            "Pandas(Index=1131, Team='WSA', Year=1967, W=76)\n",
            "Pandas(Index=1132, Team='ATL', Year=1966, W=85)\n",
            "Pandas(Index=1133, Team='BAL', Year=1966, W=97)\n",
            "Pandas(Index=1134, Team='BOS', Year=1966, W=72)\n",
            "Pandas(Index=1135, Team='CAL', Year=1966, W=80)\n",
            "Pandas(Index=1136, Team='CHC', Year=1966, W=59)\n",
            "Pandas(Index=1137, Team='CHW', Year=1966, W=83)\n",
            "Pandas(Index=1138, Team='CIN', Year=1966, W=76)\n",
            "Pandas(Index=1139, Team='CLE', Year=1966, W=81)\n",
            "Pandas(Index=1140, Team='DET', Year=1966, W=88)\n",
            "Pandas(Index=1141, Team='HOU', Year=1966, W=72)\n",
            "Pandas(Index=1142, Team='KCA', Year=1966, W=74)\n",
            "Pandas(Index=1143, Team='LAD', Year=1966, W=95)\n",
            "Pandas(Index=1144, Team='MIN', Year=1966, W=89)\n",
            "Pandas(Index=1145, Team='NYM', Year=1966, W=66)\n",
            "Pandas(Index=1146, Team='NYY', Year=1966, W=70)\n",
            "Pandas(Index=1147, Team='PHI', Year=1966, W=87)\n",
            "Pandas(Index=1148, Team='PIT', Year=1966, W=92)\n",
            "Pandas(Index=1149, Team='SFG', Year=1966, W=93)\n",
            "Pandas(Index=1150, Team='STL', Year=1966, W=83)\n",
            "Pandas(Index=1151, Team='WSA', Year=1966, W=71)\n",
            "Pandas(Index=1152, Team='BAL', Year=1965, W=94)\n",
            "Pandas(Index=1153, Team='BOS', Year=1965, W=62)\n",
            "Pandas(Index=1154, Team='CAL', Year=1965, W=75)\n",
            "Pandas(Index=1155, Team='CHC', Year=1965, W=72)\n",
            "Pandas(Index=1156, Team='CHW', Year=1965, W=95)\n",
            "Pandas(Index=1157, Team='CIN', Year=1965, W=89)\n",
            "Pandas(Index=1158, Team='CLE', Year=1965, W=87)\n",
            "Pandas(Index=1159, Team='DET', Year=1965, W=89)\n",
            "Pandas(Index=1160, Team='HOU', Year=1965, W=65)\n",
            "Pandas(Index=1161, Team='KCA', Year=1965, W=59)\n",
            "Pandas(Index=1162, Team='LAD', Year=1965, W=97)\n",
            "Pandas(Index=1163, Team='MIN', Year=1965, W=102)\n",
            "Pandas(Index=1164, Team='MLN', Year=1965, W=86)\n",
            "Pandas(Index=1165, Team='NYM', Year=1965, W=50)\n",
            "Pandas(Index=1166, Team='NYY', Year=1965, W=77)\n",
            "Pandas(Index=1167, Team='PHI', Year=1965, W=85)\n",
            "Pandas(Index=1168, Team='PIT', Year=1965, W=90)\n",
            "Pandas(Index=1169, Team='SFG', Year=1965, W=95)\n",
            "Pandas(Index=1170, Team='STL', Year=1965, W=80)\n",
            "Pandas(Index=1171, Team='WSA', Year=1965, W=70)\n",
            "Pandas(Index=1172, Team='BAL', Year=1964, W=97)\n",
            "Pandas(Index=1173, Team='BOS', Year=1964, W=72)\n",
            "Pandas(Index=1174, Team='CHC', Year=1964, W=76)\n",
            "Pandas(Index=1175, Team='CHW', Year=1964, W=98)\n",
            "Pandas(Index=1176, Team='CIN', Year=1964, W=92)\n",
            "Pandas(Index=1177, Team='CLE', Year=1964, W=79)\n",
            "Pandas(Index=1178, Team='DET', Year=1964, W=85)\n",
            "Pandas(Index=1179, Team='HOU', Year=1964, W=66)\n",
            "Pandas(Index=1180, Team='KCA', Year=1964, W=57)\n",
            "Pandas(Index=1181, Team='LAA', Year=1964, W=82)\n",
            "Pandas(Index=1182, Team='LAD', Year=1964, W=80)\n",
            "Pandas(Index=1183, Team='MIN', Year=1964, W=79)\n",
            "Pandas(Index=1184, Team='MLN', Year=1964, W=88)\n",
            "Pandas(Index=1185, Team='NYM', Year=1964, W=53)\n",
            "Pandas(Index=1186, Team='NYY', Year=1964, W=99)\n",
            "Pandas(Index=1187, Team='PHI', Year=1964, W=92)\n",
            "Pandas(Index=1188, Team='PIT', Year=1964, W=80)\n",
            "Pandas(Index=1189, Team='SFG', Year=1964, W=90)\n",
            "Pandas(Index=1190, Team='STL', Year=1964, W=93)\n",
            "Pandas(Index=1191, Team='WSA', Year=1964, W=62)\n",
            "Pandas(Index=1192, Team='BAL', Year=1963, W=86)\n",
            "Pandas(Index=1193, Team='BOS', Year=1963, W=76)\n",
            "Pandas(Index=1194, Team='CHC', Year=1963, W=82)\n",
            "Pandas(Index=1195, Team='CHW', Year=1963, W=94)\n",
            "Pandas(Index=1196, Team='CIN', Year=1963, W=86)\n",
            "Pandas(Index=1197, Team='CLE', Year=1963, W=79)\n",
            "Pandas(Index=1198, Team='DET', Year=1963, W=79)\n",
            "Pandas(Index=1199, Team='HOU', Year=1963, W=66)\n",
            "Pandas(Index=1200, Team='KCA', Year=1963, W=73)\n",
            "Pandas(Index=1201, Team='LAA', Year=1963, W=70)\n",
            "Pandas(Index=1202, Team='LAD', Year=1963, W=99)\n",
            "Pandas(Index=1203, Team='MIN', Year=1963, W=91)\n",
            "Pandas(Index=1204, Team='MLN', Year=1963, W=84)\n",
            "Pandas(Index=1205, Team='NYM', Year=1963, W=51)\n",
            "Pandas(Index=1206, Team='NYY', Year=1963, W=104)\n",
            "Pandas(Index=1207, Team='PHI', Year=1963, W=87)\n",
            "Pandas(Index=1208, Team='PIT', Year=1963, W=74)\n",
            "Pandas(Index=1209, Team='SFG', Year=1963, W=88)\n",
            "Pandas(Index=1210, Team='STL', Year=1963, W=93)\n",
            "Pandas(Index=1211, Team='WSA', Year=1963, W=56)\n",
            "Pandas(Index=1212, Team='BAL', Year=1962, W=77)\n",
            "Pandas(Index=1213, Team='BOS', Year=1962, W=76)\n",
            "Pandas(Index=1214, Team='CHC', Year=1962, W=59)\n",
            "Pandas(Index=1215, Team='CHW', Year=1962, W=85)\n",
            "Pandas(Index=1216, Team='CIN', Year=1962, W=98)\n",
            "Pandas(Index=1217, Team='CLE', Year=1962, W=80)\n",
            "Pandas(Index=1218, Team='DET', Year=1962, W=85)\n",
            "Pandas(Index=1219, Team='HOU', Year=1962, W=64)\n",
            "Pandas(Index=1220, Team='KCA', Year=1962, W=72)\n",
            "Pandas(Index=1221, Team='LAA', Year=1962, W=86)\n",
            "Pandas(Index=1222, Team='LAD', Year=1962, W=102)\n",
            "Pandas(Index=1223, Team='MIN', Year=1962, W=91)\n",
            "Pandas(Index=1224, Team='MLN', Year=1962, W=86)\n",
            "Pandas(Index=1225, Team='NYM', Year=1962, W=40)\n",
            "Pandas(Index=1226, Team='NYY', Year=1962, W=96)\n",
            "Pandas(Index=1227, Team='PHI', Year=1962, W=81)\n",
            "Pandas(Index=1228, Team='PIT', Year=1962, W=93)\n",
            "Pandas(Index=1229, Team='SFG', Year=1962, W=103)\n",
            "Pandas(Index=1230, Team='STL', Year=1962, W=84)\n",
            "Pandas(Index=1231, Team='WSA', Year=1962, W=60)\n"
          ],
          "name": "stdout"
        }
      ]
    },
    {
      "cell_type": "markdown",
      "metadata": {
        "id": "tllr_mVcTVDS",
        "colab_type": "text"
      },
      "source": [
        "Aqui,podemos imprimir el último indice usando ``.index``\n"
      ]
    },
    {
      "cell_type": "code",
      "metadata": {
        "id": "b_XF6OdlReDG",
        "colab_type": "code",
        "colab": {
          "base_uri": "https://localhost:8080/",
          "height": 34
        },
        "outputId": "5b8efc3b-e2e6-4240-ef5e-8923e33bffc2"
      },
      "source": [
        "print(r_namedtuple.Index)"
      ],
      "execution_count": null,
      "outputs": [
        {
          "output_type": "stream",
          "text": [
            "1231\n"
          ],
          "name": "stdout"
        }
      ]
    },
    {
      "cell_type": "markdown",
      "metadata": {
        "id": "ZeNRl-zTTzhT",
        "colab_type": "text"
      },
      "source": [
        "Tambien podemos imprimir  el equipo con ``.Team``\n"
      ]
    },
    {
      "cell_type": "code",
      "metadata": {
        "id": "9C8GmTijTmLj",
        "colab_type": "code",
        "colab": {
          "base_uri": "https://localhost:8080/",
          "height": 34
        },
        "outputId": "8ba84615-6554-47de-9be6-0a4a52326bfa"
      },
      "source": [
        "print(r_namedtuple.Team)"
      ],
      "execution_count": null,
      "outputs": [
        {
          "output_type": "stream",
          "text": [
            "WSA\n"
          ],
          "name": "stdout"
        }
      ]
    },
    {
      "cell_type": "markdown",
      "metadata": {
        "id": "wO4yQmf3UnUE",
        "colab_type": "text"
      },
      "source": [
        "Cuando comprarmos ``.iterrows()`` con `ìtertuples()``vemos que hay basntante mejora"
      ]
    },
    {
      "cell_type": "code",
      "metadata": {
        "id": "gzkmSzGmT-Hz",
        "colab_type": "code",
        "colab": {}
      },
      "source": [
        "%%timeit\n",
        "\n",
        "for r_tupla in team_winds_df.iterrows():\n",
        "    print(r_tupla)\n",
        "  "
      ],
      "execution_count": null,
      "outputs": []
    },
    {
      "cell_type": "code",
      "metadata": {
        "id": "S0Ehm8OtUxNR",
        "colab_type": "code",
        "colab": {}
      },
      "source": [
        "%%timeit\n",
        "for r_namedtuple in team_winds_df.itertuples():\n",
        "  print(r_namedtuple)"
      ],
      "execution_count": null,
      "outputs": []
    },
    {
      "cell_type": "markdown",
      "metadata": {
        "id": "mhi8jdtWVcWj",
        "colab_type": "text"
      },
      "source": [
        "La razon por la que ``itertuples`` es mas eficiente se debe a la forma en que cada método almacena su salida dado que ``iterrows`` devuelve mas valores de cada fila como una serie de pandas hay mas sobrecarga.\n",
        "\n",
        "Una nota rápida más sobre las diferencas entre estos métodos,cuando usamos ``iterrows`` podemos usar corcehetes para hacer referenc ia a una columna dentro de nuestro datafrane."
      ]
    },
    {
      "cell_type": "code",
      "metadata": {
        "id": "jBK0IK9WU_hR",
        "colab_type": "code",
        "colab": {}
      },
      "source": [
        "for r_tupla in team_winds_df.iterrows():\n",
        "    print(r_tupla[1]['Team'])"
      ],
      "execution_count": null,
      "outputs": []
    },
    {
      "cell_type": "markdown",
      "metadata": {
        "id": "FZqAtQAqWutJ",
        "colab_type": "text"
      },
      "source": [
        "Si usamos la misma sintaxis con ``.itertuples``obtenemos un error ."
      ]
    },
    {
      "cell_type": "code",
      "metadata": {
        "id": "RG73bQmEWcv_",
        "colab_type": "code",
        "colab": {
          "base_uri": "https://localhost:8080/",
          "height": 181
        },
        "outputId": "67c1a9a8-f421-4ce8-b5e0-130fefaaf43d"
      },
      "source": [
        "for r_namedtuple in team_winds_df.itertuples():\n",
        "  print(r_namedtuple['Team'])"
      ],
      "execution_count": null,
      "outputs": [
        {
          "output_type": "error",
          "ename": "TypeError",
          "evalue": "ignored",
          "traceback": [
            "\u001b[0;31m---------------------------------------------------------------------------\u001b[0m",
            "\u001b[0;31mTypeError\u001b[0m                                 Traceback (most recent call last)",
            "\u001b[0;32m<ipython-input-44-a9f7a7c8bcc6>\u001b[0m in \u001b[0;36m<module>\u001b[0;34m()\u001b[0m\n\u001b[1;32m      1\u001b[0m \u001b[0;32mfor\u001b[0m \u001b[0mr_namedtuple\u001b[0m \u001b[0;32min\u001b[0m \u001b[0mteam_winds_df\u001b[0m\u001b[0;34m.\u001b[0m\u001b[0mitertuples\u001b[0m\u001b[0;34m(\u001b[0m\u001b[0;34m)\u001b[0m\u001b[0;34m:\u001b[0m\u001b[0;34m\u001b[0m\u001b[0;34m\u001b[0m\u001b[0m\n\u001b[0;32m----> 2\u001b[0;31m   \u001b[0mprint\u001b[0m\u001b[0;34m(\u001b[0m\u001b[0mr_namedtuple\u001b[0m\u001b[0;34m[\u001b[0m\u001b[0;34m'Team'\u001b[0m\u001b[0;34m]\u001b[0m\u001b[0;34m)\u001b[0m\u001b[0;34m\u001b[0m\u001b[0;34m\u001b[0m\u001b[0m\n\u001b[0m",
            "\u001b[0;31mTypeError\u001b[0m: tuple indices must be integers or slices, not str"
          ]
        }
      ]
    },
    {
      "cell_type": "markdown",
      "metadata": {
        "id": "zm-JEQuzW-Kr",
        "colab_type": "text"
      },
      "source": [
        "Pero lo podriamos solucionar de la siguiente manera:"
      ]
    },
    {
      "cell_type": "code",
      "metadata": {
        "id": "JnUCQZ-QW211",
        "colab_type": "code",
        "colab": {}
      },
      "source": [
        "for r_namedtuple in team_winds_df.itertuples():\n",
        "  print(r_namedtuple.Team)"
      ],
      "execution_count": null,
      "outputs": []
    },
    {
      "cell_type": "markdown",
      "metadata": {
        "id": "Pqi94xpMDEED",
        "colab_type": "text"
      },
      "source": [
        "\n",
        "\n",
        "---\n",
        "\n",
        "\n",
        "\n",
        "---\n",
        "\n",
        "# Pandas que alteran el Looping.\n",
        "\n",
        "Para poder eacribir código eficiente, queremos evitar los bucles cuando sea posible.Exploraremos una alterantiva al uso de ``.iterrows()``& ``.itertuples``para realizar cálculos en un DataFrame.\n",
        "\n",
        "Conitnuaremos usando nuestro DatSet de béisbol y volveremos a visitar la función ``calc_vict_porc`` que hemos usado en el pasado.Nos gustaria crear una nueva ciolumna en nuestro DF llamado *RD* que almacena las diferencias de ejecución decada equipo a lo largo de dos años.\n",
        "\n",
        "En lecciones anteriores , hicimos esto con un bucle for utilizando ``.iterrows`` o ``.itertuples``, aqui usarmeos ``.iterrows``como ejemplo.\n",
        "\n",
        "Observemos que estamos iterando sobre data con un bucle for , pasando las columnas ``RS`` &  ``RA``de cada fila en nuestra función y luego agregando el resultado a cad fila de nuestra lista.\n",
        "\n",
        "\n"
      ]
    },
    {
      "cell_type": "code",
      "metadata": {
        "id": "VIcqCB3oXEz4",
        "colab_type": "code",
        "colab": {
          "base_uri": "https://localhost:8080/",
          "height": 255
        },
        "outputId": "e95b940c-6ba8-477f-d081-83570187697a"
      },
      "source": [
        "dif_iterrows = []\n",
        "for i,col in data.iterrows():\n",
        "  dife = calc_vict_porc(col['RS'], col['RA'])\n",
        "  dif_iterrows.append(dife)\n",
        "\n",
        "data['RD'] = dif_iterrows\n",
        "print(data)"
      ],
      "execution_count": 7,
      "outputs": [
        {
          "output_type": "stream",
          "text": [
            "     Team League  Year   RS   RA  ...  RankPlayoffs    G   OOBP   OSLG    RD\n",
            "0     ARI     NL  2012  734  688  ...           NaN  162  0.317  0.415  1.07\n",
            "1     ATL     NL  2012  700  600  ...           5.0  162  0.306  0.378  1.17\n",
            "2     BAL     AL  2012  712  705  ...           4.0  162  0.315  0.403  1.01\n",
            "3     BOS     AL  2012  734  806  ...           NaN  162  0.331  0.428  0.91\n",
            "4     CHC     NL  2012  613  759  ...           NaN  162  0.335  0.424  0.81\n",
            "...   ...    ...   ...  ...  ...  ...           ...  ...    ...    ...   ...\n",
            "1227  PHI     NL  1962  705  759  ...           NaN  161    NaN    NaN  0.93\n",
            "1228  PIT     NL  1962  706  626  ...           NaN  161    NaN    NaN  1.13\n",
            "1229  SFG     NL  1962  878  690  ...           2.0  165    NaN    NaN  1.27\n",
            "1230  STL     NL  1962  774  664  ...           NaN  163    NaN    NaN  1.17\n",
            "1231  WSA     AL  1962  599  716  ...           NaN  162    NaN    NaN  0.84\n",
            "\n",
            "[1232 rows x 16 columns]\n"
          ],
          "name": "stdout"
        }
      ]
    },
    {
      "cell_type": "markdown",
      "metadata": {
        "id": "9pRgrjq4Hotz",
        "colab_type": "text"
      },
      "source": [
        "Esto nos da el restulado , pero no es la manera más eficiente,una alternativa al uso de un bucle para iterar sobre un DataFrame es usar el método de pandas ``.apply()``.\n",
        "\n",
        "Esta función actúa como la funcion *map* que hemos usado en el pasado,toma esa función como entrada y la aplica al DataFrame completo.Dado que trabajamos con dato tabulares debemos especificar un eje en el que nos gustaria que actúe nuestra función,usar un ``0``para columnas o un ``1``para aplicarlo en las filas.\n",
        "\n",
        "Al igual que la funcion ``map``, el metodo ``apply`` se puede usar con funciones anonimas o lambda.A continuación veamos cómo usariamos el méodo de aplicación de puntos para calcular nuestro diferenciales de carrera.\n",
        "\n",
        "* Primero llamamod ``.apply``en nuestro conjunto de datos.\n",
        "\n",
        "* Luego,usamos una funcion anonima , para iterar sobre las filas del DataFrame.\n",
        "  **Notemos que nuestro argumento para lambda es row, ya que estamos aplicando a cada fila del dataFrame**\n",
        "\n",
        "  Para cada fila, tomamos las columnas ``RS``y ``RA``y las pasamos a nuestra función ``calc_vict_porc``-\n",
        "\n",
        "* Por ultimo especificamos nuestro eje para indicar que queremos iterar sobre filas en lugar de columnas.\n",
        "\n"
      ]
    },
    {
      "cell_type": "code",
      "metadata": {
        "id": "k_D_03rIG4ps",
        "colab_type": "code",
        "colab": {
          "base_uri": "https://localhost:8080/",
          "height": 221
        },
        "outputId": "1aea8343-5c7f-47dd-c84d-136f2929caa1"
      },
      "source": [
        "data.apply(\n",
        "    \n",
        "    lambda row: calc_vict_porc(row['RS'], row['RA']),\n",
        "\n",
        "    axis = 1\n",
        ")"
      ],
      "execution_count": 8,
      "outputs": [
        {
          "output_type": "execute_result",
          "data": {
            "text/plain": [
              "0       1.07\n",
              "1       1.17\n",
              "2       1.01\n",
              "3       0.91\n",
              "4       0.81\n",
              "        ... \n",
              "1227    0.93\n",
              "1228    1.13\n",
              "1229    1.27\n",
              "1230    1.17\n",
              "1231    0.84\n",
              "Length: 1232, dtype: float64"
            ]
          },
          "metadata": {
            "tags": []
          },
          "execution_count": 8
        }
      ]
    },
    {
      "cell_type": "markdown",
      "metadata": {
        "id": "b0DBQWtTKBZT",
        "colab_type": "text"
      },
      "source": [
        "Cuando usamos el método de aplicación de puntos para calcilas las diferencia de ejecucion no necesitamos utilizar un bucle for ,podemos recopilas nuestros datos de ejecucion directamente en un objeto llamado ``dif_apply``\n"
      ]
    },
    {
      "cell_type": "code",
      "metadata": {
        "id": "t-bMjebiKTKj",
        "colab_type": "code",
        "colab": {
          "base_uri": "https://localhost:8080/",
          "height": 255
        },
        "outputId": "e17c98bb-6a40-41f3-a2b8-77dc608c8c0f"
      },
      "source": [
        "dif_apply = data.apply(\n",
        "    lambda row: calc_vict_porc(row['RS'],row['RA']),\n",
        "                               axis=1\n",
        ")\n",
        "\n",
        "data['RD'] = dif_apply\n",
        "print(data)"
      ],
      "execution_count": 11,
      "outputs": [
        {
          "output_type": "stream",
          "text": [
            "     Team League  Year   RS   RA  ...  RankPlayoffs    G   OOBP   OSLG    RD\n",
            "0     ARI     NL  2012  734  688  ...           NaN  162  0.317  0.415  1.07\n",
            "1     ATL     NL  2012  700  600  ...           5.0  162  0.306  0.378  1.17\n",
            "2     BAL     AL  2012  712  705  ...           4.0  162  0.315  0.403  1.01\n",
            "3     BOS     AL  2012  734  806  ...           NaN  162  0.331  0.428  0.91\n",
            "4     CHC     NL  2012  613  759  ...           NaN  162  0.335  0.424  0.81\n",
            "...   ...    ...   ...  ...  ...  ...           ...  ...    ...    ...   ...\n",
            "1227  PHI     NL  1962  705  759  ...           NaN  161    NaN    NaN  0.93\n",
            "1228  PIT     NL  1962  706  626  ...           NaN  161    NaN    NaN  1.13\n",
            "1229  SFG     NL  1962  878  690  ...           2.0  165    NaN    NaN  1.27\n",
            "1230  STL     NL  1962  774  664  ...           NaN  163    NaN    NaN  1.17\n",
            "1231  WSA     AL  1962  599  716  ...           NaN  162    NaN    NaN  0.84\n",
            "\n",
            "[1232 rows x 16 columns]\n"
          ],
          "name": "stdout"
        }
      ]
    },
    {
      "cell_type": "markdown",
      "metadata": {
        "id": "cxhOhms8Krx_",
        "colab_type": "text"
      },
      "source": [
        "Despues de crear nuestra nueva columna e imprimir el dataframe nosotros,veremos que nuestros resultados son idénticos a los enfoques anteriores.\n",
        "\n",
        "# Iterarndo Óptimamente en Pandas.\n",
        "\n",
        "Hemos recorrido un largo camino desde nuestro primer enfoque ``.iloc``para iterar sobre un DataFrame,cada enfoque que hemos discutido realmente ha mejorado el rendimiento.Pero estos enfoques se centrarn enrealizar cálculos para cada fila de nuestro DataFrame individualmente.\n",
        "\n",
        "En esta sección exploraremos algunos elementos internos de panas que nos permiten realizar cálculos aún más eficientemente.\n",
        "\n",
        "Como sabemos , debemos tratar de mantenernos alejados de los bucles cuando escribimos código en Python y trabajar con Pandas no es la excepción.\n",
        "\n",
        "En las secciones anteriores , estábamos iterando sobre un DataFrame fila por fila para realizar un cálculo.Pandas es una biblioteca que se basa en NumPy,esto significa que cada Pnadas DataFrame que usamos , puede aprovechar las caracteristicas eficientes de las matrices de Numpy.\n",
        "\n",
        "## ¿ Recuerdas la funcionalidad de transmisión de una matriz?\n",
        "\n",
        "La transmisión permite que las matrices NumPy vectoricen las operaciones, por lo que se realizan en todos los ejmentos de un objeto a la vez.\n",
        "\n",
        "Esto nos permite realizar cálculos de manera eficiente en matrices enteras,exploremos estos conceptos con algunos ejemplos.\n",
        "\n"
      ]
    },
    {
      "cell_type": "code",
      "metadata": {
        "id": "pebtKi_uKiCZ",
        "colab_type": "code",
        "colab": {
          "base_uri": "https://localhost:8080/",
          "height": 255
        },
        "outputId": "1b95d85a-9e84-4d0e-d9bd-b69ecf40635b"
      },
      "source": [
        "print(data)"
      ],
      "execution_count": 16,
      "outputs": [
        {
          "output_type": "stream",
          "text": [
            "     Team League  Year   RS   RA  ...  RankPlayoffs    G   OOBP   OSLG    RD\n",
            "0     ARI     NL  2012  734  688  ...           NaN  162  0.317  0.415  1.07\n",
            "1     ATL     NL  2012  700  600  ...           5.0  162  0.306  0.378  1.17\n",
            "2     BAL     AL  2012  712  705  ...           4.0  162  0.315  0.403  1.01\n",
            "3     BOS     AL  2012  734  806  ...           NaN  162  0.331  0.428  0.91\n",
            "4     CHC     NL  2012  613  759  ...           NaN  162  0.335  0.424  0.81\n",
            "...   ...    ...   ...  ...  ...  ...           ...  ...    ...    ...   ...\n",
            "1227  PHI     NL  1962  705  759  ...           NaN  161    NaN    NaN  0.93\n",
            "1228  PIT     NL  1962  706  626  ...           NaN  161    NaN    NaN  1.13\n",
            "1229  SFG     NL  1962  878  690  ...           2.0  165    NaN    NaN  1.27\n",
            "1230  STL     NL  1962  774  664  ...           NaN  163    NaN    NaN  1.17\n",
            "1231  WSA     AL  1962  599  716  ...           NaN  162    NaN    NaN  0.84\n",
            "\n",
            "[1232 rows x 16 columns]\n"
          ],
          "name": "stdout"
        }
      ]
    },
    {
      "cell_type": "markdown",
      "metadata": {
        "id": "VoArxVjANOBu",
        "colab_type": "text"
      },
      "source": [
        "Como pandas esta contruido sobre NumPy , podemos tomar cualquiera de estos valores del DataFrame como una matriz de NumPy utilizando el método ``.values``\n",
        "\n",
        "Aqui estamos recopilano los valores de la columna W en una matriz Numpy llamada vict_np,cuando imprimimos el tipo de dato vemos que es una matriz NumPy"
      ]
    },
    {
      "cell_type": "code",
      "metadata": {
        "id": "vC_tjwghNK5V",
        "colab_type": "code",
        "colab": {
          "base_uri": "https://localhost:8080/",
          "height": 34
        },
        "outputId": "3590b9e9-ea43-456b-fd52-73b2f217885e"
      },
      "source": [
        "vict_np = data['W'].values\n",
        "print(type(vict_np))"
      ],
      "execution_count": 14,
      "outputs": [
        {
          "output_type": "stream",
          "text": [
            "<class 'numpy.ndarray'>\n"
          ],
          "name": "stdout"
        }
      ]
    },
    {
      "cell_type": "markdown",
      "metadata": {
        "id": "TRfgyVQ-N4-k",
        "colab_type": "text"
      },
      "source": [
        "La belleza de saber que Pandas se bada en Numpy puede ser visto al aprovechar las habilidades de transmisión de una matriz NumPy,recordemos que podemos vectorizar nuestros calculos y realizarlos en conjuntos completos de una vez.\n",
        "\n",
        "En lugar de recorer un DataFrame y tratar cada fila de forma independiente, colo lo hemos hecho con ``.iterrows``.\n",
        "\n",
        "Podemos realizar cálculos en lsa matrices NumPy subyacentes a nuestro conjunto de datos ``data``.\n",
        "\n"
      ]
    },
    {
      "cell_type": "code",
      "metadata": {
        "id": "wUQGAd4INhH_",
        "colab_type": "code",
        "colab": {
          "base_uri": "https://localhost:8080/",
          "height": 34
        },
        "outputId": "012251c0-a009-4384-c691-c83111d8299f"
      },
      "source": [
        "data['RS'].values - data['RA'].values"
      ],
      "execution_count": 15,
      "outputs": [
        {
          "output_type": "execute_result",
          "data": {
            "text/plain": [
              "array([  46,  100,    7, ...,  188,  110, -117])"
            ]
          },
          "metadata": {
            "tags": []
          },
          "execution_count": 15
        }
      ]
    },
    {
      "cell_type": "markdown",
      "metadata": {
        "id": "uCcWHpkUPLOD",
        "colab_type": "text"
      },
      "source": [
        "Podemos ver que nuestro código se vuielve mucho más legible,aqui podemos ver como se calculan las diferencias de ejecucción."
      ]
    },
    {
      "cell_type": "code",
      "metadata": {
        "id": "o6cl5BoxO09P",
        "colab_type": "code",
        "colab": {
          "base_uri": "https://localhost:8080/",
          "height": 255
        },
        "outputId": "73509a0f-81bb-48c9-d189-363f86fd8de6"
      },
      "source": [
        "dife_np = data['RS'].values - data['RA'].values\n",
        "data['RD'] = dife_np\n",
        "print(data)"
      ],
      "execution_count": 17,
      "outputs": [
        {
          "output_type": "stream",
          "text": [
            "     Team League  Year   RS   RA  ...  RankPlayoffs    G   OOBP   OSLG   RD\n",
            "0     ARI     NL  2012  734  688  ...           NaN  162  0.317  0.415   46\n",
            "1     ATL     NL  2012  700  600  ...           5.0  162  0.306  0.378  100\n",
            "2     BAL     AL  2012  712  705  ...           4.0  162  0.315  0.403    7\n",
            "3     BOS     AL  2012  734  806  ...           NaN  162  0.331  0.428  -72\n",
            "4     CHC     NL  2012  613  759  ...           NaN  162  0.335  0.424 -146\n",
            "...   ...    ...   ...  ...  ...  ...           ...  ...    ...    ...  ...\n",
            "1227  PHI     NL  1962  705  759  ...           NaN  161    NaN    NaN  -54\n",
            "1228  PIT     NL  1962  706  626  ...           NaN  161    NaN    NaN   80\n",
            "1229  SFG     NL  1962  878  690  ...           2.0  165    NaN    NaN  188\n",
            "1230  STL     NL  1962  774  664  ...           NaN  163    NaN    NaN  110\n",
            "1231  WSA     AL  1962  599  716  ...           NaN  162    NaN    NaN -117\n",
            "\n",
            "[1232 rows x 16 columns]\n"
          ],
          "name": "stdout"
        }
      ]
    },
    {
      "cell_type": "markdown",
      "metadata": {
        "id": "qKxDmP9iPp4N",
        "colab_type": "text"
      },
      "source": [
        "Podemos ver que neustros resultados son ídenticos a todos los otros enfoques."
      ]
    }
  ]
}