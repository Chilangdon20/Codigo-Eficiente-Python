{
  "nbformat": 4,
  "nbformat_minor": 0,
  "metadata": {
    "colab": {
      "name": "Seleccionando_Columnas_filas_eficientemente_1_1.ipynb",
      "provenance": [],
      "collapsed_sections": []
    },
    "kernelspec": {
      "name": "python3",
      "display_name": "Python 3"
    }
  },
  "cells": [
    {
      "cell_type": "markdown",
      "metadata": {
        "id": "3nyiZGDQ-w-p",
        "colab_type": "text"
      },
      "source": [
        "![texto alternativo](https://raw.githubusercontent.com/Chilangdon20/PYTHON/master/Curso%20Basico/CursoExpress/Imagenes/POKER.png)"
      ]
    },
    {
      "cell_type": "markdown",
      "metadata": {
        "id": "Olf20n98bPOX",
        "colab_type": "text"
      },
      "source": [
        "# Código eficiente en Pandas.\n",
        "\n",
        "## Introducción:\n",
        "\n",
        "En esta parte veremos formas eficientes de realizar una variedad de tareas utilizando la biblioteca de pandas,incluso la tarea más fácil en Python tendrá una velocidad más rápida, que será muy útil en situaciones donde el tiempo importa.\n",
        "\n",
        "Para el contexto de esta sección utilizaremos una función que captura la corriente del tiempo de la computadora en segundos desde el 1 de enero de 1970 como un número de coma flotante, esta función es:\n",
        "\n",
        "* ``time.time()`` :\n",
        "\n",
        "   * Del paquete time de Python.\n",
        "   * Cada vez que estemos interesados en medir el tiempo de ejecución de algún código , lo haremos con la libreria time.\n",
        "\n",
        "\n",
        "En el proximo troizo de código asignamos el tiempo actual antes de la ejecución , ejecutamos la operación que nos interesa y medimos el tiempo nuevamente justo despues dela ejecución del código.\n",
        "\n",
        "Al final , imprimimos el resultado ens egundo lugar, en un mensaje compacto pero significativo.\n",
        "\n",
        "\n",
        "\n"
      ]
    },
    {
      "cell_type": "code",
      "metadata": {
        "id": "MRPeDz4VbMou",
        "colab_type": "code",
        "colab": {
          "base_uri": "https://localhost:8080/",
          "height": 34
        },
        "outputId": "41d2dc59-580d-4fa4-f7dd-a811472d1a87"
      },
      "source": [
        "import time\n",
        "\n",
        "# Tiempo record antes de la ejecución\n",
        "\n",
        "start_time = time.time()\n",
        "\n",
        "# ejecutamos la operación.\n",
        "\n",
        "result = 5+2\n",
        "\n",
        "# tiempo record despues de la ejecución.\n",
        "\n",
        "end_time = time.time()\n",
        "\n",
        "print(\"El resultado calculado en {} segundos\".format(end_time - start_time))"
      ],
      "execution_count": null,
      "outputs": [
        {
          "output_type": "stream",
          "text": [
            "El resultado calculado en 4.5299530029296875e-05 segundos\n"
          ],
          "name": "stdout"
        }
      ]
    },
    {
      "cell_type": "markdown",
      "metadata": {
        "id": "gkv15kKpdyv7",
        "colab_type": "text"
      },
      "source": [
        "Antes de aplicar la noción de eficiencia de tiempo en cualquier problema relacionado con padnas , lo haremos comparando la eficiencia entre una comprension de lista y un bucle for en un ejemplo.\n",
        "\n",
        "Estamos interesado en calculas el cuadrado de cada número desde cero, hasta un millón.Al principio usaremos una lista de comprensión para ejecutar esto."
      ]
    },
    {
      "cell_type": "code",
      "metadata": {
        "id": "ZprE1nH9chyh",
        "colab_type": "code",
        "colab": {
          "base_uri": "https://localhost:8080/",
          "height": 34
        },
        "outputId": "63fdde73-d882-4cbd-9d22-28bd036cfc4e"
      },
      "source": [
        "# Comprension de lista\n",
        "list_comp_start_time = time.time()\n",
        "result = [i*i for i in range(0,1000000)]\n",
        "list_comp_end_time = time.time()\n",
        "print(\"Tiempo usando la compresion de lista: {} segundos\".format(list_comp_start_time \n",
        "                                                                 - list_comp_end_time))"
      ],
      "execution_count": null,
      "outputs": [
        {
          "output_type": "stream",
          "text": [
            "Tiempo usando la compresion de lista: -0.11243844032287598 segundos\n"
          ],
          "name": "stdout"
        }
      ]
    },
    {
      "cell_type": "markdown",
      "metadata": {
        "id": "SAIlHTXpew4E",
        "colab_type": "text"
      },
      "source": [
        "A continuación lo haremos con un  bucle for:\n"
      ]
    },
    {
      "cell_type": "code",
      "metadata": {
        "id": "TgAc4-XfeoEm",
        "colab_type": "code",
        "colab": {
          "base_uri": "https://localhost:8080/",
          "height": 34
        },
        "outputId": "0c0f8e96-bdca-4457-dc82-e83d1c287a17"
      },
      "source": [
        "# For loop\n",
        "for_loop_start = time.time()\n",
        "result = []\n",
        "for i in range(0,1000000):\n",
        "  result.append(i*i)\n",
        "for_loop_end = time.time()\n",
        "print(\"Tiempo usando for loop: {} segundos\".format(for_loop_start\n",
        "                                                                 - for_loop_end))"
      ],
      "execution_count": null,
      "outputs": [
        {
          "output_type": "stream",
          "text": [
            "Tiempo usando for loop: -0.1798391342163086 segundos\n"
          ],
          "name": "stdout"
        }
      ]
    },
    {
      "cell_type": "markdown",
      "metadata": {
        "id": "Zqiju2JdfaQq",
        "colab_type": "text"
      },
      "source": [
        "En la mayoria de los casoa, una lista comprende una forma más rapida de realizar una ooperación simple en comparación con un bucle for.\n",
        "\n",
        "Un hallazgo interesante sería ver qué tan rápido es la comprension de  una lista."
      ]
    },
    {
      "cell_type": "code",
      "metadata": {
        "id": "RiEqb4j-fSjE",
        "colab_type": "code",
        "colab": {
          "base_uri": "https://localhost:8080/",
          "height": 34
        },
        "outputId": "a518d8cf-4151-4758-e29c-d0a74fc7837d"
      },
      "source": [
        "list_comp_time = list_comp_end_time - list_comp_start_time\n",
        "for_comp_time = for_loop_end - for_loop_start\n",
        "print(\"La diferencia de tiempo es : {}%\".format((for_comp_time - list_comp_time)/\n",
        "                                                list_comp_time*100))"
      ],
      "execution_count": null,
      "outputs": [
        {
          "output_type": "stream",
          "text": [
            "La diferencia de tiempo es : 59.9445293797087%\n"
          ],
          "name": "stdout"
        }
      ]
    },
    {
      "cell_type": "markdown",
      "metadata": {
        "id": "-z9mWbpjgsY6",
        "colab_type": "text"
      },
      "source": [
        "Podemos ver que es un 59% mas rapído que un bucle for.\n",
        "\n",
        "Si bien el ejemplo anterior podria no parecer una gran mejora, nostros trabajaremos en un segundo ejemplo para ilustrar la importancia de una codificación eficiente.\n",
        "\n",
        "Estamos interesados en calcular la suma de todos los números enteros positivos consecutivos de 1 a 1 millón,la forma mas inuitiva de hacerloes mediante la fuerca bruta, agregando cada numero a la suma uno por uno."
      ]
    },
    {
      "cell_type": "code",
      "metadata": {
        "id": "EbeyHG63gO-j",
        "colab_type": "code",
        "colab": {}
      },
      "source": [
        "def sum_fuerza_bruta(N):\n",
        "  res = 0\n",
        "  for i in range(1,N+1):\n",
        "    res+=i\n",
        "  return res"
      ],
      "execution_count": null,
      "outputs": []
    },
    {
      "cell_type": "markdown",
      "metadata": {
        "id": "NnZum7-6hfcL",
        "colab_type": "text"
      },
      "source": [
        "Una forma más inteligente de proceder es utilizar una formula conocida:\n",
        "\n",
        "$1+2+...+N = \n",
        "\\frac{N(N+1)}{2}\\qquad $"
      ]
    },
    {
      "cell_type": "code",
      "metadata": {
        "id": "DdOQ7x1zhc1y",
        "colab_type": "code",
        "colab": {}
      },
      "source": [
        "def sum_formula(N):\n",
        "  return N*(N+1)/2"
      ],
      "execution_count": null,
      "outputs": []
    },
    {
      "cell_type": "markdown",
      "metadata": {
        "id": "e4xuUoPiiiYQ",
        "colab_type": "text"
      },
      "source": [
        "## ¿Cual tiene mejor tiempo?\n",
        "\n",
        "A continuación compararemos el tiempo entre ambas funciones para ver cual es mas efciiente:\n"
      ]
    },
    {
      "cell_type": "code",
      "metadata": {
        "id": "eRgDLYJliRMA",
        "colab_type": "code",
        "colab": {
          "base_uri": "https://localhost:8080/",
          "height": 34
        },
        "outputId": "bce93f37-b592-4d83-98f1-7e71c35a4fde"
      },
      "source": [
        "# Usando la fórmula:\n",
        "\n",
        "formulat_start_time = time.time()\n",
        "formula_resulta = sum_formula(1000000)\n",
        "formulat_end_time = time.time()\n",
        "print(\"Tiempo usando la formula: {} segundos\".format(formulat_end_time-\n",
        "                                                     formulat_start_time))"
      ],
      "execution_count": null,
      "outputs": [
        {
          "output_type": "stream",
          "text": [
            "Tiempo usando la formula: 0.00011849403381347656 segundos\n"
          ],
          "name": "stdout"
        }
      ]
    },
    {
      "cell_type": "code",
      "metadata": {
        "id": "GQsLA0htjGDP",
        "colab_type": "code",
        "colab": {
          "base_uri": "https://localhost:8080/",
          "height": 34
        },
        "outputId": "15435cc7-3d98-4cf0-f282-3cb8788b2ffb"
      },
      "source": [
        "# Usando fuerza bruta:\n",
        "\n",
        "fuerzab_start_time = time.time()\n",
        "fuerzab_resulta = sum_fuerza_bruta(1000000)\n",
        "fuerzab_end_time = time.time()\n",
        "\n",
        "print(\"Tiempo usando la fuierza bruta: {} segundos\".format(fuerzab_end_time-\n",
        "                                                           fuerzab_start_time))"
      ],
      "execution_count": null,
      "outputs": [
        {
          "output_type": "stream",
          "text": [
            "Tiempo usando la fuierza bruta: 0.06696200370788574 segundos\n"
          ],
          "name": "stdout"
        }
      ]
    },
    {
      "cell_type": "markdown",
      "metadata": {
        "id": "4fh1l7nlkScG",
        "colab_type": "text"
      },
      "source": [
        "Podemos ver que con la formula nuestros resultado mejoran radicalmente.\n",
        "\n",
        "# Localizando filas - ``.iloc[]``& ``.loc[]``\n",
        "\n",
        "## Introducción:\n",
        "\n",
        "En esta seccion , veremos las funciones ``loc[]`` e ``iloc[]``y encontraremos  cuál es el más eficiente para seleccionar columnas y filas en un DataFrame de Pandas.\n",
        "\n",
        "Veamos el conjunto de datos principal que usaremos en esta seccion , que deriva del famoso juego de cartas de Póker.\n",
        "\n",
        "En cada ronda, cada jugador tiene 5 cartas en la mano, cada una caracterizada por su símbolo, que puede ser corazones,diamantes, tréboles o espadas y su rango que va del 1 al 13.\n",
        "\n",
        "Nuestro DataSet consta de todas las combinaciones posibles de cinco tarjetas que una persona puede poseer.\n"
      ]
    },
    {
      "cell_type": "code",
      "metadata": {
        "id": "Giejcz4jjfRW",
        "colab_type": "code",
        "colab": {
          "base_uri": "https://localhost:8080/",
          "height": 255
        },
        "outputId": "cd73c597-fda3-44be-9a5f-e8067a466c6f"
      },
      "source": [
        "import pandas as pd\n",
        "\n",
        "data = pd.read_csv(\"/content/poker_hand.csv\")\n",
        "print(data)"
      ],
      "execution_count": null,
      "outputs": [
        {
          "output_type": "stream",
          "text": [
            "       S1  R1  S2  R2  S3  R3  S4  R4  S5  R5  Class\n",
            "0       1  10   1  11   1  13   1  12   1   1      9\n",
            "1       2  11   2  13   2  10   2  12   2   1      9\n",
            "2       3  12   3  11   3  13   3  10   3   1      9\n",
            "3       4  10   4  11   4   1   4  13   4  12      9\n",
            "4       4   1   4  13   4  12   4  11   4  10      9\n",
            "...    ..  ..  ..  ..  ..  ..  ..  ..  ..  ..    ...\n",
            "25005   3   9   2   6   4  11   4  12   2   4      0\n",
            "25006   4   1   4  10   3  13   3   4   1  10      1\n",
            "25007   2   1   2  10   4   4   4   1   4  13      1\n",
            "25008   2  12   4   3   1  10   1  12   4   9      1\n",
            "25009   1   7   3  11   3   3   4   8   3   7      1\n",
            "\n",
            "[25010 rows x 11 columns]\n"
          ],
          "name": "stdout"
        }
      ]
    },
    {
      "cell_type": "markdown",
      "metadata": {
        "id": "tYA7k6f3nzQh",
        "colab_type": "text"
      },
      "source": [
        "Tomemos por ejemplo la primera combinación que corresponde a la primera fila, tenemos un 10 de diamantes , un Jack de tréboles , un 4 de picas y un as de corazones.\n",
        "\n",
        "\n",
        "Una de las caracteristicas más utiles de la biblioteca de pandas es la facilidad de conveniencia de seleccionar filas especificas de un Pandas DataFrame.\n",
        "\n",
        "Vamos a usar ``.iloc[]``, el localizador de números de indice y el ``loc[]`` localizador de nombres de indice.En este ejemplo queremos seleccionar las mprimeras 500 filas del conjunto de datos de póker.\n",
        "\n",
        "En primer lugar , utilizando la funcion ``loc[]``.\n",
        "\n",
        "\n"
      ]
    },
    {
      "cell_type": "code",
      "metadata": {
        "id": "w-uyk9vVnxeS",
        "colab_type": "code",
        "colab": {
          "base_uri": "https://localhost:8080/",
          "height": 34
        },
        "outputId": "519efa7c-8682-454c-e7c1-fb775eefafbd"
      },
      "source": [
        "# Especificando el rango de filas a seleccionar.\n",
        "\n",
        "filas = range(0,500)\n",
        "\n",
        "# Tiempo seleccionando  filas usando ``.loc[]```\n",
        "\n",
        "loc_start_time = time.time()\n",
        "data.loc[filas]\n",
        "loc_end_time = time.time()\n",
        "\n",
        "print(\"El tiempo usando .loc[]: {} segundos\".format(loc_end_time-loc_start_time))"
      ],
      "execution_count": null,
      "outputs": [
        {
          "output_type": "stream",
          "text": [
            "El tiempo usando .loc[]: 0.0017731189727783203 segundos\n"
          ],
          "name": "stdout"
        }
      ]
    },
    {
      "cell_type": "markdown",
      "metadata": {
        "id": "H6PaLhFyplVP",
        "colab_type": "text"
      },
      "source": [
        "Ahora veremos el tiempo usando ``.iloc[]``\n"
      ]
    },
    {
      "cell_type": "code",
      "metadata": {
        "id": "tXJy3pYGpe85",
        "colab_type": "code",
        "colab": {
          "base_uri": "https://localhost:8080/",
          "height": 34
        },
        "outputId": "c765c594-cfbc-4a36-e9d8-7b797219b009"
      },
      "source": [
        "# Especificando el rango de filas a seleccionar.\n",
        "\n",
        "filas = range(0,500)\n",
        "\n",
        "# Tiempo seleccionando  filas usando ``.iloc[]```\n",
        "\n",
        "iloc_start_time = time.time()\n",
        "data.loc[filas]\n",
        "iloc_end_time = time.time()\n",
        "\n",
        "print(\"El tiempo usando .iloc[]: {} segundos\".format(iloc_end_time-iloc_start_time))"
      ],
      "execution_count": null,
      "outputs": [
        {
          "output_type": "stream",
          "text": [
            "El tiempo usando .iloc[]: 0.0012366771697998047 segundos\n"
          ],
          "name": "stdout"
        }
      ]
    },
    {
      "cell_type": "markdown",
      "metadata": {
        "id": "UtI9_LKUqCFh",
        "colab_type": "text"
      },
      "source": [
        "Si bien ambos metodos podemos ver que `ìloc``funciona mucho mas rapido,``iloc`` aprovecha elorden de los índices , que ya están ordenados y por lo tanto es más rápido.\n",
        "\n",
        "Usamos `ìloc`` & ``loc``para apuntar a filas , pero también podemos usarlos para localizar diferentes caraterísticas en un DataFrame de Pandas.\n",
        "\n",
        "En este ejemplo queremos seleccionar las tres primeras columnas del conjunto de datos:\n",
        "* El simbolo\n",
        "* El rango de las cartas que llegaron primero en cada mano.\n",
        "* El rango de las cartas que llegaron en segundo lugar de cada mano.\n",
        "\n",
        "Probaremos con ambos metodos.\n",
        "\n",
        "probando con ``.iloc``\n",
        "\n",
        "La sintais de ``iloc[]`` para ese proposito ee simple, solo denotamos con dos puntos que queremos todas las filas de el DataFrame y luego despues de la coma, nosotros usamos dos puntos seguido de un 3 para denotar que queremos todas las columnas hasta la tercera y calcularemos su tiempode ejecución."
      ]
    },
    {
      "cell_type": "code",
      "metadata": {
        "id": "emW6fbnwp280",
        "colab_type": "code",
        "colab": {
          "base_uri": "https://localhost:8080/",
          "height": 34
        },
        "outputId": "1fb38aec-e2da-44fc-9696-7d49261a3626"
      },
      "source": [
        "iloc_start_time = time.time()\n",
        "data.iloc[:,:3]\n",
        "iloc_end_time = time.time()\n",
        "\n",
        "print(\"El tiempo usando .iloc[]: {} segundos\".format(iloc_end_time-iloc_start_time))"
      ],
      "execution_count": null,
      "outputs": [
        {
          "output_type": "stream",
          "text": [
            "El tiempo usando .iloc[]: 0.0006663799285888672 segundos\n"
          ],
          "name": "stdout"
        }
      ]
    },
    {
      "cell_type": "markdown",
      "metadata": {
        "id": "CeJg50ltryrK",
        "colab_type": "text"
      },
      "source": [
        "Ahora para seleccionar las columnas por nombre simplemente incluimos el nombre de las columnas que queremos entre corchetes dobles.\n"
      ]
    },
    {
      "cell_type": "code",
      "metadata": {
        "id": "11FEwrp2rs_i",
        "colab_type": "code",
        "colab": {
          "base_uri": "https://localhost:8080/",
          "height": 34
        },
        "outputId": "66a52fc0-cba0-4947-fdbc-976f255030ae"
      },
      "source": [
        "names_start_time = time.time()\n",
        "data[['S1','R1','S2']]\n",
        "names_end_time = time.time()\n",
        "print(\"El tiempo usando .loc[]: {} segundos\".format(names_end_time-names_start_time))"
      ],
      "execution_count": null,
      "outputs": [
        {
          "output_type": "stream",
          "text": [
            "El tiempo usando .loc[]: 0.0038614273071289062 segundos\n"
          ],
          "name": "stdout"
        }
      ]
    },
    {
      "cell_type": "markdown",
      "metadata": {
        "id": "ffeZq7Y6sTj1",
        "colab_type": "text"
      },
      "source": [
        "Aveces es posible que nos interese una entrada o característica especifica de un DataFrame o tambien , podemos querer seleccionar uno o varios completamente al azar.\n",
        "\n",
        "En el conjunto de datos de Póker seleccionamos 100 filas aleatorias que corresponden a 100 manos de póker.\n",
        "\n",
        "Usaremos la función ``sample()`` que se escribio por ese motvio específico.La sintaxis de esta función es muy sencilla , denotamos cuántas muestras queremos obtener y el eje del que queremos muestrear, en este caso usamos 0 para las filas."
      ]
    },
    {
      "cell_type": "code",
      "metadata": {
        "id": "WpoooJDhsJIU",
        "colab_type": "code",
        "colab": {
          "base_uri": "https://localhost:8080/",
          "height": 34
        },
        "outputId": "59303453-74ae-4535-d1c8-b58ffec95b8c"
      },
      "source": [
        "start_time = time.time()\n",
        "data.sample(100,axis=0)\n",
        "print(\"Tiempo usando sample : {} segundos\".format(time.time()- start_time))"
      ],
      "execution_count": 71,
      "outputs": [
        {
          "output_type": "stream",
          "text": [
            "Tiempo usando sample : 0.00157928466796875 segundos\n"
          ],
          "name": "stdout"
        }
      ]
    },
    {
      "cell_type": "markdown",
      "metadata": {
        "id": "HDkPZz-c29e4",
        "colab_type": "text"
      },
      "source": [
        "NumPy incluye la función de generación de enteros aleatorios ``randint()``que podemos usar para obtener números aleatorios de un rango predefinido.\n",
        "\n",
        "Entonce podemos usar estos números como indices para las filas del DataFrame,la sintaxis de esta función es muy simple, damos los números más bajos y más altos que queremos para uestrear con argumentos bajo y altgo y el argumento de mestras que queremos con el argumento size."
      ]
    },
    {
      "cell_type": "code",
      "metadata": {
        "id": "QISbNU-n21m_",
        "colab_type": "code",
        "colab": {
          "base_uri": "https://localhost:8080/",
          "height": 34
        },
        "outputId": "8a0e9b58-62ae-4ac2-e14b-587d28e862b4"
      },
      "source": [
        "import numpy as np\n",
        "start_time = time.time()\n",
        "data.iloc[np.random.randint(low=0,high=data.shape[0],size=100)]\n",
        "print(\"El tiempo usando .iloc[]: {} segundos\".format(time.time()-start_time))"
      ],
      "execution_count": 73,
      "outputs": [
        {
          "output_type": "stream",
          "text": [
            "El tiempo usando .iloc[]: 0.0009667873382568359 segundos\n"
          ],
          "name": "stdout"
        }
      ]
    },
    {
      "cell_type": "markdown",
      "metadata": {
        "id": "ETrj5BVn5rjv",
        "colab_type": "text"
      },
      "source": [
        "Las funciónes integradas siempre son útiles porque están optimizadas para tareas específicas.Para el mismo conjunto de datos Póker , estamosinteresados en seleccionar tres caracteristicas aleatorias de todas ls características del conjunto de datos.\n",
        "\n",
        "Como lo hicimos al muestrear fils aleatorias, todavia podemos usar pandas ``sample`` simplemente cambiando el ejej a 1 para selecionar ahora las caracteristicas en lugar de las filas.\n",
        "\n"
      ]
    },
    {
      "cell_type": "code",
      "metadata": {
        "id": "8gsNL7e-312h",
        "colab_type": "code",
        "colab": {
          "base_uri": "https://localhost:8080/",
          "height": 34
        },
        "outputId": "e204cccb-4a2d-49c2-9a53-3498222066fe"
      },
      "source": [
        "start_time = time.time()\n",
        "data.sample(3,axis=1)\n",
        "print(\"El tiempo usando .sample() es : {} segundos\".format(time.time()-start_time))"
      ],
      "execution_count": 75,
      "outputs": [
        {
          "output_type": "stream",
          "text": [
            "El tiempo usando .sample() es : 0.0011010169982910156 segundos\n"
          ],
          "name": "stdout"
        }
      ]
    },
    {
      "cell_type": "markdown",
      "metadata": {
        "id": "yocf3z2C6mks",
        "colab_type": "text"
      },
      "source": [
        "Del mismo modo, podemos modificar ligeramente el generador de enteros aleatorios de NumPy para generar índices de columnas al azar y usar ``iloc()`` para locarlizar todas las filas y las columnas seleccionadas."
      ]
    },
    {
      "cell_type": "code",
      "metadata": {
        "id": "pdBGpeix6g-H",
        "colab_type": "code",
        "colab": {
          "base_uri": "https://localhost:8080/",
          "height": 34
        },
        "outputId": "dcef4b6b-06fe-486c-9285-452c1835aacc"
      },
      "source": [
        "N = data.shape[1]\n",
        "start_time = time.time()\n",
        "data.iloc[:,np.random.randint(low=0,high=N,size=3)]\n",
        "print(\"Tiempo usando .iloc[]: {} segundos\".format(time.time()-start_time))"
      ],
      "execution_count": 77,
      "outputs": [
        {
          "output_type": "stream",
          "text": [
            "Tiempo usando .iloc[]: 0.0015854835510253906 segundos\n"
          ],
          "name": "stdout"
        }
      ]
    },
    {
      "cell_type": "markdown",
      "metadata": {
        "id": "UUlgmvfr7Z5J",
        "colab_type": "text"
      },
      "source": [
        "\n",
        "\n",
        "---\n",
        "\n"
      ]
    }
  ]
}