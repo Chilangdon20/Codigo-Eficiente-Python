{
  "nbformat": 4,
  "nbformat_minor": 0,
  "metadata": {
    "colab": {
      "name": "Remplazando_Valores_DF_1_1.ipynb",
      "provenance": [],
      "collapsed_sections": []
    },
    "kernelspec": {
      "name": "python3",
      "display_name": "Python 3"
    }
  },
  "cells": [
    {
      "cell_type": "markdown",
      "metadata": {
        "id": "O8qor4SF1q2X",
        "colab_type": "text"
      },
      "source": [
        "![texto alternativo](https://raw.githubusercontent.com/Chilangdon20/PYTHON/master/Curso%20Basico/CursoExpress/Imagenes/Baby%20DATA.png)"
      ]
    },
    {
      "cell_type": "markdown",
      "metadata": {
        "id": "zcGuhowXJ_5A",
        "colab_type": "text"
      },
      "source": [
        "# Reemplazando Valores en un DataFrame.\n",
        "\n",
        "### INTRODCUCCIÓN:\n",
        "\n",
        "En estea segunda seccion , nos centraremos en la funcion ``replace``y veremos como se puede usar para reemplazar un valor escalar en un DataFrame de Pandas.\n",
        "\n",
        "En este capitulo trabajararemos con un DataSet que uncluye los nombres más populares que se dieron a los récien nacidos entre 2011 y 2016.\n",
        "\n",
        "Nuestro conjunto de datos incluye , entre otra información , los nombres más populares en los Estados Unidos por año ,genero y etnia.\n",
        "\n",
        "Por ejemplo , el nombre Chole fue clasificado segundo en popularidad entre todas las mujeres recién nacidas de etnia asiática e isleña del Pacífico en 2011."
      ]
    },
    {
      "cell_type": "code",
      "metadata": {
        "id": "y7Gql36yJ_LP",
        "colab_type": "code",
        "colab": {
          "base_uri": "https://localhost:8080/",
          "height": 102
        },
        "outputId": "d1e08423-55fb-4445-a5d1-74979cb96de7"
      },
      "source": [
        "import pandas as pd\n",
        "data = pd.read_csv(\"/content/Popular_Baby_Names.csv\")\n",
        "best_name_woman = data.iloc[0:2]\n",
        "print(best_name_woman)"
      ],
      "execution_count": 30,
      "outputs": [
        {
          "output_type": "stream",
          "text": [
            "   Year of Birth  Gender  ... Count Rank\n",
            "0           2011  FEMALE  ...   119    1\n",
            "1           2011  FEMALE  ...   106    2\n",
            "\n",
            "[2 rows x 6 columns]\n"
          ],
          "name": "stdout"
        }
      ]
    },
    {
      "cell_type": "markdown",
      "metadata": {
        "id": "5T3NUweJb1sg",
        "colab_type": "text"
      },
      "source": [
        "En pandas , podemos reemplazar los valores de una manera muy intuitiva, simplemente podemos definir que valores queremos reemplazar y luego con que queremos remplazarlos.\n",
        "\n",
        "Podemos utilizar cualquier método para seleccionar nuestras entradas de interés.\n",
        "\n",
        "En el siguiente ejemplo , reemplazaremos a todos los bebes clasificados como varones por niños.\n",
        "\n",
        "Primero seleccionamos todas las entradas de nuestra función que corresponde a hombre y simplemente lo reemplzamos con la palabra ``boy``"
      ]
    },
    {
      "cell_type": "code",
      "metadata": {
        "id": "DcSm_SfTcWC9",
        "colab_type": "code",
        "colab": {}
      },
      "source": [
        "import time\n"
      ],
      "execution_count": 37,
      "outputs": []
    },
    {
      "cell_type": "code",
      "metadata": {
        "id": "0vKfEVuGe0OA",
        "colab_type": "code",
        "colab": {
          "base_uri": "https://localhost:8080/",
          "height": 139
        },
        "outputId": "1c19f177-050e-4d28-ffbd-86c5a4eaaaff"
      },
      "source": [
        "start_time = time.time()\n",
        "data['Gender'].loc[data.Gender=='MALE']  = 'BOY'\n",
        "print(\"Remplazando valores usando .loc[]: {} segundos\".format(time.time() - start_time))"
      ],
      "execution_count": 38,
      "outputs": [
        {
          "output_type": "stream",
          "text": [
            "Remplazando valores usando .loc[]: 0.0032606124877929688 segundos\n"
          ],
          "name": "stdout"
        },
        {
          "output_type": "stream",
          "text": [
            "/usr/local/lib/python3.6/dist-packages/pandas/core/indexing.py:671: SettingWithCopyWarning: \n",
            "A value is trying to be set on a copy of a slice from a DataFrame\n",
            "\n",
            "See the caveats in the documentation: https://pandas.pydata.org/pandas-docs/stable/user_guide/indexing.html#returning-a-view-versus-a-copy\n",
            "  self._setitem_with_indexer(indexer, value)\n"
          ],
          "name": "stderr"
        }
      ]
    },
    {
      "cell_type": "markdown",
      "metadata": {
        "id": "kte0rDE1eLtm",
        "colab_type": "text"
      },
      "source": [
        "¿Pero es la forma más rápida de realizar esta acción?\n",
        "\n",
        "\n",
        "Como la mayorua de las operaciones que estamos cubriendo, pandas tiene funciones integradas optimizadas:\n",
        "\n",
        "## ``.replace()``\n",
        "\n",
        "Cuando queremos reemplazar un valor escalar con otro simple valor escalar, la sintaxis de esta función es simple.Denotamos el valor que queremos reempazar y luego el valor con el que queremos reemplazarlo.\n",
        "\n",
        "Como antes , cronometramos el desempeño de la funcion ``.replace``todas las entradas clasificadas como niño.\n"
      ]
    },
    {
      "cell_type": "code",
      "metadata": {
        "id": "6P-aSdmHdR62",
        "colab_type": "code",
        "colab": {
          "base_uri": "https://localhost:8080/",
          "height": 34
        },
        "outputId": "5806b1e7-0319-4733-fd87-7fa795c4b6b9"
      },
      "source": [
        "start_time = time.time()\n",
        "data['Gender'].replace('MALE','BOY',inplace=True)\n",
        "print(\"El tiempo usando .replace() es: {} segundos\".format(time.time() - start_time))"
      ],
      "execution_count": 36,
      "outputs": [
        {
          "output_type": "stream",
          "text": [
            "El tiempo usando .replace() es: 0.001562356948852539 segundos\n"
          ],
          "name": "stdout"
        }
      ]
    },
    {
      "cell_type": "markdown",
      "metadata": {
        "id": "GMVg-LXMgGc5",
        "colab_type": "text"
      },
      "source": [
        "A continuación remplazaremos todas las bebes cuyo genero sea hembra lo cambiaremos a niña.Recordemos que el parametro `ìnplace`` lo establecemos como verdadero para asignar el resultado nuevamente al DataFrame original."
      ]
    },
    {
      "cell_type": "code",
      "metadata": {
        "id": "6uMABbJlev4v",
        "colab_type": "code",
        "colab": {
          "base_uri": "https://localhost:8080/",
          "height": 204
        },
        "outputId": "97221ac4-7003-4f29-b0eb-b61d60c8eb7c"
      },
      "source": [
        "data['Gender'].replace('FEMALE','GIRL',inplace=True)\n",
        "data.head()"
      ],
      "execution_count": 41,
      "outputs": [
        {
          "output_type": "execute_result",
          "data": {
            "text/html": [
              "<div>\n",
              "<style scoped>\n",
              "    .dataframe tbody tr th:only-of-type {\n",
              "        vertical-align: middle;\n",
              "    }\n",
              "\n",
              "    .dataframe tbody tr th {\n",
              "        vertical-align: top;\n",
              "    }\n",
              "\n",
              "    .dataframe thead th {\n",
              "        text-align: right;\n",
              "    }\n",
              "</style>\n",
              "<table border=\"1\" class=\"dataframe\">\n",
              "  <thead>\n",
              "    <tr style=\"text-align: right;\">\n",
              "      <th></th>\n",
              "      <th>Year of Birth</th>\n",
              "      <th>Gender</th>\n",
              "      <th>Ethnicity</th>\n",
              "      <th>Child's First Name</th>\n",
              "      <th>Count</th>\n",
              "      <th>Rank</th>\n",
              "    </tr>\n",
              "  </thead>\n",
              "  <tbody>\n",
              "    <tr>\n",
              "      <th>0</th>\n",
              "      <td>2011</td>\n",
              "      <td>GIRL</td>\n",
              "      <td>ASIAN AND PACIFIC ISLANDER</td>\n",
              "      <td>SOPHIA</td>\n",
              "      <td>119</td>\n",
              "      <td>1</td>\n",
              "    </tr>\n",
              "    <tr>\n",
              "      <th>1</th>\n",
              "      <td>2011</td>\n",
              "      <td>GIRL</td>\n",
              "      <td>ASIAN AND PACIFIC ISLANDER</td>\n",
              "      <td>CHLOE</td>\n",
              "      <td>106</td>\n",
              "      <td>2</td>\n",
              "    </tr>\n",
              "    <tr>\n",
              "      <th>2</th>\n",
              "      <td>2011</td>\n",
              "      <td>GIRL</td>\n",
              "      <td>ASIAN AND PACIFIC ISLANDER</td>\n",
              "      <td>EMILY</td>\n",
              "      <td>93</td>\n",
              "      <td>3</td>\n",
              "    </tr>\n",
              "    <tr>\n",
              "      <th>3</th>\n",
              "      <td>2011</td>\n",
              "      <td>GIRL</td>\n",
              "      <td>ASIAN AND PACIFIC ISLANDER</td>\n",
              "      <td>OLIVIA</td>\n",
              "      <td>89</td>\n",
              "      <td>4</td>\n",
              "    </tr>\n",
              "    <tr>\n",
              "      <th>4</th>\n",
              "      <td>2011</td>\n",
              "      <td>GIRL</td>\n",
              "      <td>ASIAN AND PACIFIC ISLANDER</td>\n",
              "      <td>EMMA</td>\n",
              "      <td>75</td>\n",
              "      <td>5</td>\n",
              "    </tr>\n",
              "  </tbody>\n",
              "</table>\n",
              "</div>"
            ],
            "text/plain": [
              "   Year of Birth Gender  ... Count Rank\n",
              "0           2011   GIRL  ...   119    1\n",
              "1           2011   GIRL  ...   106    2\n",
              "2           2011   GIRL  ...    93    3\n",
              "3           2011   GIRL  ...    89    4\n",
              "4           2011   GIRL  ...    75    5\n",
              "\n",
              "[5 rows x 6 columns]"
            ]
          },
          "metadata": {
            "tags": []
          },
          "execution_count": 41
        }
      ]
    },
    {
      "cell_type": "markdown",
      "metadata": {
        "id": "KG7iJyTihczC",
        "colab_type": "text"
      },
      "source": [
        "## Remplazando valores usando listas\n",
        "\n",
        "A continuación veremos como podemos usar listas para reemplazar valores únicos o múltiples.Ya sabemos cómo reemplazar un valor escalar en un DataFrame de Pandas.\n",
        "\n",
        "Sin embargo puede haber casoso en los que nececsitemos reemplazar varios valores al mismo tiempo.Veamos como hacer esto.Seguiremos usando el conjunto de datos usados anteriormente.Nuestro objetivo es cambiar todas las etnias clasificadas como *WHITE NON HISPANIC* o *WHITE NON HISP* a *WNH*.\n",
        "\n",
        "Utilzando la función los ,localizaremos a los bebés de las etnias que estamos buscando, usando la funcion | y luego asignaremos el nuevo valor.\n",
        "\n",
        "Como siempre , también medimos el tiempo de CPU necesario para esta operación."
      ]
    },
    {
      "cell_type": "code",
      "metadata": {
        "id": "8OQV1zfYgb55",
        "colab_type": "code",
        "colab": {
          "base_uri": "https://localhost:8080/",
          "height": 34
        },
        "outputId": "9e846549-c6c4-4f77-ac0c-6636f846c7e4"
      },
      "source": [
        "start_time = time.time()\n",
        "data['Ethnicity'].loc[(data['Ethnicity'] == 'WHITE NON HISPANIC') |\n",
        "                      (data['Ethnicity'] == 'WHITE NON HISP')] == 'WNH'\n",
        "print(\"Tiempo usando el metodo .loc : {} segundos\".format(time.time()-start_time))"
      ],
      "execution_count": 44,
      "outputs": [
        {
          "output_type": "stream",
          "text": [
            "Tiempo usando el metodo .loc : 0.005068302154541016 segundos\n"
          ],
          "name": "stdout"
        }
      ]
    },
    {
      "cell_type": "markdown",
      "metadata": {
        "id": "Mb9mNssejq-i",
        "colab_type": "text"
      },
      "source": [
        "Intentemos acelerar este proceso usando pandas, como vimos anteriormente , la sintaxis de ``.replace()`` es muy simple primero escribimos lo que queremos remplazar y luego con qué queremos reemplazarlo.\n",
        "\n",
        "En lugar de un escalar, elegimos reemplazar una lista de valores con un solo valor."
      ]
    },
    {
      "cell_type": "code",
      "metadata": {
        "id": "Ewzh3umujnTA",
        "colab_type": "code",
        "colab": {
          "base_uri": "https://localhost:8080/",
          "height": 34
        },
        "outputId": "25e1d0b4-7f63-433e-e940-6448d0a0d7d3"
      },
      "source": [
        "start_time= time.time()\n",
        "data['Ethnicity'].replace(['WHITE NON HISPANIC','WHITE NON HISP'],'WNH',inplace=True)\n",
        "print(\"El tiempo usando la funcion .replace es: {} segundos\".format(time.time()- start_time))"
      ],
      "execution_count": 45,
      "outputs": [
        {
          "output_type": "stream",
          "text": [
            "El tiempo usando la funcion .replace es: 0.0023462772369384766 segundos\n"
          ],
          "name": "stdout"
        }
      ]
    },
    {
      "cell_type": "markdown",
      "metadata": {
        "id": "JJGqJlV8khQw",
        "colab_type": "text"
      },
      "source": [
        "Asi es... con la función replace() , pasamos los valores que queremos reemplazar como una lista y vemos que es mucho mas ssencillo de escribir y mas eficiente que haciendo el metodo pasado.\n",
        "\n",
        "A continuación queremos remplazar todos los valores que presenten `WHITE NON HISP` con `WHITE NON HISPANIC` & `BLACK NON HISP` con `BLACK NON HISPANIC`.\n",
        "\n",
        "Una posible solución sería usar dos diferentes funciones replace."
      ]
    },
    {
      "cell_type": "code",
      "metadata": {
        "id": "D-UGOnoXkbuG",
        "colab_type": "code",
        "colab": {
          "base_uri": "https://localhost:8080/",
          "height": 34
        },
        "outputId": "b4d7d1a6-9d86-4e12-c6ac-856837d04359"
      },
      "source": [
        "start_time= time.time()\n",
        "data['Ethnicity'].replace(['WHITE NON HISP'],'WHITE NON HISPANIC',inplace=True)\n",
        "data['Ethnicity'].replace(['BLACK NON HISP'],'BLACK NON HISPANIC',inplace=True)\n",
        "print(\"El tiempo usando dos funciones replace es : {} segundos\".format(time.time()-start_time))"
      ],
      "execution_count": 53,
      "outputs": [
        {
          "output_type": "stream",
          "text": [
            "El tiempo usando dos funciones replace es : 0.004807233810424805 segundos\n"
          ],
          "name": "stdout"
        }
      ]
    },
    {
      "cell_type": "markdown",
      "metadata": {
        "id": "GKnLMIMMl0YQ",
        "colab_type": "text"
      },
      "source": [
        "Pero hay una forma mucho más eficiente , en cambio usamos solo una funcion ``replace``que toma como entrada una lista que contiene las entradas que deseamos cambiar con los nuevos valores."
      ]
    },
    {
      "cell_type": "code",
      "metadata": {
        "id": "VPGmiUc8loxv",
        "colab_type": "code",
        "colab": {
          "base_uri": "https://localhost:8080/",
          "height": 34
        },
        "outputId": "a0fc14e4-af16-4035-c85c-6da6a43707e9"
      },
      "source": [
        "start_time=time.time()\n",
        "data['Ethnicity'].replace(['WHITE NON HISP','BLACK NON HISP'],\n",
        "                          ['WHITE NON HISPANIC','BLACK NON HISPANIC'],\n",
        "                          inplace=True)\n",
        "print(\"El tiempo usando solo una funcion .replace es : {} segundos\".format(time.time()-start_time))"
      ],
      "execution_count": 49,
      "outputs": [
        {
          "output_type": "stream",
          "text": [
            "El tiempo usando solo una funcion .replace es : 0.0019538402557373047 segundos\n"
          ],
          "name": "stdout"
        }
      ]
    },
    {
      "cell_type": "markdown",
      "metadata": {
        "id": "FGRgo3VLmfce",
        "colab_type": "text"
      },
      "source": [
        "Podemos observar que hay una mejora significativa en cuanto al tiempo de ejecución.\n",
        "\n",
        "## Remplazando valores usando Diccionarios.\n",
        "\n",
        "Analicemos ahora cómo podemos usar los diccionarios para remplazar valores en un DataFrame de manra eficiente.De manera similar a las listas podemos usar una estructura de datos diferente para mapear valores que queremos remplazar por los que deberian reemplazarse.\n",
        "\n",
        "Los diccionarios son una flecha valiosa en nuetro repertorio d eherramientas Python y servira perfecto para nuestro proposito.\n",
        "\n",
        "\n",
        "Vamos a utilizar diccionarios para reemplazar el género de cada boy por niño y el genero de cada girl por niña.\n",
        "\n",
        "La sintaxis es muy simple , escribimos el valor que queremos remplazar con el valor remplazado usando dos puntos ,podriamos hacer lo mismo con las listas pero es más detallado.\n"
      ]
    },
    {
      "cell_type": "code",
      "metadata": {
        "id": "d90iuqI3mWtT",
        "colab_type": "code",
        "colab": {
          "base_uri": "https://localhost:8080/",
          "height": 34
        },
        "outputId": "299e48c3-2a14-49e8-9f73-9baa73778668"
      },
      "source": [
        "start_time = time.time()\n",
        "data['Gender'].replace({'BOY':'NIÑO','GIRL':'NIÑA'},\n",
        "                       inplace=True)\n",
        "print(\"El tiempo usando diccionarios es: {} segundos\".format(time.time()-start_time))"
      ],
      "execution_count": 55,
      "outputs": [
        {
          "output_type": "stream",
          "text": [
            "El tiempo usando diccionarios es: 0.0014917850494384766 segundos\n"
          ],
          "name": "stdout"
        }
      ]
    },
    {
      "cell_type": "markdown",
      "metadata": {
        "id": "wIM7iMnwp9D-",
        "colab_type": "text"
      },
      "source": [
        "En general, trabajar con diccionarios en Python es muy eficiente en comparacion con las listas.Buscar en una lista requiere un pase en cada elemento de la lista, mientras que en un diccionario , se dirige instantaneamente a la clave que coincide con la entrada.\n",
        "\n",
        "Sin embargo la comparacion es un poco injusta, ya que ambas estructuras tienen diferentes propositos.El uso de diccionarios nos permite reemplazar con los mismo valores en varias collumnas diferentes.\n",
        "\n",
        "En todos los ejemplos anteriores especificamos la columna de la que provienen los valores a reemplazar.Ahora vamos a reemplazar varios valores de una misma columna con un valor común.\n",
        "\n",
        "Queremos clasificar todas las etnias en tres grande categorias, negro ,asiatico y blanco."
      ]
    },
    {
      "cell_type": "code",
      "metadata": {
        "id": "N7aocI6zpj02",
        "colab_type": "code",
        "colab": {
          "base_uri": "https://localhost:8080/",
          "height": 34
        },
        "outputId": "415ab126-ca94-4839-e841-e73b577e0702"
      },
      "source": [
        "start_time = time.time()\n",
        "data.replace({'Ethnicity': {'ASIAN AND PACI':'ASIAN','ASIAN AND PACIFIC ISLANDER':'ASIAN',\n",
        "                           'BLACK NON HISPANIC':'BLACK','BLACK NON HISP':'BLACK',\n",
        "                           'WHITE NON HISPANIC':'WHITE','WHITE NON HISP':'WHITE'}})\n",
        "print(\"Tiempo usando .replce() con un diccionario: {} segundos \".format(time.time()-start_time))"
      ],
      "execution_count": 57,
      "outputs": [
        {
          "output_type": "stream",
          "text": [
            "Tiempo usando .replce() con un diccionario: 0.006624937057495117 segundos \n"
          ],
          "name": "stdout"
        }
      ]
    },
    {
      "cell_type": "markdown",
      "metadata": {
        "id": "gh5swOhg0k81",
        "colab_type": "text"
      },
      "source": [
        "Podemos ver que es muy eficiente usar nuestro código usando diccionarios .\n",
        "\n",
        "\n",
        "---\n",
        "\n"
      ]
    }
  ]
}