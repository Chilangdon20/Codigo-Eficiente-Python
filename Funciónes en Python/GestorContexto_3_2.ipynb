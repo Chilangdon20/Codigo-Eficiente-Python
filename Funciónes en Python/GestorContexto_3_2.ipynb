{
  "nbformat": 4,
  "nbformat_minor": 0,
  "metadata": {
    "colab": {
      "name": "GestorContexto_3_2.ipynb",
      "provenance": [],
      "collapsed_sections": []
    },
    "kernelspec": {
      "name": "python3",
      "display_name": "Python 3"
    }
  },
  "cells": [
    {
      "cell_type": "markdown",
      "metadata": {
        "id": "tEEoaayi3aEz",
        "colab_type": "text"
      },
      "source": [
        "<a  href=\"https://github.com/Chilangdon20/PYTHON/blob/master/Curso%20Basico/CursoExpress/Imagenes/DocString.png\"><img src = \"https://raw.githubusercontent.com/Chilangdon20/PYTHON/master/Curso%20Basico/CursoExpress/Imagenes/DocString.png\" width = 200 align=\"center\" > \n",
        "</a>\n",
        "\n",
        "<h1  ><font size = 5>Gestores De Contexto</font></h1>\n",
        "\n",
        "\n",
        "\n",
        "\n",
        "## Introducción:\n",
        "\n",
        "En esta sección , veremos el concepto de gestores de contexto y veremos como usar estos tipos especiales de funciónes.\n",
        "\n",
        "¿ Que es un gestor de contexto?\n",
        "\n",
        "Es un tipo de función que configura un contexto para que nuestro código se ejecute,ejecute nuestro código y luego elimina el contexto.Sin embargo esa definición no es muy util asi que lo veremos con una analogia.\n",
        "\n",
        "Imaginemos que estamos organizando una fiesta elegante y que hemos contratado a algunos provedores para que sirvan bebidas a los invitados, antes de que comience la fiesta, lo provedores preparan la mesa con comida y bebidas.\n",
        "\n",
        "Entonces tu y tus amigos bailan comen y se divierten,cuando termina la fiesta los provedores de servicios de comida limpian la comida y quitan las mesas.En esta analogia, los servicios de abastecimiento son como un administrador de contexto:\n",
        "\n",
        "* Primero establecieron un contexto para nuestra fiesta, que era una sala llena de comida y bebidas.\n",
        "\n",
        "* Luego te dejan hacer a ti y a tus amigos lo que quieras.Es como si pudieramos eecutar nuestro código dentro del contexto de administrador de contexto\n",
        "\n",
        "* Finalmente cuando termina la fiesta , los servicios de administracion limpian y eliminan el contexto en el que ocurrio la fiesta.\n",
        "\n",
        "\n",
        "Es posible que hayamos usado un código como este anteriormente:"
      ]
    },
    {
      "cell_type": "code",
      "metadata": {
        "id": "ThmMITf63Yio",
        "colab_type": "code",
        "colab": {}
      },
      "source": [
        "whit open('fruits.txt') as my_archivo:\n",
        "  text = mi_archivo.read()\n",
        "  length = len(text)\n",
        "\n",
        "print('Este archivo tiene {} longitud de caracteres'.format(lenght))"
      ],
      "execution_count": null,
      "outputs": []
    },
    {
      "cell_type": "markdown",
      "metadata": {
        "id": "iPdP5ZrL5rg5",
        "colab_type": "text"
      },
      "source": [
        "La función ``open()``es un administrador de contexto, cuando escribimos \n",
        "``open()``abrimos un archivo desde el que podemos leer o escribir.\n",
        "\n",
        "Luego , le devuelve el control a su código para que pueda realizar operaciones en el objeto de archivo.En el ejemplo anterior leemos el texto del archivo , almacenamos el contexto del archivo en la variable ``text``y almacenamosla longitud de los contenedores en la variable ``length``.\n",
        "\n",
        "Cuando el código dentro del bloque sangrado esta hecho , la función ``open()``asegura que el archivo esté cerrado antes de continuar en el script.La declaracion print esta fuera del contexto , por lo que para cuando se ejecuta el archivo está cerrado.\n",
        "\n",
        "Cada vez que usemos un administrador de contexto se vera asi:\n",
        "\n",
        "La palabra ``whit``le permite a Python saber que estamos tratando de ingresar un contexto."
      ]
    },
    {
      "cell_type": "code",
      "metadata": {
        "id": "AZFJfYBK644m",
        "colab_type": "code",
        "colab": {}
      },
      "source": [
        "with"
      ],
      "execution_count": null,
      "outputs": []
    },
    {
      "cell_type": "markdown",
      "metadata": {
        "id": "--y5wj2Q68BW",
        "colab_type": "text"
      },
      "source": [
        "Despues llamamos a la función , podemos llamar a cualquier función creada para fucionar como administrador de contexto."
      ]
    },
    {
      "cell_type": "code",
      "metadata": {
        "id": "-qewBoTT7Ems",
        "colab_type": "code",
        "colab": {}
      },
      "source": [
        "with <admin contexto>"
      ],
      "execution_count": null,
      "outputs": []
    },
    {
      "cell_type": "markdown",
      "metadata": {
        "id": "0aP-jeMm7LGz",
        "colab_type": "text"
      },
      "source": [
        "Un administrador de contexto puede tomar agumentos como cualquier función normal."
      ]
    },
    {
      "cell_type": "code",
      "metadata": {
        "id": "XGKcaM377QO_",
        "colab_type": "code",
        "colab": {}
      },
      "source": [
        "with <admin contexto>(args)"
      ],
      "execution_count": null,
      "outputs": []
    },
    {
      "cell_type": "markdown",
      "metadata": {
        "id": "hBqfTMYa7UXC",
        "colab_type": "text"
      },
      "source": [
        "Finalizamos la declaración con dos puntos como si estuvieramos escribiendo un loop:"
      ]
    },
    {
      "cell_type": "code",
      "metadata": {
        "id": "WPyuLMN-7bwn",
        "colab_type": "code",
        "colab": {}
      },
      "source": [
        "with <admin contexto>(args):"
      ],
      "execution_count": null,
      "outputs": []
    },
    {
      "cell_type": "markdown",
      "metadata": {
        "id": "383B2xPi7hhd",
        "colab_type": "text"
      },
      "source": [
        "Las declaraciones-(C.A) en Python tienen que tener un bloque sangrado despues de ellos, para realizar declaraciones como bucles, sentencias definiciones de funciones etc.\n"
      ]
    },
    {
      "cell_type": "code",
      "metadata": {
        "id": "Mgxty8Eu_v46",
        "colab_type": "code",
        "colab": {}
      },
      "source": [
        "with <admin contexto>(args):\n",
        "  \n",
        "  #  Aqui va el código\n",
        "  #  Esta es la seccion del código dentro del contexto"
      ],
      "execution_count": null,
      "outputs": []
    },
    {
      "cell_type": "markdown",
      "metadata": {
        "id": "4My5CPyJ_7rM",
        "colab_type": "text"
      },
      "source": [
        "Cuando se termina el bloque sangrado,eol administrador de contexto tiene la oportunidad de limiar todo lo que necesite, como cuando el administrador de contexto ``open``cerró el archivo.\n",
        "\n",
        "\n",
        "Algunos administradores de contexto desean devolver un valor que pueda usar dentro del conexto.Al agregar ``as``y un nombre de la variable con dos puntos:"
      ]
    },
    {
      "cell_type": "code",
      "metadata": {
        "id": "TJc5Yq12AbNv",
        "colab_type": "code",
        "colab": {}
      },
      "source": [
        "with <admin contexto>(args) as <variable-nombre>:\n",
        "  \n",
        "  #  Aqui va el código\n",
        "  #  Esta es la seccion del código dentro del contexto"
      ],
      "execution_count": null,
      "outputs": []
    },
    {
      "cell_type": "markdown",
      "metadata": {
        "id": "GUcNtY55AmtJ",
        "colab_type": "text"
      },
      "source": [
        "\n",
        "\n",
        "---\n",
        "\n",
        "\n",
        "## Escribiendo Gestores De Contexto.\n",
        "\n",
        "Ahora que sabemos como usar los administradores de contexto,veremos cómo escribir un administrador de contexto para que lo usen otras personas.Hay dos formas de definir un administrador de contexto en Python:\n",
        "\n",
        "* Mediante el uso de una clase que tiene métodos especiales ``__enter__()`` & ``__exit__()``.\n",
        "\n",
        "* Decorando un cierto tipo de función.\n",
        "\n",
        "\n",
        "Aqui nos centraremos en las funciones e escritura y algunos pueden no saber sobre el concepto de clases,asi que solo representaremos el método basado en funciones.\n",
        "\n",
        "## Partes Para Crear Un Administrador De Contexto.\n",
        "\n",
        "Hay 5 partes para definirlas:\n",
        "\n",
        "* 1. Primero necesitamos definir una función."
      ]
    },
    {
      "cell_type": "code",
      "metadata": {
        "id": "nfZQFY5UB3ZR",
        "colab_type": "code",
        "colab": {}
      },
      "source": [
        "def mi_funcion():"
      ],
      "execution_count": null,
      "outputs": []
    },
    {
      "cell_type": "markdown",
      "metadata": {
        "id": "znR2KyvECLBL",
        "colab_type": "text"
      },
      "source": [
        "* 2. A continuación agregamos cualquier código que necesitemos en nuestro contexto."
      ]
    },
    {
      "cell_type": "code",
      "metadata": {
        "id": "mospjBrRCSYZ",
        "colab_type": "code",
        "colab": {}
      },
      "source": [
        "def mi_funcion():\n",
        "  \n",
        "  # Agregamos el contexto"
      ],
      "execution_count": null,
      "outputs": []
    },
    {
      "cell_type": "markdown",
      "metadata": {
        "id": "9h-2BzG-CYPn",
        "colab_type": "text"
      },
      "source": [
        "* 3. Usamos la palabra clave ``yield``par indicarlo a Python que este es un tipo especial de funció."
      ]
    },
    {
      "cell_type": "code",
      "metadata": {
        "id": "TrrrUa8GChIp",
        "colab_type": "code",
        "colab": {}
      },
      "source": [
        "def mi_funcion():\n",
        "  \n",
        "  # Agregamos el contexto\n",
        "\n",
        "  yield"
      ],
      "execution_count": null,
      "outputs": []
    },
    {
      "cell_type": "markdown",
      "metadata": {
        "id": "MUQfGJ67CmKh",
        "colab_type": "text"
      },
      "source": [
        "* 4. Despues podemos agregar cualquier código de desmontaje que necesiteoms para limpiar el contexto -(OPCIONAL)"
      ]
    },
    {
      "cell_type": "code",
      "metadata": {
        "id": "qNnDBKXyCuy2",
        "colab_type": "code",
        "colab": {}
      },
      "source": [
        "def mi_funcion():\n",
        "  \n",
        "  # Agregamos el contexto\n",
        "\n",
        "  yield\n",
        "\n",
        "  # Agregamos código de desmotnaje OPCIONAL"
      ],
      "execution_count": null,
      "outputs": []
    },
    {
      "cell_type": "markdown",
      "metadata": {
        "id": "Rkwq_Ud1C3Dd",
        "colab_type": "text"
      },
      "source": [
        "* 5. Finalemnte debemos decorar la función con el decorador ``context,anager``.\n",
        "\n",
        "\n"
      ]
    },
    {
      "cell_type": "code",
      "metadata": {
        "id": "m_JXPedHDMCR",
        "colab_type": "code",
        "colab": {}
      },
      "source": [
        "@conextlib.contextmanager\n",
        "def mi_funcion():\n",
        "  \n",
        "  # Agregamos el contexto\n",
        "\n",
        "  yield\n",
        "\n",
        "  # Agregamos código de desmotnaje OPCIONAL"
      ],
      "execution_count": null,
      "outputs": []
    },
    {
      "cell_type": "markdown",
      "metadata": {
        "id": "DxIoZqDRDdX8",
        "colab_type": "text"
      },
      "source": [
        "\n",
        "Es posible que no sepamos que es un decorador y no hay problema mas adelante hablaremos de ellos.Por ahora lo importante es saber que escribirmo el simbolo \".\" desopues de ``contextlib``.\n",
        "\n",
        "La palabra ``yield`` tambien es nueva para nosotros , el significado de esta palabra es que vamos a devolver un valor, pero esperamos terminar el resto de la función en algún momento en el futuro.\n",
        "\n",
        "El valor que produce nuestro administrador de contexto puede asingarse a una variable en la instruccion ``with`` agregando `as``-\n",
        "\n"
      ]
    },
    {
      "cell_type": "code",
      "metadata": {
        "id": "7YYy9dtbEgm7",
        "colab_type": "code",
        "colab": {}
      },
      "source": [
        "import contextlib\n",
        "\n",
        "\n",
        "@contextlib.contextmanager\n",
        "def mi_contexto():\n",
        "  \n",
        "  # Agregamos el contexto\n",
        "  print(\"Hola mundo\")\n",
        "  yield 42\n",
        "  print(\"Adios\")\n",
        "  # Agregamos código de desmotnaje OPCIONAL"
      ],
      "execution_count": null,
      "outputs": []
    },
    {
      "cell_type": "markdown",
      "metadata": {
        "id": "KX0brSszEz-O",
        "colab_type": "text"
      },
      "source": [
        "Ahora asignamos el valor 42 que nuestra función prodive a la variable foo."
      ]
    },
    {
      "cell_type": "code",
      "metadata": {
        "id": "vdV-LCQNEn2E",
        "colab_type": "code",
        "colab": {
          "base_uri": "https://localhost:8080/",
          "height": 68
        },
        "outputId": "0cf1efc7-7c15-432f-ad45-e0f8308ccd94"
      },
      "source": [
        "with mi_contexto() as foo:\n",
        "  print(\"foo es {}\".format(foo))"
      ],
      "execution_count": null,
      "outputs": [
        {
          "output_type": "stream",
          "text": [
            "Hola mundo\n",
            "foo es 42\n",
            "Adios\n"
          ],
          "name": "stdout"
        }
      ]
    },
    {
      "cell_type": "markdown",
      "metadata": {
        "id": "G2zca258FIPk",
        "colab_type": "text"
      },
      "source": [
        "Al ejecutar el código anterior , podemos ver que despues de que se realiza el bloque de contexto , el resto de nuestra funcion imprime Adios.\n",
        "\n",
        "Algunos podemos reconocer la palabra ``yield``como algo que se utiliza al crear generadores.De hecho una funcion de administrador de contexto es técnicamente un genrador que produce un valor unico."
      ]
    },
    {
      "cell_type": "code",
      "metadata": {
        "id": "fWj2sRgLFAx7",
        "colab_type": "code",
        "colab": {}
      },
      "source": [
        ""
      ],
      "execution_count": null,
      "outputs": []
    }
  ]
}