{
  "nbformat": 4,
  "nbformat_minor": 0,
  "metadata": {
    "colab": {
      "name": "Docstring_3_1.ipynb",
      "provenance": [],
      "collapsed_sections": []
    },
    "kernelspec": {
      "name": "python3",
      "display_name": "Python 3"
    }
  },
  "cells": [
    {
      "cell_type": "markdown",
      "metadata": {
        "id": "8bDMJJNtVLQM",
        "colab_type": "text"
      },
      "source": [
        "<a  href=\"https://github.com/Chilangdon20/PYTHON/blob/master/Curso%20Basico/CursoExpress/Imagenes/DocString.png\"><img src = \"https://raw.githubusercontent.com/Chilangdon20/PYTHON/master/Curso%20Basico/CursoExpress/Imagenes/DocString.png\" width = 200 align=\"center\" > \n",
        "</a>\n",
        "\n",
        "<h1  ><font size = 5>Mejores Practicas Para Funciónes</font></h1>"
      ]
    },
    {
      "cell_type": "markdown",
      "metadata": {
        "id": "vfgAUyCCcbbL",
        "colab_type": "text"
      },
      "source": [
        "\n",
        "\n",
        "# Docstrings.\n",
        "\n",
        "\n",
        "## Introducción:\n",
        "\n",
        "Probablemente pases mucho tiempo usando funciones que alguien mas escribió,en esta nueva seccion aprederemos como escribir funciones que otros pueden usar.\n",
        "\n",
        "Las cadenas de documetnos o *Docstrings* son una práctica recomendada de Python que harán que nuestro código sea mucho más fácil de usar, ller y mantener.\n",
        "\n",
        "A continuación veamos la siguiente función y tratemos de decifrar lo que hace:"
      ]
    },
    {
      "cell_type": "code",
      "metadata": {
        "id": "f6IqQ5aPb5av",
        "colab_type": "code",
        "colab": {}
      },
      "source": [
        "def dividir_aplicar(df,new_names):\n",
        "  medio = int(len(df.columns)/2)\n",
        "  izquierda = df.iloc[:,:half]\n",
        "  derecha = df.iloc[:,half:]\n",
        "  return pd.DataFrame(\n",
        "      data=np.vstack([left.values,right.values]),\n",
        "      columns=new_names\n",
        "  )"
      ],
      "execution_count": null,
      "outputs": []
    },
    {
      "cell_type": "markdown",
      "metadata": {
        "id": "itTRWlwMdgH2",
        "colab_type": "text"
      },
      "source": [
        "Si quisieramos entender qué hace la función, cuales son los argumentos y lo que devuelve , tendríamos que pasar un tiempo descifrando el código, sin embargo con un *docstring* , es mucho más fácil saber las entradas y salids esperadas , asi como lo que hace la función.\n",
        "\n",
        "Esto facilita que tu o cuaquier persona usa nuestro código en el futuro."
      ]
    },
    {
      "cell_type": "code",
      "metadata": {
        "id": "JrOXwI14d6S9",
        "colab_type": "code",
        "colab": {}
      },
      "source": [
        "def dividir_aplicar(df,new_names):\n",
        "  \"\"\"\n",
        "  Divide las columnas de un DataFrame en mitades y luego las aplia verticalmente,\n",
        "  devolviendo un DataFrame con nuevos nombres como nombres de columna.\n",
        "  \n",
        "  Args:\n",
        "    df(DataFrame): El DataFrame a dividir.\n",
        "    new_names(iterable of str): La columna de nombres del Nuevo DataFrame.\n",
        "\n",
        "  Returns:\n",
        "    DataFrame\n",
        "  \"\"\"\n",
        "  medio = int(len(df.columns)/2)\n",
        "  izquierda = df.iloc[:,:half]\n",
        "  derecha = df.iloc[:,half:]\n",
        "  return pd.DataFrame(\n",
        "      data=np.vstack([left.values,right.values]),\n",
        "      columns=new_names\n",
        "  )"
      ],
      "execution_count": null,
      "outputs": []
    },
    {
      "cell_type": "markdown",
      "metadata": {
        "id": "AeMsbOmKe1oi",
        "colab_type": "text"
      },
      "source": [
        "Una cadena documentos(docstring) es una cadena escrita como la primera línea de una función,debido a que los docstring generalmente abarcan varias lineas, son entre comillas triples,ya que es la forma en que Python escribe strings de varias líneas.\n",
        "\n",
        "Cada docstring tiene algunas (aunque generalmente no todas) de estas cinco piezas clave de información:\n",
        "\n",
        "* Descripción de lo que hace la función\n",
        "\n",
        "* Descripción de los arguimentos.\n",
        "\n",
        "* Descripción de los valores de retorno.\n",
        "\n",
        "* Descripción de los errores generados.\n",
        "\n",
        "* OPCIONAL información extra.\n"
      ]
    },
    {
      "cell_type": "code",
      "metadata": {
        "id": "i6A5xa1MfYJL",
        "colab_type": "code",
        "colab": {}
      },
      "source": [
        "def function_name(arguments):\n",
        "\"\"\"\n",
        "Descripción de lo que hace la función.\n",
        "\n",
        "Descripción de los arguimentos.\n",
        "\n",
        "Descripción de los valores de retorno.\n",
        "\n",
        "Descripción de los errores generados.\n",
        "\n",
        "OPCIONAL información extra.\n",
        "\n",
        "\"\"\""
      ],
      "execution_count": null,
      "outputs": []
    },
    {
      "cell_type": "markdown",
      "metadata": {
        "id": "lQcboHOzgHDL",
        "colab_type": "text"
      },
      "source": [
        "El estilo consistente hace que un proyecto sea más fácil de leer y la comunidad de Python ha desarrollado varios estándares sobre cómo formatear sus docstring.\n",
        "\n",
        "Google Style y Numpydoc son los formatos más populares , por lo que nos centraremos en ellos.\n",
        "\n",
        "## Google Style\n",
        "\n",
        "\n",
        "En Google-Style , la cadena de documentación comienza con una descripción concisa de lo que hace la función, esto debe ser en un lenguaje imperativo, por ejemplo:\n",
        "\n",
        "* Dividir el DataFrame y apilar las columnas = CORRECTO.\n",
        "\n",
        "* Esta función dividirá el DataFrame y apilara las columnas = INCORRECTO.\n",
        "\n"
      ]
    },
    {
      "cell_type": "code",
      "metadata": {
        "id": "7D24ODHqhFu8",
        "colab_type": "code",
        "colab": {}
      },
      "source": [
        "def funcion(arg_1,arg_2=21):\n",
        "  \"\"\"\n",
        "  Descripción de lo que hace la función.\n",
        "  \n",
        "  \"\"\""
      ],
      "execution_count": null,
      "outputs": []
    },
    {
      "cell_type": "markdown",
      "metadata": {
        "id": "ajvRabavhUPW",
        "colab_type": "text"
      },
      "source": [
        "Luego viene la seccion *Args* donde enumeramos cada nombre de argumento , seguido de su tipo esperado entre paréntesis y luego cuál es su papel en la función."
      ]
    },
    {
      "cell_type": "code",
      "metadata": {
        "id": "xgCcZjn7hiBw",
        "colab_type": "code",
        "colab": {}
      },
      "source": [
        "def funcion(arg_1,arg_2=21):\n",
        "  \"\"\"Descripción de lo que hace la función.\n",
        "\n",
        "  Args:\n",
        "    arg_1 (str): Descripción de arg_1 que suma todos los valores.\n",
        "    \n",
        "    arg_2 (int,opcional): Argumetno con un valor predeterminado\n",
        "  \n",
        "  \"\"\""
      ],
      "execution_count": null,
      "outputs": []
    },
    {
      "cell_type": "markdown",
      "metadata": {
        "id": "OzWSFyrZiFcJ",
        "colab_type": "text"
      },
      "source": [
        "La siguiente sección es la sección *Return* , donde enumeramos el tipo o tipos esperados de los valores que devuelve.\n",
        "\n"
      ]
    },
    {
      "cell_type": "code",
      "metadata": {
        "id": "sepjaQqkiNSG",
        "colab_type": "code",
        "colab": {}
      },
      "source": [
        "def funcion(arg_1,arg_2=21):\n",
        "  \"\"\"Descripción de lo que hace la función.\n",
        "\n",
        "  Args:\n",
        "    arg_1 (str): Descripción de arg_1 que suma todos los valores.\n",
        "    \n",
        "    arg_2 (int,opcional): Argumetno con un valor predeterminado\n",
        "\n",
        "  Return:\n",
        "     int: Descripcion opcionald el valor que retorna.\n",
        "  \n",
        "  \"\"\""
      ],
      "execution_count": null,
      "outputs": []
    },
    {
      "cell_type": "markdown",
      "metadata": {
        "id": "220oOvV1ia70",
        "colab_type": "text"
      },
      "source": [
        "Finalmente si nuestra función genera algún error intencionalmente, debemos agregar una sección *Raises* y si queremos agregar alguna nota extra agregamos *Notes*"
      ]
    },
    {
      "cell_type": "code",
      "metadata": {
        "id": "9t8S_epOil6y",
        "colab_type": "code",
        "colab": {}
      },
      "source": [
        "def funcion(arg_1,arg_2=21):\n",
        "  \"\"\"Descripción de lo que hace la función.\n",
        "\n",
        "  Args:\n",
        "    arg_1 (str): Descripción de arg_1 que suma todos los valores.\n",
        "    \n",
        "    arg_2 (int,opcional): Argumetno con un valor predeterminado\n",
        "\n",
        "  Return:\n",
        "     \n",
        "     int: Descripcion opcionald el valor que retorna.\n",
        "\n",
        "  Raises:\n",
        "     ValueErros: Incluimos algun error intencional.\n",
        "\n",
        "  Notes:\n",
        "     Nota adicionales.\n",
        "  \"\"\""
      ],
      "execution_count": null,
      "outputs": []
    },
    {
      "cell_type": "markdown",
      "metadata": {
        "id": "Pspr60Nm-xYp",
        "colab_type": "text"
      },
      "source": [
        "El parametro Numpydoc es muy similar y es el formato más comun en la comunidad cientifica de Python."
      ]
    },
    {
      "cell_type": "code",
      "metadata": {
        "id": "FxjLjzNa_CmV",
        "colab_type": "code",
        "colab": {}
      },
      "source": [
        "def funcion(arg_1,arg_2=21):\n",
        "  \"\"\"Descripción de lo que hace la función.\n",
        "\n",
        "  Parametro\n",
        "  ---------\n",
        "   arg_1 (str): Descripción de arg_1 que suma todos los valores.\n",
        "    \n",
        "   arg_2 (int,opcional): Argumetno con un valor predeterminado\n",
        "\n",
        "  Returns:\n",
        "  --------\n",
        "     int: Descripcion opcionald el valor que retorna.\n",
        "  \"\"\""
      ],
      "execution_count": null,
      "outputs": []
    },
    {
      "cell_type": "markdown",
      "metadata": {
        "id": "tsECY90p_V00",
        "colab_type": "text"
      },
      "source": [
        "A veces es útil que nuestro código acceda al contenido de la documentación de nuestra función.Cada función en Python viene con un atributo ``__doc__`` que contiene esa información.\n",
        "\n",
        "\n",
        "Observemos que el atributo ``__doc__``contiene la cadena de documentación sin formato, incluidas todas las pestañas o espacios que se agregaron para que las palabras se alineen visualmente."
      ]
    },
    {
      "cell_type": "code",
      "metadata": {
        "id": "uPZpy2b1_qtL",
        "colab_type": "code",
        "colab": {
          "base_uri": "https://localhost:8080/",
          "height": 136
        },
        "outputId": "8b989d8c-eb96-4770-a658-4b34aed20b61"
      },
      "source": [
        "def respuesta():\n",
        "  \"\"\"\n",
        "  Retorna la respuesta del universo y \n",
        "  de todo lo qu existe y lo que no\n",
        "\n",
        "  Returns:\n",
        "    int\n",
        "  \"\"\"\n",
        "  return 42\n",
        "print(respuesta.__doc__)"
      ],
      "execution_count": 4,
      "outputs": [
        {
          "output_type": "stream",
          "text": [
            "\n",
            "  Retorna la respuesta del universo y \n",
            "  de todo lo qu existe y lo que no\n",
            "\n",
            "  Returns:\n",
            "    int\n",
            "  \n"
          ],
          "name": "stdout"
        }
      ]
    },
    {
      "cell_type": "markdown",
      "metadata": {
        "id": "Ie_gDv5-AdXO",
        "colab_type": "text"
      },
      "source": [
        "Para obtener una versión más limpia , con esos espacios principales, podemos usar la función ``getdoc()``del modulo de inspección.\n",
        "\n",
        "El módulo de inspeccion contiene muchos métodos útiles para recopilar información sobre funciones."
      ]
    },
    {
      "cell_type": "code",
      "metadata": {
        "id": "27RXG1lM__ag",
        "colab_type": "code",
        "colab": {
          "base_uri": "https://localhost:8080/",
          "height": 102
        },
        "outputId": "3b7624d6-0dd8-4911-c881-685e8db3a325"
      },
      "source": [
        "import inspect\n",
        "print(inspect.getdoc(respuesta))"
      ],
      "execution_count": 5,
      "outputs": [
        {
          "output_type": "stream",
          "text": [
            "Retorna la respuesta del universo y \n",
            "de todo lo qu existe y lo que no\n",
            "\n",
            "Returns:\n",
            "  int\n"
          ],
          "name": "stdout"
        }
      ]
    },
    {
      "cell_type": "markdown",
      "metadata": {
        "id": "lkSNJTqDBrqP",
        "colab_type": "text"
      },
      "source": [
        "## DRY & \"Do One Thing\"\n",
        "\n",
        "### Introducción:\n",
        "\n",
        "DRY también conocido como *no repitas* & el principio *Do One Thing*\n",
        "son buenas maneras de garantizar que nuestras funciones estén bien diseñadas y sean fáciles de probar veamos como.\n",
        "\n",
        "Cuando estás escribiendo código para buscar respuestas auna pregunta de investigación , es totalmente normal copiar y pegar un poco de código , modificarlo ligeramente y volver a ejecutarlo.Sin embargo , este tipo de código repetido puede generara problemas reales.\n",
        "\n",
        "En el siguiente fragmento de código , cargo mis datos y grtafico los dos primeros componentes principales de cada conjunto de datos, escribi el código para el primer DataSet y luego lo copié y pegue para los otros DataSet."
      ]
    },
    {
      "cell_type": "code",
      "metadata": {
        "id": "G5JSMmhKA4DR",
        "colab_type": "code",
        "colab": {}
      },
      "source": [
        "bancos = pd.read_csv(\"bank.csv\")\n",
        "bancos_y = bancos['labels'].values\n",
        "bancos_x = bancos[col for col in bancos.columns if col != 'labels'].values\n",
        "pls.scatter(bancos_y[:,0])"
      ],
      "execution_count": null,
      "outputs": []
    },
    {
      "cell_type": "code",
      "metadata": {
        "id": "8mGsL4ZDD9kX",
        "colab_type": "code",
        "colab": {}
      },
      "source": [
        "juguetes = pd.read_csv(\"toys.csv\")\n",
        "juguetes_y = juguetes['labels'].values\n",
        "juguetes_x = bancos[col for col in bancos.columns if col != 'labels'].values\n",
        "pls.scatter(juguetes_y[:,0])"
      ],
      "execution_count": null,
      "outputs": []
    },
    {
      "cell_type": "code",
      "metadata": {
        "id": "iHKSS5QoEHrQ",
        "colab_type": "code",
        "colab": {}
      },
      "source": [
        "frutas = pd.read_csv(\"frutas.csv\")\n",
        "f_y = f['labels'].values\n",
        "f_x = f[col for col in bancos.columns if col != 'labels'].values\n",
        "pls.scatter(f_y[:,0])"
      ],
      "execution_count": null,
      "outputs": []
    },
    {
      "cell_type": "markdown",
      "metadata": {
        "id": "eUn-iwPfEHGd",
        "colab_type": "text"
      },
      "source": [
        "Pero uno de los problemas de copiar y pegar es que es fácil introducir accidentalmente errores que son dificiles de detectar, si te das cuenta el el ultimo bloque tengo componentes principales de los bancos en lugar de los de frutas.\n",
        "\n",
        "Otro problema al copiar código es que amenudo tienes que hacerlo en varios lugares,por ejemplo si nos dimos cuenta de que nuestros CSV usaban el nombre de la columna 'label' en lugar de 'labels' y tendriamos que cambiarlo 6 veces!!\n",
        "\n",
        "Un código repetido como el anterior es una buena señal de que debemos escribir una función, envolviendo la lógica repetida en una función y luego llamando a esaa función varias veces hace que sea mucho más facíl evitar el tipo de eerrores introducidos al copiar y pegar."
      ]
    },
    {
      "cell_type": "code",
      "metadata": {
        "id": "DKZ-qvo6HLQF",
        "colab_type": "code",
        "colab": {}
      },
      "source": [
        "def load_plot():\n",
        "  \"\"\"Carga un DataSet y hace un plot de los compomentes principales.\n",
        "  \n",
        "  Args:\n",
        "   path(str): Ruta el archivo CSV\n",
        "\n",
        "  Returns:\n",
        "    tu pla de un ndarray: (caracteristicas,etiquetas)\n",
        " \n",
        "  \"\"\"\n",
        "  # cargamos datos\n",
        "  data = pd.read_csv(path)\n",
        "  y = data['label'].values\n",
        "  x = data[col for col in train.columns if col != 'label'].values\n",
        "  \n",
        "  # Graficamos datos\n",
        "  plt.scatter(x,y)\n",
        "\n",
        "  #Retornamos datos\n",
        "  return x,y"
      ],
      "execution_count": null,
      "outputs": []
    },
    {
      "cell_type": "code",
      "metadata": {
        "id": "xr9jhgDPH5m8",
        "colab_type": "code",
        "colab": {}
      },
      "source": [
        "t_x,t_y = load_plot('bank.csv')\n",
        "f_x,f_y = load_plot('fruits.csv')"
      ],
      "execution_count": null,
      "outputs": []
    },
    {
      "cell_type": "markdown",
      "metadata": {
        "id": "uStKVrRGIWbk",
        "colab_type": "text"
      },
      "source": [
        "Sin embargo la función anterior todavia viola otro principio de ingenieria de Software- \"Do One Thing\", cada función debe tener una sola responsabilidad, veamos cómo podríamos dividir esto.\n",
        "\n",
        "\n",
        "En lugar de una gran función , podríamos tener una habilidad más ágil, una función que solo carga los datos y una segunda para trazar."
      ]
    },
    {
      "cell_type": "code",
      "metadata": {
        "id": "0QMnqBkyI6r0",
        "colab_type": "code",
        "colab": {}
      },
      "source": [
        "def load_data(path):\n",
        "  \"\"\"Carga un DataSet .\n",
        "  \n",
        "  Args:\n",
        "   path(str): Ruta el archivo CSV\n",
        "\n",
        "  Returns:\n",
        "    tu pla de un ndarray: (caracteristicas,etiquetas)\n",
        " \n",
        "  \"\"\"\n",
        "  # cargamos datos\n",
        "  data = pd.read_csv(path)\n",
        "  y = data['label'].values\n",
        "  x = data[col for col in train.columns if \n",
        "           col != 'label'].values\n",
        "  \n",
        "  # Retornamos datos\n",
        "\n",
        "  return x,y\n",
        "\n",
        "  "
      ],
      "execution_count": null,
      "outputs": []
    },
    {
      "cell_type": "code",
      "metadata": {
        "id": "96rRQ2OAJJhq",
        "colab_type": "code",
        "colab": {}
      },
      "source": [
        "def plot_data(X):\n",
        "  \"\"\" Grafica los primeros doselementos de la matriz\n",
        "\n",
        "  Args:\n",
        "   X (numpy.ndarray): Los datos a graficar\n",
        "  \"\"\"\n",
        "  # Graficamos datos\n",
        "  pca = PCA(n_components=2).fit_transform(X)\n",
        "  plt.scatter(pca[:;0],pca[:,1])"
      ],
      "execution_count": null,
      "outputs": []
    },
    {
      "cell_type": "markdown",
      "metadata": {
        "id": "53bCxTYhJnQK",
        "colab_type": "text"
      },
      "source": [
        "Obtenemos varias ventajas al dividir la funcion ``load_plot`` en dos funciones mas pequeñas,en primer lugar nuestro código se ha vuelto más flexible.Imaginemos que mas adelante, solo deseamos cargar los datos y no trazarlos eso es facil con nuestra función ``load_data`` , de mismo modo si deseamos hacer alguna transformación a los datos antes , podemos hacer una transformacion y luego graficarla con nuestra función ``plot_data``.\n",
        "\n",
        "El código tambien será más fácil de entender para otros desarrolladores y será más agradable probarlo y depurarlo.El código repetido y funciones que hacen más de una cosa son ejemplos de *olores de código*, que son indicadores de que podemos necesitar refactorizar.\n",
        "\n",
        "\n",
        "## Paso por asignación.\n",
        "\n",
        "## Introducción:\n",
        "\n",
        "La forma en que Python pasa la información a las funciones es diferente de muchos otros lenguajes y se conoce como *Pass by assignment*.\n",
        "\n",
        "Digamos que tenemos una función ``foo()``que toma una lista y establece el primer valor de la lista en 99.Luego establecemos ``mi_lista``en el valor [1,2,3] y se lo pasamos a nuestra función.\n",
        "\n",
        "¿ Cual esperas que sea el valor de ``mi_lista``  despues de llamrala a nuestra función?\n",
        "\n",
        "Si pensaste en [99,2,3] tienes razon!.Las listas en Python son objetos mutables, lo que significa que se pueden cambiar.\n",
        "\n"
      ]
    },
    {
      "cell_type": "code",
      "metadata": {
        "id": "eywJEPK4Kgkh",
        "colab_type": "code",
        "colab": {
          "base_uri": "https://localhost:8080/",
          "height": 34
        },
        "outputId": "9c6b7116-5c48-49ca-99b1-7b1c32ee5a30"
      },
      "source": [
        "def foo(x):\n",
        "  x[0] = 99\n",
        "\n",
        "mi_lista = [1,2,3]\n",
        "foo(mi_lista)\n",
        "print(mi_lista)"
      ],
      "execution_count": 9,
      "outputs": [
        {
          "output_type": "stream",
          "text": [
            "[99, 2, 3]\n"
          ],
          "name": "stdout"
        }
      ]
    },
    {
      "cell_type": "markdown",
      "metadata": {
        "id": "xwmJ-jcGMpF-",
        "colab_type": "text"
      },
      "source": [
        "Ahora digamos que tenemos otra funcion ``bar()`` que toma un argumento y le agregamos ochenta.Luego asignamos cuatro a la variable ``m_n`` y llamamos a nuestra función.\n",
        "\n",
        "¿ Cuál esperas que sea su salida?\n",
        "\n",
        "Si pensaste en 4 tienes razón, ya que los enteros son inmutables , lo que significa que no pueden cambiar.Veamos otro ejemplo para entender lo que sucede."
      ]
    },
    {
      "cell_type": "code",
      "metadata": {
        "id": "ZnB2eOFyLwOJ",
        "colab_type": "code",
        "colab": {}
      },
      "source": [
        "def bar(x):\n",
        "  x = x + 80\n",
        "\n",
        "m_n = 4\n",
        "\n",
        "bar(m_n)\n",
        "print(m_n)"
      ],
      "execution_count": null,
      "outputs": []
    },
    {
      "cell_type": "markdown",
      "metadata": {
        "id": "06zGLfrjNcf_",
        "colab_type": "text"
      },
      "source": [
        "Imagina que tienes una barra gris en nuestra computadora y cuando establecemos la variable a."
      ]
    },
    {
      "cell_type": "code",
      "metadata": {
        "id": "pvAK83_MNDID",
        "colab_type": "code",
        "colab": {}
      },
      "source": [
        "a = [1,2,3]"
      ],
      "execution_count": 12,
      "outputs": []
    },
    {
      "cell_type": "markdown",
      "metadata": {
        "id": "Q9r-W_AaNmqC",
        "colab_type": "text"
      },
      "source": [
        "El interprete de Python dice: Bien ahora `a` apunta a esta ubicación de memoria, luego escribimos:"
      ]
    },
    {
      "cell_type": "code",
      "metadata": {
        "id": "oceDwMJqNkJA",
        "colab_type": "code",
        "colab": {}
      },
      "source": [
        "b = a"
      ],
      "execution_count": 13,
      "outputs": []
    },
    {
      "cell_type": "markdown",
      "metadata": {
        "id": "3mYmtmFmOS35",
        "colab_type": "text"
      },
      "source": [
        "El interprete dice: Bien ahora `b`apunta a lo que `a`apunta, entonces si tuvieramos que agregar 4 al final de `a` ambas variables lo obtienen por que solo hay una lista."
      ]
    },
    {
      "cell_type": "code",
      "metadata": {
        "id": "E1N4BZjdNy3l",
        "colab_type": "code",
        "colab": {
          "base_uri": "https://localhost:8080/",
          "height": 34
        },
        "outputId": "54a359b3-8659-432b-c271-0fab9b3e4862"
      },
      "source": [
        "a.append(4)\n",
        "print(b)"
      ],
      "execution_count": 14,
      "outputs": [
        {
          "output_type": "stream",
          "text": [
            "[1, 2, 3, 4]\n"
          ],
          "name": "stdout"
        }
      ]
    },
    {
      "cell_type": "markdown",
      "metadata": {
        "id": "3ei3p9W1PHZS",
        "colab_type": "text"
      },
      "source": [
        "Del mismo modo , si agregamos 5 a `b` ambas variables lo obtienen."
      ]
    },
    {
      "cell_type": "code",
      "metadata": {
        "id": "fLCZjzdMPBaE",
        "colab_type": "code",
        "colab": {
          "base_uri": "https://localhost:8080/",
          "height": 34
        },
        "outputId": "e86d79a3-3f57-4c89-8bff-4f1322da2e67"
      },
      "source": [
        "b.append(5)\n",
        "print(a)"
      ],
      "execution_count": 16,
      "outputs": [
        {
          "output_type": "stream",
          "text": [
            "[1, 2, 3, 4, 5]\n"
          ],
          "name": "stdout"
        }
      ]
    },
    {
      "cell_type": "markdown",
      "metadata": {
        "id": "byeBELRFPf9L",
        "colab_type": "text"
      },
      "source": [
        "Sin embargo si asignamos `a`un objeto diferente en la memmoria , eso no cambia  a dónde apunta `b`.  "
      ]
    },
    {
      "cell_type": "code",
      "metadata": {
        "id": "hivxFNrsPce-",
        "colab_type": "code",
        "colab": {}
      },
      "source": [
        "a = 42"
      ],
      "execution_count": 17,
      "outputs": []
    },
    {
      "cell_type": "markdown",
      "metadata": {
        "id": "5WFo5LQPPt-j",
        "colab_type": "text"
      },
      "source": [
        "Ahora las cosas que le suceden a `a` ya no le suceden a `b`, pero lo importante es ¿Como relacionamos esto con la funciones de ejemplo que vimos anteriormente?\n",
        "\n",
        "Cuando asignamos una lista a una variable , Python establece una ubucacion en la memoria para ello, luego cuando pasamos un argumento a la función , el parametro se asigna a esa misma ubicación.\n",
        "\n",
        "Entonces cuando la función modifica lo que apunta `x`tambien esta modificando lo que apunta nuestro valor que pasamos a la función.\n",
        "\n",
        "\n",
        "Solo hay unos pocos tipos de datos inmutables en Python por que casi todo esta representado como un objeto.La unica manera de saber si algo es mutable es ver si hay una función o método que cambiaria el objeto sin asignarlo a una nueva variable.\n",
        "\n",
        "\n",
        "\n",
        "\n",
        "---\n",
        "\n",
        "\n"
      ]
    }
  ]
}