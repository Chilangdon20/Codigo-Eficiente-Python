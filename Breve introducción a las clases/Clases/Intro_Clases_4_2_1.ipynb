{
  "nbformat": 4,
  "nbformat_minor": 0,
  "metadata": {
    "colab": {
      "name": "Intro_Clases_4_2_1.ipynb",
      "provenance": [],
      "collapsed_sections": []
    },
    "kernelspec": {
      "name": "python3",
      "display_name": "Python 3"
    }
  },
  "cells": [
    {
      "cell_type": "markdown",
      "metadata": {
        "id": "qxZLdnScFMcC",
        "colab_type": "text"
      },
      "source": [
        "# Profundizaje en Clases.\n",
        "\n",
        "## Introducción:\n",
        "\n",
        "Una vez terminada la parte de introducción es hora de dedicarnos a darle a la teoria y al código, en esta sección cubriremos cómo construir una clase, que como recordaremos es el molde de un objeto asi que empecemos.\n",
        "\n",
        "En esta sección crearemos una clase que nos ayudara a comprender cómo funcionan los Padas DataFrame.Recordemos que un DataFrame es una estructura de tabla similar a Excel que se basan en grupos de matrices NumPy.\n",
        "\n",
        "Dentro de un DataFrame podemos hacer referencia a varias partes del DataFrame para realizar operaciones en ellos y crear DataFraes apartir de archivos CSCV como haremos a continuacion:\n"
      ]
    },
    {
      "cell_type": "code",
      "metadata": {
        "id": "SLVE7CXhE7Rk",
        "colab_type": "code",
        "colab": {
          "base_uri": "https://localhost:8080/",
          "height": 1000
        },
        "outputId": "c88fb949-3b98-4dba-e217-98e5f692f2bf"
      },
      "source": [
        "import pandas as pd\n",
        "dataF = pd.read_csv('https://assets.datacamp.com/production/repositories/2097/datasets/054e2f80f31a05a79db90f58068523b5a92d1ba1/mtcars.csv')\n",
        "dataF"
      ],
      "execution_count": 8,
      "outputs": [
        {
          "output_type": "execute_result",
          "data": {
            "text/html": [
              "<div>\n",
              "<style scoped>\n",
              "    .dataframe tbody tr th:only-of-type {\n",
              "        vertical-align: middle;\n",
              "    }\n",
              "\n",
              "    .dataframe tbody tr th {\n",
              "        vertical-align: top;\n",
              "    }\n",
              "\n",
              "    .dataframe thead th {\n",
              "        text-align: right;\n",
              "    }\n",
              "</style>\n",
              "<table border=\"1\" class=\"dataframe\">\n",
              "  <thead>\n",
              "    <tr style=\"text-align: right;\">\n",
              "      <th></th>\n",
              "      <th>model</th>\n",
              "      <th>mpg</th>\n",
              "      <th>cyl</th>\n",
              "      <th>disp</th>\n",
              "      <th>hp</th>\n",
              "      <th>drat</th>\n",
              "      <th>wt</th>\n",
              "      <th>qsec</th>\n",
              "      <th>vs</th>\n",
              "      <th>am</th>\n",
              "      <th>gear</th>\n",
              "      <th>carb</th>\n",
              "    </tr>\n",
              "  </thead>\n",
              "  <tbody>\n",
              "    <tr>\n",
              "      <th>0</th>\n",
              "      <td>Mazda RX4</td>\n",
              "      <td>21.0</td>\n",
              "      <td>6</td>\n",
              "      <td>160.0</td>\n",
              "      <td>110</td>\n",
              "      <td>3.90</td>\n",
              "      <td>2.620</td>\n",
              "      <td>16.46</td>\n",
              "      <td>0</td>\n",
              "      <td>1</td>\n",
              "      <td>4</td>\n",
              "      <td>4</td>\n",
              "    </tr>\n",
              "    <tr>\n",
              "      <th>1</th>\n",
              "      <td>Mazda RX4 Wag</td>\n",
              "      <td>21.0</td>\n",
              "      <td>6</td>\n",
              "      <td>160.0</td>\n",
              "      <td>110</td>\n",
              "      <td>3.90</td>\n",
              "      <td>2.875</td>\n",
              "      <td>17.02</td>\n",
              "      <td>0</td>\n",
              "      <td>1</td>\n",
              "      <td>4</td>\n",
              "      <td>4</td>\n",
              "    </tr>\n",
              "    <tr>\n",
              "      <th>2</th>\n",
              "      <td>Datsun 710</td>\n",
              "      <td>22.8</td>\n",
              "      <td>4</td>\n",
              "      <td>108.0</td>\n",
              "      <td>93</td>\n",
              "      <td>3.85</td>\n",
              "      <td>2.320</td>\n",
              "      <td>18.61</td>\n",
              "      <td>1</td>\n",
              "      <td>1</td>\n",
              "      <td>4</td>\n",
              "      <td>1</td>\n",
              "    </tr>\n",
              "    <tr>\n",
              "      <th>3</th>\n",
              "      <td>Hornet 4 Drive</td>\n",
              "      <td>21.4</td>\n",
              "      <td>6</td>\n",
              "      <td>258.0</td>\n",
              "      <td>110</td>\n",
              "      <td>3.08</td>\n",
              "      <td>3.215</td>\n",
              "      <td>19.44</td>\n",
              "      <td>1</td>\n",
              "      <td>0</td>\n",
              "      <td>3</td>\n",
              "      <td>1</td>\n",
              "    </tr>\n",
              "    <tr>\n",
              "      <th>4</th>\n",
              "      <td>Hornet Sportabout</td>\n",
              "      <td>18.7</td>\n",
              "      <td>8</td>\n",
              "      <td>360.0</td>\n",
              "      <td>175</td>\n",
              "      <td>3.15</td>\n",
              "      <td>3.440</td>\n",
              "      <td>17.02</td>\n",
              "      <td>0</td>\n",
              "      <td>0</td>\n",
              "      <td>3</td>\n",
              "      <td>2</td>\n",
              "    </tr>\n",
              "    <tr>\n",
              "      <th>5</th>\n",
              "      <td>Valiant</td>\n",
              "      <td>18.1</td>\n",
              "      <td>6</td>\n",
              "      <td>225.0</td>\n",
              "      <td>105</td>\n",
              "      <td>2.76</td>\n",
              "      <td>3.460</td>\n",
              "      <td>20.22</td>\n",
              "      <td>1</td>\n",
              "      <td>0</td>\n",
              "      <td>3</td>\n",
              "      <td>1</td>\n",
              "    </tr>\n",
              "    <tr>\n",
              "      <th>6</th>\n",
              "      <td>Duster 360</td>\n",
              "      <td>14.3</td>\n",
              "      <td>8</td>\n",
              "      <td>360.0</td>\n",
              "      <td>245</td>\n",
              "      <td>3.21</td>\n",
              "      <td>3.570</td>\n",
              "      <td>15.84</td>\n",
              "      <td>0</td>\n",
              "      <td>0</td>\n",
              "      <td>3</td>\n",
              "      <td>4</td>\n",
              "    </tr>\n",
              "    <tr>\n",
              "      <th>7</th>\n",
              "      <td>Merc 240D</td>\n",
              "      <td>24.4</td>\n",
              "      <td>4</td>\n",
              "      <td>146.7</td>\n",
              "      <td>62</td>\n",
              "      <td>3.69</td>\n",
              "      <td>3.190</td>\n",
              "      <td>20.00</td>\n",
              "      <td>1</td>\n",
              "      <td>0</td>\n",
              "      <td>4</td>\n",
              "      <td>2</td>\n",
              "    </tr>\n",
              "    <tr>\n",
              "      <th>8</th>\n",
              "      <td>Merc 230</td>\n",
              "      <td>22.8</td>\n",
              "      <td>4</td>\n",
              "      <td>140.8</td>\n",
              "      <td>95</td>\n",
              "      <td>3.92</td>\n",
              "      <td>3.150</td>\n",
              "      <td>22.90</td>\n",
              "      <td>1</td>\n",
              "      <td>0</td>\n",
              "      <td>4</td>\n",
              "      <td>2</td>\n",
              "    </tr>\n",
              "    <tr>\n",
              "      <th>9</th>\n",
              "      <td>Merc 280</td>\n",
              "      <td>19.2</td>\n",
              "      <td>6</td>\n",
              "      <td>167.6</td>\n",
              "      <td>123</td>\n",
              "      <td>3.92</td>\n",
              "      <td>3.440</td>\n",
              "      <td>18.30</td>\n",
              "      <td>1</td>\n",
              "      <td>0</td>\n",
              "      <td>4</td>\n",
              "      <td>4</td>\n",
              "    </tr>\n",
              "    <tr>\n",
              "      <th>10</th>\n",
              "      <td>Merc 280C</td>\n",
              "      <td>17.8</td>\n",
              "      <td>6</td>\n",
              "      <td>167.6</td>\n",
              "      <td>123</td>\n",
              "      <td>3.92</td>\n",
              "      <td>3.440</td>\n",
              "      <td>18.90</td>\n",
              "      <td>1</td>\n",
              "      <td>0</td>\n",
              "      <td>4</td>\n",
              "      <td>4</td>\n",
              "    </tr>\n",
              "    <tr>\n",
              "      <th>11</th>\n",
              "      <td>Merc 450SE</td>\n",
              "      <td>16.4</td>\n",
              "      <td>8</td>\n",
              "      <td>275.8</td>\n",
              "      <td>180</td>\n",
              "      <td>3.07</td>\n",
              "      <td>4.070</td>\n",
              "      <td>17.40</td>\n",
              "      <td>0</td>\n",
              "      <td>0</td>\n",
              "      <td>3</td>\n",
              "      <td>3</td>\n",
              "    </tr>\n",
              "    <tr>\n",
              "      <th>12</th>\n",
              "      <td>Merc 450SL</td>\n",
              "      <td>17.3</td>\n",
              "      <td>8</td>\n",
              "      <td>275.8</td>\n",
              "      <td>180</td>\n",
              "      <td>3.07</td>\n",
              "      <td>3.730</td>\n",
              "      <td>17.60</td>\n",
              "      <td>0</td>\n",
              "      <td>0</td>\n",
              "      <td>3</td>\n",
              "      <td>3</td>\n",
              "    </tr>\n",
              "    <tr>\n",
              "      <th>13</th>\n",
              "      <td>Merc 450SLC</td>\n",
              "      <td>15.2</td>\n",
              "      <td>8</td>\n",
              "      <td>275.8</td>\n",
              "      <td>180</td>\n",
              "      <td>3.07</td>\n",
              "      <td>3.780</td>\n",
              "      <td>18.00</td>\n",
              "      <td>0</td>\n",
              "      <td>0</td>\n",
              "      <td>3</td>\n",
              "      <td>3</td>\n",
              "    </tr>\n",
              "    <tr>\n",
              "      <th>14</th>\n",
              "      <td>Cadillac Fleetwood</td>\n",
              "      <td>10.4</td>\n",
              "      <td>8</td>\n",
              "      <td>472.0</td>\n",
              "      <td>205</td>\n",
              "      <td>2.93</td>\n",
              "      <td>5.250</td>\n",
              "      <td>17.98</td>\n",
              "      <td>0</td>\n",
              "      <td>0</td>\n",
              "      <td>3</td>\n",
              "      <td>4</td>\n",
              "    </tr>\n",
              "    <tr>\n",
              "      <th>15</th>\n",
              "      <td>Lincoln Continental</td>\n",
              "      <td>10.4</td>\n",
              "      <td>8</td>\n",
              "      <td>460.0</td>\n",
              "      <td>215</td>\n",
              "      <td>3.00</td>\n",
              "      <td>5.424</td>\n",
              "      <td>17.82</td>\n",
              "      <td>0</td>\n",
              "      <td>0</td>\n",
              "      <td>3</td>\n",
              "      <td>4</td>\n",
              "    </tr>\n",
              "    <tr>\n",
              "      <th>16</th>\n",
              "      <td>Chrysler Imperial</td>\n",
              "      <td>14.7</td>\n",
              "      <td>8</td>\n",
              "      <td>440.0</td>\n",
              "      <td>230</td>\n",
              "      <td>3.23</td>\n",
              "      <td>5.345</td>\n",
              "      <td>17.42</td>\n",
              "      <td>0</td>\n",
              "      <td>0</td>\n",
              "      <td>3</td>\n",
              "      <td>4</td>\n",
              "    </tr>\n",
              "    <tr>\n",
              "      <th>17</th>\n",
              "      <td>Fiat 128</td>\n",
              "      <td>32.4</td>\n",
              "      <td>4</td>\n",
              "      <td>78.7</td>\n",
              "      <td>66</td>\n",
              "      <td>4.08</td>\n",
              "      <td>2.200</td>\n",
              "      <td>19.47</td>\n",
              "      <td>1</td>\n",
              "      <td>1</td>\n",
              "      <td>4</td>\n",
              "      <td>1</td>\n",
              "    </tr>\n",
              "    <tr>\n",
              "      <th>18</th>\n",
              "      <td>Honda Civic</td>\n",
              "      <td>30.4</td>\n",
              "      <td>4</td>\n",
              "      <td>75.7</td>\n",
              "      <td>52</td>\n",
              "      <td>4.93</td>\n",
              "      <td>1.615</td>\n",
              "      <td>18.52</td>\n",
              "      <td>1</td>\n",
              "      <td>1</td>\n",
              "      <td>4</td>\n",
              "      <td>2</td>\n",
              "    </tr>\n",
              "    <tr>\n",
              "      <th>19</th>\n",
              "      <td>Toyota Corolla</td>\n",
              "      <td>33.9</td>\n",
              "      <td>4</td>\n",
              "      <td>71.1</td>\n",
              "      <td>65</td>\n",
              "      <td>4.22</td>\n",
              "      <td>1.835</td>\n",
              "      <td>19.90</td>\n",
              "      <td>1</td>\n",
              "      <td>1</td>\n",
              "      <td>4</td>\n",
              "      <td>1</td>\n",
              "    </tr>\n",
              "    <tr>\n",
              "      <th>20</th>\n",
              "      <td>Toyota Corona</td>\n",
              "      <td>21.5</td>\n",
              "      <td>4</td>\n",
              "      <td>120.1</td>\n",
              "      <td>97</td>\n",
              "      <td>3.70</td>\n",
              "      <td>2.465</td>\n",
              "      <td>20.01</td>\n",
              "      <td>1</td>\n",
              "      <td>0</td>\n",
              "      <td>3</td>\n",
              "      <td>1</td>\n",
              "    </tr>\n",
              "    <tr>\n",
              "      <th>21</th>\n",
              "      <td>Dodge Challenger</td>\n",
              "      <td>15.5</td>\n",
              "      <td>8</td>\n",
              "      <td>318.0</td>\n",
              "      <td>150</td>\n",
              "      <td>2.76</td>\n",
              "      <td>3.520</td>\n",
              "      <td>16.87</td>\n",
              "      <td>0</td>\n",
              "      <td>0</td>\n",
              "      <td>3</td>\n",
              "      <td>2</td>\n",
              "    </tr>\n",
              "    <tr>\n",
              "      <th>22</th>\n",
              "      <td>AMC Javelin</td>\n",
              "      <td>15.2</td>\n",
              "      <td>8</td>\n",
              "      <td>304.0</td>\n",
              "      <td>150</td>\n",
              "      <td>3.15</td>\n",
              "      <td>3.435</td>\n",
              "      <td>17.30</td>\n",
              "      <td>0</td>\n",
              "      <td>0</td>\n",
              "      <td>3</td>\n",
              "      <td>2</td>\n",
              "    </tr>\n",
              "    <tr>\n",
              "      <th>23</th>\n",
              "      <td>Camaro Z28</td>\n",
              "      <td>13.3</td>\n",
              "      <td>8</td>\n",
              "      <td>350.0</td>\n",
              "      <td>245</td>\n",
              "      <td>3.73</td>\n",
              "      <td>3.840</td>\n",
              "      <td>15.41</td>\n",
              "      <td>0</td>\n",
              "      <td>0</td>\n",
              "      <td>3</td>\n",
              "      <td>4</td>\n",
              "    </tr>\n",
              "    <tr>\n",
              "      <th>24</th>\n",
              "      <td>Pontiac Firebird</td>\n",
              "      <td>19.2</td>\n",
              "      <td>8</td>\n",
              "      <td>400.0</td>\n",
              "      <td>175</td>\n",
              "      <td>3.08</td>\n",
              "      <td>3.845</td>\n",
              "      <td>17.05</td>\n",
              "      <td>0</td>\n",
              "      <td>0</td>\n",
              "      <td>3</td>\n",
              "      <td>2</td>\n",
              "    </tr>\n",
              "    <tr>\n",
              "      <th>25</th>\n",
              "      <td>Fiat X1-9</td>\n",
              "      <td>27.3</td>\n",
              "      <td>4</td>\n",
              "      <td>79.0</td>\n",
              "      <td>66</td>\n",
              "      <td>4.08</td>\n",
              "      <td>1.935</td>\n",
              "      <td>18.90</td>\n",
              "      <td>1</td>\n",
              "      <td>1</td>\n",
              "      <td>4</td>\n",
              "      <td>1</td>\n",
              "    </tr>\n",
              "    <tr>\n",
              "      <th>26</th>\n",
              "      <td>Porsche 914-2</td>\n",
              "      <td>26.0</td>\n",
              "      <td>4</td>\n",
              "      <td>120.3</td>\n",
              "      <td>91</td>\n",
              "      <td>4.43</td>\n",
              "      <td>2.140</td>\n",
              "      <td>16.70</td>\n",
              "      <td>0</td>\n",
              "      <td>1</td>\n",
              "      <td>5</td>\n",
              "      <td>2</td>\n",
              "    </tr>\n",
              "    <tr>\n",
              "      <th>27</th>\n",
              "      <td>Lotus Europa</td>\n",
              "      <td>30.4</td>\n",
              "      <td>4</td>\n",
              "      <td>95.1</td>\n",
              "      <td>113</td>\n",
              "      <td>3.77</td>\n",
              "      <td>1.513</td>\n",
              "      <td>16.90</td>\n",
              "      <td>1</td>\n",
              "      <td>1</td>\n",
              "      <td>5</td>\n",
              "      <td>2</td>\n",
              "    </tr>\n",
              "    <tr>\n",
              "      <th>28</th>\n",
              "      <td>Ford Pantera L</td>\n",
              "      <td>15.8</td>\n",
              "      <td>8</td>\n",
              "      <td>351.0</td>\n",
              "      <td>264</td>\n",
              "      <td>4.22</td>\n",
              "      <td>3.170</td>\n",
              "      <td>14.50</td>\n",
              "      <td>0</td>\n",
              "      <td>1</td>\n",
              "      <td>5</td>\n",
              "      <td>4</td>\n",
              "    </tr>\n",
              "    <tr>\n",
              "      <th>29</th>\n",
              "      <td>Ferrari Dino</td>\n",
              "      <td>19.7</td>\n",
              "      <td>6</td>\n",
              "      <td>145.0</td>\n",
              "      <td>175</td>\n",
              "      <td>3.62</td>\n",
              "      <td>2.770</td>\n",
              "      <td>15.50</td>\n",
              "      <td>0</td>\n",
              "      <td>1</td>\n",
              "      <td>5</td>\n",
              "      <td>6</td>\n",
              "    </tr>\n",
              "    <tr>\n",
              "      <th>30</th>\n",
              "      <td>Maserati Bora</td>\n",
              "      <td>15.0</td>\n",
              "      <td>8</td>\n",
              "      <td>301.0</td>\n",
              "      <td>335</td>\n",
              "      <td>3.54</td>\n",
              "      <td>3.570</td>\n",
              "      <td>14.60</td>\n",
              "      <td>0</td>\n",
              "      <td>1</td>\n",
              "      <td>5</td>\n",
              "      <td>8</td>\n",
              "    </tr>\n",
              "    <tr>\n",
              "      <th>31</th>\n",
              "      <td>Volvo 142E</td>\n",
              "      <td>21.4</td>\n",
              "      <td>4</td>\n",
              "      <td>121.0</td>\n",
              "      <td>109</td>\n",
              "      <td>4.11</td>\n",
              "      <td>2.780</td>\n",
              "      <td>18.60</td>\n",
              "      <td>1</td>\n",
              "      <td>1</td>\n",
              "      <td>4</td>\n",
              "      <td>2</td>\n",
              "    </tr>\n",
              "  </tbody>\n",
              "</table>\n",
              "</div>"
            ],
            "text/plain": [
              "                  model   mpg  cyl   disp   hp  ...   qsec  vs  am  gear  carb\n",
              "0             Mazda RX4  21.0    6  160.0  110  ...  16.46   0   1     4     4\n",
              "1         Mazda RX4 Wag  21.0    6  160.0  110  ...  17.02   0   1     4     4\n",
              "2            Datsun 710  22.8    4  108.0   93  ...  18.61   1   1     4     1\n",
              "3        Hornet 4 Drive  21.4    6  258.0  110  ...  19.44   1   0     3     1\n",
              "4     Hornet Sportabout  18.7    8  360.0  175  ...  17.02   0   0     3     2\n",
              "5               Valiant  18.1    6  225.0  105  ...  20.22   1   0     3     1\n",
              "6            Duster 360  14.3    8  360.0  245  ...  15.84   0   0     3     4\n",
              "7             Merc 240D  24.4    4  146.7   62  ...  20.00   1   0     4     2\n",
              "8              Merc 230  22.8    4  140.8   95  ...  22.90   1   0     4     2\n",
              "9              Merc 280  19.2    6  167.6  123  ...  18.30   1   0     4     4\n",
              "10            Merc 280C  17.8    6  167.6  123  ...  18.90   1   0     4     4\n",
              "11           Merc 450SE  16.4    8  275.8  180  ...  17.40   0   0     3     3\n",
              "12           Merc 450SL  17.3    8  275.8  180  ...  17.60   0   0     3     3\n",
              "13          Merc 450SLC  15.2    8  275.8  180  ...  18.00   0   0     3     3\n",
              "14   Cadillac Fleetwood  10.4    8  472.0  205  ...  17.98   0   0     3     4\n",
              "15  Lincoln Continental  10.4    8  460.0  215  ...  17.82   0   0     3     4\n",
              "16    Chrysler Imperial  14.7    8  440.0  230  ...  17.42   0   0     3     4\n",
              "17             Fiat 128  32.4    4   78.7   66  ...  19.47   1   1     4     1\n",
              "18          Honda Civic  30.4    4   75.7   52  ...  18.52   1   1     4     2\n",
              "19       Toyota Corolla  33.9    4   71.1   65  ...  19.90   1   1     4     1\n",
              "20        Toyota Corona  21.5    4  120.1   97  ...  20.01   1   0     3     1\n",
              "21     Dodge Challenger  15.5    8  318.0  150  ...  16.87   0   0     3     2\n",
              "22          AMC Javelin  15.2    8  304.0  150  ...  17.30   0   0     3     2\n",
              "23           Camaro Z28  13.3    8  350.0  245  ...  15.41   0   0     3     4\n",
              "24     Pontiac Firebird  19.2    8  400.0  175  ...  17.05   0   0     3     2\n",
              "25            Fiat X1-9  27.3    4   79.0   66  ...  18.90   1   1     4     1\n",
              "26        Porsche 914-2  26.0    4  120.3   91  ...  16.70   0   1     5     2\n",
              "27         Lotus Europa  30.4    4   95.1  113  ...  16.90   1   1     5     2\n",
              "28       Ford Pantera L  15.8    8  351.0  264  ...  14.50   0   1     5     4\n",
              "29         Ferrari Dino  19.7    6  145.0  175  ...  15.50   0   1     5     6\n",
              "30        Maserati Bora  15.0    8  301.0  335  ...  14.60   0   1     5     8\n",
              "31           Volvo 142E  21.4    4  121.0  109  ...  18.60   1   1     4     2\n",
              "\n",
              "[32 rows x 12 columns]"
            ]
          },
          "metadata": {
            "tags": []
          },
          "execution_count": 8
        }
      ]
    },
    {
      "cell_type": "markdown",
      "metadata": {
        "id": "O170Cu39IpvD",
        "colab_type": "text"
      },
      "source": [
        "Llamaremos a nuestra clase DataS que tomara ideas detrás del Pandas DataFrame para recrearlas desde 0.\n",
        "\n",
        "Desde  DataS , construiremos una clase que toma un archivo de datos como entrada y nos devuelve alguna información al respecto.En esta sección veremos mas a detalle como funcionara nuestro DataShell.\n",
        "\n",
        "En el notebook pasado , creamos un marcador de posicion para una clase (`pass`), ahora veamos la clse cuando está completamente desarrollada.\n",
        "\n",
        "* Primero tiene un constructor con un método init.\n",
        "\n",
        "**Recordemos que los métodos son funciones de clase.**\n",
        "\n",
        "* También tiene varios métodos, incluido uno que crea la capa de datos apartir de un objeto de archivo y otro que puede cambiar el nombre de las columnas en la capa de datos.\n",
        "\n",
        "* Tambie1n tiene un método para imprimir el contenido de la clase y uno para crear un resumen de cinco cifras."
      ]
    },
    {
      "cell_type": "code",
      "metadata": {
        "id": "vyIayik2FQms",
        "colab_type": "code",
        "colab": {}
      },
      "source": [
        "import numpy as np\n",
        "import statistics as stats\n",
        "class DataS:\n",
        "  def __init__(self,filename):\n",
        "      self.filename = filename\n",
        "\n",
        "  def create_dataS(self):\n",
        "      self.array = np.genfromtxt(self.filename,delimiter=',',dtype=None)\n",
        "  \n",
        "  def renom_column(self,old_colname,new_col):\n",
        "      for index,values in enumerate(self.array[0]):\n",
        "          if value == old_colname.encode('UTF-8'):\n",
        "            self.array[0][index] = new_col\n",
        "  \n",
        "  def show_s(self):\n",
        "      print(self.array)\n",
        "\n",
        "  def five_figure_res(self,col_pos):\n",
        "    statistics = stats.describe(self.array[1:,col_pos].astype(np.float)) \n",
        "    return f'Five-figure stats of column {col_pos}:{statistics}'"
      ],
      "execution_count": 9,
      "outputs": []
    },
    {
      "cell_type": "markdown",
      "metadata": {
        "id": "cf1oR5ONOn4t",
        "colab_type": "text"
      },
      "source": [
        "Descrubriemos mas adelante linea por linea de nuestra clase `DataS`, por ahora entendamos que la primera funcionalidad básica de esta clase es tomar un nombre de archivo CSV , crear una matriz NumPy de cada una de las filas y realizar cambios en la matriz NumPy.\n",
        "\n",
        "Recordemos que en el último capitulo , creamos un marcador de posición de nuestra clase DataS donde la nombramos , pero no transmitio ninguna información adicional.\n",
        "\n",
        "\n",
        "Hechemos un vistazo a como se verá una capa de datos una vez que se desarrolle.Como revisión,las caracteristicas basicas de una clase son:\n",
        "\n",
        "* Atributos.\n",
        "* Constructores\n",
        "* Métodos.\n",
        "\n",
        "\n",
        "Comencemos con la función `__init__`:\n",
        "\n",
        "Esto se conoce como el **constructor de la clase** , podemos notar esos guiones bajos especiales que inicializan la clase.Dentro del constructor , vemos que la variable de nombre `file` se pasa como un parámetro.\n",
        "\n",
        "Esta es una variable de case o atributo y se inicializa cuando creamos la clase,entonces hay 2 métodos:\n",
        "\n",
        "* Uno que crea la capa de datos tomando un archivo CSV y regresa una matriz.\n",
        "\n",
        "* Otro que cambia el nombre de las columnas en la capa de datos.\n",
        "\n"
      ]
    },
    {
      "cell_type": "code",
      "metadata": {
        "id": "rpEwOd9oJvSO",
        "colab_type": "code",
        "colab": {}
      },
      "source": [
        "class DataS:\n",
        "  def __init__(self,filename):\n",
        "      self.filename = filename\n"
      ],
      "execution_count": null,
      "outputs": []
    },
    {
      "cell_type": "markdown",
      "metadata": {
        "id": "zuONyBKVRLAl",
        "colab_type": "text"
      },
      "source": [
        "Las palabras clave que tenemos que tomar en cuenta son:\n",
        "\n",
        "* self\n",
        "\n",
        "* return\n",
        "\n",
        "* atributo de clase\n",
        "* nombre del archivo\n",
        "\n",
        "Todo esto lo veremos a detalle mas adelante.Por ahora veamos cómo llamariamos a esta clase con un archivo especifico:\n",
        "\n",
        "* Primero,creamos nuestra clase, con algunos métodos y atributos"
      ]
    },
    {
      "cell_type": "code",
      "metadata": {
        "id": "2Gl2riCiRLho",
        "colab_type": "code",
        "colab": {}
      },
      "source": [
        "class DataS():\n",
        "    def __init__(self,filename):\n",
        "      self.filename = filename\n"
      ],
      "execution_count": 11,
      "outputs": []
    },
    {
      "cell_type": "markdown",
      "metadata": {
        "id": "FMFYHKgaRXDy",
        "colab_type": "text"
      },
      "source": [
        "Luego instanciamos la clase asignandole una variable & nuestra clase toma una entrada 'DataF'"
      ]
    },
    {
      "cell_type": "code",
      "metadata": {
        "id": "FU07iBGIRPmV",
        "colab_type": "code",
        "colab": {}
      },
      "source": [
        "our_data_shell = DataS('DataF')"
      ],
      "execution_count": 12,
      "outputs": []
    },
    {
      "cell_type": "markdown",
      "metadata": {
        "id": "mToGqgm5Rlqn",
        "colab_type": "text"
      },
      "source": [
        "Finalmente llamamos a la instancia de clase llamando a la variable."
      ]
    },
    {
      "cell_type": "code",
      "metadata": {
        "id": "-qT134JuRkDs",
        "colab_type": "code",
        "colab": {
          "base_uri": "https://localhost:8080/",
          "height": 34
        },
        "outputId": "0849e054-4b10-43fa-fb1a-4d18dc7d7537"
      },
      "source": [
        "our_data_shell"
      ],
      "execution_count": 13,
      "outputs": [
        {
          "output_type": "execute_result",
          "data": {
            "text/plain": [
              "<__main__.DataS at 0x7fe2a9815fd0>"
            ]
          },
          "metadata": {
            "tags": []
          },
          "execution_count": 13
        }
      ]
    },
    {
      "cell_type": "markdown",
      "metadata": {
        "id": "BwwODbTCR47P",
        "colab_type": "text"
      },
      "source": [
        "Y asi de simple creamos y llamamos nuestra primera clase.\n",
        "\n",
        "## Instanciando una clase.\n",
        "\n",
        "Como aprendimos anteriormente, una clase es como un plan: podemos hacer muchas copias de nuestra clase.Cuando hacemos esto, decimos que estamos instanciando nuestra clase. Estas instancias se llaman objetos.\n",
        "\n",
        "A continuación realizaremos un ejercicio para entender mejor todo esto:\n"
      ]
    },
    {
      "cell_type": "code",
      "metadata": {
        "id": "c0bokYbBR2ie",
        "colab_type": "code",
        "colab": {
          "base_uri": "https://localhost:8080/",
          "height": 34
        },
        "outputId": "6b61edd3-3feb-412f-b5c3-80acadafd178"
      },
      "source": [
        "# Creamos una clase vacia: Paranoid\n",
        "class Paranoid:\n",
        "  \n",
        "    # Declaración de aprobación\n",
        "    pass\n",
        "\n",
        "# Instanciamos Paranoid: BlackSabbath\n",
        "BlackSabbath = Paranoid()\n",
        "\n",
        "# Imprimimos BlackSabbath\n",
        "print(BlackSabbath)"
      ],
      "execution_count": 14,
      "outputs": [
        {
          "output_type": "stream",
          "text": [
            "<__main__.Paranoid object at 0x7fe2a98d2d68>\n"
          ],
          "name": "stdout"
        }
      ]
    },
    {
      "cell_type": "markdown",
      "metadata": {
        "id": "sCiTAPlSTN2I",
        "colab_type": "text"
      },
      "source": [
        "# _ _init_ _cializando una clase.\n",
        "\n",
        "Introducción:\n",
        "\n",
        "Es posible que hayas visto un método interesante cuando creamos nuestra clase `__init__` .Tambien pudiste haber notado que cada método se toma a si mismo como parametro.pero ¿Que significan estas dos cosas?\n",
        "\n",
        "\n",
        "Cuando  hemos visto objetos antes , vimos que tienen variables y métodos de clase,un método importante y especial es el método `init`.\n",
        "\n",
        "El método `init` rambien se conoce como un constructor y su trabajao es configurar el objeto de tal manera que lo pongamos desde el principio.\n",
        "\n",
        "Este se llama automaticamente cuando se crea el objeto y por lo tanto toma valores fuera del objeto o establece valores dentro del objeto.\n",
        "\n",
        "## ANALOGIA:\n",
        "\n",
        "Pensemoslo cuando estamos cocinando un platillo y estamos en la estufa okey, ponemos una olla en la estufa como parte de la receta la olla puede estar vacia **POR AHORA**, pero debe estar alli para contener los otros ingredientes.\n",
        "\n",
        "\n",
        "En este ejemplo creamos el constructor pero no le pasamos nada:"
      ]
    },
    {
      "cell_type": "code",
      "metadata": {
        "id": "NAAaIijyTJQk",
        "colab_type": "code",
        "colab": {}
      },
      "source": [
        "class Cake:\n",
        "\n",
        "  def __init__(self):\n",
        "    pass"
      ],
      "execution_count": 18,
      "outputs": []
    },
    {
      "cell_type": "markdown",
      "metadata": {
        "id": "CUfw1H7VV1jY",
        "colab_type": "text"
      },
      "source": [
        "Asi como init puede estar vacia , tambien puede tomar valores, estos valores se crean y pasan a la clase y se puede acceder a ellos desde nuestra clase mas adelante.\n",
        "\n",
        "En el caso de un Pastel por ejemplo, tal vez creando una receta queremos comprobar si tiene pan.Los pasteles o la mayoria siempre tienen pan y nuestra clase reflejaria eso.\n",
        "\n",
        "En este segundo caso , establecemos el atributo `tail` de cla clase en Yes y apartir de ahora cada objteo que sea de la clase Cake tendra pan."
      ]
    },
    {
      "cell_type": "code",
      "metadata": {
        "id": "ZbR8m9eRVysk",
        "colab_type": "code",
        "colab": {}
      },
      "source": [
        "class Cake:\n",
        "  def __init__(self):\n",
        "    self.tail = 'Yes'"
      ],
      "execution_count": null,
      "outputs": []
    },
    {
      "cell_type": "markdown",
      "metadata": {
        "id": "Gm79fF2xW4J8",
        "colab_type": "text"
      },
      "source": [
        "Ahora veamos como funciona init con nuestra clase `DataS` creada anteriormente:\n",
        "\n",
        "Como recordaremos en Pandas hay un método para leer nombres de archivo, llamado `read_csv` que pueden tomar una serie de variables.Si llamamos a `read_csv` debemos pasar el nombre de un archivo.\n"
      ]
    },
    {
      "cell_type": "code",
      "metadata": {
        "id": "o9-8iG_ZW-Lg",
        "colab_type": "code",
        "colab": {}
      },
      "source": [
        "import pandas as pd\n",
        "# Molde en pandas read_csv\n",
        "data = pd.read_csv('mtcars.csv')"
      ],
      "execution_count": 19,
      "outputs": []
    },
    {
      "cell_type": "markdown",
      "metadata": {
        "id": "_8pmOxmnXicm",
        "colab_type": "text"
      },
      "source": [
        "Estamos creando una clase llamada 'Datas' y la estamos inicializando con un nombre de archivo, en este caso el nombre del archivo se pasa desde fuera de la clase, necesitamos pasar un nombre de archivo para crear ese objeto , de lo contrario nuestra clase es inutil.\n"
      ]
    },
    {
      "cell_type": "code",
      "metadata": {
        "id": "5o7eJC-bXMRY",
        "colab_type": "code",
        "colab": {}
      },
      "source": [
        "class DataS:\n",
        "  def __init__(self,filename):\n",
        "    self.filename = filename"
      ],
      "execution_count": 20,
      "outputs": []
    },
    {
      "cell_type": "markdown",
      "metadata": {
        "id": "f3RYv28fYB40",
        "colab_type": "text"
      },
      "source": [
        "Otra forma de pensarlo es que cuando creamos un objeto la computadora necesita asignar memoria al objeto, otra forma de hacerlo es tener un constructor que permita hacerlo.\n",
        "\n",
        "La variable `filename` ahora esta disponible para que la usen todos los miembros (métodos de la clase).\n",
        "\n",
        "La otra parte que hemos estado ignorando hasta ahora es `self`.Dentro del constructor , `self`representa la instancia de la clase oel objeto especíco.\n",
        "\n",
        "RECORDATORIO: **Un objeto es una instancia de una clase**.\n",
        "\n",
        "Ese objeto necesita una forma de hacer referencia a esa instancia, la primera variable siempre es una referencia a la instancia actual de la clase.\n",
        "\n",
        "En el siguiente caso la instancia de la clase es la misma , por lo que ponemos `self`.\n",
        "\n",
        "Exlpicado de manera diferente, cuando creamos un objeto por ejemplo :\n",
        "\n",
        "### Inicializando car_data_s"
      ]
    },
    {
      "cell_type": "code",
      "metadata": {
        "id": "nrXfgzO3YBav",
        "colab_type": "code",
        "colab": {}
      },
      "source": [
        "car_data_s = DataS('data')\n",
        "def __init__(car_data_s,data):\n",
        "  self.filenmae = filename"
      ],
      "execution_count": 23,
      "outputs": []
    },
    {
      "cell_type": "markdown",
      "metadata": {
        "id": "DqRQlB1cZlwn",
        "colab_type": "text"
      },
      "source": [
        "En la linea 21 de código car_data_s tiene un método que inicializa ese objeto, lo primero que se inicializa es `self`, que es esa instancia específica de la clase `car_data_s`.\n",
        "\n",
        "Luego se inicializa con el nombre de archivo de ese DataS que es `'data'`."
      ]
    },
    {
      "cell_type": "markdown",
      "metadata": {
        "id": "9-yZLO6ebBKq",
        "colab_type": "text"
      },
      "source": [
        "### Inicializando `transact_book`."
      ]
    },
    {
      "cell_type": "code",
      "metadata": {
        "id": "CMKva_MyZlP4",
        "colab_type": "code",
        "colab": {}
      },
      "source": [
        "transact_book = DataS('https://assets.datacamp.com/production/repositories/5654/datasets/1e5276e5a24493ec07b44fe99b46984f2ffa4488/bookstore_transactions.csv')\n"
      ],
      "execution_count": 24,
      "outputs": []
    },
    {
      "cell_type": "code",
      "metadata": {
        "id": "b0uxdJILbaEW",
        "colab_type": "code",
        "colab": {}
      },
      "source": [
        "def __init__(transact_book,'dokstore_transactions.csv'):\n",
        "  self.filename = filename"
      ],
      "execution_count": null,
      "outputs": []
    },
    {
      "cell_type": "markdown",
      "metadata": {
        "id": "si-v1mytbuM5",
        "colab_type": "text"
      },
      "source": [
        "Cuando inicializamos `transact_book` se inicializa de la misma manera desde esa clase, pero utiliza un nombre de archivo diferente y transact_book como entrada por que ahora se refiere asi mismo.\n",
        "\n",
        "Casi terminando self no es una palabra clave, podemos ver en Python las palabras claves si imprimimos:"
      ]
    },
    {
      "cell_type": "code",
      "metadata": {
        "id": "9qDtgxeCbmoO",
        "colab_type": "code",
        "colab": {
          "base_uri": "https://localhost:8080/",
          "height": 54
        },
        "outputId": "ea50aa4a-a870-43b5-c663-9fb5822da816"
      },
      "source": [
        "import keyword\n",
        "print(keyword.kwlist)"
      ],
      "execution_count": 27,
      "outputs": [
        {
          "output_type": "stream",
          "text": [
            "['False', 'None', 'True', 'and', 'as', 'assert', 'break', 'class', 'continue', 'def', 'del', 'elif', 'else', 'except', 'finally', 'for', 'from', 'global', 'if', 'import', 'in', 'is', 'lambda', 'nonlocal', 'not', 'or', 'pass', 'raise', 'return', 'try', 'while', 'with', 'yield']\n"
          ],
          "name": "stdout"
        }
      ]
    },
    {
      "cell_type": "markdown",
      "metadata": {
        "id": "-LNksnSicToX",
        "colab_type": "text"
      },
      "source": [
        "odemos llamar a la referencia de objeto cualquier cosa incluido Juanito o alguna otra palabra, pero las practicas comunes es unas `self`."
      ]
    },
    {
      "cell_type": "code",
      "metadata": {
        "id": "xbBNnw8OcOmr",
        "colab_type": "code",
        "colab": {}
      },
      "source": [
        "def __init__(juanito,filename):\n",
        "  juanito.filename = filename"
      ],
      "execution_count": 28,
      "outputs": []
    },
    {
      "cell_type": "markdown",
      "metadata": {
        "id": "49nhhwmLcpyz",
        "colab_type": "text"
      },
      "source": [
        "## Contenido Extra:\n",
        "\n",
        "`__init__` es un método de inicialización utilizado para construir instancias de clase de manera personalizada. En este ejercicio simplemente presentaremos la utilización del método.\n",
        "\n",
        "\n",
        "Variables de instancia.\n",
        "\n",
        "Las instancias de clase son útiles porque podemos almacenar valores en ellas en el momento de la instanciación. Almacenamos estos valores en variables de instancia. ¡Esto significa que podemos tener muchas instancias de la misma clase cuyas variables de instancia contienen valores diferentes!"
      ]
    },
    {
      "cell_type": "code",
      "metadata": {
        "id": "ycF7rw_9cmZ2",
        "colab_type": "code",
        "colab": {
          "base_uri": "https://localhost:8080/",
          "height": 34
        },
        "outputId": "c6ea99c6-6f3b-41a7-fafa-29dae63ffd8b"
      },
      "source": [
        "# Creamos clase DataShell\n",
        "class DataShell:\n",
        "  \n",
        "\t# Inicialice la clase con argumentos self y integerInput\n",
        "    def __init__(self, integerInput):\n",
        "      \n",
        "\t\t# Establecer data como variable de instancia y asignar el valor de integerInput\n",
        "        self.data = integerInput\n",
        "\n",
        "# Declaro variable \n",
        "x = 10       \n",
        "\n",
        "# Instanciar variable pasando argumento x\n",
        "my_data_shell = DataShell(x)\n",
        "\n",
        "# imprimimos\n",
        "print(my_data_shell.data)"
      ],
      "execution_count": 29,
      "outputs": [
        {
          "output_type": "stream",
          "text": [
            "10\n"
          ],
          "name": "stdout"
        }
      ]
    },
    {
      "cell_type": "markdown",
      "metadata": {
        "id": "xvQxYKJ6d9Sa",
        "colab_type": "text"
      },
      "source": [
        "Observe que las variables de instancia viven en el cuerpo del método de inicialización, ya que se inicializan cuando se instancia el objeto. También es importante notar que están precedidos por uno mismo, ya que esto se refiere a la instancia misma.\n",
        "\n",
        "Variables de instancia múltiple.\n",
        "\n",
        "No estamos limitados a declarar solo una variable de instancia; de hecho, podemos declarar muchos! \n"
      ]
    },
    {
      "cell_type": "code",
      "metadata": {
        "id": "EARQjFPld1UP",
        "colab_type": "code",
        "colab": {
          "base_uri": "https://localhost:8080/",
          "height": 51
        },
        "outputId": "e258130d-ed3d-4b99-a138-7ae5bdcc8774"
      },
      "source": [
        "# Creamos clase: DataShell\n",
        "class DataShell:\n",
        "  \n",
        "\t# Inicializamos con: self, identifier and data arguments\n",
        "    def __init__(self, identifier, data):\n",
        "      \n",
        "\t\t# Establecer el identificador y los datos como variables de instancia, asignando el valor de los argumentos de entrada\n",
        "        self.identifier = identifier\n",
        "        self.data = data\n",
        "\n",
        "# Declarar variable x = 100, & y =  1...5\n",
        "x = 100\n",
        "y = [1,2,3,4,5]\n",
        "\n",
        "# Instanciar DataShell pasando x e y como argumentos: my_data_shell\n",
        "my_data_shell = DataShell(x, y)\n",
        "\n",
        "# imprimir my_data_shell.identifier\n",
        "print(my_data_shell.identifier)\n",
        "\n",
        "# imprimir my_data_shell.data\n",
        "print(my_data_shell.data)"
      ],
      "execution_count": 32,
      "outputs": [
        {
          "output_type": "stream",
          "text": [
            "100\n",
            "[1, 2, 3, 4, 5]\n"
          ],
          "name": "stdout"
        }
      ]
    },
    {
      "cell_type": "markdown",
      "metadata": {
        "id": "tWRzBfnhf9ND",
        "colab_type": "text"
      },
      "source": [
        "\n",
        "\n",
        "---\n",
        "\n",
        "\n",
        "\n",
        "---\n",
        "\n"
      ]
    },
    {
      "cell_type": "code",
      "metadata": {
        "id": "YxE6YzPef_7_",
        "colab_type": "code",
        "colab": {}
      },
      "source": [
        ""
      ],
      "execution_count": null,
      "outputs": []
    }
  ]
}