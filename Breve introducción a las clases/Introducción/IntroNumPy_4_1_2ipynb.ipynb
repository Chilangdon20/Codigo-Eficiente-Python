{
  "nbformat": 4,
  "nbformat_minor": 0,
  "metadata": {
    "colab": {
      "name": "IntroNumPy.4_1_2ipynb",
      "provenance": [],
      "collapsed_sections": []
    },
    "kernelspec": {
      "name": "python3",
      "display_name": "Python 3"
    }
  },
  "cells": [
    {
      "cell_type": "markdown",
      "metadata": {
        "id": "WjKYSBVcV8Q3",
        "colab_type": "text"
      },
      "source": [
        "![texto alternativo](https://external-content.duckduckgo.com/iu/?u=https%3A%2F%2Ftse3.mm.bing.net%2Fth%3Fid%3DOIP.YjG7QZ-zNBAbVT13iCm5QwHaEJ%26pid%3DApi&f=1)\n",
        "\n",
        "[recurso](https://external-content.duckduckgo.com/iu/?u=https%3A%2F%2Ftse3.mm.bing.net%2Fth%3Fid%3DOIP.YjG7QZ-zNBAbVT13iCm5QwHaEJ%26pid%3DApi&f=1)\n",
        "# Introducción A Las entrañas De NumPy.\n",
        "\n",
        "## Introducción:\n",
        "\n",
        "Ahora que hemos aprendido lo más basico de POO, hablemos de NumPy la biblioteca que esta detras de las bibliotecas que usamos diario como Pandas.\n",
        "\n",
        "NumPy es un paquete para computación cientifica en Python que incluye la capacidad de hacer álgebra Lineal NumPy fue creado por que muchas operaciones de computación científica estan basadas es una estructura matemática , como las matrices bien conocidas en NumPy como arrays.\n",
        "\n",
        "Las matrices son esencialmente datos agrupados por filas y columnas en ciencia de Datos , usamos NumPy para cuando analisamos datos y amenudo deben presentarse como una matriz o una tabla de bases de datos.\n",
        "\n",
        "\n",
        "Por ejemplo , creamos matrices al crear conjuntos de datos de entrada para modelizar, al realizar un análisis agregado o al crear matrices de a1lgebra lineal como cálculos en algoritmos de recomendación.\n",
        "\n",
        "\n",
        "Los fundamentos de NumPy se usan para construir todas las bibliotecas que usamos a diario.La documentación de pandas muestra que los objetos de la serie de pandas,que componen DataFrame son un ``ndarray``.\n",
        "\n",
        "Recordemos que un ``ndarray``es otro nombre para una Matrix NumPy.Pensemos en las matrices NumPy como formas similares en estructuras y forma a las listas en Python.\n",
        "\n",
        "![recurso](https://external-content.duckduckgo.com/iu/?u=https%3A%2F%2Ftse1.mm.bing.net%2Fth%3Fid%3DOIP.du3D14Cyxq8-z1-6jDcA1QHaBw%26pid%3DApi&f=1)\n",
        "\n",
        "\n",
        "[recurso](https://external-content.duckduckgo.com/iu/?u=https%3A%2F%2Ftse1.mm.bing.net%2Fth%3Fid%3DOIP.du3D14Cyxq8-z1-6jDcA1QHaBw%26pid%3DApi&f=1)\n",
        "\n",
        "A diferencia de las listas, las matrices NumPy pueden ser \"n- dimensionales\", por lo que mas de una dimensión , llamada ``numpy.array``o ``ndarray`` y solo toman un tipo de datos como una cadena o un entero a la vez.\n",
        "\n",
        "La imagen anterior muestra varios ejemplos de matrices junto con sus dimensiones, comenzando en el tamaño de la izquierda , puedes ver que la matriz *1D* .. Si asi como One Direction, se parece más a una lista.\n",
        "\n",
        "Una vez que tienes una matriz *2D* en el medio, tiene varios ejes.Una matriz *3D* se vuelve un poco mas compleja en este curso solo trataremos con matrices 1 y 2D.\n",
        "\n",
        "Para crear una matriz , importamos NumPy como np para que podamos usar el método de matriz en la primera fila.\n",
        "\n",
        "Ejemplo:\n",
        "\n"
      ]
    },
    {
      "cell_type": "code",
      "metadata": {
        "id": "qT7sEby6Vhxh",
        "colab_type": "code",
        "colab": {}
      },
      "source": [
        "import numpy as np"
      ],
      "execution_count": 1,
      "outputs": []
    },
    {
      "cell_type": "markdown",
      "metadata": {
        "id": "SYjTdGwlaNWc",
        "colab_type": "text"
      },
      "source": [
        "En la segunda linea , creamos una matriz de una dimension , que incluye los miembros 5,6,7."
      ]
    },
    {
      "cell_type": "code",
      "metadata": {
        "id": "rUC1xTnyaMsk",
        "colab_type": "code",
        "colab": {}
      },
      "source": [
        "np_array = np.array([5,6,7])"
      ],
      "execution_count": 2,
      "outputs": []
    },
    {
      "cell_type": "markdown",
      "metadata": {
        "id": "ErtsQULiafyr",
        "colab_type": "text"
      },
      "source": [
        "En la tercera linea , podemos imprimir la matriz y vemos que devolvemos un objeto de matriz."
      ]
    },
    {
      "cell_type": "code",
      "metadata": {
        "id": "QnPglaWnafVU",
        "colab_type": "code",
        "colab": {
          "base_uri": "https://localhost:8080/",
          "height": 34
        },
        "outputId": "dd2b5816-c6a1-4d51-9a2a-1d900a52be37"
      },
      "source": [
        "print(np_array)"
      ],
      "execution_count": 3,
      "outputs": [
        {
          "output_type": "stream",
          "text": [
            "[5 6 7]\n"
          ],
          "name": "stdout"
        }
      ]
    },
    {
      "cell_type": "markdown",
      "metadata": {
        "id": "Pp2gNugbao9_",
        "colab_type": "text"
      },
      "source": [
        "Si vemos el tipo de nuestra amtriz , podemos ver que ahora es una matriz NumPy!"
      ]
    },
    {
      "cell_type": "code",
      "metadata": {
        "id": "lm5VPXuGanAS",
        "colab_type": "code",
        "colab": {
          "base_uri": "https://localhost:8080/",
          "height": 34
        },
        "outputId": "f64eb9d3-4d50-4b7e-8c55-90438c6e7053"
      },
      "source": [
        "print(type(np_array))"
      ],
      "execution_count": 4,
      "outputs": [
        {
          "output_type": "stream",
          "text": [
            "<class 'numpy.ndarray'>\n"
          ],
          "name": "stdout"
        }
      ]
    },
    {
      "cell_type": "markdown",
      "metadata": {
        "id": "7KEp29c-aygr",
        "colab_type": "text"
      },
      "source": [
        "El ejemplo anterior fue muy simple, pero las matrices NumPy pueden tener todas las formas y tamaños.\n",
        "\n",
        "El elemento clave es el eje , que es otro nombre para la fila o columna el eje en cero se refiele a las filas y el eje en uno a las columnas."
      ]
    },
    {
      "cell_type": "code",
      "metadata": {
        "id": "i9jS6nc6auVT",
        "colab_type": "code",
        "colab": {}
      },
      "source": [
        "array([0,1,2,3,4],\n",
        "      [4,5,6,7,8],\n",
        "      [10,11,12,13,14])"
      ],
      "execution_count": null,
      "outputs": []
    },
    {
      "cell_type": "markdown",
      "metadata": {
        "id": "P85HP1j5bRl5",
        "colab_type": "text"
      },
      "source": [
        "Entonces el ejemplo de aqui arriba tiene tres elementos a lo largo del eje 0."
      ]
    },
    {
      "cell_type": "code",
      "metadata": {
        "id": "ZMYn50bPbc4h",
        "colab_type": "code",
        "colab": {}
      },
      "source": [
        "array([7,8,9])"
      ],
      "execution_count": null,
      "outputs": []
    },
    {
      "cell_type": "markdown",
      "metadata": {
        "id": "AU5YW4kdbg4W",
        "colab_type": "text"
      },
      "source": [
        "Mientras que este de aqui arriba tiene un elemento a lo largo del eje 0.Cada eje tiene un número dado de elementos , entonces el primer ejemplo tiene 5 elementos , mientras que el ejemplo 2 tiene 3 elementos, hay muchos mas elementos , pero lo mantendremos simple para realmente llegar al corazo1n."
      ]
    },
    {
      "cell_type": "code",
      "metadata": {
        "id": "c_CHW6Upb6gz",
        "colab_type": "code",
        "colab": {}
      },
      "source": [
        ""
      ],
      "execution_count": null,
      "outputs": []
    }
  ]
}