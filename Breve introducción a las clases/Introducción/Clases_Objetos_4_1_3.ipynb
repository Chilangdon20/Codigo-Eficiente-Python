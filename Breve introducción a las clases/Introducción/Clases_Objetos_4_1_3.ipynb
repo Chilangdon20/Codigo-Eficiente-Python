{
  "nbformat": 4,
  "nbformat_minor": 0,
  "metadata": {
    "colab": {
      "name": "Clases_Objetos_4_1_3.ipynb",
      "provenance": [],
      "collapsed_sections": []
    },
    "kernelspec": {
      "name": "python3",
      "display_name": "Python 3"
    }
  },
  "cells": [
    {
      "cell_type": "markdown",
      "metadata": {
        "id": "cM63AlM-88Yx",
        "colab_type": "text"
      },
      "source": [
        "# Introducción a los Objetos & Clases.\n",
        "\n",
        "Ahora que hemos hechado un vistazo a las matrices NumPy, nos preguntamos lo siguiente ¿Cómo pasamos de una sola matriz de NumPy a construir un DataFrame en Pandas?\n",
        "\n",
        "La respuesta son las clases , que comenzaremos a explotar en esta sección.Hasta ahora,hemos estado utilizando funciónes y variables.Pero¿Que pasa si queremos crear el mismo ndarray varias veces?\n",
        "\n",
        "Una clase nos ayuda con eso.\n",
        "\n",
        "## ¿Qué es una Clase?\n",
        "\n",
        "Es un fragmento de código reutilizable que tiene funciones y variables.Como vimos anterioremente queremos usar POO cuando queremos crear grupos que tengan variables y funciones a las que queremos hacer referencia.\n",
        "\n",
        "\n",
        "Al igual que una receta nos ayuda a planificar cómo cocinar realmente nuestros platillos, las clses nos permiten poder recrear nuestro trabajo fácilmente.Podemos volver al pasado y recordad nuestra clase que nos permitio crear la lista cada vez.\n",
        "\n",
        "Python tiene su propio vocabulario especial que hemos usado en la programación imperativa:funciónes y variables.Cuando creamos una receta a seguir , los términos en la receta tienen nombres especiales.\n",
        "\n",
        "\n",
        "\n",
        "![texto alternativo](https://raw.githubusercontent.com/Chilangdon20/PYTHON/master/Curso%20Basico/CursoExpress/Imagenes/F.png)\n",
        "\n",
        "\n",
        "En el lado izquierdo están los nombres imperativos, mientras que en el lado derecho estan los nombre de POO.\n",
        "\n",
        "* Una variable en una clase se llama un atributo o aveces un campo o tambien una variable de clase.\n",
        "\n",
        "* Una función en una clase se llama método, pero ¿Qué es una cuales la conexión al objeto desde POO?\n",
        "\n",
        "### ANALOGÍA:\n",
        "\n",
        "\n",
        "\n",
        "\n",
        "\n",
        "Piensa en una clase como molde de galletas y los objetos como una galleta que resulta del uso del molde para galletas basado en un conjunto de instrucciones.\n",
        "\n",
        "Por ejemplo , si tenemos una plantilla de cortador de galletas MickeyMouse podriamos usarla para hacer muchos MickeyMouse's diferentes.Todos con nombres diferentes pero compartiran las propiedades de la plantilla original del cortador de galletas:\n",
        "\n",
        "* Tendran las mismas patas.\n",
        "* Mismos brazos.\n",
        "* Mismas orejas.\n",
        "\n",
        "Una vez que creamos una plantilla , podemos usarlas tantas veces como queramos creando diferentes objetos basado en la clase padre.Mas adelante veremos como crear objetos que son diferentes através de la herencia y el polimorfismo.Por ahora debemos de entender que una clase es una plantilla para un objeto.\n",
        "\n",
        "Comencemos declarando una clase:\n",
        "\n",
        "\n",
        "* Declarar una clase no es diferente a declarar un método, excepto en lugar de tener la palabra `def`tiene la palabra `class`, seguida del nombre de la clase\n",
        "\n"
      ]
    },
    {
      "cell_type": "code",
      "metadata": {
        "id": "5mPQnhNG8pen",
        "colab_type": "code",
        "colab": {}
      },
      "source": [
        "class Mickey:\n",
        "  pass # Significa que aun no estamos poniendo nignun contexto o valor en nuestra clase."
      ],
      "execution_count": 1,
      "outputs": []
    },
    {
      "cell_type": "markdown",
      "metadata": {
        "id": "ycw-IwiXCyzE",
        "colab_type": "text"
      },
      "source": [
        "¿Y los parentecis?\n",
        "\n",
        "Simplemente es un  parámetro que especifica qué tipo de clase tenemos.\n",
        "\n",
        "Para las clases en Python 3 no necestiamos especificar esto , pero en Python 2 sigue siend una buena practica opner como parametro la palabra `object`"
      ]
    },
    {
      "cell_type": "code",
      "metadata": {
        "id": "LAVLSCMhCyJ4",
        "colab_type": "code",
        "colab": {}
      },
      "source": [
        "# Python 3 : Declarando una clase\n",
        "class MIckey:\n",
        "  pass\n",
        "\n",
        "# Python 2 : Declarando una clase\n",
        "class Mickey(object):\n",
        "  pass"
      ],
      "execution_count": 2,
      "outputs": []
    },
    {
      "cell_type": "markdown",
      "metadata": {
        "id": "bC6CryHnETu3",
        "colab_type": "text"
      },
      "source": [
        "## Creando una Clase.\n",
        "\n",
        "Vamos a trabajar en la construcción de una clase, que es una forma de organizar funciones y variables en Python. Para empezar, veamos la forma más simple posible de crear una clase."
      ]
    },
    {
      "cell_type": "code",
      "metadata": {
        "id": "D2c_AsPLDfZT",
        "colab_type": "code",
        "colab": {}
      },
      "source": [
        "# Creamos una clase: Future\n",
        "class Future:\n",
        "  pass"
      ],
      "execution_count": null,
      "outputs": []
    }
  ]
}