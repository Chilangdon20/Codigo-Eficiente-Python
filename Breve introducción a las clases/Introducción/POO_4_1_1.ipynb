{
  "nbformat": 4,
  "nbformat_minor": 0,
  "metadata": {
    "colab": {
      "name": "POO_4_1_1.ipynb",
      "provenance": [],
      "collapsed_sections": []
    },
    "kernelspec": {
      "name": "python3",
      "display_name": "Python 3"
    }
  },
  "cells": [
    {
      "cell_type": "markdown",
      "metadata": {
        "id": "ONXOUfgTHzqa",
        "colab_type": "text"
      },
      "source": [
        "# Introducción A La Programación Orientada A Objetos En Python.\n",
        "\n",
        "## Introducción:\n",
        "\n",
        "En esta nueva sección desmontaremos el DataFrame de Pandas para ver cómo funcionan las matrices NumPy,haremos esto para comprender mejor los conceptos básicos de Python (objetos,clases , etc) y al final también podremos construir nuestras propias clases.\n",
        "\n",
        "Alguna vez has escuchado el dicho \"Son tottugas hasta el fondo\".\n",
        "\n",
        "<a  href=\"https://raw.githubusercontent.com/Chilangdon20/PYTHON/master/Curso%20Basico/CursoExpress/Imagenes/Turtle.png\"><img src = \"https://raw.githubusercontent.com/Chilangdon20/PYTHON/master/Curso%20Basico/CursoExpress/Imagenes/Turtle.png\" width = 300 align=\"center\" > \n",
        "</a>\n",
        "\n",
        "\n",
        "\n",
        "El dicho proviene de un mito de que el mundo descansa sobre el lomo de una tortuga que as vez se sienta en una mas grande que se sienta en una tortuga aun mas grande y asi hasta que tienden a infinito.\n",
        "\n",
        "\n",
        "La programación cientifica es asi también, todos los paquetes de alto nivel que utilizamos como parte de la informática cientifica en Python , incluido NumPy,Pandas,Scikit-learn , se basan en una base que se integra en las bibliotecas complejas que utilizamos.\n",
        "\n",
        "\n",
        "Si empezamos con Pandas y trabajamos hasta el final encontraremos matrices NumPy , que se utilizan oara hacer una serie de otras cosas diferentes.En estos pequeños notebooks llegaremos hasta la ultima tortuga y averiguaremos cuál es realmente la tortuga más grande, el objeto Python (Suena musica milagrosa).\n",
        "\n",
        "### Entonces...¿Qué es la Programación Orientada a Objetos?\n",
        "\n",
        "OOP ó POO como lo quieras llamar , es una forma de hacer lógica grupos de variables y funciones reutilizables para tareas generalizadas.Pensemos en una reseta cuando cocinamos:\n",
        "\n",
        "* Nosotros trabajamos en una lista muy especi1fica de ingredientes para crear un plato especifico.\n",
        "\n",
        "Como podemos ver en la imagen a continuación:\n",
        "\n",
        "<a  href=\"https://raw.githubusercontent.com/Chilangdon20/PYTHON/master/Curso%20Basico/CursoExpress/Imagenes/receta.png\"><img src = \"https://raw.githubusercontent.com/Chilangdon20/PYTHON/master/Curso%20Basico/CursoExpress/Imagenes/receta.png\" width = 300 align=\"center\" > \n",
        "</a>\n",
        "\n",
        "Eso es POO, aunque no todo lo que hacemos en Python tiene que estar orientado a objetos.Aveces nosabemos lo que necesitaremos con anticipación asi que lo planificamos y escribimos funciones y variables a medida que avansamos,como pudiste ver en la imagen en la parte inferior izquierda.\n",
        "\n",
        "\n",
        "Nosreferimos a este estilo de escribir funciones y variables como programación imperativa.\n",
        "\n",
        "## ¿ Cómo son los estilos imperativos y la POO?\n",
        "\n",
        "### Estilo imperativo:\n",
        "\n",
        "Podemos estar acostumbrados a escribir código como este:\n",
        "\n",
        "* Aqui tenemos una lista de números asignada a una varible ``lista`` e imprimimos cada elemento de la lista desde una funcion.Para pequeños volumenes de datos esto funciona a la perfección."
      ]
    },
    {
      "cell_type": "code",
      "metadata": {
        "id": "uToPXxQAKUa9",
        "colab_type": "code",
        "colab": {
          "base_uri": "https://localhost:8080/",
          "height": 68
        },
        "outputId": "2e75f774-1f05-468c-b349-f6fbd4ce624d"
      },
      "source": [
        "lista = [1,2,3]\n",
        "\n",
        "for item in lista:\n",
        "  print(f\"Item {item}\")"
      ],
      "execution_count": 3,
      "outputs": [
        {
          "output_type": "stream",
          "text": [
            "Item 1\n",
            "Item 2\n",
            "Item 3\n"
          ],
          "name": "stdout"
        }
      ]
    },
    {
      "cell_type": "markdown",
      "metadata": {
        "id": "pkQzsoHkP7Lw",
        "colab_type": "text"
      },
      "source": [
        "Pero...¿Que pasaria si esa lista fuera parte de otra función o si tuvieramos que llamarla y onerle nuevos valores una y otra vez?\n",
        "\n",
        "Esa es la base de la programación orientada a objetos, en el segundo ejemplo creamos una clase que es una plantilla de una receta, que toma una lista d enumeros e imprime todos lo números contenidos en la lista.\n",
        "\n",
        "\n",
        "Lo instanciamos con la llamada de ``PrintList``en la oenultima linea y luego llamamos al método ``print_list``de esa instancia de clase u objeto."
      ]
    },
    {
      "cell_type": "code",
      "metadata": {
        "id": "AZxmb0ZAP67P",
        "colab_type": "code",
        "colab": {
          "base_uri": "https://localhost:8080/",
          "height": 68
        },
        "outputId": "4b8e89c9-3c37-4c1d-82a7-4d7ad834be35"
      },
      "source": [
        "class PrintLista:\n",
        "\n",
        "    def __init__(self,numerolista):\n",
        "        self.numerolista = numerolista\n",
        "\n",
        "    def print_lista(self):\n",
        "       for item in self.numerolista:\n",
        "            print(f\"Item {item}\")\n",
        "\n",
        "\n",
        "F = PrintLista([21,20,19])\n",
        "F.print_lista()"
      ],
      "execution_count": 9,
      "outputs": [
        {
          "output_type": "stream",
          "text": [
            "Item 21\n",
            "Item 20\n",
            "Item 19\n"
          ],
          "name": "stdout"
        }
      ]
    },
    {
      "cell_type": "markdown",
      "metadata": {
        "id": "3rekvPXiR3RX",
        "colab_type": "text"
      },
      "source": [
        "## ¿Cómo podemos unir estos dos conceptos?\n",
        "\n",
        "Comencemos por el fondo de la tortuga.Todo en Python es un objeto y el más poderoso es la biblioteca de Python que usamos todos los dias que incluyen objetos como bloques de construcción.\n",
        "\n",
        "Una vaiable es un objeto en Python, una lista es un objeto en Python.Aqui tenemos una variable 4:"
      ]
    },
    {
      "cell_type": "code",
      "metadata": {
        "id": "Ul24vvT7PLOc",
        "colab_type": "code",
        "colab": {}
      },
      "source": [
        "num = 4"
      ],
      "execution_count": 10,
      "outputs": []
    },
    {
      "cell_type": "markdown",
      "metadata": {
        "id": "uilcJms2SdZV",
        "colab_type": "text"
      },
      "source": [
        "* Que luego se convierte en parte de una lista:"
      ]
    },
    {
      "cell_type": "code",
      "metadata": {
        "id": "t2tfu9IYScvG",
        "colab_type": "code",
        "colab": {}
      },
      "source": [
        "lista_numeros = [1,2,3,4]"
      ],
      "execution_count": 11,
      "outputs": []
    },
    {
      "cell_type": "markdown",
      "metadata": {
        "id": "o7krlfyCSmyS",
        "colab_type": "text"
      },
      "source": [
        "Una lista es un tipo de objeto avanzado con lógica avanzafa sobre cómo acceder a los elementos.\n",
        "\n",
        "En el segundo nivel de nuestras torgugas tenemos las matrices NumPy, que estan estructuradas como listas de listas.\n",
        "\n",
        "* Podemos ver que tomamos nuestra lista ``[1,2,3,4]`` y la agregamos a otra lista para crear una matriz o una lista de listas."
      ]
    },
    {
      "cell_type": "code",
      "metadata": {
        "id": "aJ_AhIyaSlC2",
        "colab_type": "code",
        "colab": {}
      },
      "source": [
        "num_matriz = [[1,2,3,4,],[5,6,7,8]]"
      ],
      "execution_count": 12,
      "outputs": []
    },
    {
      "cell_type": "markdown",
      "metadata": {
        "id": "x3B2WLjZTYPT",
        "colab_type": "text"
      },
      "source": [
        "Finalmente , en el tercer nivelde nuestra tortuga , tenemos Pandas DataFrame que a su vez están construidos apartir de matrices Numpy."
      ]
    },
    {
      "cell_type": "code",
      "metadata": {
        "id": "CTftdN6yTQ29",
        "colab_type": "code",
        "colab": {}
      },
      "source": [
        "import pandas as pd\n",
        "df = pd.DataFrame([1,2,3,4],[5,6,7,8])"
      ],
      "execution_count": 13,
      "outputs": []
    },
    {
      "cell_type": "markdown",
      "metadata": {
        "id": "_hifhRHUUOqM",
        "colab_type": "text"
      },
      "source": [
        "En estos notebooks , cubriremos cómo pasar de los bloques de construcción básicos de Python como funciones y variables, todo el camino para hacer nuestra propia versión de un Pandas DataFrame que llamamos DataShell para crear estructuras informáticas más reproducibles y lo haremos con muchas analogías para explicar el mundo de la POO.\n",
        "\n",
        "\n",
        "\n",
        "---\n",
        "\n"
      ]
    }
  ]
}